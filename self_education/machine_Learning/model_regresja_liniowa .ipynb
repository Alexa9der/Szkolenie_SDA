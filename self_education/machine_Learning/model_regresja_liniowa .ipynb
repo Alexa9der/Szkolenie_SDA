{
 "cells": [
  {
   "cell_type": "markdown",
   "id": "55c38fc4",
   "metadata": {},
   "source": [
    "# import "
   ]
  },
  {
   "cell_type": "code",
   "execution_count": 1,
   "id": "1ddc6911",
   "metadata": {},
   "outputs": [],
   "source": [
    "import pandas as pd \n",
    "import numpy as np "
   ]
  },
  {
   "cell_type": "markdown",
   "id": "3d294434",
   "metadata": {},
   "source": [
    "# regresja liniowa model "
   ]
  },
  {
   "cell_type": "code",
   "execution_count": 105,
   "id": "0ced8695",
   "metadata": {
    "scrolled": true
   },
   "outputs": [
    {
     "name": "stdout",
     "output_type": "stream",
     "text": [
      "[ -6.43777433 -16.36675505 -26.29573578 -36.2247165  -46.15369722\n",
      " -56.08267794 -66.01165866 -75.94063939 -85.86962011 -95.79860083]\n"
     ]
    }
   ],
   "source": [
    "x = np.arange(100).reshape(10,10)\n",
    "\n",
    "class RegresjaLiniowa():\n",
    "    \n",
    "    def __init__(self, a=0.001, period=100):\n",
    "        self.a = a\n",
    "        self.period = period\n",
    "        self.teta = []\n",
    "\n",
    "        \n",
    "    def __lin_reg(self, X):\n",
    "        \"\"\"y = θ₀ + θ₁x₁ + θ₂x₂ + ... + θₚxₚ\"\"\"\n",
    "        y = np.matmul(X, self.teta)\n",
    "        return y\n",
    "    \n",
    "    \n",
    "    def __gradient_descent(self, X, y):\n",
    "        \"\"\"Градиентный спуск\"\"\"\n",
    "        m = X.shape[0]  # Количество примеров в обучающей выборке\n",
    "        self.teta = np.random.randn(X.shape[1] + 1)\n",
    "        for _ in range(self.period):\n",
    "            X_intercept = np.hstack((np.ones((X.shape[0], 1)), X))  # Добавление столбца единиц\n",
    "            error = y - self.__lin_reg(X_intercept)  # (hθ(x(i)) - y(i))\n",
    "            gradient = (1 / m) * np.matmul(X_intercept.T, error)  # (1/m) * Σ(error) * x(i)j)\n",
    "            self.teta -= self.a * gradient  # θj - α * gradient\n",
    "        \n",
    "    def fit(self, X, y):\n",
    "        self.__gradient_descent(X, y)\n",
    "        \n",
    "    def predict(self, X):\n",
    "        \"\"\"Предсказание\"\"\"\n",
    "        X_intercept = np.hstack((np.ones((X.shape[0], 1)), X))\n",
    "        return self.__lin_reg(X_intercept)\n",
    "    \n",
    "    \n",
    "rl = RegresjaLiniowa( period=100, a= 0.000000001 )\n",
    "\n",
    "rl.fit(X=x[:, :9], y=x[:, -1])\n",
    "print(rl.predict(x[:, :9]))"
   ]
  },
  {
   "cell_type": "code",
   "execution_count": 57,
   "id": "8ff9a08b",
   "metadata": {},
   "outputs": [
    {
     "data": {
      "text/plain": [
       "array([ 9, 19, 29, 39, 49, 59, 69, 79, 89, 99])"
      ]
     },
     "execution_count": 57,
     "metadata": {},
     "output_type": "execute_result"
    }
   ],
   "source": [
    "x[:, -1]"
   ]
  },
  {
   "cell_type": "code",
   "execution_count": null,
   "id": "7b7ae336",
   "metadata": {},
   "outputs": [],
   "source": []
  },
  {
   "cell_type": "code",
   "execution_count": null,
   "id": "406427ae",
   "metadata": {},
   "outputs": [],
   "source": []
  }
 ],
 "metadata": {
  "kernelspec": {
   "display_name": "Python 3 (ipykernel)",
   "language": "python",
   "name": "python3"
  },
  "language_info": {
   "codemirror_mode": {
    "name": "ipython",
    "version": 3
   },
   "file_extension": ".py",
   "mimetype": "text/x-python",
   "name": "python",
   "nbconvert_exporter": "python",
   "pygments_lexer": "ipython3",
   "version": "3.10.4"
  },
  "toc": {
   "base_numbering": 1,
   "nav_menu": {},
   "number_sections": true,
   "sideBar": true,
   "skip_h1_title": false,
   "title_cell": "Table of Contents",
   "title_sidebar": "Contents",
   "toc_cell": false,
   "toc_position": {},
   "toc_section_display": true,
   "toc_window_display": true
  }
 },
 "nbformat": 4,
 "nbformat_minor": 5
}

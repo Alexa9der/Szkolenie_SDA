{
 "cells": [
  {
   "cell_type": "markdown",
   "id": "55c38fc4",
   "metadata": {},
   "source": [
    "# import "
   ]
  },
  {
   "cell_type": "code",
   "execution_count": 1,
   "id": "1ddc6911",
   "metadata": {},
   "outputs": [],
   "source": [
    "import pandas as pd \n",
    "import numpy as np "
   ]
  },
  {
   "cell_type": "markdown",
   "id": "3d294434",
   "metadata": {},
   "source": [
    "# regresja liniowa model "
   ]
  },
  {
   "cell_type": "code",
   "execution_count": 243,
   "id": "0ced8695",
   "metadata": {
    "scrolled": true
   },
   "outputs": [
    {
     "ename": "ValueError",
     "evalue": "operands could not be broadcast together with shapes (10,) (9,) (10,) ",
     "output_type": "error",
     "traceback": [
      "\u001b[1;31m---------------------------------------------------------------------------\u001b[0m",
      "\u001b[1;31mValueError\u001b[0m                                Traceback (most recent call last)",
      "Cell \u001b[1;32mIn [243], line 32\u001b[0m\n\u001b[0;32m     27\u001b[0m         \u001b[38;5;28;01mreturn\u001b[39;00m \u001b[38;5;28mself\u001b[39m\u001b[38;5;241m.\u001b[39mteta\n\u001b[0;32m     30\u001b[0m rl \u001b[38;5;241m=\u001b[39m RegresjaLiniowa(X\u001b[38;5;241m=\u001b[39mx[:, :\u001b[38;5;241m9\u001b[39m], y\u001b[38;5;241m=\u001b[39mx[:, \u001b[38;5;241m-\u001b[39m\u001b[38;5;241m1\u001b[39m] )\n\u001b[1;32m---> 32\u001b[0m \u001b[43mrl\u001b[49m\u001b[38;5;241;43m.\u001b[39;49m\u001b[43mgradient_descent\u001b[49m\u001b[43m(\u001b[49m\u001b[43m)\u001b[49m  \n",
      "Cell \u001b[1;32mIn [243], line 25\u001b[0m, in \u001b[0;36mRegresjaLiniowa.gradient_descent\u001b[1;34m(self)\u001b[0m\n\u001b[0;32m     23\u001b[0m     error \u001b[38;5;241m=\u001b[39m \u001b[38;5;28mself\u001b[39m\u001b[38;5;241m.\u001b[39my \u001b[38;5;241m-\u001b[39m \u001b[38;5;28mself\u001b[39m\u001b[38;5;241m.\u001b[39mlin_reg()  \u001b[38;5;66;03m# (hθ(x(i)) - y(i))\u001b[39;00m\n\u001b[0;32m     24\u001b[0m     gradient \u001b[38;5;241m=\u001b[39m (\u001b[38;5;241m1\u001b[39m \u001b[38;5;241m/\u001b[39m m) \u001b[38;5;241m*\u001b[39m np\u001b[38;5;241m.\u001b[39mmatmul(error\u001b[38;5;241m.\u001b[39mT , \u001b[38;5;28mself\u001b[39m\u001b[38;5;241m.\u001b[39mX ) \u001b[38;5;66;03m# (1/m) * Σ(error) * x(i)j)\u001b[39;00m\n\u001b[1;32m---> 25\u001b[0m     \u001b[38;5;28mself\u001b[39m\u001b[38;5;241m.\u001b[39mteta \u001b[38;5;241m-\u001b[39m\u001b[38;5;241m=\u001b[39m \u001b[38;5;28mself\u001b[39m\u001b[38;5;241m.\u001b[39ma \u001b[38;5;241m*\u001b[39m gradient  \u001b[38;5;66;03m# θj - α * gradient\u001b[39;00m\n\u001b[0;32m     27\u001b[0m \u001b[38;5;28;01mreturn\u001b[39;00m \u001b[38;5;28mself\u001b[39m\u001b[38;5;241m.\u001b[39mteta\n",
      "\u001b[1;31mValueError\u001b[0m: operands could not be broadcast together with shapes (10,) (9,) (10,) "
     ]
    }
   ],
   "source": [
    "x = np.arange(100).reshape(10,10)\n",
    "\n",
    "class RegresjaLiniowa():\n",
    "    def __init__(self, X, y, teta=[], a=0.001, period=100):\n",
    "        self.X = X.copy()\n",
    "        self.y = y\n",
    "        self.a = a\n",
    "        self.period = period\n",
    "        self.teta = teta if teta else np.random.randn(X.shape[1] + 1)\n",
    "        \n",
    "    def lin_reg(self):\n",
    "        \"\"\"y = θ₀ + θ₁x₁ + θ₂x₂ + ... + θₚxₚ\"\"\"\n",
    "        X = np.hstack((np.ones((self.X.shape[0], 1)), self.X))\n",
    "#         self.X[\"intercept\"] = 1\n",
    "        y = np.matmul(X, self.teta)\n",
    "        return y\n",
    "    \n",
    "    \n",
    "    def gradient_descent(self):\n",
    "        \"\"\"θj := θj - α * (1/m) * Σ((hθ(x(i)) - y(i)) * x(i)j)\"\"\"\n",
    "        m = self.X.shape[0]  # Количество примеров в обучающей выборке\n",
    "        for _ in range(self.period):\n",
    "            error = self.y - self.lin_reg()  # (hθ(x(i)) - y(i))\n",
    "            gradient = (1 / m) * np.matmul(error.T , self.X ) # (1/m) * Σ(error) * x(i)j)\n",
    "            self.teta -= self.a * gradient  # θj - α * gradient\n",
    "        \n",
    "        return self.teta\n",
    "        \n",
    "        \n",
    "rl = RegresjaLiniowa(X=x[:, :9], y=x[:, -1] )\n",
    "\n",
    "rl.gradient_descent()  "
   ]
  },
  {
   "cell_type": "code",
   "execution_count": 231,
   "id": "eef7b292",
   "metadata": {},
   "outputs": [
    {
     "data": {
      "text/plain": [
       "array([ -20.62874567,  -78.69811143, -136.76747719, -194.83684295,\n",
       "       -252.90620871, -310.97557448, -369.04494024, -427.114306  ,\n",
       "       -485.18367176, -543.25303752])"
      ]
     },
     "execution_count": 231,
     "metadata": {},
     "output_type": "execute_result"
    }
   ],
   "source": [
    "rl.lin_reg() "
   ]
  },
  {
   "cell_type": "code",
   "execution_count": null,
   "id": "7b7ae336",
   "metadata": {},
   "outputs": [],
   "source": []
  },
  {
   "cell_type": "code",
   "execution_count": null,
   "id": "406427ae",
   "metadata": {},
   "outputs": [],
   "source": []
  },
  {
   "cell_type": "code",
   "execution_count": null,
   "id": "932bd1a3",
   "metadata": {},
   "outputs": [],
   "source": []
  },
  {
   "cell_type": "code",
   "execution_count": null,
   "id": "b16363be",
   "metadata": {},
   "outputs": [],
   "source": []
  }
 ],
 "metadata": {
  "kernelspec": {
   "display_name": "Python 3 (ipykernel)",
   "language": "python",
   "name": "python3"
  },
  "language_info": {
   "codemirror_mode": {
    "name": "ipython",
    "version": 3
   },
   "file_extension": ".py",
   "mimetype": "text/x-python",
   "name": "python",
   "nbconvert_exporter": "python",
   "pygments_lexer": "ipython3",
   "version": "3.10.4"
  },
  "toc": {
   "base_numbering": 1,
   "nav_menu": {},
   "number_sections": true,
   "sideBar": true,
   "skip_h1_title": false,
   "title_cell": "Table of Contents",
   "title_sidebar": "Contents",
   "toc_cell": false,
   "toc_position": {},
   "toc_section_display": true,
   "toc_window_display": true
  }
 },
 "nbformat": 4,
 "nbformat_minor": 5
}

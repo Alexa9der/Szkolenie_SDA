{
 "cells": [
  {
   "cell_type": "code",
   "execution_count": 34,
   "id": "58b8a94a",
   "metadata": {},
   "outputs": [],
   "source": [
    "import pandas as pd\n",
    "import pandasql\n",
    "\n",
    "from pandasql import sqldf\n",
    "from IPython.display import display\n",
    "\n",
    "import random\n",
    "\n",
    "from faker import Faker\n",
    "\n",
    "%matplotlib inline\n",
    "import matplotlib.pyplot as plt"
   ]
  },
  {
   "cell_type": "code",
   "execution_count": 2,
   "id": "a3dc048f",
   "metadata": {},
   "outputs": [],
   "source": [
    "# Инициализация Faker\n",
    "fake = Faker()\n",
    "\n",
    "user_num = 100\n",
    "product_num = 50\n",
    "order_num = 500 \n",
    "# Генерация датафрейма пользователей\n",
    "users = []\n",
    "for _ in range(user_num):\n",
    "    user = {\n",
    "        'user_id': fake.random_int(min=1, max=1000),\n",
    "        'name': fake.name(),\n",
    "        'email': fake.email(),\n",
    "        'age': fake.random_int(min=18, max=65),\n",
    "        'city': fake.city(),\n",
    "        'country': fake.country()\n",
    "    }\n",
    "    users.append(user)\n",
    "users_df = pd.DataFrame(users)\n",
    "\n",
    "# Генерация датафрейма продуктов\n",
    "products = []\n",
    "for _ in range(product_num):\n",
    "    product = {\n",
    "        'product_id': fake.random_int(min=1, max=100),\n",
    "        'name': fake.word(),\n",
    "        'category': random.choice(['Electronics', 'Clothing', 'Home', 'Books']),\n",
    "        'price': round(random.uniform(10, 1000), 2)\n",
    "    }\n",
    "    products.append(product)\n",
    "products_df = pd.DataFrame(products)\n",
    "\n",
    "# Генерация датафрейма заказов\n",
    "orders = []\n",
    "for _ in range(order_num):\n",
    "    order = {\n",
    "        'order_id': fake.random_int(min=1, max=10000),\n",
    "        'user_id': random.choice(users_df['user_id']),\n",
    "        'product_id': random.choice(products_df['product_id']),\n",
    "        'quantity': random.randint(1, 10),\n",
    "        'order_date': fake.date_between(start_date='-1y', end_date='today')\n",
    "    }\n",
    "    orders.append(order)\n",
    "orders_df = pd.DataFrame(orders)\n",
    "\n",
    "\n",
    "pysqldf = lambda q: sqldf(q, globals())"
   ]
  },
  {
   "cell_type": "markdown",
   "id": "193fcfc0",
   "metadata": {},
   "source": [
    "# tasks for sql"
   ]
  },
  {
   "cell_type": "markdown",
   "id": "ea8c57e7",
   "metadata": {},
   "source": [
    "Общая выручка (Total Revenue): Рассчитайте общую выручку, суммируя стоимость каждого заказа, учитывая количество продуктов и их цены."
   ]
  },
  {
   "cell_type": "code",
   "execution_count": 40,
   "id": "b485907c",
   "metadata": {
    "scrolled": true
   },
   "outputs": [
    {
     "data": {
      "text/html": [
       "<div>\n",
       "<style scoped>\n",
       "    .dataframe tbody tr th:only-of-type {\n",
       "        vertical-align: middle;\n",
       "    }\n",
       "\n",
       "    .dataframe tbody tr th {\n",
       "        vertical-align: top;\n",
       "    }\n",
       "\n",
       "    .dataframe thead th {\n",
       "        text-align: right;\n",
       "    }\n",
       "</style>\n",
       "<table border=\"1\" class=\"dataframe\">\n",
       "  <thead>\n",
       "    <tr style=\"text-align: right;\">\n",
       "      <th></th>\n",
       "      <th>total_profit</th>\n",
       "    </tr>\n",
       "  </thead>\n",
       "  <tbody>\n",
       "    <tr>\n",
       "      <th>0</th>\n",
       "      <td>1921467.46</td>\n",
       "    </tr>\n",
       "  </tbody>\n",
       "</table>\n",
       "</div>"
      ],
      "text/plain": [
       "   total_profit\n",
       "0    1921467.46"
      ]
     },
     "execution_count": 40,
     "metadata": {},
     "output_type": "execute_result"
    }
   ],
   "source": [
    "q = \"\"\"\n",
    "    SELECT sum(quantity * price) as total_profit\n",
    "    FROM products_df as p \n",
    "    LEFT JOIN orders_df as o on o.product_id = p.product_id ;\n",
    "    \"\"\"\n",
    "\n",
    "pysqldf(q)"
   ]
  },
  {
   "cell_type": "markdown",
   "id": "245d9cfa",
   "metadata": {},
   "source": [
    "Средний чек (Average Order Value): Рассчитайте среднюю стоимость заказа, разделив общую выручку на количество заказов."
   ]
  },
  {
   "cell_type": "code",
   "execution_count": 50,
   "id": "6dceeaf6",
   "metadata": {},
   "outputs": [
    {
     "data": {
      "text/html": [
       "<div>\n",
       "<style scoped>\n",
       "    .dataframe tbody tr th:only-of-type {\n",
       "        vertical-align: middle;\n",
       "    }\n",
       "\n",
       "    .dataframe tbody tr th {\n",
       "        vertical-align: top;\n",
       "    }\n",
       "\n",
       "    .dataframe thead th {\n",
       "        text-align: right;\n",
       "    }\n",
       "</style>\n",
       "<table border=\"1\" class=\"dataframe\">\n",
       "  <thead>\n",
       "    <tr style=\"text-align: right;\">\n",
       "      <th></th>\n",
       "      <th>mean_all_price</th>\n",
       "      <th>mean_prince</th>\n",
       "    </tr>\n",
       "  </thead>\n",
       "  <tbody>\n",
       "    <tr>\n",
       "      <th>0</th>\n",
       "      <td>5.455415</td>\n",
       "      <td>2348.982225</td>\n",
       "    </tr>\n",
       "  </tbody>\n",
       "</table>\n",
       "</div>"
      ],
      "text/plain": [
       "   mean_all_price  mean_prince\n",
       "0        5.455415  2348.982225"
      ]
     },
     "execution_count": 50,
     "metadata": {},
     "output_type": "execute_result"
    }
   ],
   "source": [
    "q = \"\"\"\n",
    "    SELECT SUM(quantity * price) / SUM(price) AS mean_all_price, --среднюю стоимость товара h\n",
    "           SUM(quantity * price) / COUNT(price) AS mean_prince -- среднюю цену товара\n",
    "    FROM orders_df as o\n",
    "    LEFT JOIN products_df as p ON p.product_id = o.product_id;\n",
    "    \"\"\"\n",
    "\n",
    "pysqldf(q)"
   ]
  },
  {
   "cell_type": "markdown",
   "id": "cdf6ca94",
   "metadata": {},
   "source": [
    "Количество уникальных пользователей (Unique Users): Определите количество уникальных пользователей, основываясь на поле \"user_id\" в датафрейме пользователей."
   ]
  },
  {
   "cell_type": "code",
   "execution_count": 56,
   "id": "fb501a07",
   "metadata": {},
   "outputs": [
    {
     "data": {
      "text/html": [
       "<div>\n",
       "<style scoped>\n",
       "    .dataframe tbody tr th:only-of-type {\n",
       "        vertical-align: middle;\n",
       "    }\n",
       "\n",
       "    .dataframe tbody tr th {\n",
       "        vertical-align: top;\n",
       "    }\n",
       "\n",
       "    .dataframe thead th {\n",
       "        text-align: right;\n",
       "    }\n",
       "</style>\n",
       "<table border=\"1\" class=\"dataframe\">\n",
       "  <thead>\n",
       "    <tr style=\"text-align: right;\">\n",
       "      <th></th>\n",
       "      <th>COUNT(DISTINCT user_id)</th>\n",
       "    </tr>\n",
       "  </thead>\n",
       "  <tbody>\n",
       "    <tr>\n",
       "      <th>0</th>\n",
       "      <td>95</td>\n",
       "    </tr>\n",
       "  </tbody>\n",
       "</table>\n",
       "</div>"
      ],
      "text/plain": [
       "   COUNT(DISTINCT user_id)\n",
       "0                       95"
      ]
     },
     "execution_count": 56,
     "metadata": {},
     "output_type": "execute_result"
    }
   ],
   "source": [
    "q = \"\"\"\n",
    "    SELECT COUNT(DISTINCT user_id)\n",
    "    FROM users_df\n",
    "    \"\"\"\n",
    "pysqldf(q)"
   ]
  },
  {
   "cell_type": "markdown",
   "id": "2eb89ccc",
   "metadata": {},
   "source": [
    "Продукт с наибольшим количеством продаж (Best-selling Product): Определите продукт, который был продался наибольшее количество раз, исходя из количества продуктов в каждом заказе."
   ]
  },
  {
   "cell_type": "code",
   "execution_count": 69,
   "id": "b7d1a917",
   "metadata": {},
   "outputs": [
    {
     "data": {
      "text/html": [
       "<div>\n",
       "<style scoped>\n",
       "    .dataframe tbody tr th:only-of-type {\n",
       "        vertical-align: middle;\n",
       "    }\n",
       "\n",
       "    .dataframe tbody tr th {\n",
       "        vertical-align: top;\n",
       "    }\n",
       "\n",
       "    .dataframe thead th {\n",
       "        text-align: right;\n",
       "    }\n",
       "</style>\n",
       "<table border=\"1\" class=\"dataframe\">\n",
       "  <thead>\n",
       "    <tr style=\"text-align: right;\">\n",
       "      <th></th>\n",
       "      <th>most_sales_category</th>\n",
       "      <th>name</th>\n",
       "    </tr>\n",
       "  </thead>\n",
       "  <tbody>\n",
       "    <tr>\n",
       "      <th>0</th>\n",
       "      <td>204</td>\n",
       "      <td>these</td>\n",
       "    </tr>\n",
       "  </tbody>\n",
       "</table>\n",
       "</div>"
      ],
      "text/plain": [
       "   most_sales_category   name\n",
       "0                  204  these"
      ]
     },
     "execution_count": 69,
     "metadata": {},
     "output_type": "execute_result"
    }
   ],
   "source": [
    "q = \"\"\"\n",
    "    SELECT sum(quantity) as most_sales_category, name \n",
    "    FROM orders_df as o \n",
    "    LEFT JOIN products_df as p ON o.product_id = p.product_id\n",
    "    GROUP BY name\n",
    "    ORDER BY most_sales_category DESC\n",
    "    LIMIT 1\n",
    "    \"\"\"\n",
    "\n",
    "pysqldf(q)"
   ]
  },
  {
   "cell_type": "markdown",
   "id": "20bd2988",
   "metadata": {},
   "source": [
    "Средний возраст пользователей (Average User Age): Рассчитайте средний возраст пользователей на основе данных из датафрейма пользователей."
   ]
  },
  {
   "cell_type": "code",
   "execution_count": 130,
   "id": "5f2b5067",
   "metadata": {},
   "outputs": [
    {
     "data": {
      "text/html": [
       "<div>\n",
       "<style scoped>\n",
       "    .dataframe tbody tr th:only-of-type {\n",
       "        vertical-align: middle;\n",
       "    }\n",
       "\n",
       "    .dataframe tbody tr th {\n",
       "        vertical-align: top;\n",
       "    }\n",
       "\n",
       "    .dataframe thead th {\n",
       "        text-align: right;\n",
       "    }\n",
       "</style>\n",
       "<table border=\"1\" class=\"dataframe\">\n",
       "  <thead>\n",
       "    <tr style=\"text-align: right;\">\n",
       "      <th></th>\n",
       "      <th>average_age</th>\n",
       "    </tr>\n",
       "  </thead>\n",
       "  <tbody>\n",
       "    <tr>\n",
       "      <th>0</th>\n",
       "      <td>41</td>\n",
       "    </tr>\n",
       "  </tbody>\n",
       "</table>\n",
       "</div>"
      ],
      "text/plain": [
       "   average_age\n",
       "0           41"
      ]
     },
     "execution_count": 130,
     "metadata": {},
     "output_type": "execute_result"
    }
   ],
   "source": [
    "q = \"\"\"\n",
    "    SELECT  SUM(age) / COUNT(age) AS average_age\n",
    "    FROM\n",
    "    ( SELECT  SUM(age) / COUNT(age) as age\n",
    "      FROM users_df \n",
    "      GROUP BY user_id ) AS age\n",
    "    \"\"\"\n",
    "\n",
    "# q = \"\"\"\n",
    "#     SELECT AVG(u.age) AS average_age\n",
    "#     FROM users_df as u\n",
    "#     LEFT JOIN (SELECT DISTINCT user_id\n",
    "#                FROM users_df) AS  d  \n",
    "\n",
    "#           ON u.user_id = d.user_id   ;\n",
    "#     \"\"\"\n",
    "\n",
    "pysqldf(q)"
   ]
  },
  {
   "cell_type": "markdown",
   "id": "a1f34ae5",
   "metadata": {},
   "source": [
    "Общее количество заказов по категориям продуктов (Total Orders by Product Category): Подсчитайте общее количество заказов для каждой категории продуктов."
   ]
  },
  {
   "cell_type": "code",
   "execution_count": 133,
   "id": "dae19f05",
   "metadata": {},
   "outputs": [
    {
     "data": {
      "text/html": [
       "<div>\n",
       "<style scoped>\n",
       "    .dataframe tbody tr th:only-of-type {\n",
       "        vertical-align: middle;\n",
       "    }\n",
       "\n",
       "    .dataframe tbody tr th {\n",
       "        vertical-align: top;\n",
       "    }\n",
       "\n",
       "    .dataframe thead th {\n",
       "        text-align: right;\n",
       "    }\n",
       "</style>\n",
       "<table border=\"1\" class=\"dataframe\">\n",
       "  <thead>\n",
       "    <tr style=\"text-align: right;\">\n",
       "      <th></th>\n",
       "      <th>category</th>\n",
       "      <th>old_quantity</th>\n",
       "    </tr>\n",
       "  </thead>\n",
       "  <tbody>\n",
       "    <tr>\n",
       "      <th>0</th>\n",
       "      <td>Books</td>\n",
       "      <td>1224</td>\n",
       "    </tr>\n",
       "    <tr>\n",
       "      <th>1</th>\n",
       "      <td>Clothing</td>\n",
       "      <td>1162</td>\n",
       "    </tr>\n",
       "    <tr>\n",
       "      <th>2</th>\n",
       "      <td>Electronics</td>\n",
       "      <td>914</td>\n",
       "    </tr>\n",
       "    <tr>\n",
       "      <th>3</th>\n",
       "      <td>Home</td>\n",
       "      <td>1182</td>\n",
       "    </tr>\n",
       "  </tbody>\n",
       "</table>\n",
       "</div>"
      ],
      "text/plain": [
       "      category  old_quantity\n",
       "0        Books          1224\n",
       "1     Clothing          1162\n",
       "2  Electronics           914\n",
       "3         Home          1182"
      ]
     },
     "execution_count": 133,
     "metadata": {},
     "output_type": "execute_result"
    }
   ],
   "source": [
    "q = \"\"\"\n",
    "    SELECT category,\n",
    "           sum(quantity) as old_quantity\n",
    "    FROM orders_df as o\n",
    "    LEFT JOIN products_df as p ON p.product_id = o.product_id\n",
    "    GROUP BY category\n",
    "    \"\"\"\n",
    "\n",
    "pysqldf(q)"
   ]
  },
  {
   "cell_type": "markdown",
   "id": "88f432f0",
   "metadata": {},
   "source": [
    "Топ-5 городов с наибольшим количеством пользователей (Top 5 Cities by User Count): Определите пять городов с наибольшим количеством пользователей на основе данных из датафрейма пользователей."
   ]
  },
  {
   "cell_type": "code",
   "execution_count": 141,
   "id": "9a05ef40",
   "metadata": {},
   "outputs": [
    {
     "data": {
      "text/html": [
       "<div>\n",
       "<style scoped>\n",
       "    .dataframe tbody tr th:only-of-type {\n",
       "        vertical-align: middle;\n",
       "    }\n",
       "\n",
       "    .dataframe tbody tr th {\n",
       "        vertical-align: top;\n",
       "    }\n",
       "\n",
       "    .dataframe thead th {\n",
       "        text-align: right;\n",
       "    }\n",
       "</style>\n",
       "<table border=\"1\" class=\"dataframe\">\n",
       "  <thead>\n",
       "    <tr style=\"text-align: right;\">\n",
       "      <th></th>\n",
       "      <th>country</th>\n",
       "      <th>number_users</th>\n",
       "    </tr>\n",
       "  </thead>\n",
       "  <tbody>\n",
       "    <tr>\n",
       "      <th>0</th>\n",
       "      <td>Sierra Leone</td>\n",
       "      <td>3</td>\n",
       "    </tr>\n",
       "    <tr>\n",
       "      <th>1</th>\n",
       "      <td>Myanmar</td>\n",
       "      <td>3</td>\n",
       "    </tr>\n",
       "    <tr>\n",
       "      <th>2</th>\n",
       "      <td>Hungary</td>\n",
       "      <td>3</td>\n",
       "    </tr>\n",
       "    <tr>\n",
       "      <th>3</th>\n",
       "      <td>Vanuatu</td>\n",
       "      <td>2</td>\n",
       "    </tr>\n",
       "    <tr>\n",
       "      <th>4</th>\n",
       "      <td>Taiwan</td>\n",
       "      <td>2</td>\n",
       "    </tr>\n",
       "  </tbody>\n",
       "</table>\n",
       "</div>"
      ],
      "text/plain": [
       "        country  number_users\n",
       "0  Sierra Leone             3\n",
       "1       Myanmar             3\n",
       "2       Hungary             3\n",
       "3       Vanuatu             2\n",
       "4        Taiwan             2"
      ]
     },
     "execution_count": 141,
     "metadata": {},
     "output_type": "execute_result"
    }
   ],
   "source": [
    "q = \"\"\"\n",
    "    SELECT country,\n",
    "           COUNT(user_id) AS number_users\n",
    "    FROM users_df\n",
    "    GROUP BY country\n",
    "    ORDER BY number_users DESC\n",
    "    LIMIT 5\n",
    "    \"\"\"\n",
    "pysqldf(q)"
   ]
  },
  {
   "cell_type": "markdown",
   "id": "f0bd3e80",
   "metadata": {},
   "source": [
    "Общее количество заказов за каждый месяц (Total Orders per Month): Разделите заказы по месяцам и рассчитайте общее количество заказов для каждого месяца."
   ]
  },
  {
   "cell_type": "code",
   "execution_count": 151,
   "id": "ee7640e1",
   "metadata": {},
   "outputs": [
    {
     "data": {
      "text/html": [
       "<div>\n",
       "<style scoped>\n",
       "    .dataframe tbody tr th:only-of-type {\n",
       "        vertical-align: middle;\n",
       "    }\n",
       "\n",
       "    .dataframe tbody tr th {\n",
       "        vertical-align: top;\n",
       "    }\n",
       "\n",
       "    .dataframe thead th {\n",
       "        text-align: right;\n",
       "    }\n",
       "</style>\n",
       "<table border=\"1\" class=\"dataframe\">\n",
       "  <thead>\n",
       "    <tr style=\"text-align: right;\">\n",
       "      <th></th>\n",
       "      <th>month</th>\n",
       "      <th>count</th>\n",
       "    </tr>\n",
       "  </thead>\n",
       "  <tbody>\n",
       "    <tr>\n",
       "      <th>0</th>\n",
       "      <td>01</td>\n",
       "      <td>35</td>\n",
       "    </tr>\n",
       "    <tr>\n",
       "      <th>1</th>\n",
       "      <td>02</td>\n",
       "      <td>46</td>\n",
       "    </tr>\n",
       "    <tr>\n",
       "      <th>2</th>\n",
       "      <td>03</td>\n",
       "      <td>37</td>\n",
       "    </tr>\n",
       "    <tr>\n",
       "      <th>3</th>\n",
       "      <td>04</td>\n",
       "      <td>41</td>\n",
       "    </tr>\n",
       "    <tr>\n",
       "      <th>4</th>\n",
       "      <td>05</td>\n",
       "      <td>37</td>\n",
       "    </tr>\n",
       "    <tr>\n",
       "      <th>5</th>\n",
       "      <td>06</td>\n",
       "      <td>45</td>\n",
       "    </tr>\n",
       "    <tr>\n",
       "      <th>6</th>\n",
       "      <td>07</td>\n",
       "      <td>53</td>\n",
       "    </tr>\n",
       "    <tr>\n",
       "      <th>7</th>\n",
       "      <td>08</td>\n",
       "      <td>41</td>\n",
       "    </tr>\n",
       "    <tr>\n",
       "      <th>8</th>\n",
       "      <td>09</td>\n",
       "      <td>33</td>\n",
       "    </tr>\n",
       "    <tr>\n",
       "      <th>9</th>\n",
       "      <td>10</td>\n",
       "      <td>43</td>\n",
       "    </tr>\n",
       "    <tr>\n",
       "      <th>10</th>\n",
       "      <td>11</td>\n",
       "      <td>46</td>\n",
       "    </tr>\n",
       "    <tr>\n",
       "      <th>11</th>\n",
       "      <td>12</td>\n",
       "      <td>43</td>\n",
       "    </tr>\n",
       "  </tbody>\n",
       "</table>\n",
       "</div>"
      ],
      "text/plain": [
       "   month  count\n",
       "0     01     35\n",
       "1     02     46\n",
       "2     03     37\n",
       "3     04     41\n",
       "4     05     37\n",
       "5     06     45\n",
       "6     07     53\n",
       "7     08     41\n",
       "8     09     33\n",
       "9     10     43\n",
       "10    11     46\n",
       "11    12     43"
      ]
     },
     "execution_count": 151,
     "metadata": {},
     "output_type": "execute_result"
    }
   ],
   "source": [
    "q = \"\"\"\n",
    "    SELECT strftime('%m', order_date) AS month,\n",
    "           COUNT(quantity) AS count\n",
    "    FROM orders_df\n",
    "    GROUP BY month ;\n",
    "    \"\"\"\n",
    "\n",
    "pysqldf(q)"
   ]
  },
  {
   "cell_type": "markdown",
   "id": "0977e9dc",
   "metadata": {},
   "source": [
    "Самый активный пользователь (Most Active User): Определите пользователя с наибольшим количеством заказов на основе данных из датафрейма заказов."
   ]
  },
  {
   "cell_type": "code",
   "execution_count": 161,
   "id": "77b6ab47",
   "metadata": {},
   "outputs": [
    {
     "data": {
      "text/html": [
       "<div>\n",
       "<style scoped>\n",
       "    .dataframe tbody tr th:only-of-type {\n",
       "        vertical-align: middle;\n",
       "    }\n",
       "\n",
       "    .dataframe tbody tr th {\n",
       "        vertical-align: top;\n",
       "    }\n",
       "\n",
       "    .dataframe thead th {\n",
       "        text-align: right;\n",
       "    }\n",
       "</style>\n",
       "<table border=\"1\" class=\"dataframe\">\n",
       "  <thead>\n",
       "    <tr style=\"text-align: right;\">\n",
       "      <th></th>\n",
       "      <th>user_id</th>\n",
       "      <th>mau</th>\n",
       "    </tr>\n",
       "  </thead>\n",
       "  <tbody>\n",
       "    <tr>\n",
       "      <th>0</th>\n",
       "      <td>810</td>\n",
       "      <td>5590</td>\n",
       "    </tr>\n",
       "  </tbody>\n",
       "</table>\n",
       "</div>"
      ],
      "text/plain": [
       "   user_id   mau\n",
       "0      810  5590"
      ]
     },
     "execution_count": 161,
     "metadata": {},
     "output_type": "execute_result"
    }
   ],
   "source": [
    "q = \"\"\"\n",
    "    SELECT u.user_id, \n",
    "           SUM(quantity) AS mau\n",
    "    FROM users_df AS u\n",
    "    LEFT JOIN orders_df as o\n",
    "         ON u.user_id = u.user_id\n",
    "    GROUP BY u.user_id\n",
    "    ORDER BY mau DESC\n",
    "    LIMIT 1\n",
    "    \"\"\"\n",
    "\n",
    "pysqldf(q)"
   ]
  },
  {
   "cell_type": "markdown",
   "id": "f4bbf42f",
   "metadata": {},
   "source": [
    "Общая стоимость продаж по странам (Total Sales by Country): Рассчитайте общую стоимость продаж для каждой страны на основе данных из датафрейма пользователей и заказов."
   ]
  },
  {
   "cell_type": "code",
   "execution_count": 157,
   "id": "d137bc55",
   "metadata": {},
   "outputs": [
    {
     "data": {
      "text/html": [
       "<div>\n",
       "<style scoped>\n",
       "    .dataframe tbody tr th:only-of-type {\n",
       "        vertical-align: middle;\n",
       "    }\n",
       "\n",
       "    .dataframe tbody tr th {\n",
       "        vertical-align: top;\n",
       "    }\n",
       "\n",
       "    .dataframe thead th {\n",
       "        text-align: right;\n",
       "    }\n",
       "</style>\n",
       "<table border=\"1\" class=\"dataframe\">\n",
       "  <thead>\n",
       "    <tr style=\"text-align: right;\">\n",
       "      <th></th>\n",
       "      <th>country</th>\n",
       "      <th>total_sales</th>\n",
       "    </tr>\n",
       "  </thead>\n",
       "  <tbody>\n",
       "    <tr>\n",
       "      <th>0</th>\n",
       "      <td>Afghanistan</td>\n",
       "      <td>2267.34</td>\n",
       "    </tr>\n",
       "    <tr>\n",
       "      <th>1</th>\n",
       "      <td>Albania</td>\n",
       "      <td>2469.89</td>\n",
       "    </tr>\n",
       "    <tr>\n",
       "      <th>2</th>\n",
       "      <td>Angola</td>\n",
       "      <td>8296.25</td>\n",
       "    </tr>\n",
       "    <tr>\n",
       "      <th>3</th>\n",
       "      <td>Anguilla</td>\n",
       "      <td>6928.36</td>\n",
       "    </tr>\n",
       "    <tr>\n",
       "      <th>4</th>\n",
       "      <td>Antarctica (the territory South of 60 deg S)</td>\n",
       "      <td>2420.04</td>\n",
       "    </tr>\n",
       "    <tr>\n",
       "      <th>...</th>\n",
       "      <td>...</td>\n",
       "      <td>...</td>\n",
       "    </tr>\n",
       "    <tr>\n",
       "      <th>75</th>\n",
       "      <td>United States of America</td>\n",
       "      <td>2539.61</td>\n",
       "    </tr>\n",
       "    <tr>\n",
       "      <th>76</th>\n",
       "      <td>Uzbekistan</td>\n",
       "      <td>969.59</td>\n",
       "    </tr>\n",
       "    <tr>\n",
       "      <th>77</th>\n",
       "      <td>Vanuatu</td>\n",
       "      <td>5835.93</td>\n",
       "    </tr>\n",
       "    <tr>\n",
       "      <th>78</th>\n",
       "      <td>Venezuela</td>\n",
       "      <td>7078.78</td>\n",
       "    </tr>\n",
       "    <tr>\n",
       "      <th>79</th>\n",
       "      <td>Vietnam</td>\n",
       "      <td>2062.21</td>\n",
       "    </tr>\n",
       "  </tbody>\n",
       "</table>\n",
       "<p>80 rows × 2 columns</p>\n",
       "</div>"
      ],
      "text/plain": [
       "                                         country  total_sales\n",
       "0                                    Afghanistan      2267.34\n",
       "1                                        Albania      2469.89\n",
       "2                                         Angola      8296.25\n",
       "3                                       Anguilla      6928.36\n",
       "4   Antarctica (the territory South of 60 deg S)      2420.04\n",
       "..                                           ...          ...\n",
       "75                      United States of America      2539.61\n",
       "76                                    Uzbekistan       969.59\n",
       "77                                       Vanuatu      5835.93\n",
       "78                                     Venezuela      7078.78\n",
       "79                                       Vietnam      2062.21\n",
       "\n",
       "[80 rows x 2 columns]"
      ]
     },
     "execution_count": 157,
     "metadata": {},
     "output_type": "execute_result"
    }
   ],
   "source": [
    "q = \"\"\"\n",
    "    SELECT country, \n",
    "           SUM(price) as total_sales\n",
    "    FROM users_df as u\n",
    "    LEFT JOIN orders_df as o\n",
    "         ON u.user_id = o.user_id\n",
    "    LEFT JOIN products_df as p\n",
    "         ON o.product_id = p.product_id\n",
    "    GROUP BY country\n",
    "    \"\"\"\n",
    "\n",
    "pysqldf(q)"
   ]
  }
 ],
 "metadata": {
  "kernelspec": {
   "display_name": "Python 3 (ipykernel)",
   "language": "python",
   "name": "python3"
  },
  "language_info": {
   "codemirror_mode": {
    "name": "ipython",
    "version": 3
   },
   "file_extension": ".py",
   "mimetype": "text/x-python",
   "name": "python",
   "nbconvert_exporter": "python",
   "pygments_lexer": "ipython3",
   "version": "3.10.4"
  },
  "toc": {
   "base_numbering": 1,
   "nav_menu": {},
   "number_sections": true,
   "sideBar": true,
   "skip_h1_title": false,
   "title_cell": "Table of Contents",
   "title_sidebar": "Contents",
   "toc_cell": false,
   "toc_position": {},
   "toc_section_display": true,
   "toc_window_display": false
  }
 },
 "nbformat": 4,
 "nbformat_minor": 5
}

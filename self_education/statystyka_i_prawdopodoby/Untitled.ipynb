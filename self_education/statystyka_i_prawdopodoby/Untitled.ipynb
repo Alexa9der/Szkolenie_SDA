{
 "cells": [
  {
   "cell_type": "code",
   "execution_count": 14,
   "id": "c4836b1d",
   "metadata": {},
   "outputs": [],
   "source": [
    "import pandas as pd\n",
    "import numpy as np\n",
    "\n",
    "from scipy import stats\n",
    "\n",
    "%matplotlib inline\n",
    "import matplotlib.pyplot as plt"
   ]
  },
  {
   "cell_type": "markdown",
   "id": "4d7ba6ee",
   "metadata": {},
   "source": [
    "# Тесты"
   ]
  },
  {
   "cell_type": "markdown",
   "id": "f3420043",
   "metadata": {},
   "source": [
    "## Бутстрэп (Bootstrap):\n",
    "\n",
    "Область применения: Бутстрэп используется для оценки статистических характеристик выборки, таких как среднее значение или доверительный интервал, путем генерации множества подвыборок с повторениями из исходной выборки.\n",
    "\n",
    "Условия принятия/непринятия гипотезы: Бутстрэп не проверяет гипотезы напрямую, а помогает получить оценки параметров и их доверительные интервалы."
   ]
  },
  {
   "cell_type": "code",
   "execution_count": null,
   "id": "27945744",
   "metadata": {},
   "outputs": [],
   "source": [
    "# Бутстрэп\n",
    "data = np.array([1, 2, 3, 4, 5])\n",
    "bootstrap_samples = []\n",
    "n_iterations = 1000\n",
    "sample_size = len(data)\n",
    "for _ in range(n_iterations):\n",
    "    sample = np.random.choice(data, size=sample_size, replace=True)\n",
    "    bootstrap_samples.append(sample)\n",
    "means = np.mean(bootstrap_samples, axis=1)\n",
    "confidence_interval = np.percentile(means, [2.5, 97.5])\n",
    "print(f\"Доверительный интервал: {confidence_interval}\")"
   ]
  },
  {
   "cell_type": "markdown",
   "id": "1676158c",
   "metadata": {},
   "source": [
    "## Проверка нормальности (Normality Test):\n",
    "\n",
    "Область применения: Проверка нормальности используется для оценки, насколько данные следуют нормальному распределению.\n",
    "\n",
    "Условия принятия/непринятия гипотезы: В проверке нормальности используются различные тесты, такие как тест Шапиро-Уилка или тест Колмогорова-Смирнова. Гипотеза о нормальности данных принимается или отвергается на основе выбранного уровня значимости."
   ]
  },
  {
   "cell_type": "code",
   "execution_count": null,
   "id": "56989276",
   "metadata": {},
   "outputs": [],
   "source": [
    "# Проверка нормальности\n",
    "data = np.array([1, 2, 3, 4, 5])\n",
    "_, p_value = stats.shapiro(data)\n",
    "print(f\"p-значение: {p_value}\")"
   ]
  },
  {
   "cell_type": "markdown",
   "id": "bce4bd85",
   "metadata": {},
   "source": [
    "## T-тест:\n",
    "\n",
    "Область применения: Используется для проверки различий между средними значениями двух групп или между средним значением выборки и известным значением популяции.\n",
    "\n",
    "Условия принятия гипотезы: Если p-значение меньше выбранного уровня значимости (обычно 0.05), гипотеза о различиях между средними значениями принимается.\n",
    "\n",
    "Условия непринятия гипотезы: Если p-значение больше выбранного уровня значимости, гипотеза о различиях между средними значениями отвергается.\n",
    "\n",
    "Уровень p: Обычно выбирается уровень значимости 0.05.as_integer_ratio"
   ]
  },
  {
   "cell_type": "code",
   "execution_count": 4,
   "id": "187c34eb",
   "metadata": {},
   "outputs": [
    {
     "name": "stdout",
     "output_type": "stream",
     "text": [
      "t-статистика: 0.0\n",
      "p-значение: 1.0\n"
     ]
    }
   ],
   "source": [
    "# Одновыборочный t-тест\n",
    "# H0: Среднее значение выборки равно заданному значению\n",
    "# H1: Среднее значение выборки не равно заданному значению\n",
    "sample = [1, 2, 3, 4, 5]\n",
    "t_stat, p_value = stats.ttest_1samp(sample, 3)\n",
    "print(f\"t-статистика: {t_stat}\")\n",
    "print(f\"p-значение: {p_value}\")"
   ]
  },
  {
   "cell_type": "markdown",
   "id": "2c2590b0",
   "metadata": {},
   "source": [
    "## Проверка равенства дисперсий (Equal Variance Test):\n",
    "\n",
    "Область применения: Используется для проверки равенства дисперсий двух или более групп.\n",
    "\n",
    "Если p-значение меньше выбранного уровня значимости (обычно 0.05), то нулевая гипотеза о равенстве дисперсий отвергается, и можно сделать вывод о наличии статистически значимых различий в дисперсиях выборок.\n",
    "\n",
    "Если p-значение больше или равно выбранному уровню значимости, то нулевая гипотеза не отвергается, и делается вывод о равенстве дисперсий выборок."
   ]
  },
  {
   "cell_type": "code",
   "execution_count": null,
   "id": "77a057a9",
   "metadata": {},
   "outputs": [],
   "source": [
    "group1 = pd.Series([1, 2, 3, 4, 5])\n",
    "group2 = pd.Series([2, 4, 6, 8, 10])\n",
    "_, p_value = stats.levene(group1, group2)\n",
    "print(f\"p-значение: {p_value}\")"
   ]
  },
  {
   "cell_type": "markdown",
   "id": "cfaed1c1",
   "metadata": {},
   "source": [
    "## Анализ дисперсии (ANOVA):\n",
    "\n",
    "Область применения: Используется для сравнения средних значений трех или более групп.\n",
    "Условия принятия гипотезы: Если p-значение меньше выбранного уровня значимости, то есть нет статистически значимых различий между средними значениями групп, то нулевая гипотеза о равенстве средних принимается.\n",
    "\n",
    "Условия непринятия гипотезы: Если p-значение больше выбранного уровня значимости, то есть имеются статистически значимые различия между средними значениями групп, то нулевая гипотеза отвергается в пользу альтернативной гипотезы о неравенстве средних.\n",
    "\n",
    "Уровень p: Обычно выбирается уровень значимости 0.05."
   ]
  },
  {
   "cell_type": "code",
   "execution_count": 7,
   "id": "abfd7d85",
   "metadata": {},
   "outputs": [],
   "source": [
    "# ANOVA\n",
    "# H0: Средние значения групп равны\n",
    "# H1: Средние значения групп не равны\n",
    "data = pd.read_csv('data.csv')\n",
    "group1 = data[data['Group'] == 'A']['Value']\n",
    "group2 = data[data['Group'] == 'B']['Value']\n",
    "group3 = data[data['Group'] == 'C']['Value']\n",
    "f_stat, p_value = stats.f_oneway(group1, group2, group3)\n",
    "print(f\"F-статистика: {f_stat}\")\n",
    "print(f\"p-значение: {p_value}\")"
   ]
  },
  {
   "cell_type": "markdown",
   "id": "3d5fbff7",
   "metadata": {},
   "source": [
    "# Анализ зависомости факторов и компонентов"
   ]
  },
  {
   "cell_type": "markdown",
   "id": "27948613",
   "metadata": {},
   "source": [
    "## Корреляционный анализ:\n",
    "\n",
    "Область применения: Используется для оценки силы и направления связи между двумя количественными переменными.\n",
    "\n",
    "Условия принятия гипотезы: Если p-значение меньше выбранного уровня значимости, то есть достаточно сильная связь между переменными, то нулевая гипотеза о независимости переменных принимается.\n",
    "\n",
    "Условия непринятия гипотезы: Если p-значение больше выбранного уровня значимости, то есть недостаточно сильная связь между переменными, то нулевая гипотеза отвергается в пользу альтернативной гипотезы о зависимости переменных.\n",
    "\n",
    "Уровень p: Обычно выбирается уровень значимости 0.05."
   ]
  },
  {
   "cell_type": "code",
   "execution_count": 9,
   "id": "aebf5d18",
   "metadata": {},
   "outputs": [],
   "source": [
    "# Корреляционный анализ\n",
    "# H0: Нет корреляции между переменными\n",
    "# H1: Есть корреляция между переменными\n",
    "data = pd.read_csv('data.csv')\n",
    "correlation_coef, p_value = stats.pearsonr(data['Variable1'], data['Variable2'])\n",
    "print(f\"Коэффициент корреляции: {correlation_coef}\")\n",
    "print(f\"p-значение: {p_value}\")"
   ]
  },
  {
   "cell_type": "markdown",
   "id": "9b4785ed",
   "metadata": {},
   "source": [
    "## Тест Спирмена (Spearman's Rank Correlation Test):\n",
    "\n",
    "Область применения: Используется для оценки степени монотонной связи между двумя переменными, основываясь на их ранговых значениях.\n",
    "\n",
    "Условия принятия гипотезы: Если p-значение меньше выбранного уровня значимости, то есть достаточно сильная монотонная связь между переменными, то нулевая гипотеза о независимости переменных принимается.\n",
    "\n",
    "Условия непринятия гипотезы: Если p-значение больше выбранного уровня значимости, то есть недостаточно сильная монотонная связь между переменными, то нулевая гипотеза отвергается в пользу альтернативной гипотезы о зависимости переменных.\n",
    "\n",
    "Уровень p: Обычно выбирается уровень значимости 0.05."
   ]
  },
  {
   "cell_type": "code",
   "execution_count": null,
   "id": "26288e55",
   "metadata": {},
   "outputs": [],
   "source": [
    "# Тест Спирмена\n",
    "# H0: Нет монотонной связи между переменными\n",
    "# H1: Есть монотонная связь между переменными\n",
    "data = pd.read_csv('data.csv')\n",
    "correlation_coef, p_value = stats.spearmanr(data['Variable1'], data['Variable2'])\n",
    "print(f\"Коэффициент корреляции Спирмена: {correlation_coef}\")\n",
    "print(f\"p-значение: {p_value}\")"
   ]
  },
  {
   "cell_type": "markdown",
   "id": "0aa8edbd",
   "metadata": {},
   "source": [
    "## Анализ факторов (Factor Analysis):\n",
    "\n",
    "Область применения: Используется для выявления структуры скрытых факторов и исследования межфакторных отношений на основе множества наблюдаемых переменных.\n",
    "\n",
    "Условия принятия/непринятия гипотезы: Зависит от метода оценки факторной модели и статистических критериев, таких как общая объясненная дисперсия или значимость факторов и переменных."
   ]
  },
  {
   "cell_type": "code",
   "execution_count": null,
   "id": "d0ef9eee",
   "metadata": {},
   "outputs": [],
   "source": [
    "from factor_analyzer import FactorAnalyzer\n",
    "\n",
    "# Анализ факторов\n",
    "data =pd.read_csv('data.csv')\n",
    "fa = FactorAnalyzer(n_factors=3, rotation='varimax')\n",
    "fa.fit(data)\n",
    "print(fa.loadings_)"
   ]
  },
  {
   "cell_type": "markdown",
   "id": "2f6d2310",
   "metadata": {},
   "source": [
    "## Анализ главных компонент (Principal Component Analysis, PCA):\n",
    "\n",
    "[Documentation](https://scikit-learn.org/stable/modules/generated/sklearn.decomposition.PCA.html)\n",
    "\n",
    "Область применения: Анализ главных компонент используется для уменьшения размерности данных путем преобразования их в новый набор переменных (главные компоненты), сохраняющий максимальное количество информации.\n",
    "\n",
    "Условия применения: Анализ главных компонент применяется, когда есть множество исходных переменных и требуется упростить модель или уменьшить размерность данных."
   ]
  },
  {
   "cell_type": "code",
   "execution_count": null,
   "id": "834e8c4b",
   "metadata": {},
   "outputs": [],
   "source": [
    "from sklearn.decomposition import PCA\n",
    "\n",
    "# Анализ главных компонент\n",
    "data = pd.read_csv('data.csv')\n",
    "X = data[['Feature1', 'Feature2', 'Feature3']]\n",
    "pca = PCA(n_components=2)\n",
    "transformed_data = pca.fit_transform(X)"
   ]
  },
  {
   "cell_type": "markdown",
   "id": "814d9365",
   "metadata": {},
   "source": [
    "## Проверка независимости (Independence Test):\n",
    "\n",
    "Область применения: Используется для проверки независимости между двумя переменными, особенно между категориальными переменными.\n",
    "\n",
    "Условия принятия/непринятия гипотезы: В зависимости от выбранного теста, гипотеза о независимости переменных принимается или отвергается на основе выбранного уровня значимости."
   ]
  },
  {
   "cell_type": "code",
   "execution_count": 15,
   "id": "8a704014",
   "metadata": {},
   "outputs": [
    {
     "name": "stdout",
     "output_type": "stream",
     "text": [
      "p-значение: 1.0\n"
     ]
    }
   ],
   "source": [
    "# Проверка независимости\n",
    "data = pd.DataFrame({'Variable1': [1, 1, 0, 0, 1], 'Variable2': [1, 0, 1, 0, 0]})\n",
    "contingency_table = pd.crosstab(data['Variable1'], data['Variable2'])\n",
    "_, p_value, _, _ = stats.chi2_contingency(contingency_table)\n",
    "print(f\"p-значение: {p_value}\")"
   ]
  },
  {
   "cell_type": "markdown",
   "id": "922749da",
   "metadata": {},
   "source": [
    "# Временные ряды"
   ]
  },
  {
   "cell_type": "markdown",
   "id": "ed35a9b3",
   "metadata": {},
   "source": [
    "## Анализ временных рядов:\n",
    "\n",
    "Область применения: Анализ временных рядов используется для моделирования и прогнозирования последовательности данных, где наблюдения упорядочены во времени.\n",
    "\n",
    "Условия принятия/непринятия гипотезы: В анализе временных рядов гипотезы могут быть связаны с наличием тренда, сезонности или стационарности в данных."
   ]
  },
  {
   "cell_type": "code",
   "execution_count": null,
   "id": "286e1e05",
   "metadata": {},
   "outputs": [],
   "source": [
    "from statsmodels.tsa.seasonal import seasonal_decompose\n",
    "\n",
    "# Анализ временных рядов\n",
    "data = pd.read_csv('data.csv')\n",
    "time_series = pd.Series(data['Value'], index=data['Date'])\n",
    "decomposition = seasonal_decompose(time_series, model='additive')\n",
    "trend = decomposition.trend\n",
    "seasonal = decomposition.seasonal\n",
    "residual = decomposition.resid"
   ]
  },
  {
   "cell_type": "markdown",
   "id": "70d647de",
   "metadata": {},
   "source": [
    "## Анализ выживаемости (Survival Analysis):\n",
    "\n",
    "Область применения: Анализ выживаемости используется для моделирования времени до наступления события (например, выживания пациента или отказа оборудования) и оценки факторов, влияющих на выживаемость.\n",
    "\n",
    "Условия принятия/непринятия гипотезы: В анализе выживаемости гипотезы могут быть связаны с наличием различий в выживаемости между группами и с влиянием факторов на выживаемость."
   ]
  },
  {
   "cell_type": "code",
   "execution_count": null,
   "id": "36a6bc6f",
   "metadata": {},
   "outputs": [],
   "source": [
    "from lifelines import KaplanMeierFitter\n",
    "\n",
    "# Анализ выживаемости\n",
    "data = pd.read_csv('data.csv')\n",
    "time = data['Time']\n",
    "event = data['Event']\n",
    "kmf = KaplanMeierFitter()\n",
    "kmf.fit(time, event)\n",
    "survival_probability = kmf.survival_function_"
   ]
  },
  {
   "cell_type": "markdown",
   "id": "bd0a316b",
   "metadata": {},
   "source": [
    "# Регрессия "
   ]
  },
  {
   "cell_type": "markdown",
   "id": "909c13d4",
   "metadata": {},
   "source": [
    "## Логистическая регрессия (Logistic Regression):\n",
    "\n",
    "Область применения: Используется для моделирования бинарных или многоклассовых зависимых переменных, основываясь на наборе предикторов.\n",
    "\n",
    "Условия принятия/непринятия гипотезы: Зависит от выбранного метода оценки модели и статистических критериев. Обычно используется анализ значимости коэффициентов и проверка статистической значимости модели в целом."
   ]
  },
  {
   "cell_type": "code",
   "execution_count": null,
   "id": "a18b6055",
   "metadata": {},
   "outputs": [],
   "source": [
    "import statsmodels.api as sm\n",
    "\n",
    "# Логистическая регрессия\n",
    "# Предикторы: X1, X2, X3\n",
    "# Зависимая переменная: y\n",
    "data = pd.read_csv('data.csv')\n",
    "X = data[['X1', 'X2', 'X3']]\n",
    "X = sm.add_constant(X)\n",
    "y = data['y']\n",
    "model = sm.Logit(y, X)\n",
    "results = model.fit()\n",
    "print(results.summary())"
   ]
  },
  {
   "cell_type": "markdown",
   "id": "8ee07ce7",
   "metadata": {},
   "source": [
    "##  Линейная регрессионный анализ:\n",
    "\n",
    "Область применения: Регрессионный анализ используется для моделирования зависимости между зависимой переменной и одной или несколькими независимыми переменными.\n",
    "\n",
    "Условия принятия/непринятия гипотезы: В регрессионном анализе проверяются статистическая значимость коэффициентов модели, а также оценивается качество подгонки модели к данным."
   ]
  },
  {
   "cell_type": "code",
   "execution_count": null,
   "id": "ef728337",
   "metadata": {},
   "outputs": [],
   "source": [
    "import statsmodels.api as sm\n",
    "\n",
    "# Регрессионный анализ\n",
    "data = pd.read_csv('data.csv')\n",
    "X = data[['Feature1', 'Feature2', 'Feature3']]\n",
    "X = sm.add_constant(X)\n",
    "y = data['Target']\n",
    "model = sm.OLS(y, X)\n",
    "results = model.fit()\n",
    "print(results.summary())"
   ]
  },
  {
   "cell_type": "code",
   "execution_count": null,
   "id": "cc663a3e",
   "metadata": {},
   "outputs": [],
   "source": []
  },
  {
   "cell_type": "markdown",
   "id": "f26fec39",
   "metadata": {},
   "source": [
    "# Кластерный анализ:\n",
    "\n",
    "Область применения: Кластерный анализ используется для группировки объектов в кластеры на основе их сходства.\n",
    "Условия принятия/непринятия гипотезы: В кластерном анализе не проверяются гипотезы, а исследуется структура данных для выявления групп схожих объектов.\n",
    "Пример кода:"
   ]
  },
  {
   "cell_type": "code",
   "execution_count": null,
   "id": "039908ad",
   "metadata": {},
   "outputs": [],
   "source": [
    "from sklearn.cluster import KMeans\n",
    "\n",
    "# Кластерный анализ\n",
    "data = pd.read_csv('data.csv')\n",
    "X = data[['Feature1', 'Feature2', 'Feature3']]\n",
    "kmeans = KMeans(n_clusters=3)\n",
    "kmeans.fit(X)\n",
    "cluster_labels = kmeans.labels_\n",
    "print(cluster_labels)"
   ]
  },
  {
   "cell_type": "code",
   "execution_count": null,
   "id": "ddf04edc",
   "metadata": {},
   "outputs": [],
   "source": []
  },
  {
   "cell_type": "markdown",
   "id": "3da58846",
   "metadata": {},
   "source": [
    "## определения оптимального количества кластеров в данных "
   ]
  },
  {
   "cell_type": "code",
   "execution_count": 17,
   "id": "081b77ba",
   "metadata": {},
   "outputs": [
    {
     "name": "stdout",
     "output_type": "stream",
     "text": [
      "Количество кластеров: 2\n"
     ]
    }
   ],
   "source": [
    "from scipy.cluster.hierarchy import linkage, fcluster\n",
    "from scipy.spatial.distance import pdist\n",
    "\n",
    "# Подготовка данных\n",
    "# df = pd.DataFrame(...)  # Замените ... на ваши данные\n",
    "\n",
    "# Расчет матрицы расстояний\n",
    "dist_matrix = pdist(df)\n",
    "\n",
    "# Выполнение иерархической кластеризации\n",
    "linkage_matrix = linkage(dist_matrix, method='ward')  # Метод 'ward' использует метод Варда для объединения кластеров\n",
    "\n",
    "# Определение оптимального числа кластеров\n",
    "max_d = 10  # Максимальное расстояние для определения числа кластеров\n",
    "clusters = fcluster(linkage_matrix, max_d, criterion='distance')  # Получение меток кластеров\n",
    "\n",
    "# Определение количества уникальных кластеров\n",
    "num_clusters = len(np.unique(clusters))\n",
    "\n",
    "print(\"Количество кластеров:\", num_clusters)"
   ]
  },
  {
   "cell_type": "code",
   "execution_count": null,
   "id": "6ea91089",
   "metadata": {},
   "outputs": [],
   "source": [
    "Или метод локтя "
   ]
  },
  {
   "cell_type": "code",
   "execution_count": 19,
   "id": "a7801fde",
   "metadata": {},
   "outputs": [],
   "source": [
    "from sklearn.cluster import KMeans\n",
    "# Подготовка данных\n",
    "# X = ...\n",
    "\n",
    "# Построение графика метода локтя\n",
    "inertias = []\n",
    "k_values = range(1, 5)  # Попробуйте разные значения количества кластеров\n",
    "for k in k_values:\n",
    "    kmeans = KMeans(n_clusters=k)\n",
    "    kmeans.fit(df)\n",
    "    inertias.append(kmeans.inertia_)\n",
    "\n",
    "# plt.plot(k_values, inertias, 'bx-')\n",
    "# plt.xlabel('Количество кластеров')\n",
    "# plt.ylabel('Инерция')\n",
    "# plt.title('Метод локтя')\n",
    "# plt.show()"
   ]
  },
  {
   "cell_type": "code",
   "execution_count": null,
   "id": "a154082f",
   "metadata": {},
   "outputs": [],
   "source": []
  },
  {
   "cell_type": "markdown",
   "id": "fc0def49",
   "metadata": {},
   "source": [
    "# Задания"
   ]
  },
  {
   "cell_type": "code",
   "execution_count": 3,
   "id": "e838e47d",
   "metadata": {},
   "outputs": [],
   "source": [
    "# Создание датафрейма\n",
    "df = pd.DataFrame({\n",
    "    'Variable1': [1, 2, 3, 4, 5],\n",
    "    'Variable2': [2, 4, 6, 8, 10],\n",
    "    'Variable3': [3, 6, 9, 12, 15]\n",
    "})"
   ]
  },
  {
   "cell_type": "markdown",
   "id": "061eb1e9",
   "metadata": {},
   "source": [
    "#### Проверка независимости: Проверьте независимость между переменными Variable1 и Variable2."
   ]
  },
  {
   "cell_type": "code",
   "execution_count": 48,
   "id": "a939ccee",
   "metadata": {},
   "outputs": [
    {
     "data": {
      "text/plain": [
       "0.24143645097027538"
      ]
     },
     "execution_count": 48,
     "metadata": {},
     "output_type": "execute_result"
    }
   ],
   "source": [
    "# H0 -> X1 != X2 if p > 0.5\n",
    "# H1 -> X1 == x2 if p < 0.5\n",
    "\n",
    "table = pd.crosstab(df.Variable1, df.Variable2)\n",
    "res = stats.chi2_contingency(table)\n",
    "res[1] "
   ]
  },
  {
   "cell_type": "markdown",
   "id": "2707e721",
   "metadata": {},
   "source": [
    "#### Корреляционный анализ: Вычислите коэффициент корреляции между переменными Variable1 и Variable3. Оцените статистическую значимость корреляции."
   ]
  },
  {
   "cell_type": "code",
   "execution_count": 53,
   "id": "6a06df0e",
   "metadata": {},
   "outputs": [
    {
     "data": {
      "text/plain": [
       "0.02379300981289938"
      ]
     },
     "execution_count": 53,
     "metadata": {},
     "output_type": "execute_result"
    }
   ],
   "source": [
    "# H0: Нет корреляции между переменными\n",
    "# H1: Есть корреляция между переменными\n",
    "stats.pearsonr(df.Variable1, df.Variable3).pvalue"
   ]
  },
  {
   "cell_type": "markdown",
   "id": "77e5aa8a",
   "metadata": {},
   "source": [
    "#### Тест Стьюдента: Проведите одновыборочный t-тест для сравнения среднего значения Variable1 с известным значением. Проведите двухвыборочный t-тест для сравнения средних значений между Variable1 и Variable2."
   ]
  },
  {
   "cell_type": "code",
   "execution_count": 64,
   "id": "e44218f7",
   "metadata": {},
   "outputs": [
    {
     "data": {
      "text/plain": [
       "Ttest_1sampResult(statistic=-0.7071067811865475, pvalue=0.5185185185185183)"
      ]
     },
     "execution_count": 64,
     "metadata": {},
     "output_type": "execute_result"
    }
   ],
   "source": [
    "stats.ttest_1samp(df.Variable1, 3.5)#.pvalue"
   ]
  },
  {
   "cell_type": "code",
   "execution_count": 67,
   "id": "985ab9f2",
   "metadata": {},
   "outputs": [
    {
     "data": {
      "text/plain": [
       "Ttest_indResult(statistic=-1.8973665961010275, pvalue=0.09434977284243756)"
      ]
     },
     "execution_count": 67,
     "metadata": {},
     "output_type": "execute_result"
    }
   ],
   "source": [
    "stats.ttest_ind(df.Variable1, df.Variable2)"
   ]
  },
  {
   "cell_type": "markdown",
   "id": "bfb93644",
   "metadata": {},
   "source": [
    "#### Анализ дисперсии: Проверьте равенство дисперсий между Variable2 и Variable3."
   ]
  },
  {
   "cell_type": "code",
   "execution_count": 68,
   "id": "d2338e9c",
   "metadata": {},
   "outputs": [
    {
     "data": {
      "text/plain": [
       "LeveneResult(statistic=0.7912087912087913, pvalue=0.39969146874999956)"
      ]
     },
     "execution_count": 68,
     "metadata": {},
     "output_type": "execute_result"
    }
   ],
   "source": [
    "stats.levene(df.Variable2, df.Variable3)"
   ]
  },
  {
   "cell_type": "markdown",
   "id": "2e0d4f2a",
   "metadata": {},
   "source": [
    "#### Линейная регрессия: Постройте линейную регрессионную модель для предсказания значения Variable3 на основе Variable1. Оцените коэффициенты регрессии и качество модели."
   ]
  },
  {
   "cell_type": "code",
   "execution_count": 93,
   "id": "9968dd14",
   "metadata": {},
   "outputs": [
    {
     "data": {
      "text/plain": [
       "const        1.554312e-15\n",
       "Variable3    3.333333e-01\n",
       "dtype: float64"
      ]
     },
     "execution_count": 93,
     "metadata": {},
     "output_type": "execute_result"
    }
   ],
   "source": [
    "import statsmodels.api as sm\n",
    "\n",
    "y = sm.add_constant(df.Variable3)\n",
    "m = sm.OLS(df.Variable1, y)\n",
    "res = m.fit()\n",
    "res.params"
   ]
  },
  {
   "cell_type": "code",
   "execution_count": 92,
   "id": "b35d8bb3",
   "metadata": {},
   "outputs": [
    {
     "data": {
      "text/plain": [
       "1.0"
      ]
     },
     "execution_count": 92,
     "metadata": {},
     "output_type": "execute_result"
    }
   ],
   "source": [
    "res.rsquared"
   ]
  },
  {
   "cell_type": "code",
   "execution_count": 91,
   "id": "3208b92f",
   "metadata": {
    "scrolled": true
   },
   "outputs": [
    {
     "data": {
      "text/plain": [
       "const        1.344547e-15\n",
       "Variable3    1.351320e-16\n",
       "dtype: float64"
      ]
     },
     "execution_count": 91,
     "metadata": {},
     "output_type": "execute_result"
    }
   ],
   "source": [
    "res.bse"
   ]
  },
  {
   "cell_type": "code",
   "execution_count": 98,
   "id": "e6226370",
   "metadata": {},
   "outputs": [],
   "source": [
    "residuals = res.resid\n",
    "# residuals.plot()"
   ]
  },
  {
   "cell_type": "code",
   "execution_count": 88,
   "id": "cb2e0512",
   "metadata": {},
   "outputs": [
    {
     "name": "stdout",
     "output_type": "stream",
     "text": [
      "                             Test for Constraints                             \n",
      "==============================================================================\n",
      "                 coef    std err          t      P>|t|      [0.025      0.975]\n",
      "------------------------------------------------------------------------------\n",
      "c0          1.554e-15   1.34e-15      1.156      0.331   -2.72e-15    5.83e-15\n",
      "==============================================================================\n"
     ]
    }
   ],
   "source": [
    "print(res.t_test([1,0]))"
   ]
  },
  {
   "cell_type": "markdown",
   "id": "8fc7f69a",
   "metadata": {},
   "source": [
    "#### Анализ временных рядов: Проанализируйте временной ряд Variable3 и определите наличие тренда, сезонности или других временных особенностей."
   ]
  },
  {
   "cell_type": "code",
   "execution_count": null,
   "id": "ceffbb92",
   "metadata": {},
   "outputs": [],
   "source": []
  },
  {
   "cell_type": "markdown",
   "id": "9486ae60",
   "metadata": {},
   "source": [
    "#### Анализ главных компонент: Примените анализ главных компонент для уменьшения размерности данных и определите наиболее значимые компоненты."
   ]
  },
  {
   "cell_type": "code",
   "execution_count": 11,
   "id": "75b2ddc7",
   "metadata": {},
   "outputs": [
    {
     "data": {
      "text/plain": [
       "array([[ 7.48331477e+00, -1.77635684e-15],\n",
       "       [ 3.74165739e+00, -8.88178420e-16],\n",
       "       [ 0.00000000e+00,  0.00000000e+00],\n",
       "       [-3.74165739e+00,  8.88178420e-16],\n",
       "       [-7.48331477e+00,  1.77635684e-15]])"
      ]
     },
     "execution_count": 11,
     "metadata": {},
     "output_type": "execute_result"
    }
   ],
   "source": [
    "from sklearn.decomposition import PCA\n",
    "\n",
    "pca = PCA(n_components= 2).fit(df)\n",
    "new_components = pca.transform(df)\n",
    "new_components"
   ]
  },
  {
   "cell_type": "code",
   "execution_count": 5,
   "id": "29cea797",
   "metadata": {},
   "outputs": [
    {
     "data": {
      "text/plain": [
       "array([1.00000000e+00, 6.03720081e-33])"
      ]
     },
     "execution_count": 5,
     "metadata": {},
     "output_type": "execute_result"
    }
   ],
   "source": [
    "# oбъясненная дисперсия n массив \n",
    "pca.explained_variance_ratio_ "
   ]
  },
  {
   "cell_type": "code",
   "execution_count": 118,
   "id": "d9c93f2a",
   "metadata": {},
   "outputs": [
    {
     "data": {
      "text/plain": [
       "array([1.00000000e+00, 6.03720081e-33])"
      ]
     },
     "execution_count": 118,
     "metadata": {},
     "output_type": "execute_result"
    }
   ],
   "source": [
    "# объясненная изменчивость отношения:\n",
    "# Процентная дисперсия, объясненная каждым из выбранных компонентов.\n",
    "# Если n_componentsне установлено, то сохраняются все компоненты и сумма коэффициентов равна 1,0\n",
    "\n",
    "pca.explained_variance_ratio_"
   ]
  },
  {
   "cell_type": "code",
   "execution_count": 12,
   "id": "57620513",
   "metadata": {},
   "outputs": [
    {
     "name": "stdout",
     "output_type": "stream",
     "text": [
      "Наиболее значимые компоненты:\n",
      "Компонента 1: [-0.26726124 -0.53452248 -0.80178373]\n",
      "Компонента 2: [-0.16903085  0.84515425 -0.50709255]\n"
     ]
    }
   ],
   "source": [
    "# Определение наиболее значимых компонент\n",
    "most_significant_components = pca.components_\n",
    "print(\"Наиболее значимые компоненты:\")\n",
    "for i, component in enumerate(most_significant_components):\n",
    "    print(f\"Компонента {i+1}: {component}\")"
   ]
  },
  {
   "cell_type": "markdown",
   "id": "02c40e26",
   "metadata": {},
   "source": [
    "#### Анализ выживаемости: Проанализируйте время до отказа для Variable2 с использованием метода анализа выживаемости (например, метод Каплана-Мейера)."
   ]
  },
  {
   "cell_type": "code",
   "execution_count": null,
   "id": "89bbe61e",
   "metadata": {},
   "outputs": [],
   "source": []
  },
  {
   "cell_type": "markdown",
   "id": "4d62426d",
   "metadata": {},
   "source": [
    "#### Проверка нормальности: Проверьте нормальность распределения переменной Variable1 с использованием соответствующего теста (например, тест Шапиро-Уилка)."
   ]
  },
  {
   "cell_type": "code",
   "execution_count": 122,
   "id": "3d363fbc",
   "metadata": {},
   "outputs": [
    {
     "data": {
      "text/plain": [
       "ShapiroResult(statistic=0.9867621660232544, pvalue=0.9671739339828491)"
      ]
     },
     "execution_count": 122,
     "metadata": {},
     "output_type": "execute_result"
    }
   ],
   "source": [
    "stats.shapiro(df.Variable1)"
   ]
  },
  {
   "cell_type": "markdown",
   "id": "a5a675b9",
   "metadata": {},
   "source": [
    "#### Кластерный анализ: Произведите кластерный анализ для всех переменных в датафрейме и определите оптимальное количество кластеров и их характеристики."
   ]
  },
  {
   "cell_type": "code",
   "execution_count": 16,
   "id": "bd67070f",
   "metadata": {},
   "outputs": [
    {
     "data": {
      "image/png": "[encoded data removed]",
      "text/plain": [
       "<Figure size 640x480 with 1 Axes>"
      ]
     },
     "metadata": {},
     "output_type": "display_data"
    }
   ],
   "source": [
    "from sklearn.cluster import KMeans\n",
    "# Подготовка данных\n",
    "# X = ...\n",
    "\n",
    "# Построение графика метода локтя\n",
    "inertias = []\n",
    "k_values = range(1, 5)  # Попробуйте разные значения количества кластеров\n",
    "for k in k_values:\n",
    "    kmeans = KMeans(n_clusters=k)\n",
    "    kmeans.fit(df)\n",
    "    inertias.append(kmeans.inertia_)\n",
    "\n",
    "plt.plot(k_values, inertias, 'bx-')\n",
    "plt.xlabel('Количество кластеров')\n",
    "plt.ylabel('Инерция')\n",
    "plt.title('Метод локтя')\n",
    "plt.show()"
   ]
  },
  {
   "cell_type": "markdown",
   "id": "16b9b2e3",
   "metadata": {},
   "source": [
    "#### Бутстрэп: Примените метод бутстрэп для оценки доверительного интервала среднего значения переменной Variable3."
   ]
  },
  {
   "cell_type": "code",
   "execution_count": 43,
   "id": "f7d4e99f",
   "metadata": {},
   "outputs": [
    {
     "data": {
      "text/plain": [
       "(array([ 5.4, 12.6]), array([ 3.3, 14.7]))"
      ]
     },
     "execution_count": 43,
     "metadata": {},
     "output_type": "execute_result"
    }
   ],
   "source": [
    "iterations = 1000\n",
    "bodstrap_semples = []\n",
    "sample_size = len(df) # размер образца\n",
    "\n",
    "for _ in range(iterations):\n",
    "    sample = np.random.choice(df.Variable3, size= sample_size) # образец\n",
    "    bodstrap_semples.append(sample)\n",
    "    \n",
    "mean = np.mean(bodstrap_semples, axis=1)\n",
    "conf_interval = np.percentile(mean, (2.5, 97.5))\n",
    "# conf_interval\n",
    "\n",
    "conf_interval, np.percentile( df.Variable3, (2.5, 97.5))"
   ]
  },
  {
   "cell_type": "markdown",
   "id": "b9e5e2d8",
   "metadata": {},
   "source": [
    "#### Логистическая регрессия: Постройте логистическую регрессионную модель для предсказания бинарного исхода на основе Variable1 и Variable2. Оцените коэффициенты регрессии и качество модели."
   ]
  },
  {
   "cell_type": "code",
   "execution_count": 58,
   "id": "2d18d537",
   "metadata": {},
   "outputs": [
    {
     "data": {
      "text/plain": [
       "array([0, 0, 1, 1, 1])"
      ]
     },
     "execution_count": 58,
     "metadata": {},
     "output_type": "execute_result"
    }
   ],
   "source": [
    "np.where(df.Variable3 < df.Variable3.mean() , 0, 1)"
   ]
  },
  {
   "cell_type": "code",
   "execution_count": 64,
   "id": "eddf1c50",
   "metadata": {},
   "outputs": [
    {
     "name": "stdout",
     "output_type": "stream",
     "text": [
      "Warning: Maximum number of iterations has been exceeded.\n",
      "         Current function value: 0.000000\n",
      "         Iterations: 35\n"
     ]
    },
    {
     "name": "stderr",
     "output_type": "stream",
     "text": [
      "C:\\Users\\user\\AppData\\Local\\Programs\\Python\\Python310\\lib\\site-packages\\statsmodels\\discrete\\discrete_model.py:227: PerfectSeparationWarning: Perfect separation or prediction detected, parameter may not be identified\n",
      "  warnings.warn(msg, category=PerfectSeparationWarning)\n",
      "C:\\Users\\user\\AppData\\Local\\Programs\\Python\\Python310\\lib\\site-packages\\statsmodels\\base\\model.py:607: ConvergenceWarning: Maximum Likelihood optimization failed to converge. Check mle_retvals\n",
      "  warnings.warn(\"Maximum Likelihood optimization failed to \"\n"
     ]
    }
   ],
   "source": [
    "import statsmodels.api as sm\n",
    "\n",
    "X = sm.add_constant(df.Variable1)\n",
    "y = np.where(df.Variable3 < df.Variable3.mean() , 0, 1)\n",
    "\n",
    "lr = sm.Logit(y, X)\n",
    "res = lr.fit()"
   ]
  },
  {
   "cell_type": "code",
   "execution_count": 66,
   "id": "b5a3b41d",
   "metadata": {},
   "outputs": [
    {
     "data": {
      "text/html": [
       "<table class=\"simpletable\">\n",
       "<caption>Logit Regression Results</caption>\n",
       "<tr>\n",
       "  <th>Dep. Variable:</th>           <td>y</td>        <th>  No. Observations:  </th>   <td>     5</td>   \n",
       "</tr>\n",
       "<tr>\n",
       "  <th>Model:</th>                 <td>Logit</td>      <th>  Df Residuals:      </th>   <td>     3</td>   \n",
       "</tr>\n",
       "<tr>\n",
       "  <th>Method:</th>                 <td>MLE</td>       <th>  Df Model:          </th>   <td>     1</td>   \n",
       "</tr>\n",
       "<tr>\n",
       "  <th>Date:</th>            <td>Sat, 08 Jul 2023</td> <th>  Pseudo R-squ.:     </th>   <td> 1.000</td>   \n",
       "</tr>\n",
       "<tr>\n",
       "  <th>Time:</th>                <td>23:47:45</td>     <th>  Log-Likelihood:    </th> <td>-5.0138e-10</td>\n",
       "</tr>\n",
       "<tr>\n",
       "  <th>converged:</th>             <td>False</td>      <th>  LL-Null:           </th>  <td> -3.3651</td>  \n",
       "</tr>\n",
       "<tr>\n",
       "  <th>Covariance Type:</th>     <td>nonrobust</td>    <th>  LLR p-value:       </th>  <td>0.009480</td>  \n",
       "</tr>\n",
       "</table>\n",
       "<table class=\"simpletable\">\n",
       "<tr>\n",
       "      <td></td>         <th>coef</th>     <th>std err</th>      <th>z</th>      <th>P>|z|</th>  <th>[0.025</th>    <th>0.975]</th>  \n",
       "</tr>\n",
       "<tr>\n",
       "  <th>const</th>     <td> -110.4353</td> <td> 2.23e+05</td> <td>   -0.000</td> <td> 1.000</td> <td>-4.38e+05</td> <td> 4.38e+05</td>\n",
       "</tr>\n",
       "<tr>\n",
       "  <th>Variable1</th> <td>   44.2438</td> <td> 9.07e+04</td> <td>    0.000</td> <td> 1.000</td> <td>-1.78e+05</td> <td> 1.78e+05</td>\n",
       "</tr>\n",
       "</table><br/><br/>Complete Separation: The results show that there iscomplete separation or perfect prediction.<br/>In this case the Maximum Likelihood Estimator does not exist and the parameters<br/>are not identified."
      ],
      "text/latex": [
       "\\begin{center}\n",
       "\\begin{tabular}{lclc}\n",
       "\\toprule\n",
       "\\textbf{Dep. Variable:}   &        y         & \\textbf{  No. Observations:  } &         5    \\\\\n",
       "\\textbf{Model:}           &      Logit       & \\textbf{  Df Residuals:      } &         3    \\\\\n",
       "\\textbf{Method:}          &       MLE        & \\textbf{  Df Model:          } &         1    \\\\\n",
       "\\textbf{Date:}            & Sat, 08 Jul 2023 & \\textbf{  Pseudo R-squ.:     } &     1.000    \\\\\n",
       "\\textbf{Time:}            &     23:47:45     & \\textbf{  Log-Likelihood:    } & -5.0138e-10  \\\\\n",
       "\\textbf{converged:}       &      False       & \\textbf{  LL-Null:           } &    -3.3651   \\\\\n",
       "\\textbf{Covariance Type:} &    nonrobust     & \\textbf{  LLR p-value:       } &   0.009480   \\\\\n",
       "\\bottomrule\n",
       "\\end{tabular}\n",
       "\\begin{tabular}{lcccccc}\n",
       "                   & \\textbf{coef} & \\textbf{std err} & \\textbf{z} & \\textbf{P$> |$z$|$} & \\textbf{[0.025} & \\textbf{0.975]}  \\\\\n",
       "\\midrule\n",
       "\\textbf{const}     &    -110.4353  &     2.23e+05     &    -0.000  &         1.000        &    -4.38e+05    &     4.38e+05     \\\\\n",
       "\\textbf{Variable1} &      44.2438  &     9.07e+04     &     0.000  &         1.000        &    -1.78e+05    &     1.78e+05     \\\\\n",
       "\\bottomrule\n",
       "\\end{tabular}\n",
       "%\\caption{Logit Regression Results}\n",
       "\\end{center}\n",
       "\n",
       "Complete Separation: The results show that there iscomplete separation or perfect prediction. \\newline\n",
       " In this case the Maximum Likelihood Estimator does not exist and the parameters \\newline\n",
       " are not identified."
      ],
      "text/plain": [
       "<class 'statsmodels.iolib.summary.Summary'>\n",
       "\"\"\"\n",
       "                           Logit Regression Results                           \n",
       "==============================================================================\n",
       "Dep. Variable:                      y   No. Observations:                    5\n",
       "Model:                          Logit   Df Residuals:                        3\n",
       "Method:                           MLE   Df Model:                            1\n",
       "Date:                Sat, 08 Jul 2023   Pseudo R-squ.:                   1.000\n",
       "Time:                        23:47:45   Log-Likelihood:            -5.0138e-10\n",
       "converged:                      False   LL-Null:                       -3.3651\n",
       "Covariance Type:            nonrobust   LLR p-value:                  0.009480\n",
       "==============================================================================\n",
       "                 coef    std err          z      P>|z|      [0.025      0.975]\n",
       "------------------------------------------------------------------------------\n",
       "const       -110.4353   2.23e+05     -0.000      1.000   -4.38e+05    4.38e+05\n",
       "Variable1     44.2438   9.07e+04      0.000      1.000   -1.78e+05    1.78e+05\n",
       "==============================================================================\n",
       "\n",
       "Complete Separation: The results show that there iscomplete separation or perfect prediction.\n",
       "In this case the Maximum Likelihood Estimator does not exist and the parameters\n",
       "are not identified.\n",
       "\"\"\""
      ]
     },
     "execution_count": 66,
     "metadata": {},
     "output_type": "execute_result"
    }
   ],
   "source": [
    "res.summary()"
   ]
  },
  {
   "cell_type": "markdown",
   "id": "e60bfbfa",
   "metadata": {},
   "source": [
    "Dep. Variable: y - Обозначает зависимую переменную модели, которая называется \"y\" в данном случае.\n",
    "\n",
    "No. Observations: 5 - Количество наблюдений, использованных для оценки модели.\n",
    "\n",
    "Model: Logit - Использованная модель, в данном случае логистическая регрессия.\n",
    "\n",
    "Df Residuals: 3 - Степени свободы остатков (количество наблюдений минус количество параметров модели).\n",
    "\n",
    "Method: MLE - Метод оценки параметров модели, в данном случае метод максимального правдоподобия.\n",
    "\n",
    "Date: Sat, 08 Jul 2023 - Дата, когда модель была оценена.\n",
    "\n",
    "Pseudo R-squ.: 1.000 - Псевдо R-квадрат, который представляет объясненную долю дисперсии в данных моделью. Значение 1.000 указывает на идеальное соответствие данных модели.\n",
    "\n",
    "Time: 23:47:45 - Время, когда модель была оценена.\n",
    "\n",
    "Log-Likelihood: -5.0138e-10 - Значение логарифма правдоподобия модели.\n",
    "\n",
    "converged: False - Указывает, сходилась ли модель во время оценки. Значение False указывает на то, что модель не сходилась.\n",
    "\n",
    "LL-Null: -3.3651 - Логарифм правдоподобия нулевой модели (модели без предикторов).\n",
    "\n",
    "Covariance Type: nonrobust - Тип ковариационной матрицы, использованной для оценки стандартных ошибок коэффициентов. В данном случае, используется неробастный тип.\n",
    "\n",
    "LLR p-value: 0.009480 - p-значение для теста отношения правдоподобия, который проверяет значимость всей модели по сравнению с нулевой моделью.\n",
    "\n",
    "coef: Коэффициенты модели.\n",
    "\n",
    "std err: Стандартные ошибки коэффициентов модели.\n",
    "\n",
    "z: Значение статистики z, которая вычисляется делением коэффициента на его стандартную ошибку.\n",
    "\n",
    "P>|z|: p-значение для теста нулевой гипотезы о незначимости коэффициента.\n",
    "\n",
    "[0.025 0.975]: Доверительный интервал для коэффициента.\n",
    "\n",
    "Обратите внимание, что значения, которые начинаются с \"const\" и \"Variable1\", представляют коэффициенты для константы и переменной \"Variable1\" в модели логистической регрессии. Столбец \"z\" и \"P>|z|\" указывают на значимость каждого коэффициента с помощью соответствующего p-значения."
   ]
  },
  {
   "cell_type": "code",
   "execution_count": null,
   "id": "4c69bc6f",
   "metadata": {},
   "outputs": [],
   "source": []
  },
  {
   "cell_type": "code",
   "execution_count": null,
   "id": "a86d52f9",
   "metadata": {},
   "outputs": [],
   "source": []
  },
  {
   "cell_type": "code",
   "execution_count": null,
   "id": "f1d91bfb",
   "metadata": {},
   "outputs": [],
   "source": []
  },
  {
   "cell_type": "code",
   "execution_count": null,
   "id": "56313af8",
   "metadata": {},
   "outputs": [],
   "source": []
  },
  {
   "cell_type": "code",
   "execution_count": null,
   "id": "0216534d",
   "metadata": {},
   "outputs": [],
   "source": []
  },
  {
   "cell_type": "code",
   "execution_count": null,
   "id": "4ac4914c",
   "metadata": {},
   "outputs": [],
   "source": []
  },
  {
   "cell_type": "code",
   "execution_count": null,
   "id": "702916a3",
   "metadata": {},
   "outputs": [],
   "source": []
  },
  {
   "cell_type": "code",
   "execution_count": null,
   "id": "2cbe9317",
   "metadata": {},
   "outputs": [],
   "source": []
  },
  {
   "cell_type": "code",
   "execution_count": null,
   "id": "67c264af",
   "metadata": {},
   "outputs": [],
   "source": []
  },
  {
   "cell_type": "code",
   "execution_count": null,
   "id": "cb88133a",
   "metadata": {},
   "outputs": [],
   "source": []
  },
  {
   "cell_type": "code",
   "execution_count": null,
   "id": "49e955da",
   "metadata": {},
   "outputs": [],
   "source": []
  },
  {
   "cell_type": "code",
   "execution_count": null,
   "id": "3e59ed70",
   "metadata": {},
   "outputs": [],
   "source": []
  },
  {
   "cell_type": "code",
   "execution_count": null,
   "id": "ea018d12",
   "metadata": {},
   "outputs": [],
   "source": []
  },
  {
   "cell_type": "code",
   "execution_count": null,
   "id": "bc217917",
   "metadata": {},
   "outputs": [],
   "source": []
  }
 ],
 "metadata": {
  "kernelspec": {
   "display_name": "Python 3 (ipykernel)",
   "language": "python",
   "name": "python3"
  },
  "language_info": {
   "codemirror_mode": {
    "name": "ipython",
    "version": 3
   },
   "file_extension": ".py",
   "mimetype": "text/x-python",
   "name": "python",
   "nbconvert_exporter": "python",
   "pygments_lexer": "ipython3",
   "version": "3.10.4"
  },
  "toc": {
   "base_numbering": 1,
   "nav_menu": {},
   "number_sections": true,
   "sideBar": true,
   "skip_h1_title": false,
   "title_cell": "Table of Contents",
   "title_sidebar": "Contents",
   "toc_cell": false,
   "toc_position": {
    "height": "calc(100% - 180px)",
    "left": "10px",
    "top": "150px",
    "width": "303.542px"
   },
   "toc_section_display": true,
   "toc_window_display": true
  }
 },
 "nbformat": 4,
 "nbformat_minor": 5
}

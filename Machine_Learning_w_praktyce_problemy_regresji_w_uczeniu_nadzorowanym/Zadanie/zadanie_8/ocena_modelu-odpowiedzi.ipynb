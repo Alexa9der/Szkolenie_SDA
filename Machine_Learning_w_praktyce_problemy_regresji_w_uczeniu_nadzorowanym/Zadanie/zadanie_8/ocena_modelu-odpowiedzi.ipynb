{
 "cells": [
  {
   "cell_type": "markdown",
   "metadata": {},
   "source": [
    "## Regresja wielu zmiennych\n",
    "\n",
    "Będziemy tworzyli model regresji liniowej dla cen mieszkań w Poznaniu. Zestaw danych to 5000 aktualnych opisów z serwisu _gratka.pl_.\n",
    "\n",
    "\n",
    "### Dane\n",
    "\n",
    "Plik `gratkapl.csv` zawiera dane, na których należy zbudować model regresyjny.\n",
    "Pierwszy wiersz w pliku to nagłówek zawierający opisy kolumn.\n",
    "\n",
    "* Id - numer porządkowy oferty\n",
    "* Expected - cena mieszkania\n",
    "* Rooms - liczba pokoi\n",
    "* SqrMeters - metraż mieszkania w $m^2$\n",
    "* Floor - piętro\n",
    "* Location - dzielnica lub adres w Poznaniu\n",
    "* Description - fragment opisu mieszkania"
   ]
  },
  {
   "cell_type": "markdown",
   "metadata": {},
   "source": [
    "#### Zadanie 1\n",
    "\n",
    "Zaimplementuj poznane metryki: MAE, MSE oraz RMSE, a następnie porównaj poprawność swoich funkcji z tymi dostępnymi w bibliotece scikit-learn.\n",
    "Dla przypomnienia:\n",
    "\n",
    "$$\\begin{array}{rll} MAE &=& \\dfrac{1}{n} \\displaystyle\\sum_{i=1}^{n} \\left|y_i  - \\hat{y_i}\\right|\n",
    "\\end{array} $$\n",
    "\n",
    "$$\\begin{array}{rll} MSE &=& \\dfrac{1}{n} \\displaystyle\\sum_{i=1}^{n} {\\left(y_i  - \\hat{y_i}\\right)}^2\n",
    "\\end{array} $$\n",
    "\n",
    "$$\\begin{array}{rll} RMSE &=& \\sqrt{\\dfrac{1}{n} \\displaystyle\\sum_{i=1}^{n} {\\left(y_i  - \\hat{y_i}\\right)}^2}\n",
    "\\end{array} $$"
   ]
  },
  {
   "cell_type": "code",
   "execution_count": 6,
   "metadata": {},
   "outputs": [],
   "source": [
    "import numpy as np"
   ]
  },
  {
   "cell_type": "code",
   "execution_count": 8,
   "metadata": {},
   "outputs": [],
   "source": [
    "def mae(y_true, y_pred):\n",
    "    n = y_true.size\n",
    "    return sum(np.abs(y_true - y_pred)) / n"
   ]
  },
  {
   "cell_type": "code",
   "execution_count": 12,
   "metadata": {},
   "outputs": [],
   "source": [
    "def mse(y_true, y_pred):\n",
    "    n = y_true.size\n",
    "    return sum((y_true - y_pred) ** 2) / n"
   ]
  },
  {
   "cell_type": "code",
   "execution_count": 15,
   "metadata": {},
   "outputs": [],
   "source": [
    "from math import sqrt\n",
    "\n",
    "def rmse(y_true, y_pred):\n",
    "    return sqrt(mse(y_true, y_pred))"
   ]
  },
  {
   "cell_type": "code",
   "execution_count": 17,
   "metadata": {},
   "outputs": [],
   "source": [
    "from sklearn.metrics import mean_absolute_error, mean_squared_error\n",
    "\n",
    "y = np.array([100, 103, 30, 28])\n",
    "pred_y = np.array([92, 112, 19, 42])\n",
    "\n",
    "assert mae(y, pred_y) == mean_absolute_error(y, pred_y)\n",
    "assert mse(y, pred_y) == mean_squared_error(y, pred_y)\n",
    "assert rmse(y, pred_y) == mean_squared_error(y, pred_y, squared=False)"
   ]
  },
  {
   "cell_type": "markdown",
   "metadata": {},
   "source": [
    "#### Zadanie 2\n",
    "\n",
    "Dla pierwszych 500 mieszkań stwórz wykres złożony z trzech umieszczonych obok siebie wykresów punktowych ilustrujących po kolei korelację cech liczby pokoi, metrażu i piętra mieszkania z ceną mieszkań. Zadbaj o poprawne tytuły na osiach. Opisz wnioski."
   ]
  },
  {
   "cell_type": "code",
   "execution_count": 20,
   "metadata": {},
   "outputs": [],
   "source": [
    "import matplotlib.pyplot as plt\n",
    "import pandas as pd"
   ]
  },
  {
   "cell_type": "code",
   "execution_count": 24,
   "metadata": {},
   "outputs": [
    {
     "data": {
      "text/html": [
       "<div>\n",
       "<style scoped>\n",
       "    .dataframe tbody tr th:only-of-type {\n",
       "        vertical-align: middle;\n",
       "    }\n",
       "\n",
       "    .dataframe tbody tr th {\n",
       "        vertical-align: top;\n",
       "    }\n",
       "\n",
       "    .dataframe thead th {\n",
       "        text-align: right;\n",
       "    }\n",
       "</style>\n",
       "<table border=\"1\" class=\"dataframe\">\n",
       "  <thead>\n",
       "    <tr style=\"text-align: right;\">\n",
       "      <th></th>\n",
       "      <th>Id</th>\n",
       "      <th>Expected</th>\n",
       "      <th>Rooms</th>\n",
       "      <th>SqrMeters</th>\n",
       "      <th>Floor</th>\n",
       "      <th>Location</th>\n",
       "      <th>Description</th>\n",
       "    </tr>\n",
       "  </thead>\n",
       "  <tbody>\n",
       "    <tr>\n",
       "      <th>0</th>\n",
       "      <td>1</td>\n",
       "      <td>269000</td>\n",
       "      <td>3</td>\n",
       "      <td>55.00</td>\n",
       "      <td>1</td>\n",
       "      <td>PoznaÅ Zawady</td>\n",
       "      <td>Przedmiotem sprzedaÅ¼y jest mieszkanie poÅoÅ¼...</td>\n",
       "    </tr>\n",
       "    <tr>\n",
       "      <th>1</th>\n",
       "      <td>2</td>\n",
       "      <td>320000</td>\n",
       "      <td>3</td>\n",
       "      <td>79.00</td>\n",
       "      <td>10</td>\n",
       "      <td>PoznaÅ Rataje ul. OrÅa Bialego</td>\n",
       "      <td>Na sprzedaÅ¼ duÅ¼e sÅoneczne mieszkanie 3-pok...</td>\n",
       "    </tr>\n",
       "    <tr>\n",
       "      <th>2</th>\n",
       "      <td>3</td>\n",
       "      <td>146000</td>\n",
       "      <td>1</td>\n",
       "      <td>31.21</td>\n",
       "      <td>1</td>\n",
       "      <td>PoznaÅ Nowe Miasto ul. Kawalerka W Nowym Blok...</td>\n",
       "      <td>GorÄ",
       "co zachÄcam do zapoznania siÄ z ofertÄ",
       "...</td>\n",
       "    </tr>\n",
       "    <tr>\n",
       "      <th>3</th>\n",
       "      <td>4</td>\n",
       "      <td>189000</td>\n",
       "      <td>2</td>\n",
       "      <td>44.00</td>\n",
       "      <td>2</td>\n",
       "      <td>PoznaÅ Grunwald Ogrody JeÅ¼yce Centrum Åazar...</td>\n",
       "      <td>BEZPIECZNA TRANSAKCJA JEDYNIE Z DOÅWIADCZONYM...</td>\n",
       "    </tr>\n",
       "    <tr>\n",
       "      <th>4</th>\n",
       "      <td>5</td>\n",
       "      <td>480240</td>\n",
       "      <td>2</td>\n",
       "      <td>65.25</td>\n",
       "      <td>1</td>\n",
       "      <td>PoznaÅ ul. Droga DÄbiÅska 19</td>\n",
       "      <td>NieruchomoÅci Mieszkania NieruchomoÅci Miesz...</td>\n",
       "    </tr>\n",
       "  </tbody>\n",
       "</table>\n",
       "</div>"
      ],
      "text/plain": [
       "   Id  Expected  Rooms  SqrMeters  Floor  \\\n",
       "0   1    269000      3      55.00      1   \n",
       "1   2    320000      3      79.00     10   \n",
       "2   3    146000      1      31.21      1   \n",
       "3   4    189000      2      44.00      2   \n",
       "4   5    480240      2      65.25      1   \n",
       "\n",
       "                                            Location  \\\n",
       "0                                     PoznaÅ Zawady   \n",
       "1                   PoznaÅ Rataje ul. OrÅa Bialego   \n",
       "2  PoznaÅ Nowe Miasto ul. Kawalerka W Nowym Blok...   \n",
       "3  PoznaÅ Grunwald Ogrody JeÅ¼yce Centrum Åazar...   \n",
       "4                    PoznaÅ ul. Droga DÄbiÅska 19   \n",
       "\n",
       "                                         Description  \n",
       "0  Przedmiotem sprzedaÅ¼y jest mieszkanie poÅoÅ¼...  \n",
       "1  Na sprzedaÅ¼ duÅ¼e sÅoneczne mieszkanie 3-pok...  \n",
       "2  GorÄ\n",
       "co zachÄcam do zapoznania siÄ z ofertÄ\n",
       "...  \n",
       "3  BEZPIECZNA TRANSAKCJA JEDYNIE Z DOÅWIADCZONYM...  \n",
       "4  NieruchomoÅci Mieszkania NieruchomoÅci Miesz...  "
      ]
     },
     "execution_count": 24,
     "metadata": {},
     "output_type": "execute_result"
    }
   ],
   "source": [
    "df = pd.read_csv(\"gratkapl.csv\", encoding='unicode_escape')\n",
    "df.head()"
   ]
  },
  {
   "cell_type": "code",
   "execution_count": 38,
   "metadata": {},
   "outputs": [
    {
     "data": {
      "image/png": "[encoded data removed]",
      "text/plain": [
       "<Figure size 1080x720 with 4 Axes>"
      ]
     },
     "metadata": {
      "needs_background": "light"
     },
     "output_type": "display_data"
    }
   ],
   "source": [
    "def plot_points(ax, dataframe, x_label, y_label, color):\n",
    "    ax.scatter(x=dataframe[x_label], y=dataframe[y_label], c=color)\n",
    "    ax.set_xlabel(x_label)\n",
    "    ax.set_ylabel(y_label)\n",
    "\n",
    "\n",
    "fig, axs = plt.subplots(2, 2, figsize=(15, 10))\n",
    "plot_points(axs[0, 0], df.head(500), \"Rooms\", \"Expected\", \"red\")\n",
    "plot_points(axs[0, 1], df.head(500), \"SqrMeters\", \"Expected\", \"blue\")\n",
    "plot_points(axs[1, 0], df.head(500), \"Floor\", \"Expected\", \"green\")\n",
    "axs[1, 1].set_visible(False)\n",
    "fig.tight_layout()"
   ]
  },
  {
   "cell_type": "markdown",
   "metadata": {},
   "source": [
    "Największe zróżnicowanie pomiędzy liczbą pokoi, a ceną występuje w przypadku mieszkań dwu- i trzypokojowych, a najmniejszy - dla sześciopokojowych. Generalnie widzimy wzrost ceny mieszkania wraz ze wzrostem liczby pokoi.\n",
    "\n",
    "Wraz ze wzrostem metrażu mieszkania, rośnie też jego cena. Zależność bez wątpienia można nazwać liniową. Najwięcej mieszkań ma od 25 do 70 metrów kwadratowych.\n",
    "\n",
    "Co więcej, widzimy, że im wyższe piętro, tym mniejsze zróżnicowanie w cenie mieszkań, możemy przypuszczać, że mieszkań na niższych piętrach jest więcej, a cena w głównej mierze zależy od innych czynników."
   ]
  },
  {
   "cell_type": "markdown",
   "metadata": {},
   "source": [
    "#### Zadanie 3\n",
    "\n",
    "W dalszej części będziemy wykorzystywać jedynie zmienne numeryczne, tj. powierzchnię, numer piętra i liczbę pokoi. \n",
    "Podziel dane na zbiór uczący i testowy, zbuduj dwa modele regresyjne: linowy i drzewo decyzyjne, a następnie porównaj ich skuteczność korzystając z wybranej metryki."
   ]
  },
  {
   "cell_type": "code",
   "execution_count": 42,
   "metadata": {},
   "outputs": [],
   "source": [
    "from sklearn.linear_model import LinearRegression\n",
    "from sklearn.tree import DecisionTreeRegressor\n",
    "from sklearn.model_selection import train_test_split\n",
    "from sklearn.metrics import mean_squared_error"
   ]
  },
  {
   "cell_type": "code",
   "execution_count": 122,
   "metadata": {},
   "outputs": [],
   "source": [
    "X = df[['Rooms', 'SqrMeters', 'Floor']]\n",
    "y = df['Expected']\n",
    "\n",
    "X_train, X_test, y_train, y_test = train_test_split(X, y, test_size=0.2, random_state=42)"
   ]
  },
  {
   "cell_type": "code",
   "execution_count": 44,
   "metadata": {},
   "outputs": [],
   "source": [
    "model_lr = LinearRegression()\n",
    "model_lr.fit(X_train, y_train)\n",
    "y_pred_lr = model_lr.predict(X_test)"
   ]
  },
  {
   "cell_type": "code",
   "execution_count": 45,
   "metadata": {},
   "outputs": [],
   "source": [
    "model_dt = DecisionTreeRegressor()\n",
    "model_dt.fit(X_train, y_train)\n",
    "y_pred_dt = model_dt.predict(X_test)"
   ]
  },
  {
   "cell_type": "code",
   "execution_count": 115,
   "metadata": {},
   "outputs": [
    {
     "name": "stdout",
     "output_type": "stream",
     "text": [
      "Dla regresji liniowej wartość RMSE wynosi: 1329538.8120486455\n",
      "Dla drzewa decyzyjnego wartość RMSE wynosi: 1755856.9036164316\n"
     ]
    }
   ],
   "source": [
    "print(f\"Dla regresji liniowej wartość RMSE wynosi: {mean_squared_error(y_test, y_pred_lr, squared=False)}\")\n",
    "print(f\"Dla drzewa decyzyjnego wartość RMSE wynosi: {mean_squared_error(y_test, y_pred_dt, squared=False)}\")"
   ]
  },
  {
   "cell_type": "markdown",
   "metadata": {},
   "source": [
    "Dla regresji liniowej udało uzyskać się wynik niższy pod względem RMSE, więc jest to lepszy model w tym przypadku."
   ]
  },
  {
   "cell_type": "markdown",
   "metadata": {},
   "source": [
    "#### Zadanie 4\n",
    "\n",
    "Podziel dane na 3 zbiory: uczący, walidacyjny i testowy. Dla modelu drzewa decyzyjnego przetestuj różne wartości parametru `min_samples_split` ewaluując model na zbiorze walidacyjnym. Narysuj wykres jak wartość tego parametru wpływa na wartość wybranej metryki na zbiorze treningowym i walidacyjnym, a następnie wybierz optymalną wartość, policz wybraną metrykę dla zbioru testowego i porównaj z wynikiem otrzymanym w *Zadaniu 3*."
   ]
  },
  {
   "cell_type": "code",
   "execution_count": 123,
   "metadata": {},
   "outputs": [],
   "source": [
    "X_train, X_test, y_train, y_test = train_test_split(X, y, test_size=0.2, random_state=42)\n",
    "X_train, X_val, y_train, y_val = train_test_split(X_train, y_train, test_size=0.25, random_state=42) # 0.25 x 0.8 = 0.2"
   ]
  },
  {
   "cell_type": "code",
   "execution_count": 124,
   "metadata": {},
   "outputs": [],
   "source": [
    "def train_model(train_X, train_y, val_X, val_y, k):\n",
    "    model = DecisionTreeRegressor(min_samples_split=k)\n",
    "    model.fit(train_X, train_y)\n",
    "    pred_train_y = model.predict(train_X)\n",
    "    pred_val_y = model.predict(val_X)\n",
    "    return mean_squared_error(train_y, pred_train_y, squared=False), \\\n",
    "            mean_squared_error(val_y, pred_val_y, squared=False)"
   ]
  },
  {
   "cell_type": "code",
   "execution_count": 125,
   "metadata": {},
   "outputs": [],
   "source": [
    "min_samples_split_options = [2, 3, 5, 10]"
   ]
  },
  {
   "cell_type": "code",
   "execution_count": 126,
   "metadata": {},
   "outputs": [],
   "source": [
    "train_metrics = []\n",
    "val_metrics = []\n",
    "for option in min_samples_split_options:\n",
    "    train_score, val_score = train_model(X_train, y_train, X_val, y_val, option)\n",
    "    train_metrics.append(train_score)\n",
    "    val_metrics.append(val_score)"
   ]
  },
  {
   "cell_type": "code",
   "execution_count": 127,
   "metadata": {},
   "outputs": [
    {
     "data": {
      "image/png": "[encoded data removed]",
      "text/plain": [
       "<Figure size 1440x720 with 1 Axes>"
      ]
     },
     "metadata": {
      "needs_background": "light"
     },
     "output_type": "display_data"
    }
   ],
   "source": [
    "plt.figure(figsize=(20, 10))\n",
    "plt.plot(min_samples_split_options, train_metrics, label=\"train score\")\n",
    "plt.plot(min_samples_split_options, val_metrics, label=\"val score\")\n",
    "plt.xlabel(\"min_samples_split\")\n",
    "plt.xticks(range(1, 11, 1))\n",
    "plt.ylabel(\"score\")\n",
    "plt.legend(loc='best')\n",
    "plt.show()"
   ]
  },
  {
   "cell_type": "markdown",
   "metadata": {},
   "source": [
    "Widzimy, że dla parametru `min_samples_split` równym 2 otrzymujemy najniższą (a więc najlepszą) wartość RMSE na zbiorze treningowym. Zmian wartości metryki na zbiorze walidacyjnym nie sposób odczytać na tym wykresie - zmiany te są na tyle małe, że na tej skali wydają się jednakowe. Ustalmy więc wartość tego parametru na 2, wytrenujmy model raz jeszcze na zbiorze treningowym z tą wartością i sprawdźmy wynik uzyskany na zbiorze testowym."
   ]
  },
  {
   "cell_type": "code",
   "execution_count": 128,
   "metadata": {},
   "outputs": [
    {
     "name": "stdout",
     "output_type": "stream",
     "text": [
      "1332183.9834064555\n"
     ]
    }
   ],
   "source": [
    "model = DecisionTreeRegressor(min_samples_split=2)\n",
    "model.fit(X_train, y_train)\n",
    "y_pred = model.predict(X_test)\n",
    "print(mean_squared_error(y_test, y_pred, squared=False))"
   ]
  },
  {
   "cell_type": "markdown",
   "metadata": {},
   "source": [
    "Faktycznie otrzymaliśmy lepszy rezultat niż wcześniej, ale nie jest to do końca nasza zasługa - parametr `min_samples_split` domyślnie przyjmuje wartość 2. Różnica polega na innym podziale zbioru danych - w tym przypadku część danych z poprzedniego zbioru treningowego trafiła do walidacyjnego - być może w ten sposób pozbyliśmy się z danych uczących wartości odstających, więc łatwiej modelowi nauczyć się zależności."
   ]
  },
  {
   "cell_type": "markdown",
   "metadata": {},
   "source": [
    "#### Zadanie 5\n",
    "\n",
    "Przetestuj różne wartosci parametru `min_samples_split` raz jeszcze, tym razem przy użyciu walidacji krzyżowej. Po dobraniu odpowiedniej wartości przetrenuj jeszcze raz model na zbiorze treningowym, a następnie porównaj wartość metryki na zbiorze testowym z poprzednimi rezultatami. Czy wynik jest podobny, czy w obu przypadkach optymalna okazała się ta sama wartość parametru?"
   ]
  },
  {
   "cell_type": "code",
   "execution_count": 129,
   "metadata": {},
   "outputs": [],
   "source": [
    "from sklearn.model_selection import KFold"
   ]
  },
  {
   "cell_type": "code",
   "execution_count": 130,
   "metadata": {},
   "outputs": [],
   "source": [
    "def train_model_cv(train_X, train_y, test_X, test_y, k):\n",
    "    model = DecisionTreeRegressor(min_samples_split=k)\n",
    "    model.fit(train_X, train_y)\n",
    "    pred_y = model.predict(test_X)\n",
    "    return mean_squared_error(test_y, pred_y, squared=False)"
   ]
  },
  {
   "cell_type": "code",
   "execution_count": 131,
   "metadata": {},
   "outputs": [],
   "source": [
    "min_samples_split_options = [2, 3, 5, 10]"
   ]
  },
  {
   "cell_type": "code",
   "execution_count": 132,
   "metadata": {},
   "outputs": [],
   "source": [
    "test_scores = []\n",
    "for option in min_samples_split_options:\n",
    "    cv = KFold(n_splits=5, shuffle=True, random_state=42)\n",
    "    score = []\n",
    "    for train, test in cv.split(X, y):\n",
    "        X_train_cv, y_train_cv = X.iloc[train], y.iloc[train]\n",
    "        X_test_cv, y_test_cv = X.iloc[test], y.iloc[test]\n",
    "        score.append(train_model_cv(X_train_cv, y_train_cv, X_test_cv, y_test_cv, option))\n",
    "    test_scores.append(sum(score) / len(score))"
   ]
  },
  {
   "cell_type": "code",
   "execution_count": 133,
   "metadata": {},
   "outputs": [
    {
     "data": {
      "image/png": "[encoded data removed]",
      "text/plain": [
       "<Figure size 1440x720 with 1 Axes>"
      ]
     },
     "metadata": {
      "needs_background": "light"
     },
     "output_type": "display_data"
    }
   ],
   "source": [
    "plt.figure(figsize=(20, 10))\n",
    "plt.plot(min_samples_split_options, test_scores)\n",
    "plt.xlabel(\"min_samples_split\")\n",
    "plt.xticks(range(1, 11, 1))\n",
    "plt.ylabel(\"score\")\n",
    "plt.show()"
   ]
  },
  {
   "cell_type": "markdown",
   "metadata": {},
   "source": [
    "Widzimy, że najlepszą wartość uzyskaliśmy dla parametru równego 10, sprawdźmy jak zachowa się model wytrenowanym na zbiorze treningowym z tą wartością i ewaluowany na zbiorze testowym."
   ]
  },
  {
   "cell_type": "code",
   "execution_count": 134,
   "metadata": {},
   "outputs": [
    {
     "name": "stdout",
     "output_type": "stream",
     "text": [
      "1328852.4628279328\n"
     ]
    }
   ],
   "source": [
    "model = DecisionTreeRegressor(min_samples_split=10)\n",
    "model.fit(X_train, y_train)\n",
    "y_pred = model.predict(X_test)\n",
    "print(mean_squared_error(y_test, y_pred, squared=False))"
   ]
  },
  {
   "cell_type": "markdown",
   "metadata": {},
   "source": [
    "Tym razem przy wybieraniu wartości parametru kierowaliśmy się jedynie wartością metryki uzyskaną npodczas walidacji, nie trenowania. Wybraliśmy inną wartość parametru i ona doprowadziła nas do lepszego wyniku na zbiorze testowym."
   ]
  }
 ],
 "metadata": {
  "kernelspec": {
   "display_name": "lin_reg_venv",
   "language": "python",
   "name": "lin_reg_venv"
  },
  "language_info": {
   "codemirror_mode": {
    "name": "ipython",
    "version": 3
   },
   "file_extension": ".py",
   "mimetype": "text/x-python",
   "name": "python",
   "nbconvert_exporter": "python",
   "pygments_lexer": "ipython3",
   "version": "3.7.3"
  }
 },
 "nbformat": 4,
 "nbformat_minor": 2
}

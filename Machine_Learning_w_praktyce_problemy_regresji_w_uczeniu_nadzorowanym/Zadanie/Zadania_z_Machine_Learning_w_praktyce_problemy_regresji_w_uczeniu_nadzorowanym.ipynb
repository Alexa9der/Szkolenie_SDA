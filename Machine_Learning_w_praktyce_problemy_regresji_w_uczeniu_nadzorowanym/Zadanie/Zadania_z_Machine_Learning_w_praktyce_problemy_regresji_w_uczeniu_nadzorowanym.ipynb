{
 "cells": [
  {
   "cell_type": "markdown",
   "id": "561a77e7",
   "metadata": {},
   "source": [
    "# Zadanie\n",
    "Jakiego rodzaju algorytmu uczenia maszynowego i dlaczego użyłabyś/użyłbyś w robocie przeznaczonym do poruszania się po nieznanym terenie?"
   ]
  },
  {
   "cell_type": "markdown",
   "id": "9c45e17e",
   "metadata": {},
   "source": [
    "# Zadanie\n",
    "Jakiego rodzaju algorytmu uczenia maszynowego użyłabyś/użyłbyś do rozdzielenia klientów na kilka różnych grup?"
   ]
  },
  {
   "cell_type": "markdown",
   "id": "5c31952f",
   "metadata": {},
   "source": [
    "# Zadanie\n",
    "Czy problem przyporządkowania dokumentom na Twoim komputerze nazw grup, do których należą, np. Faktura, Rachunek, Lista zakupów, Prezentacja, itd., stanowi część mechanizmu uczenia nadzorowanego czy nienadzorowanego?"
   ]
  },
  {
   "cell_type": "markdown",
   "id": "8cb31f28",
   "metadata": {},
   "source": [
    "# Zadanie\n",
    "Określ prawdziwość poniższych zdań:\n",
    "\n",
    "* Przewidywanie, że dana transakcja wykonana kartą kredytową jest oszustwem, jest przykładem problemu uczenia nadzorowanego.\n",
    "* Przewidywanie prawdopodobieństwa, z jakim użytkownik kliknie w baner reklamowy na stronie, jest problemem regresji, a więc przykładem problemu uczenia bez nadzoru.\n",
    "* Aplikacja (sprawdź sam! - https://symptomate.com/), która na podstawie odpowiedzi na pytania w kwestionariuszu chorego podaje informację, na co może być chory i do jakiego specjalisty powinien się udać, bezsprzecznie korzysta z dobrodziejstw uczenia z nadzorem."
   ]
  },
  {
   "cell_type": "markdown",
   "id": "93c22387",
   "metadata": {},
   "source": [
    "# Zadanie\n",
    "\n",
    "Wyobraź sobie, że chcesz stworzyć model uczenia nadzorowanego, który będzie przewidywał czy e-mail, który właśnie wpadł do Twojej skrzynki jest spamem czy też nie. Które stwierdzenia są prawdziwe?\n",
    "\n",
    "1. Słowa w temacie wiadomości będą świetnymi etykietami.\n",
    "2. Etykiety w niektórych przykładach mogą być niewiarygodne.\n",
    "3. Wiadomości, które nie zostały oznaczone ani jako „spam”, ani jako „nie-spam” są nieoetykietowanymi przykładami.\n",
    "4. Do wytrenowania modelu użyjemy nieoetykietowanych przykładów."
   ]
  },
  {
   "cell_type": "markdown",
   "id": "7d7d744d",
   "metadata": {},
   "source": [
    "# Zadanie \n",
    "Sklep on-line z butami chce stworzyć model uczenia z nadzorem, który będzie wyświetlał użytkownikom spersonalizowane propozycje produktów do zakupu. To znaczy, że inne buty zaproponuje Markowi, a inne Janinie. System będzie używał informacji o poprzednich decyzjach zakupowych danego użytkownika Które stwierdzenia są prawdziwe?\n",
    "\n",
    "1. Cecha „Buty, które użytkownik uwielbia” będzie świetną etykietą.\n",
    "2. Rozmiar buta będzie użyteczną cechą.\n",
    "3. Piękno tego buta również będzie przydatną cechą przy trenowaniu modelu.\n",
    "4. Cecha „użytkownik kliknął w zdjęcie tego obuwia, by poznać szczegóły” będzie sensowną etykietą."
   ]
  },
  {
   "cell_type": "markdown",
   "id": "c63a2f74",
   "metadata": {},
   "source": [
    "# Zadanie 7\n",
    "Wyobraź sobie, że chcesz stworzyć model, który na podstawie informacji pobranych ze strony ogłoszeniowej będzie w stanie przewidzieć, ile powinno kosztować mieszkanie, w którym mieszkasz. Jaki jest to rodzaj uczenia maszynowego? Przejrzyj popularne strony internetowe i zastanów się, które cechy byłyby przydatne w tego typu problemie."
   ]
  },
  {
   "cell_type": "markdown",
   "id": "a80d0cf7",
   "metadata": {},
   "source": [
    "# Zadanie 8\n",
    "Zajrzyj pod linki na ostatnim slajdzie do prezentacji, tam znajdziesz jeszcze więcej ciekawych przykładów!\n",
    "\n",
    "*Poniżej znajdziesz pliki do pobrania w celu wykonania zadań z zakresu problemów regresji w uczeniu nadzorowanym.\n",
    "\n",
    "1. [regresja.ipynb](http://localhost:8888/notebooks/Desktop/Data%20Science/SDA/SDA%20szkolenie/Machine_Learning_w_praktyce_problemy_regresji_w_uczeniu_nadzorowanym/Zadanie/zadanie_8/regresja.ipynb) to Jupyter notatnik, w którym znajdziesz zadania do rozwiązania, rozwiąż je właśnie w tym notatniku\n",
    "2. [regresja-odpowiedzi.ipynb](http://localhost:8888/notebooks/Desktop/Data%20Science/SDA/SDA%20szkolenie/Machine_Learning_w_praktyce_problemy_regresji_w_uczeniu_nadzorowanym/Zadanie/zadanie_8/regresja-odpowiedzi.ipynb) to wyżej wspomniany notebook z naszymi propozycjami rozwiązania zadań\n",
    "Dodatkowo:\n",
    "\n",
    "* pakiety, które powinieneś zainstalować w wirtualnym środowisku to:\n",
    "    * ipykernel\n",
    "    * matplotlib\n",
    "    * ipywidgets\n",
    "    * pandas\n",
    "    * jupyter\n",
    "* [fires_thefts.csv](http://localhost:8888/edit/Desktop/Data%20Science/SDA/SDA%20szkolenie/Machine_Learning_w_praktyce_problemy_regresji_w_uczeniu_nadzorowanym/Zadanie/zadanie_8/fires_thefts.csv) zawiera dane potrzebne do rozwiązania zadań\n",
    "Poniżej znajdziesz pliki do pobrania w celu wykonania zadań z zakresu metod ocen modelu.\n",
    "\n",
    "1. [ocena_modelu.ipynb](http://localhost:8888/notebooks/Desktop/Data%20Science/SDA/SDA%20szkolenie/Machine_Learning_w_praktyce_problemy_regresji_w_uczeniu_nadzorowanym/Zadanie/zadanie_8/ocena_modelu.ipynb) to Jupyter notatnik, w którym znajdziesz zadania do rozwiązania, rozwiąż je właśnie w tym notatniku\n",
    "2. [ocena_modelu-odpowiedzi.ipynb](http://localhost:8888/notebooks/Desktop/Data%20Science/SDA/SDA%20szkolenie/Machine_Learning_w_praktyce_problemy_regresji_w_uczeniu_nadzorowanym/Zadanie/zadanie_8/ocena_modelu-odpowiedzi.ipynb) to wyżej wspomniany notebook z naszymi propozycjami rozwiązania zadań\n",
    "Dodatkowo:\n",
    "\n",
    "[gratkapl.csv](http://localhost:8888/edit/Desktop/Data%20Science/SDA/SDA%20szkolenie/Machine_Learning_w_praktyce_problemy_regresji_w_uczeniu_nadzorowanym/Zadanie/zadanie_8/gratkapl.csv) zawiera dane potrzebne do rozwiązania zadań\n",
    "Życzymy owocnej pracy z zadaniami!"
   ]
  },
  {
   "cell_type": "markdown",
   "id": "b9683d6c",
   "metadata": {},
   "source": []
  }
 ],
 "metadata": {
  "kernelspec": {
   "display_name": "Python 3 (ipykernel)",
   "language": "python",
   "name": "python3"
  },
  "language_info": {
   "codemirror_mode": {
    "name": "ipython",
    "version": 3
   },
   "file_extension": ".py",
   "mimetype": "text/x-python",
   "name": "python",
   "nbconvert_exporter": "python",
   "pygments_lexer": "ipython3",
   "version": "3.10.4"
  },
  "toc": {
   "base_numbering": 1,
   "nav_menu": {},
   "number_sections": true,
   "sideBar": true,
   "skip_h1_title": false,
   "title_cell": "Table of Contents",
   "title_sidebar": "Contents",
   "toc_cell": false,
   "toc_position": {},
   "toc_section_display": true,
   "toc_window_display": true
  }
 },
 "nbformat": 4,
 "nbformat_minor": 5
}

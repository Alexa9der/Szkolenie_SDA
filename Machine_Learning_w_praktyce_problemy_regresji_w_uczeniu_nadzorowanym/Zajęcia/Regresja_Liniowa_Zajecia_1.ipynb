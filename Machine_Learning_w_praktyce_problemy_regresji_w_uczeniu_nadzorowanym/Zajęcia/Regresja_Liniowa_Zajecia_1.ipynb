{
 "cells": [
  {
   "cell_type": "markdown",
   "metadata": {},
   "source": [
    "[Regresja Liniowa Zajecia ZDDATAPOL44.ipynb](https://colab.research.google.com/drive/1duNk2Ga3pp_EJZqw-7GNZGH4M-aPDAta?usp=sharing)"
   ]
  },
  {
   "cell_type": "code",
   "execution_count": null,
   "metadata": {
    "code_folding": [
     4
    ],
    "id": "waqEj9QUEBUu"
   },
   "outputs": [],
   "source": [
    "import pandas as pd\n",
    "import numpy as np\n",
    "import matplotlib.pyplot as plt\n",
    "\n",
    "# from google.colab import files\n",
    "# import io"
   ]
  },
  {
   "cell_type": "code",
   "execution_count": 1,
   "metadata": {
    "code_folding": [],
    "colab": {
     "base_uri": "https://localhost:8080/",
     "height": 73
    },
    "id": "0tRS6z2tFBVs",
    "outputId": "78c8d17d-626d-4ec5-9436-7a6b7e0d8969"
   },
   "outputs": [],
   "source": [
    "# uploaded = files.upload()"
   ]
  },
  {
   "cell_type": "markdown",
   "metadata": {
    "id": "tS_UIKi7Pgow"
   },
   "source": [
    "### Gradient Descent (wlasna funkcja)"
   ]
  },
  {
   "cell_type": "code",
   "execution_count": null,
   "metadata": {
    "id": "k_qP4800FFeZ"
   },
   "outputs": [],
   "source": [
    "# Wczytanie danych\n",
    "df = pd.read_csv('portland.csv', header=None)\n",
    "df.columns = (['Size','Bedroom','Price'])\n",
    "df = df.drop('Bedroom', axis=1)"
   ]
  },
  {
   "cell_type": "code",
   "execution_count": null,
   "metadata": {
    "colab": {
     "base_uri": "https://localhost:8080/",
     "height": 206
    },
    "id": "HUvp2Uu4Fa0E",
    "outputId": "e42d6ce2-1460-4aff-d319-79d7c5bd55d7"
   },
   "outputs": [
    {
     "data": {
      "text/html": [
       "\n",
       "  <div id=\"df-b012ba26-acc1-4293-96dc-c8cdae661ba9\">\n",
       "    <div class=\"colab-df-container\">\n",
       "      <div>\n",
       "<style scoped>\n",
       "    .dataframe tbody tr th:only-of-type {\n",
       "        vertical-align: middle;\n",
       "    }\n",
       "\n",
       "    .dataframe tbody tr th {\n",
       "        vertical-align: top;\n",
       "    }\n",
       "\n",
       "    .dataframe thead th {\n",
       "        text-align: right;\n",
       "    }\n",
       "</style>\n",
       "<table border=\"1\" class=\"dataframe\">\n",
       "  <thead>\n",
       "    <tr style=\"text-align: right;\">\n",
       "      <th></th>\n",
       "      <th>Size</th>\n",
       "      <th>Price</th>\n",
       "    </tr>\n",
       "  </thead>\n",
       "  <tbody>\n",
       "    <tr>\n",
       "      <th>0</th>\n",
       "      <td>2104</td>\n",
       "      <td>399900</td>\n",
       "    </tr>\n",
       "    <tr>\n",
       "      <th>1</th>\n",
       "      <td>1600</td>\n",
       "      <td>329900</td>\n",
       "    </tr>\n",
       "    <tr>\n",
       "      <th>2</th>\n",
       "      <td>2400</td>\n",
       "      <td>369000</td>\n",
       "    </tr>\n",
       "    <tr>\n",
       "      <th>3</th>\n",
       "      <td>1416</td>\n",
       "      <td>232000</td>\n",
       "    </tr>\n",
       "    <tr>\n",
       "      <th>4</th>\n",
       "      <td>3000</td>\n",
       "      <td>539900</td>\n",
       "    </tr>\n",
       "  </tbody>\n",
       "</table>\n",
       "</div>\n",
       "      <button class=\"colab-df-convert\" onclick=\"convertToInteractive('df-b012ba26-acc1-4293-96dc-c8cdae661ba9')\"\n",
       "              title=\"Convert this dataframe to an interactive table.\"\n",
       "              style=\"display:none;\">\n",
       "        \n",
       "  <svg xmlns=\"http://www.w3.org/2000/svg\" height=\"24px\"viewBox=\"0 0 24 24\"\n",
       "       width=\"24px\">\n",
       "    <path d=\"M0 0h24v24H0V0z\" fill=\"none\"/>\n",
       "    <path d=\"M18.56 5.44l.94 2.06.94-2.06 2.06-.94-2.06-.94-.94-2.06-.94 2.06-2.06.94zm-11 1L8.5 8.5l.94-2.06 2.06-.94-2.06-.94L8.5 2.5l-.94 2.06-2.06.94zm10 10l.94 2.06.94-2.06 2.06-.94-2.06-.94-.94-2.06-.94 2.06-2.06.94z\"/><path d=\"M17.41 7.96l-1.37-1.37c-.4-.4-.92-.59-1.43-.59-.52 0-1.04.2-1.43.59L10.3 9.45l-7.72 7.72c-.78.78-.78 2.05 0 2.83L4 21.41c.39.39.9.59 1.41.59.51 0 1.02-.2 1.41-.59l7.78-7.78 2.81-2.81c.8-.78.8-2.07 0-2.86zM5.41 20L4 18.59l7.72-7.72 1.47 1.35L5.41 20z\"/>\n",
       "  </svg>\n",
       "      </button>\n",
       "      \n",
       "  <style>\n",
       "    .colab-df-container {\n",
       "      display:flex;\n",
       "      flex-wrap:wrap;\n",
       "      gap: 12px;\n",
       "    }\n",
       "\n",
       "    .colab-df-convert {\n",
       "      background-color: #E8F0FE;\n",
       "      border: none;\n",
       "      border-radius: 50%;\n",
       "      cursor: pointer;\n",
       "      display: none;\n",
       "      fill: #1967D2;\n",
       "      height: 32px;\n",
       "      padding: 0 0 0 0;\n",
       "      width: 32px;\n",
       "    }\n",
       "\n",
       "    .colab-df-convert:hover {\n",
       "      background-color: #E2EBFA;\n",
       "      box-shadow: 0px 1px 2px rgba(60, 64, 67, 0.3), 0px 1px 3px 1px rgba(60, 64, 67, 0.15);\n",
       "      fill: #174EA6;\n",
       "    }\n",
       "\n",
       "    [theme=dark] .colab-df-convert {\n",
       "      background-color: #3B4455;\n",
       "      fill: #D2E3FC;\n",
       "    }\n",
       "\n",
       "    [theme=dark] .colab-df-convert:hover {\n",
       "      background-color: #434B5C;\n",
       "      box-shadow: 0px 1px 3px 1px rgba(0, 0, 0, 0.15);\n",
       "      filter: drop-shadow(0px 1px 2px rgba(0, 0, 0, 0.3));\n",
       "      fill: #FFFFFF;\n",
       "    }\n",
       "  </style>\n",
       "\n",
       "      <script>\n",
       "        const buttonEl =\n",
       "          document.querySelector('#df-b012ba26-acc1-4293-96dc-c8cdae661ba9 button.colab-df-convert');\n",
       "        buttonEl.style.display =\n",
       "          google.colab.kernel.accessAllowed ? 'block' : 'none';\n",
       "\n",
       "        async function convertToInteractive(key) {\n",
       "          const element = document.querySelector('#df-b012ba26-acc1-4293-96dc-c8cdae661ba9');\n",
       "          const dataTable =\n",
       "            await google.colab.kernel.invokeFunction('convertToInteractive',\n",
       "                                                     [key], {});\n",
       "          if (!dataTable) return;\n",
       "\n",
       "          const docLinkHtml = 'Like what you see? Visit the ' +\n",
       "            '<a target=\"_blank\" href=https://colab.research.google.com/notebooks/data_table.ipynb>data table notebook</a>'\n",
       "            + ' to learn more about interactive tables.';\n",
       "          element.innerHTML = '';\n",
       "          dataTable['output_type'] = 'display_data';\n",
       "          await google.colab.output.renderOutput(dataTable, element);\n",
       "          const docLink = document.createElement('div');\n",
       "          docLink.innerHTML = docLinkHtml;\n",
       "          element.appendChild(docLink);\n",
       "        }\n",
       "      </script>\n",
       "    </div>\n",
       "  </div>\n",
       "  "
      ],
      "text/plain": [
       "   Size   Price\n",
       "0  2104  399900\n",
       "1  1600  329900\n",
       "2  2400  369000\n",
       "3  1416  232000\n",
       "4  3000  539900"
      ]
     },
     "execution_count": 8,
     "metadata": {},
     "output_type": "execute_result"
    }
   ],
   "source": [
    "df.head()"
   ]
  },
  {
   "cell_type": "code",
   "execution_count": null,
   "metadata": {
    "colab": {
     "base_uri": "https://localhost:8080/",
     "height": 430
    },
    "id": "Tz79uClQGD3I",
    "outputId": "0940038e-c3e5-46ea-ae8e-01181d7a6dbe"
   },
   "outputs": [
    {
     "data": {
      "image/png": "[encoded data removed]",
      "text/plain": [
       "<Figure size 640x480 with 1 Axes>"
      ]
     },
     "metadata": {},
     "output_type": "display_data"
    }
   ],
   "source": [
    "# Plot\n",
    "plt.plot(df.Size, df.Price, 'o')\n",
    "plt.show()"
   ]
  },
  {
   "cell_type": "code",
   "execution_count": null,
   "metadata": {
    "colab": {
     "base_uri": "https://localhost:8080/",
     "height": 445
    },
    "id": "OzmdFAwIGRYd",
    "outputId": "b9607abd-e449-46f3-8365-9b29d17445fe"
   },
   "outputs": [
    {
     "data": {
      "image/png": "[encoded data removed]",
      "text/plain": [
       "<Figure size 640x480 with 1 Axes>"
      ]
     },
     "metadata": {},
     "output_type": "display_data"
    }
   ],
   "source": [
    "# Zaczynam od losowych wartosc theta0=10000 i theta1=500\n",
    "plt.plot(df.Size, df.Price, 'o')\n",
    "plt.plot(df.Size, 10000 + df.Size*500, 'r')\n",
    "plt.show()"
   ]
  },
  {
   "cell_type": "code",
   "execution_count": null,
   "metadata": {
    "id": "FHaWrBaNGxWR"
   },
   "outputs": [],
   "source": [
    "# Przyporzadkowanie zmiennej zaleznej i zmiennych niezaleznych\n",
    "X = df['Size'].values     # Zmienna niezalezna\n",
    "y = df['Price'].values    # Zmienna zalezna\n",
    "\n",
    "X = np.column_stack(([1]*len(X), X)) # Technikalia - dodanie kolumny z samymi jedynkami"
   ]
  },
  {
   "cell_type": "code",
   "execution_count": null,
   "metadata": {
    "id": "lFNCkXsqHaab"
   },
   "outputs": [],
   "source": [
    "def gradientDescent(X, y, theta, alpha, m, numIterations):\n",
    "  '''\n",
    "  param: X - zmienne niezalezne\n",
    "  param: y - zmienna zalezna\n",
    "  param: theta - macierz [Theta_0 czyli punkt przeciecia, Theta_1 czyli wspolczynnik od X1] STARTOWY PUNKT\n",
    "  param: alpha - wspolczynnik uczenia - jak duze kroki zrobic\n",
    "  param: m - liczba obserwacji\n",
    "  param: numIterations - liczba iteracji naszego modelu - Ile kroków zrobić\n",
    "  '''\n",
    "  xTrans = X.transpose()                              # potrzebne do obliczenia gradientów (pochodnej cząstkowej) przez np.dot TECHNIKALIA\n",
    "  cost_array = np.empty([numIterations, 2])           # pusta macierz do ktorej bede zapisywal wartosc funkcji kosztu po kazdej iteracji (ploty)\n",
    "  for i in range(0, numIterations):                   # petla\n",
    "    hypothesis = np.dot(X, theta)                     # bierzemy kazdy x, mnozymy przez Teta_1 i dodajemy Teta_0. Przewiduje cene kazdego domu\n",
    "    loss = hypothesis - y                             # Odleglosc kropek do lini. Innymi słowy liczymy reszty\n",
    "    cost = np.sum(loss ** 2) / (2 * m)                # Srednia odleglosc kropek od lini czyli inaczej funkcja kosztu\n",
    "    print(\"Iteration %d | Cost: %f\" % (i, cost))\n",
    "    cost_array[i][0] = i                              # do plotowania\n",
    "    cost_array[i][1] = cost                           # do plotowania\n",
    "    gradient = np.dot(xTrans, loss) / m               # Pochodna czastkowa funkcji. Matma dla ciekawskich tutaj: https://brain.fuw.edu.pl/edu/index.php/Uczenie_maszynowe_i_sztuczne_sieci_neuronowe/Wyk%C5%82ad_1\n",
    "    theta = theta - alpha * gradient                  # Aktualizujemy parametry theta o gradient pomnozony przez wspolczynnik uczenia\n",
    "  return theta, cost_array"
   ]
  },
  {
   "cell_type": "code",
   "execution_count": null,
   "metadata": {
    "id": "DX-GoCKXHm8t"
   },
   "outputs": [],
   "source": [
    "theta = [10000, 500]\n",
    "alpha = 0.000000005\n",
    "m = len(X)\n",
    "numIterations = 200"
   ]
  },
  {
   "cell_type": "code",
   "execution_count": null,
   "metadata": {
    "colab": {
     "base_uri": "https://localhost:8080/"
    },
    "id": "hSXB6_75Ix1u",
    "outputId": "943796df-9b42-40a2-9adb-4f3c8305c428"
   },
   "outputs": [
    {
     "name": "stdout",
     "output_type": "stream",
     "text": [
      "Iteration 0 | Cost: 267741064861.776581\n",
      "Iteration 1 | Cost: 255617574389.728302\n",
      "Iteration 2 | Cost: 244047819362.507568\n",
      "Iteration 3 | Cost: 233006508141.243988\n",
      "Iteration 4 | Cost: 222469504272.278473\n",
      "Iteration 5 | Cost: 212413773724.553070\n",
      "Iteration 6 | Cost: 202817334536.912323\n",
      "Iteration 7 | Cost: 193659208765.242065\n",
      "Iteration 8 | Cost: 184919376624.404266\n",
      "Iteration 9 | Cost: 176578732724.719666\n",
      "Iteration 10 | Cost: 168619044307.330322\n",
      "Iteration 11 | Cost: 161022911387.146088\n",
      "Iteration 12 | Cost: 153773728716.244965\n",
      "Iteration 13 | Cost: 146855649484.579254\n",
      "Iteration 14 | Cost: 140253550678.637482\n",
      "Iteration 15 | Cost: 133953000022.335266\n",
      "Iteration 16 | Cost: 127940224427.866974\n",
      "Iteration 17 | Cost: 122202079887.552002\n",
      "Iteration 18 | Cost: 116726022740.858917\n",
      "Iteration 19 | Cost: 111500082253.795715\n",
      "Iteration 20 | Cost: 106512834450.725739\n",
      "Iteration 21 | Cost: 101753377141.404739\n",
      "Iteration 22 | Cost: 97211306088.647186\n",
      "Iteration 23 | Cost: 92876692264.525208\n",
      "Iteration 24 | Cost: 88740060145.380844\n",
      "Iteration 25 | Cost: 84792366998.205063\n",
      "Iteration 26 | Cost: 81024983113.102661\n",
      "Iteration 27 | Cost: 77429672938.631271\n",
      "Iteration 28 | Cost: 73998577078.776031\n",
      "Iteration 29 | Cost: 70724195112.205078\n",
      "Iteration 30 | Cost: 67599369196.248360\n",
      "Iteration 31 | Cost: 64617268419.758049\n",
      "Iteration 32 | Cost: 61771373870.645653\n",
      "Iteration 33 | Cost: 59055464385.453278\n",
      "Iteration 34 | Cost: 56463602949.807159\n",
      "Iteration 35 | Cost: 53990123720.025047\n",
      "Iteration 36 | Cost: 51629619637.506409\n",
      "Iteration 37 | Cost: 49376930608.830116\n",
      "Iteration 38 | Cost: 47227132225.721329\n",
      "Iteration 39 | Cost: 45175525000.229385\n",
      "Iteration 40 | Cost: 43217624091.584389\n",
      "Iteration 41 | Cost: 41349149502.275444\n",
      "Iteration 42 | Cost: 39566016721.918953\n",
      "Iteration 43 | Cost: 37864327798.464500\n",
      "Iteration 44 | Cost: 36240362817.219574\n",
      "Iteration 45 | Cost: 34690571769.066460\n",
      "Iteration 46 | Cost: 33211566790.094917\n",
      "Iteration 47 | Cost: 31800114755.686481\n",
      "Iteration 48 | Cost: 30453130212.860886\n",
      "Iteration 49 | Cost: 29167668635.434715\n",
      "Iteration 50 | Cost: 27940919987.247841\n",
      "Iteration 51 | Cost: 26770202579.386864\n",
      "Iteration 52 | Cost: 25652957207.977440\n",
      "Iteration 53 | Cost: 24586741559.730328\n",
      "Iteration 54 | Cost: 23569224873.012161\n",
      "Iteration 55 | Cost: 22598182842.769211\n",
      "Iteration 56 | Cost: 21671492758.166946\n",
      "Iteration 57 | Cost: 20787128862.315845\n",
      "Iteration 58 | Cost: 19943157923.939743\n",
      "Iteration 59 | Cost: 19137735011.306522\n",
      "Iteration 60 | Cost: 18369099459.182724\n",
      "Iteration 61 | Cost: 17635571019.995789\n",
      "Iteration 62 | Cost: 16935546190.790527\n",
      "Iteration 63 | Cost: 16267494707.950237\n",
      "Iteration 64 | Cost: 15629956202.019957\n",
      "Iteration 65 | Cost: 15021537005.319456\n",
      "Iteration 66 | Cost: 14440907105.367010\n",
      "Iteration 67 | Cost: 13886797237.454380\n",
      "Iteration 68 | Cost: 13357996110.017275\n",
      "Iteration 69 | Cost: 12853347756.735760\n",
      "Iteration 70 | Cost: 12371749009.576487\n",
      "Iteration 71 | Cost: 11912147087.252676\n",
      "Iteration 72 | Cost: 11473537293.830143\n",
      "Iteration 73 | Cost: 11054960822.448593\n",
      "Iteration 74 | Cost: 10655502659.357014\n",
      "Iteration 75 | Cost: 10274289583.681438\n",
      "Iteration 76 | Cost: 9910488258.552452\n",
      "Iteration 77 | Cost: 9563303409.419653\n",
      "Iteration 78 | Cost: 9231976085.570881\n",
      "Iteration 79 | Cost: 8915782001.055864\n",
      "Iteration 80 | Cost: 8614029951.387438\n",
      "Iteration 81 | Cost: 8326060302.559323\n",
      "Iteration 82 | Cost: 8051243549.077374\n",
      "Iteration 83 | Cost: 7788978937.852184\n",
      "Iteration 84 | Cost: 7538693154.944807\n",
      "Iteration 85 | Cost: 7299839072.294850\n",
      "Iteration 86 | Cost: 7071894551.691206\n",
      "Iteration 87 | Cost: 6854361303.370978\n",
      "Iteration 88 | Cost: 6646763796.751423\n",
      "Iteration 89 | Cost: 6448648220.913701\n",
      "Iteration 90 | Cost: 6259581492.566214\n",
      "Iteration 91 | Cost: 6079150309.318697\n",
      "Iteration 92 | Cost: 5906960246.197729\n",
      "Iteration 93 | Cost: 5742634893.428421\n",
      "Iteration 94 | Cost: 5585815033.597672\n",
      "Iteration 95 | Cost: 5436157856.400102\n",
      "Iteration 96 | Cost: 5293336209.250129\n",
      "Iteration 97 | Cost: 5157037882.122067\n",
      "Iteration 98 | Cost: 5026964925.054849\n",
      "Iteration 99 | Cost: 4902832996.829427\n",
      "Iteration 100 | Cost: 4784370743.395077\n",
      "Iteration 101 | Cost: 4671319204.685805\n",
      "Iteration 102 | Cost: 4563431248.530237\n",
      "Iteration 103 | Cost: 4460471030.417335\n",
      "Iteration 104 | Cost: 4362213477.937182\n",
      "Iteration 105 | Cost: 4268443798.769687\n",
      "Iteration 106 | Cost: 4178957011.145705\n",
      "Iteration 107 | Cost: 4093557495.754156\n",
      "Iteration 108 | Cost: 4012058568.115592\n",
      "Iteration 109 | Cost: 3934282070.487447\n",
      "Iteration 110 | Cost: 3860057982.408824\n",
      "Iteration 111 | Cost: 3789224049.033506\n",
      "Iteration 112 | Cost: 3721625426.438696\n",
      "Iteration 113 | Cost: 3657114343.134126\n",
      "Iteration 114 | Cost: 3595549777.031620\n",
      "Iteration 115 | Cost: 3536797147.168928\n",
      "Iteration 116 | Cost: 3480728019.513928\n",
      "Iteration 117 | Cost: 3427219826.206144\n",
      "Iteration 118 | Cost: 3376155597.621752\n",
      "Iteration 119 | Cost: 3327423706.676421\n",
      "Iteration 120 | Cost: 3280917624.807023\n",
      "Iteration 121 | Cost: 3236535689.098768\n",
      "Iteration 122 | Cost: 3194180880.048718\n",
      "Iteration 123 | Cost: 3153760609.479867\n",
      "Iteration 124 | Cost: 3115186518.142131\n",
      "Iteration 125 | Cost: 3078374282.557866\n",
      "Iteration 126 | Cost: 3043243430.689611\n",
      "Iteration 127 | Cost: 3009717166.027150\n",
      "Iteration 128 | Cost: 2977722199.709303\n",
      "Iteration 129 | Cost: 2947188590.313509\n",
      "Iteration 130 | Cost: 2918049590.962937\n",
      "Iteration 131 | Cost: 2890241503.416920\n",
      "Iteration 132 | Cost: 2863703538.825762\n",
      "Iteration 133 | Cost: 2838377684.845486\n",
      "Iteration 134 | Cost: 2814208578.822093\n",
      "Iteration 135 | Cost: 2791143386.768046\n",
      "Iteration 136 | Cost: 2769131687.866478\n",
      "Iteration 137 | Cost: 2748125364.250608\n",
      "Iteration 138 | Cost: 2728078495.817455\n",
      "Iteration 139 | Cost: 2708947259.845855\n",
      "Iteration 140 | Cost: 2690689835.199430\n",
      "Iteration 141 | Cost: 2673266310.905021\n",
      "Iteration 142 | Cost: 2656638598.906762\n",
      "Iteration 143 | Cost: 2640770350.805085\n",
      "Iteration 144 | Cost: 2625626878.398638\n",
      "Iteration 145 | Cost: 2611175077.855405\n",
      "Iteration 146 | Cost: 2597383357.347296\n",
      "Iteration 147 | Cost: 2584221567.989982\n",
      "Iteration 148 | Cost: 2571660937.937038\n",
      "Iteration 149 | Cost: 2559674009.484300\n",
      "Iteration 150 | Cost: 2548234579.046956\n",
      "Iteration 151 | Cost: 2537317639.878162\n",
      "Iteration 152 | Cost: 2526899327.403958\n",
      "Iteration 153 | Cost: 2516956867.054992\n",
      "Iteration 154 | Cost: 2507468524.481008\n",
      "Iteration 155 | Cost: 2498413558.039265\n",
      "Iteration 156 | Cost: 2489772173.453032\n",
      "Iteration 157 | Cost: 2481525480.541029\n",
      "Iteration 158 | Cost: 2473655451.923246\n",
      "Iteration 159 | Cost: 2466144883.612844\n",
      "Iteration 160 | Cost: 2458977357.408012\n",
      "Iteration 161 | Cost: 2452137205.001562\n",
      "Iteration 162 | Cost: 2445609473.729794\n",
      "Iteration 163 | Cost: 2439379893.885780\n",
      "Iteration 164 | Cost: 2433434847.525593\n",
      "Iteration 165 | Cost: 2427761338.699290\n",
      "Iteration 166 | Cost: 2422346965.041612\n",
      "Iteration 167 | Cost: 2417179890.660226\n",
      "Iteration 168 | Cost: 2412248820.262324\n",
      "Iteration 169 | Cost: 2407542974.462955\n",
      "Iteration 170 | Cost: 2403052066.221138\n",
      "Iteration 171 | Cost: 2398766278.352269\n",
      "Iteration 172 | Cost: 2394676242.067612\n",
      "Iteration 173 | Cost: 2390773016.494008\n",
      "Iteration 174 | Cost: 2387048069.129003\n",
      "Iteration 175 | Cost: 2383493257.188689\n",
      "Iteration 176 | Cost: 2380100809.807465\n",
      "Iteration 177 | Cost: 2376863311.050822\n",
      "Iteration 178 | Cost: 2373773683.704012\n",
      "Iteration 179 | Cost: 2370825173.801163\n",
      "Iteration 180 | Cost: 2368011335.861018\n",
      "Iteration 181 | Cost: 2365326018.797029\n",
      "Iteration 182 | Cost: 2362763352.470994\n",
      "Iteration 183 | Cost: 2360317734.860865\n",
      "Iteration 184 | Cost: 2357983819.814646\n",
      "Iteration 185 | Cost: 2355756505.363640\n",
      "Iteration 186 | Cost: 2353630922.569468\n",
      "Iteration 187 | Cost: 2351602424.880516\n",
      "Iteration 188 | Cost: 2349666577.974500\n",
      "Iteration 189 | Cost: 2347819150.064991\n",
      "Iteration 190 | Cost: 2346056102.650657\n",
      "Iteration 191 | Cost: 2344373581.687061\n",
      "Iteration 192 | Cost: 2342767909.161660\n",
      "Iteration 193 | Cost: 2341235575.053622\n",
      "Iteration 194 | Cost: 2339773229.660877\n",
      "Iteration 195 | Cost: 2338377676.277614\n",
      "Iteration 196 | Cost: 2337045864.206252\n",
      "Iteration 197 | Cost: 2335774882.088565\n",
      "Iteration 198 | Cost: 2334561951.541420\n",
      "Iteration 199 | Cost: 2333404421.083189\n"
     ]
    }
   ],
   "source": [
    " theta, cost_array = gradientDescent(X, y, theta, alpha, m, numIterations)"
   ]
  },
  {
   "cell_type": "code",
   "execution_count": null,
   "metadata": {
    "colab": {
     "base_uri": "https://localhost:8080/",
     "height": 465
    },
    "id": "wzz7e08CNGSO",
    "outputId": "8669d6ef-d254-4d36-cfad-729368e59a42"
   },
   "outputs": [
    {
     "data": {
      "image/png": "[encoded data removed]",
      "text/plain": [
       "<Figure size 640x480 with 1 Axes>"
      ]
     },
     "metadata": {},
     "output_type": "display_data"
    }
   ],
   "source": [
    "epoch = range(len(cost_array[:, 0]))\n",
    "plt.plot(epoch,cost_array[:, 1],'o')\n",
    "plt.xlabel('iteration')\n",
    "plt.ylabel('loss')\n",
    "plt.show()"
   ]
  },
  {
   "cell_type": "code",
   "execution_count": null,
   "metadata": {
    "colab": {
     "base_uri": "https://localhost:8080/"
    },
    "id": "UF6ct8iMNiZP",
    "outputId": "d816ccdc-88f2-46ee-eab5-2b2386d4bfcb"
   },
   "outputs": [
    {
     "data": {
      "text/plain": [
       "array([9999.86281108,  164.21426135])"
      ]
     },
     "execution_count": 28,
     "metadata": {},
     "output_type": "execute_result"
    }
   ],
   "source": [
    "theta"
   ]
  },
  {
   "cell_type": "code",
   "execution_count": null,
   "metadata": {
    "colab": {
     "base_uri": "https://localhost:8080/",
     "height": 430
    },
    "id": "V2Qs524YNzfI",
    "outputId": "36f538ba-ae5b-4ba7-993f-e4ec98336365"
   },
   "outputs": [
    {
     "data": {
      "image/png": "[encoded data removed]",
      "text/plain": [
       "<Figure size 640x480 with 1 Axes>"
      ]
     },
     "metadata": {},
     "output_type": "display_data"
    }
   ],
   "source": [
    "# Koncowy model\n",
    "plt.plot(df.Size, df.Price, 'o')\n",
    "plt.plot(df.Size, theta[0] + df.Size*theta[1], 'r')\n",
    "plt.show()"
   ]
  },
  {
   "cell_type": "code",
   "execution_count": null,
   "metadata": {
    "id": "Igq-i-b7N7H3"
   },
   "outputs": [],
   "source": [
    "# y = theta[0] + theta[1]*x"
   ]
  },
  {
   "cell_type": "code",
   "execution_count": null,
   "metadata": {
    "colab": {
     "base_uri": "https://localhost:8080/"
    },
    "id": "tb6u2Y52ONe8",
    "outputId": "638f58c9-eda4-49b4-c82c-7e69611f6b2e"
   },
   "outputs": [
    {
     "data": {
      "text/plain": [
       "535485.499132295"
      ]
     },
     "execution_count": 30,
     "metadata": {},
     "output_type": "execute_result"
    }
   ],
   "source": [
    "predicted_price = theta[0] + theta[1]*3200\n",
    "predicted_price"
   ]
  },
  {
   "cell_type": "markdown",
   "metadata": {
    "id": "mZqjCBBjPAkB"
   },
   "source": [
    "### Scikit Learn"
   ]
  },
  {
   "cell_type": "code",
   "execution_count": null,
   "metadata": {
    "id": "t4UNALRwPEHq"
   },
   "outputs": [],
   "source": [
    "from sklearn.linear_model import LinearRegression"
   ]
  },
  {
   "cell_type": "code",
   "execution_count": null,
   "metadata": {
    "id": "0BNkoYobPWHq"
   },
   "outputs": [],
   "source": [
    "# Wczytanie danych\n",
    "df = pd.read_csv('portland.csv', header=None)\n",
    "df.columns = (['Size','Bedroom','Price'])"
   ]
  },
  {
   "cell_type": "code",
   "execution_count": null,
   "metadata": {
    "id": "NASjlpX1Pv7n"
   },
   "outputs": [],
   "source": [
    "# Zmienne zalezne i niezalezne\n",
    "\n",
    "X = df[['Size', 'Bedroom']]     # Zmienne niezalezne\n",
    "y = df['Price']                 # Zmienna zalezna"
   ]
  },
  {
   "cell_type": "markdown",
   "metadata": {
    "id": "8uSr_z6aRPSQ"
   },
   "source": [
    "$y = \\Theta _{0} + \\Theta _{1}X_{1} + \\Theta _{2}X_{2}$,"
   ]
  },
  {
   "cell_type": "code",
   "execution_count": null,
   "metadata": {
    "id": "8UDVZ91GQXQL"
   },
   "outputs": [],
   "source": [
    "reg = LinearRegression().fit(X,y)"
   ]
  },
  {
   "cell_type": "code",
   "execution_count": null,
   "metadata": {
    "colab": {
     "base_uri": "https://localhost:8080/"
    },
    "id": "MHbEfImGQ5NG",
    "outputId": "8b34ea3e-20f5-4eb9-d329-8bf8a2e2650b"
   },
   "outputs": [
    {
     "name": "stdout",
     "output_type": "stream",
     "text": [
      "89597.90954279754\n",
      "[  139.21067402 -8738.01911233]\n"
     ]
    }
   ],
   "source": [
    "# Wypisac wspolczynniki regresji:\n",
    "\n",
    "print(reg.intercept_)\n",
    "print(reg.coef_)"
   ]
  },
  {
   "cell_type": "code",
   "execution_count": null,
   "metadata": {
    "colab": {
     "base_uri": "https://localhost:8080/"
    },
    "id": "5VjOLDyRRfDs",
    "outputId": "c93b75ea-a782-4c6a-d4d9-9f2230738227"
   },
   "outputs": [
    {
     "name": "stderr",
     "output_type": "stream",
     "text": [
      "/usr/local/lib/python3.10/dist-packages/sklearn/base.py:439: UserWarning: X does not have valid feature names, but LinearRegression was fitted with feature names\n",
      "  warnings.warn(\n"
     ]
    },
    {
     "data": {
      "text/plain": [
       "array([500119.98994989])"
      ]
     },
     "execution_count": 46,
     "metadata": {},
     "output_type": "execute_result"
    }
   ],
   "source": [
    "# Dokonanie predykcji dla domu o pow. 3200stop^2 i 4 sypialnie\n",
    "\n",
    "reg.predict([[3200, 4]])"
   ]
  }
 ],
 "metadata": {
  "colab": {
   "provenance": []
  },
  "kernelspec": {
   "display_name": "Python 3 (ipykernel)",
   "language": "python",
   "name": "python3"
  },
  "language_info": {
   "codemirror_mode": {
    "name": "ipython",
    "version": 3
   },
   "file_extension": ".py",
   "mimetype": "text/x-python",
   "name": "python",
   "nbconvert_exporter": "python",
   "pygments_lexer": "ipython3",
   "version": "3.10.4"
  },
  "toc": {
   "base_numbering": 1,
   "nav_menu": {},
   "number_sections": true,
   "sideBar": true,
   "skip_h1_title": false,
   "title_cell": "Table of Contents",
   "title_sidebar": "Contents",
   "toc_cell": false,
   "toc_position": {},
   "toc_section_display": true,
   "toc_window_display": true
  }
 },
 "nbformat": 4,
 "nbformat_minor": 1
}

{
 "cells": [
  {
   "cell_type": "markdown",
   "metadata": {},
   "source": [
    "[google colab](https://colab.research.google.com/drive/1XwwmQwfu0ibiU2MFDcxGCIOk9dMpKSQI?usp=sharing#scrollTo=tHQ-RFZsQOWa)"
   ]
  },
  {
   "cell_type": "code",
   "execution_count": 15,
   "metadata": {},
   "outputs": [
    {
     "ename": "AttributeError",
     "evalue": "'Engine' object has no attribute 'execute'",
     "output_type": "error",
     "traceback": [
      "\u001b[1;31m---------------------------------------------------------------------------\u001b[0m",
      "\u001b[1;31mAttributeError\u001b[0m                            Traceback (most recent call last)",
      "Cell \u001b[1;32mIn [15], line 3\u001b[0m\n\u001b[0;32m      1\u001b[0m \u001b[38;5;28;01mfrom\u001b[39;00m \u001b[38;5;21;01msqlalchemy\u001b[39;00m \u001b[38;5;28;01mimport\u001b[39;00m create_engine\n\u001b[0;32m      2\u001b[0m engine \u001b[38;5;241m=\u001b[39m create_engine(\u001b[38;5;124m\"\u001b[39m\u001b[38;5;124mmysql+pymysql://root:root@/\u001b[39m\u001b[38;5;124m\"\u001b[39m)\n\u001b[1;32m----> 3\u001b[0m \u001b[43mengine\u001b[49m\u001b[38;5;241;43m.\u001b[39;49m\u001b[43mexecute\u001b[49m(\u001b[38;5;124m\"\u001b[39m\u001b[38;5;124mCREATE DATABASE car_rental\u001b[39m\u001b[38;5;124m\"\u001b[39m) \u001b[38;5;66;03m#create db\u001b[39;00m\n\u001b[0;32m      4\u001b[0m engine\u001b[38;5;241m.\u001b[39mexecute(\u001b[38;5;124m\"\u001b[39m\u001b[38;5;124mUSE car_rental\u001b[39m\u001b[38;5;124m\"\u001b[39m) \u001b[38;5;66;03m# select new db\u001b[39;00m\n",
      "\u001b[1;31mAttributeError\u001b[0m: 'Engine' object has no attribute 'execute'"
     ]
    }
   ],
   "source": [
    "from sqlalchemy import create_engine\n",
    "\n",
    "# user = 'root'\n",
    "# pw = 'test!*'\n",
    "# db = 'hcftest'\n",
    "\n",
    "engine = create_engine(\"mysql+pymysql://root:root@/\")\n",
    "engine.execute(\"CREATE DATABASE car_rental\") #create db\n",
    "engine.execute(\"USE car_rental\") # select new db"
   ]
  },
  {
   "cell_type": "markdown",
   "metadata": {
    "id": "nISRAamchb4t"
   },
   "source": [
    "Pierwszy blok zadaniowy\n",
    "\n",
    "Stwórz tabele *cars, clients, bookings* według wytycznych(bez relacji):\n",
    "\n",
    "*   cars: car_id(int, pk), producer(str), model(str), year(int), horse_power(int), price_per_day(int)\n",
    "*   clients: client_id(int, pk), name(str), surname(str), address(str), city(str)\n",
    "*   bookings: booking_id(int, pk), client_id(int), car_id(int), start_date(date), end_date(date), total_amount(int)"
   ]
  },
  {
   "cell_type": "code",
   "execution_count": 7,
   "metadata": {
    "colab": {
     "base_uri": "https://localhost:8080/",
     "height": 377
    },
    "id": "nTHydusa1uNg",
    "outputId": "9bb14b2f-1fa9-4613-b4c7-671e9614391e"
   },
   "outputs": [
    {
     "name": "stderr",
     "output_type": "stream",
     "text": [
      "C:\\Users\\user\\AppData\\Local\\Temp\\ipykernel_8148\\2592050541.py:7: MovedIn20Warning: The ``declarative_base()`` function is now available as sqlalchemy.orm.declarative_base(). (deprecated since: 2.0) (Background on SQLAlchemy 2.0 at: https://sqlalche.me/e/b8d9)\n",
      "  base = declarative_base()\n"
     ]
    },
    {
     "ename": "RuntimeError",
     "evalue": "'cryptography' package is required for sha256_password or caching_sha2_password auth methods",
     "output_type": "error",
     "traceback": [
      "\u001b[1;31m---------------------------------------------------------------------------\u001b[0m",
      "\u001b[1;31mRuntimeError\u001b[0m                              Traceback (most recent call last)",
      "Cell \u001b[1;32mIn [7], line 38\u001b[0m\n\u001b[0;32m     35\u001b[0m     end_date \u001b[38;5;241m=\u001b[39m Column(Date, nullable\u001b[38;5;241m=\u001b[39m\u001b[38;5;28;01mFalse\u001b[39;00m)\n\u001b[0;32m     36\u001b[0m     total_amount \u001b[38;5;241m=\u001b[39m Column(Integer, nullable\u001b[38;5;241m=\u001b[39m\u001b[38;5;28;01mFalse\u001b[39;00m)\n\u001b[1;32m---> 38\u001b[0m \u001b[43mbase\u001b[49m\u001b[38;5;241;43m.\u001b[39;49m\u001b[43mmetadata\u001b[49m\u001b[38;5;241;43m.\u001b[39;49m\u001b[43mcreate_all\u001b[49m\u001b[43m(\u001b[49m\u001b[43meng\u001b[49m\u001b[43m)\u001b[49m\n",
      "File \u001b[1;32m~\\AppData\\Local\\Programs\\Python\\Python310\\lib\\site-packages\\sqlalchemy\\sql\\schema.py:5792\u001b[0m, in \u001b[0;36mMetaData.create_all\u001b[1;34m(self, bind, tables, checkfirst)\u001b[0m\n\u001b[0;32m   5768\u001b[0m \u001b[38;5;28;01mdef\u001b[39;00m \u001b[38;5;21mcreate_all\u001b[39m(\n\u001b[0;32m   5769\u001b[0m     \u001b[38;5;28mself\u001b[39m,\n\u001b[0;32m   5770\u001b[0m     bind: _CreateDropBind,\n\u001b[0;32m   5771\u001b[0m     tables: Optional[_typing_Sequence[Table]] \u001b[38;5;241m=\u001b[39m \u001b[38;5;28;01mNone\u001b[39;00m,\n\u001b[0;32m   5772\u001b[0m     checkfirst: \u001b[38;5;28mbool\u001b[39m \u001b[38;5;241m=\u001b[39m \u001b[38;5;28;01mTrue\u001b[39;00m,\n\u001b[0;32m   5773\u001b[0m ) \u001b[38;5;241m-\u001b[39m\u001b[38;5;241m>\u001b[39m \u001b[38;5;28;01mNone\u001b[39;00m:\n\u001b[0;32m   5774\u001b[0m     \u001b[38;5;124;03m\"\"\"Create all tables stored in this metadata.\u001b[39;00m\n\u001b[0;32m   5775\u001b[0m \n\u001b[0;32m   5776\u001b[0m \u001b[38;5;124;03m    Conditional by default, will not attempt to recreate tables already\u001b[39;00m\n\u001b[1;32m   (...)\u001b[0m\n\u001b[0;32m   5790\u001b[0m \n\u001b[0;32m   5791\u001b[0m \u001b[38;5;124;03m    \"\"\"\u001b[39;00m\n\u001b[1;32m-> 5792\u001b[0m     \u001b[43mbind\u001b[49m\u001b[38;5;241;43m.\u001b[39;49m\u001b[43m_run_ddl_visitor\u001b[49m\u001b[43m(\u001b[49m\n\u001b[0;32m   5793\u001b[0m \u001b[43m        \u001b[49m\u001b[43mddl\u001b[49m\u001b[38;5;241;43m.\u001b[39;49m\u001b[43mSchemaGenerator\u001b[49m\u001b[43m,\u001b[49m\u001b[43m \u001b[49m\u001b[38;5;28;43mself\u001b[39;49m\u001b[43m,\u001b[49m\u001b[43m \u001b[49m\u001b[43mcheckfirst\u001b[49m\u001b[38;5;241;43m=\u001b[39;49m\u001b[43mcheckfirst\u001b[49m\u001b[43m,\u001b[49m\u001b[43m \u001b[49m\u001b[43mtables\u001b[49m\u001b[38;5;241;43m=\u001b[39;49m\u001b[43mtables\u001b[49m\n\u001b[0;32m   5794\u001b[0m \u001b[43m    \u001b[49m\u001b[43m)\u001b[49m\n",
      "File \u001b[1;32m~\\AppData\\Local\\Programs\\Python\\Python310\\lib\\site-packages\\sqlalchemy\\engine\\base.py:3238\u001b[0m, in \u001b[0;36mEngine._run_ddl_visitor\u001b[1;34m(self, visitorcallable, element, **kwargs)\u001b[0m\n\u001b[0;32m   3232\u001b[0m \u001b[38;5;28;01mdef\u001b[39;00m \u001b[38;5;21m_run_ddl_visitor\u001b[39m(\n\u001b[0;32m   3233\u001b[0m     \u001b[38;5;28mself\u001b[39m,\n\u001b[0;32m   3234\u001b[0m     visitorcallable: Type[Union[SchemaGenerator, SchemaDropper]],\n\u001b[0;32m   3235\u001b[0m     element: SchemaItem,\n\u001b[0;32m   3236\u001b[0m     \u001b[38;5;241m*\u001b[39m\u001b[38;5;241m*\u001b[39mkwargs: Any,\n\u001b[0;32m   3237\u001b[0m ) \u001b[38;5;241m-\u001b[39m\u001b[38;5;241m>\u001b[39m \u001b[38;5;28;01mNone\u001b[39;00m:\n\u001b[1;32m-> 3238\u001b[0m     \u001b[38;5;28;01mwith\u001b[39;00m \u001b[38;5;28mself\u001b[39m\u001b[38;5;241m.\u001b[39mbegin() \u001b[38;5;28;01mas\u001b[39;00m conn:\n\u001b[0;32m   3239\u001b[0m         conn\u001b[38;5;241m.\u001b[39m_run_ddl_visitor(visitorcallable, element, \u001b[38;5;241m*\u001b[39m\u001b[38;5;241m*\u001b[39mkwargs)\n",
      "File \u001b[1;32m~\\AppData\\Local\\Programs\\Python\\Python310\\lib\\contextlib.py:135\u001b[0m, in \u001b[0;36m_GeneratorContextManager.__enter__\u001b[1;34m(self)\u001b[0m\n\u001b[0;32m    133\u001b[0m \u001b[38;5;28;01mdel\u001b[39;00m \u001b[38;5;28mself\u001b[39m\u001b[38;5;241m.\u001b[39margs, \u001b[38;5;28mself\u001b[39m\u001b[38;5;241m.\u001b[39mkwds, \u001b[38;5;28mself\u001b[39m\u001b[38;5;241m.\u001b[39mfunc\n\u001b[0;32m    134\u001b[0m \u001b[38;5;28;01mtry\u001b[39;00m:\n\u001b[1;32m--> 135\u001b[0m     \u001b[38;5;28;01mreturn\u001b[39;00m \u001b[38;5;28;43mnext\u001b[39;49m\u001b[43m(\u001b[49m\u001b[38;5;28;43mself\u001b[39;49m\u001b[38;5;241;43m.\u001b[39;49m\u001b[43mgen\u001b[49m\u001b[43m)\u001b[49m\n\u001b[0;32m    136\u001b[0m \u001b[38;5;28;01mexcept\u001b[39;00m \u001b[38;5;167;01mStopIteration\u001b[39;00m:\n\u001b[0;32m    137\u001b[0m     \u001b[38;5;28;01mraise\u001b[39;00m \u001b[38;5;167;01mRuntimeError\u001b[39;00m(\u001b[38;5;124m\"\u001b[39m\u001b[38;5;124mgenerator didn\u001b[39m\u001b[38;5;124m'\u001b[39m\u001b[38;5;124mt yield\u001b[39m\u001b[38;5;124m\"\u001b[39m) \u001b[38;5;28;01mfrom\u001b[39;00m \u001b[38;5;28mNone\u001b[39m\n",
      "File \u001b[1;32m~\\AppData\\Local\\Programs\\Python\\Python310\\lib\\site-packages\\sqlalchemy\\engine\\base.py:3228\u001b[0m, in \u001b[0;36mEngine.begin\u001b[1;34m(self)\u001b[0m\n\u001b[0;32m   3201\u001b[0m \u001b[38;5;129m@contextlib\u001b[39m\u001b[38;5;241m.\u001b[39mcontextmanager\n\u001b[0;32m   3202\u001b[0m \u001b[38;5;28;01mdef\u001b[39;00m \u001b[38;5;21mbegin\u001b[39m(\u001b[38;5;28mself\u001b[39m) \u001b[38;5;241m-\u001b[39m\u001b[38;5;241m>\u001b[39m Iterator[Connection]:\n\u001b[0;32m   3203\u001b[0m     \u001b[38;5;124;03m\"\"\"Return a context manager delivering a :class:`_engine.Connection`\u001b[39;00m\n\u001b[0;32m   3204\u001b[0m \u001b[38;5;124;03m    with a :class:`.Transaction` established.\u001b[39;00m\n\u001b[0;32m   3205\u001b[0m \n\u001b[1;32m   (...)\u001b[0m\n\u001b[0;32m   3226\u001b[0m \n\u001b[0;32m   3227\u001b[0m \u001b[38;5;124;03m    \"\"\"\u001b[39;00m\n\u001b[1;32m-> 3228\u001b[0m     \u001b[38;5;28;01mwith\u001b[39;00m \u001b[38;5;28;43mself\u001b[39;49m\u001b[38;5;241;43m.\u001b[39;49m\u001b[43mconnect\u001b[49m\u001b[43m(\u001b[49m\u001b[43m)\u001b[49m \u001b[38;5;28;01mas\u001b[39;00m conn:\n\u001b[0;32m   3229\u001b[0m         \u001b[38;5;28;01mwith\u001b[39;00m conn\u001b[38;5;241m.\u001b[39mbegin():\n\u001b[0;32m   3230\u001b[0m             \u001b[38;5;28;01myield\u001b[39;00m conn\n",
      "File \u001b[1;32m~\\AppData\\Local\\Programs\\Python\\Python310\\lib\\site-packages\\sqlalchemy\\engine\\base.py:3264\u001b[0m, in \u001b[0;36mEngine.connect\u001b[1;34m(self)\u001b[0m\n\u001b[0;32m   3241\u001b[0m \u001b[38;5;28;01mdef\u001b[39;00m \u001b[38;5;21mconnect\u001b[39m(\u001b[38;5;28mself\u001b[39m) \u001b[38;5;241m-\u001b[39m\u001b[38;5;241m>\u001b[39m Connection:\n\u001b[0;32m   3242\u001b[0m     \u001b[38;5;124;03m\"\"\"Return a new :class:`_engine.Connection` object.\u001b[39;00m\n\u001b[0;32m   3243\u001b[0m \n\u001b[0;32m   3244\u001b[0m \u001b[38;5;124;03m    The :class:`_engine.Connection` acts as a Python context manager, so\u001b[39;00m\n\u001b[1;32m   (...)\u001b[0m\n\u001b[0;32m   3261\u001b[0m \n\u001b[0;32m   3262\u001b[0m \u001b[38;5;124;03m    \"\"\"\u001b[39;00m\n\u001b[1;32m-> 3264\u001b[0m     \u001b[38;5;28;01mreturn\u001b[39;00m \u001b[38;5;28;43mself\u001b[39;49m\u001b[38;5;241;43m.\u001b[39;49m\u001b[43m_connection_cls\u001b[49m\u001b[43m(\u001b[49m\u001b[38;5;28;43mself\u001b[39;49m\u001b[43m)\u001b[49m\n",
      "File \u001b[1;32m~\\AppData\\Local\\Programs\\Python\\Python310\\lib\\site-packages\\sqlalchemy\\engine\\base.py:145\u001b[0m, in \u001b[0;36mConnection.__init__\u001b[1;34m(self, engine, connection, _has_events, _allow_revalidate, _allow_autobegin)\u001b[0m\n\u001b[0;32m    143\u001b[0m \u001b[38;5;28;01mif\u001b[39;00m connection \u001b[38;5;129;01mis\u001b[39;00m \u001b[38;5;28;01mNone\u001b[39;00m:\n\u001b[0;32m    144\u001b[0m     \u001b[38;5;28;01mtry\u001b[39;00m:\n\u001b[1;32m--> 145\u001b[0m         \u001b[38;5;28mself\u001b[39m\u001b[38;5;241m.\u001b[39m_dbapi_connection \u001b[38;5;241m=\u001b[39m \u001b[43mengine\u001b[49m\u001b[38;5;241;43m.\u001b[39;49m\u001b[43mraw_connection\u001b[49m\u001b[43m(\u001b[49m\u001b[43m)\u001b[49m\n\u001b[0;32m    146\u001b[0m     \u001b[38;5;28;01mexcept\u001b[39;00m dialect\u001b[38;5;241m.\u001b[39mloaded_dbapi\u001b[38;5;241m.\u001b[39mError \u001b[38;5;28;01mas\u001b[39;00m err:\n\u001b[0;32m    147\u001b[0m         Connection\u001b[38;5;241m.\u001b[39m_handle_dbapi_exception_noconnection(\n\u001b[0;32m    148\u001b[0m             err, dialect, engine\n\u001b[0;32m    149\u001b[0m         )\n",
      "File \u001b[1;32m~\\AppData\\Local\\Programs\\Python\\Python310\\lib\\site-packages\\sqlalchemy\\engine\\base.py:3288\u001b[0m, in \u001b[0;36mEngine.raw_connection\u001b[1;34m(self)\u001b[0m\n\u001b[0;32m   3266\u001b[0m \u001b[38;5;28;01mdef\u001b[39;00m \u001b[38;5;21mraw_connection\u001b[39m(\u001b[38;5;28mself\u001b[39m) \u001b[38;5;241m-\u001b[39m\u001b[38;5;241m>\u001b[39m PoolProxiedConnection:\n\u001b[0;32m   3267\u001b[0m     \u001b[38;5;124;03m\"\"\"Return a \"raw\" DBAPI connection from the connection pool.\u001b[39;00m\n\u001b[0;32m   3268\u001b[0m \n\u001b[0;32m   3269\u001b[0m \u001b[38;5;124;03m    The returned object is a proxied version of the DBAPI\u001b[39;00m\n\u001b[1;32m   (...)\u001b[0m\n\u001b[0;32m   3286\u001b[0m \n\u001b[0;32m   3287\u001b[0m \u001b[38;5;124;03m    \"\"\"\u001b[39;00m\n\u001b[1;32m-> 3288\u001b[0m     \u001b[38;5;28;01mreturn\u001b[39;00m \u001b[38;5;28;43mself\u001b[39;49m\u001b[38;5;241;43m.\u001b[39;49m\u001b[43mpool\u001b[49m\u001b[38;5;241;43m.\u001b[39;49m\u001b[43mconnect\u001b[49m\u001b[43m(\u001b[49m\u001b[43m)\u001b[49m\n",
      "File \u001b[1;32m~\\AppData\\Local\\Programs\\Python\\Python310\\lib\\site-packages\\sqlalchemy\\pool\\base.py:452\u001b[0m, in \u001b[0;36mPool.connect\u001b[1;34m(self)\u001b[0m\n\u001b[0;32m    444\u001b[0m \u001b[38;5;28;01mdef\u001b[39;00m \u001b[38;5;21mconnect\u001b[39m(\u001b[38;5;28mself\u001b[39m) \u001b[38;5;241m-\u001b[39m\u001b[38;5;241m>\u001b[39m PoolProxiedConnection:\n\u001b[0;32m    445\u001b[0m     \u001b[38;5;124;03m\"\"\"Return a DBAPI connection from the pool.\u001b[39;00m\n\u001b[0;32m    446\u001b[0m \n\u001b[0;32m    447\u001b[0m \u001b[38;5;124;03m    The connection is instrumented such that when its\u001b[39;00m\n\u001b[1;32m   (...)\u001b[0m\n\u001b[0;32m    450\u001b[0m \n\u001b[0;32m    451\u001b[0m \u001b[38;5;124;03m    \"\"\"\u001b[39;00m\n\u001b[1;32m--> 452\u001b[0m     \u001b[38;5;28;01mreturn\u001b[39;00m \u001b[43m_ConnectionFairy\u001b[49m\u001b[38;5;241;43m.\u001b[39;49m\u001b[43m_checkout\u001b[49m\u001b[43m(\u001b[49m\u001b[38;5;28;43mself\u001b[39;49m\u001b[43m)\u001b[49m\n",
      "File \u001b[1;32m~\\AppData\\Local\\Programs\\Python\\Python310\\lib\\site-packages\\sqlalchemy\\pool\\base.py:1267\u001b[0m, in \u001b[0;36m_ConnectionFairy._checkout\u001b[1;34m(cls, pool, threadconns, fairy)\u001b[0m\n\u001b[0;32m   1259\u001b[0m \u001b[38;5;129m@classmethod\u001b[39m\n\u001b[0;32m   1260\u001b[0m \u001b[38;5;28;01mdef\u001b[39;00m \u001b[38;5;21m_checkout\u001b[39m(\n\u001b[0;32m   1261\u001b[0m     \u001b[38;5;28mcls\u001b[39m,\n\u001b[1;32m   (...)\u001b[0m\n\u001b[0;32m   1264\u001b[0m     fairy: Optional[_ConnectionFairy] \u001b[38;5;241m=\u001b[39m \u001b[38;5;28;01mNone\u001b[39;00m,\n\u001b[0;32m   1265\u001b[0m ) \u001b[38;5;241m-\u001b[39m\u001b[38;5;241m>\u001b[39m _ConnectionFairy:\n\u001b[0;32m   1266\u001b[0m     \u001b[38;5;28;01mif\u001b[39;00m \u001b[38;5;129;01mnot\u001b[39;00m fairy:\n\u001b[1;32m-> 1267\u001b[0m         fairy \u001b[38;5;241m=\u001b[39m \u001b[43m_ConnectionRecord\u001b[49m\u001b[38;5;241;43m.\u001b[39;49m\u001b[43mcheckout\u001b[49m\u001b[43m(\u001b[49m\u001b[43mpool\u001b[49m\u001b[43m)\u001b[49m\n\u001b[0;32m   1269\u001b[0m         \u001b[38;5;28;01mif\u001b[39;00m threadconns \u001b[38;5;129;01mis\u001b[39;00m \u001b[38;5;129;01mnot\u001b[39;00m \u001b[38;5;28;01mNone\u001b[39;00m:\n\u001b[0;32m   1270\u001b[0m             threadconns\u001b[38;5;241m.\u001b[39mcurrent \u001b[38;5;241m=\u001b[39m weakref\u001b[38;5;241m.\u001b[39mref(fairy)\n",
      "File \u001b[1;32m~\\AppData\\Local\\Programs\\Python\\Python310\\lib\\site-packages\\sqlalchemy\\pool\\base.py:716\u001b[0m, in \u001b[0;36m_ConnectionRecord.checkout\u001b[1;34m(cls, pool)\u001b[0m\n\u001b[0;32m    714\u001b[0m     rec \u001b[38;5;241m=\u001b[39m cast(_ConnectionRecord, pool\u001b[38;5;241m.\u001b[39m_do_get())\n\u001b[0;32m    715\u001b[0m \u001b[38;5;28;01melse\u001b[39;00m:\n\u001b[1;32m--> 716\u001b[0m     rec \u001b[38;5;241m=\u001b[39m \u001b[43mpool\u001b[49m\u001b[38;5;241;43m.\u001b[39;49m\u001b[43m_do_get\u001b[49m\u001b[43m(\u001b[49m\u001b[43m)\u001b[49m\n\u001b[0;32m    718\u001b[0m \u001b[38;5;28;01mtry\u001b[39;00m:\n\u001b[0;32m    719\u001b[0m     dbapi_connection \u001b[38;5;241m=\u001b[39m rec\u001b[38;5;241m.\u001b[39mget_connection()\n",
      "File \u001b[1;32m~\\AppData\\Local\\Programs\\Python\\Python310\\lib\\site-packages\\sqlalchemy\\pool\\impl.py:169\u001b[0m, in \u001b[0;36mQueuePool._do_get\u001b[1;34m(self)\u001b[0m\n\u001b[0;32m    167\u001b[0m     \u001b[38;5;28;01mreturn\u001b[39;00m \u001b[38;5;28mself\u001b[39m\u001b[38;5;241m.\u001b[39m_create_connection()\n\u001b[0;32m    168\u001b[0m \u001b[38;5;28;01mexcept\u001b[39;00m:\n\u001b[1;32m--> 169\u001b[0m     \u001b[38;5;28;01mwith\u001b[39;00m util\u001b[38;5;241m.\u001b[39msafe_reraise():\n\u001b[0;32m    170\u001b[0m         \u001b[38;5;28mself\u001b[39m\u001b[38;5;241m.\u001b[39m_dec_overflow()\n\u001b[0;32m    171\u001b[0m     \u001b[38;5;28;01mraise\u001b[39;00m\n",
      "File \u001b[1;32m~\\AppData\\Local\\Programs\\Python\\Python310\\lib\\site-packages\\sqlalchemy\\util\\langhelpers.py:147\u001b[0m, in \u001b[0;36msafe_reraise.__exit__\u001b[1;34m(self, type_, value, traceback)\u001b[0m\n\u001b[0;32m    145\u001b[0m     \u001b[38;5;28;01massert\u001b[39;00m exc_value \u001b[38;5;129;01mis\u001b[39;00m \u001b[38;5;129;01mnot\u001b[39;00m \u001b[38;5;28;01mNone\u001b[39;00m\n\u001b[0;32m    146\u001b[0m     \u001b[38;5;28mself\u001b[39m\u001b[38;5;241m.\u001b[39m_exc_info \u001b[38;5;241m=\u001b[39m \u001b[38;5;28;01mNone\u001b[39;00m  \u001b[38;5;66;03m# remove potential circular references\u001b[39;00m\n\u001b[1;32m--> 147\u001b[0m     \u001b[38;5;28;01mraise\u001b[39;00m exc_value\u001b[38;5;241m.\u001b[39mwith_traceback(exc_tb)\n\u001b[0;32m    148\u001b[0m \u001b[38;5;28;01melse\u001b[39;00m:\n\u001b[0;32m    149\u001b[0m     \u001b[38;5;28mself\u001b[39m\u001b[38;5;241m.\u001b[39m_exc_info \u001b[38;5;241m=\u001b[39m \u001b[38;5;28;01mNone\u001b[39;00m  \u001b[38;5;66;03m# remove potential circular references\u001b[39;00m\n",
      "File \u001b[1;32m~\\AppData\\Local\\Programs\\Python\\Python310\\lib\\site-packages\\sqlalchemy\\pool\\impl.py:167\u001b[0m, in \u001b[0;36mQueuePool._do_get\u001b[1;34m(self)\u001b[0m\n\u001b[0;32m    165\u001b[0m \u001b[38;5;28;01mif\u001b[39;00m \u001b[38;5;28mself\u001b[39m\u001b[38;5;241m.\u001b[39m_inc_overflow():\n\u001b[0;32m    166\u001b[0m     \u001b[38;5;28;01mtry\u001b[39;00m:\n\u001b[1;32m--> 167\u001b[0m         \u001b[38;5;28;01mreturn\u001b[39;00m \u001b[38;5;28;43mself\u001b[39;49m\u001b[38;5;241;43m.\u001b[39;49m\u001b[43m_create_connection\u001b[49m\u001b[43m(\u001b[49m\u001b[43m)\u001b[49m\n\u001b[0;32m    168\u001b[0m     \u001b[38;5;28;01mexcept\u001b[39;00m:\n\u001b[0;32m    169\u001b[0m         \u001b[38;5;28;01mwith\u001b[39;00m util\u001b[38;5;241m.\u001b[39msafe_reraise():\n",
      "File \u001b[1;32m~\\AppData\\Local\\Programs\\Python\\Python310\\lib\\site-packages\\sqlalchemy\\pool\\base.py:393\u001b[0m, in \u001b[0;36mPool._create_connection\u001b[1;34m(self)\u001b[0m\n\u001b[0;32m    390\u001b[0m \u001b[38;5;28;01mdef\u001b[39;00m \u001b[38;5;21m_create_connection\u001b[39m(\u001b[38;5;28mself\u001b[39m) \u001b[38;5;241m-\u001b[39m\u001b[38;5;241m>\u001b[39m ConnectionPoolEntry:\n\u001b[0;32m    391\u001b[0m     \u001b[38;5;124;03m\"\"\"Called by subclasses to create a new ConnectionRecord.\"\"\"\u001b[39;00m\n\u001b[1;32m--> 393\u001b[0m     \u001b[38;5;28;01mreturn\u001b[39;00m \u001b[43m_ConnectionRecord\u001b[49m\u001b[43m(\u001b[49m\u001b[38;5;28;43mself\u001b[39;49m\u001b[43m)\u001b[49m\n",
      "File \u001b[1;32m~\\AppData\\Local\\Programs\\Python\\Python310\\lib\\site-packages\\sqlalchemy\\pool\\base.py:678\u001b[0m, in \u001b[0;36m_ConnectionRecord.__init__\u001b[1;34m(self, pool, connect)\u001b[0m\n\u001b[0;32m    676\u001b[0m \u001b[38;5;28mself\u001b[39m\u001b[38;5;241m.\u001b[39m__pool \u001b[38;5;241m=\u001b[39m pool\n\u001b[0;32m    677\u001b[0m \u001b[38;5;28;01mif\u001b[39;00m connect:\n\u001b[1;32m--> 678\u001b[0m     \u001b[38;5;28;43mself\u001b[39;49m\u001b[38;5;241;43m.\u001b[39;49m\u001b[43m__connect\u001b[49m\u001b[43m(\u001b[49m\u001b[43m)\u001b[49m\n\u001b[0;32m    679\u001b[0m \u001b[38;5;28mself\u001b[39m\u001b[38;5;241m.\u001b[39mfinalize_callback \u001b[38;5;241m=\u001b[39m deque()\n",
      "File \u001b[1;32m~\\AppData\\Local\\Programs\\Python\\Python310\\lib\\site-packages\\sqlalchemy\\pool\\base.py:902\u001b[0m, in \u001b[0;36m_ConnectionRecord.__connect\u001b[1;34m(self)\u001b[0m\n\u001b[0;32m    900\u001b[0m     \u001b[38;5;28mself\u001b[39m\u001b[38;5;241m.\u001b[39mfresh \u001b[38;5;241m=\u001b[39m \u001b[38;5;28;01mTrue\u001b[39;00m\n\u001b[0;32m    901\u001b[0m \u001b[38;5;28;01mexcept\u001b[39;00m \u001b[38;5;167;01mBaseException\u001b[39;00m \u001b[38;5;28;01mas\u001b[39;00m e:\n\u001b[1;32m--> 902\u001b[0m     \u001b[38;5;28;01mwith\u001b[39;00m util\u001b[38;5;241m.\u001b[39msafe_reraise():\n\u001b[0;32m    903\u001b[0m         pool\u001b[38;5;241m.\u001b[39mlogger\u001b[38;5;241m.\u001b[39mdebug(\u001b[38;5;124m\"\u001b[39m\u001b[38;5;124mError on connect(): \u001b[39m\u001b[38;5;132;01m%s\u001b[39;00m\u001b[38;5;124m\"\u001b[39m, e)\n\u001b[0;32m    904\u001b[0m \u001b[38;5;28;01melse\u001b[39;00m:\n\u001b[0;32m    905\u001b[0m     \u001b[38;5;66;03m# in SQLAlchemy 1.4 the first_connect event is not used by\u001b[39;00m\n\u001b[0;32m    906\u001b[0m     \u001b[38;5;66;03m# the engine, so this will usually not be set\u001b[39;00m\n",
      "File \u001b[1;32m~\\AppData\\Local\\Programs\\Python\\Python310\\lib\\site-packages\\sqlalchemy\\util\\langhelpers.py:147\u001b[0m, in \u001b[0;36msafe_reraise.__exit__\u001b[1;34m(self, type_, value, traceback)\u001b[0m\n\u001b[0;32m    145\u001b[0m     \u001b[38;5;28;01massert\u001b[39;00m exc_value \u001b[38;5;129;01mis\u001b[39;00m \u001b[38;5;129;01mnot\u001b[39;00m \u001b[38;5;28;01mNone\u001b[39;00m\n\u001b[0;32m    146\u001b[0m     \u001b[38;5;28mself\u001b[39m\u001b[38;5;241m.\u001b[39m_exc_info \u001b[38;5;241m=\u001b[39m \u001b[38;5;28;01mNone\u001b[39;00m  \u001b[38;5;66;03m# remove potential circular references\u001b[39;00m\n\u001b[1;32m--> 147\u001b[0m     \u001b[38;5;28;01mraise\u001b[39;00m exc_value\u001b[38;5;241m.\u001b[39mwith_traceback(exc_tb)\n\u001b[0;32m    148\u001b[0m \u001b[38;5;28;01melse\u001b[39;00m:\n\u001b[0;32m    149\u001b[0m     \u001b[38;5;28mself\u001b[39m\u001b[38;5;241m.\u001b[39m_exc_info \u001b[38;5;241m=\u001b[39m \u001b[38;5;28;01mNone\u001b[39;00m  \u001b[38;5;66;03m# remove potential circular references\u001b[39;00m\n",
      "File \u001b[1;32m~\\AppData\\Local\\Programs\\Python\\Python310\\lib\\site-packages\\sqlalchemy\\pool\\base.py:898\u001b[0m, in \u001b[0;36m_ConnectionRecord.__connect\u001b[1;34m(self)\u001b[0m\n\u001b[0;32m    896\u001b[0m \u001b[38;5;28;01mtry\u001b[39;00m:\n\u001b[0;32m    897\u001b[0m     \u001b[38;5;28mself\u001b[39m\u001b[38;5;241m.\u001b[39mstarttime \u001b[38;5;241m=\u001b[39m time\u001b[38;5;241m.\u001b[39mtime()\n\u001b[1;32m--> 898\u001b[0m     \u001b[38;5;28mself\u001b[39m\u001b[38;5;241m.\u001b[39mdbapi_connection \u001b[38;5;241m=\u001b[39m connection \u001b[38;5;241m=\u001b[39m \u001b[43mpool\u001b[49m\u001b[38;5;241;43m.\u001b[39;49m\u001b[43m_invoke_creator\u001b[49m\u001b[43m(\u001b[49m\u001b[38;5;28;43mself\u001b[39;49m\u001b[43m)\u001b[49m\n\u001b[0;32m    899\u001b[0m     pool\u001b[38;5;241m.\u001b[39mlogger\u001b[38;5;241m.\u001b[39mdebug(\u001b[38;5;124m\"\u001b[39m\u001b[38;5;124mCreated new connection \u001b[39m\u001b[38;5;132;01m%r\u001b[39;00m\u001b[38;5;124m\"\u001b[39m, connection)\n\u001b[0;32m    900\u001b[0m     \u001b[38;5;28mself\u001b[39m\u001b[38;5;241m.\u001b[39mfresh \u001b[38;5;241m=\u001b[39m \u001b[38;5;28;01mTrue\u001b[39;00m\n",
      "File \u001b[1;32m~\\AppData\\Local\\Programs\\Python\\Python310\\lib\\site-packages\\sqlalchemy\\engine\\create.py:637\u001b[0m, in \u001b[0;36mcreate_engine.<locals>.connect\u001b[1;34m(connection_record)\u001b[0m\n\u001b[0;32m    634\u001b[0m         \u001b[38;5;28;01mif\u001b[39;00m connection \u001b[38;5;129;01mis\u001b[39;00m \u001b[38;5;129;01mnot\u001b[39;00m \u001b[38;5;28;01mNone\u001b[39;00m:\n\u001b[0;32m    635\u001b[0m             \u001b[38;5;28;01mreturn\u001b[39;00m connection\n\u001b[1;32m--> 637\u001b[0m \u001b[38;5;28;01mreturn\u001b[39;00m dialect\u001b[38;5;241m.\u001b[39mconnect(\u001b[38;5;241m*\u001b[39mcargs, \u001b[38;5;241m*\u001b[39m\u001b[38;5;241m*\u001b[39mcparams)\n",
      "File \u001b[1;32m~\\AppData\\Local\\Programs\\Python\\Python310\\lib\\site-packages\\sqlalchemy\\engine\\default.py:615\u001b[0m, in \u001b[0;36mDefaultDialect.connect\u001b[1;34m(self, *cargs, **cparams)\u001b[0m\n\u001b[0;32m    613\u001b[0m \u001b[38;5;28;01mdef\u001b[39;00m \u001b[38;5;21mconnect\u001b[39m(\u001b[38;5;28mself\u001b[39m, \u001b[38;5;241m*\u001b[39mcargs, \u001b[38;5;241m*\u001b[39m\u001b[38;5;241m*\u001b[39mcparams):\n\u001b[0;32m    614\u001b[0m     \u001b[38;5;66;03m# inherits the docstring from interfaces.Dialect.connect\u001b[39;00m\n\u001b[1;32m--> 615\u001b[0m     \u001b[38;5;28;01mreturn\u001b[39;00m \u001b[38;5;28mself\u001b[39m\u001b[38;5;241m.\u001b[39mloaded_dbapi\u001b[38;5;241m.\u001b[39mconnect(\u001b[38;5;241m*\u001b[39mcargs, \u001b[38;5;241m*\u001b[39m\u001b[38;5;241m*\u001b[39mcparams)\n",
      "File \u001b[1;32m~\\AppData\\Local\\Programs\\Python\\Python310\\lib\\site-packages\\pymysql\\connections.py:352\u001b[0m, in \u001b[0;36mConnection.__init__\u001b[1;34m(self, user, password, host, database, unix_socket, port, charset, sql_mode, read_default_file, conv, use_unicode, client_flag, cursorclass, init_command, connect_timeout, read_default_group, autocommit, local_infile, max_allowed_packet, defer_connect, auth_plugin_map, read_timeout, write_timeout, bind_address, binary_prefix, program_name, server_public_key, ssl, ssl_ca, ssl_cert, ssl_disabled, ssl_key, ssl_verify_cert, ssl_verify_identity, compress, named_pipe, passwd, db)\u001b[0m\n\u001b[0;32m    350\u001b[0m     \u001b[38;5;28mself\u001b[39m\u001b[38;5;241m.\u001b[39m_sock \u001b[38;5;241m=\u001b[39m \u001b[38;5;28;01mNone\u001b[39;00m\n\u001b[0;32m    351\u001b[0m \u001b[38;5;28;01melse\u001b[39;00m:\n\u001b[1;32m--> 352\u001b[0m     \u001b[38;5;28;43mself\u001b[39;49m\u001b[38;5;241;43m.\u001b[39;49m\u001b[43mconnect\u001b[49m\u001b[43m(\u001b[49m\u001b[43m)\u001b[49m\n",
      "File \u001b[1;32m~\\AppData\\Local\\Programs\\Python\\Python310\\lib\\site-packages\\pymysql\\connections.py:636\u001b[0m, in \u001b[0;36mConnection.connect\u001b[1;34m(self, sock)\u001b[0m\n\u001b[0;32m    633\u001b[0m \u001b[38;5;28mself\u001b[39m\u001b[38;5;241m.\u001b[39m_next_seq_id \u001b[38;5;241m=\u001b[39m \u001b[38;5;241m0\u001b[39m\n\u001b[0;32m    635\u001b[0m \u001b[38;5;28mself\u001b[39m\u001b[38;5;241m.\u001b[39m_get_server_information()\n\u001b[1;32m--> 636\u001b[0m \u001b[38;5;28;43mself\u001b[39;49m\u001b[38;5;241;43m.\u001b[39;49m\u001b[43m_request_authentication\u001b[49m\u001b[43m(\u001b[49m\u001b[43m)\u001b[49m\n\u001b[0;32m    638\u001b[0m \u001b[38;5;28;01mif\u001b[39;00m \u001b[38;5;28mself\u001b[39m\u001b[38;5;241m.\u001b[39msql_mode \u001b[38;5;129;01mis\u001b[39;00m \u001b[38;5;129;01mnot\u001b[39;00m \u001b[38;5;28;01mNone\u001b[39;00m:\n\u001b[0;32m    639\u001b[0m     c \u001b[38;5;241m=\u001b[39m \u001b[38;5;28mself\u001b[39m\u001b[38;5;241m.\u001b[39mcursor()\n",
      "File \u001b[1;32m~\\AppData\\Local\\Programs\\Python\\Python310\\lib\\site-packages\\pymysql\\connections.py:933\u001b[0m, in \u001b[0;36mConnection._request_authentication\u001b[1;34m(self)\u001b[0m\n\u001b[0;32m    931\u001b[0m \u001b[38;5;66;03m# https://dev.mysql.com/doc/internals/en/successful-authentication.html\u001b[39;00m\n\u001b[0;32m    932\u001b[0m \u001b[38;5;28;01mif\u001b[39;00m \u001b[38;5;28mself\u001b[39m\u001b[38;5;241m.\u001b[39m_auth_plugin_name \u001b[38;5;241m==\u001b[39m \u001b[38;5;124m\"\u001b[39m\u001b[38;5;124mcaching_sha2_password\u001b[39m\u001b[38;5;124m\"\u001b[39m:\n\u001b[1;32m--> 933\u001b[0m     auth_packet \u001b[38;5;241m=\u001b[39m \u001b[43m_auth\u001b[49m\u001b[38;5;241;43m.\u001b[39;49m\u001b[43mcaching_sha2_password_auth\u001b[49m\u001b[43m(\u001b[49m\u001b[38;5;28;43mself\u001b[39;49m\u001b[43m,\u001b[49m\u001b[43m \u001b[49m\u001b[43mauth_packet\u001b[49m\u001b[43m)\u001b[49m\n\u001b[0;32m    934\u001b[0m \u001b[38;5;28;01melif\u001b[39;00m \u001b[38;5;28mself\u001b[39m\u001b[38;5;241m.\u001b[39m_auth_plugin_name \u001b[38;5;241m==\u001b[39m \u001b[38;5;124m\"\u001b[39m\u001b[38;5;124msha256_password\u001b[39m\u001b[38;5;124m\"\u001b[39m:\n\u001b[0;32m    935\u001b[0m     auth_packet \u001b[38;5;241m=\u001b[39m _auth\u001b[38;5;241m.\u001b[39msha256_password_auth(\u001b[38;5;28mself\u001b[39m, auth_packet)\n",
      "File \u001b[1;32m~\\AppData\\Local\\Programs\\Python\\Python310\\lib\\site-packages\\pymysql\\_auth.py:265\u001b[0m, in \u001b[0;36mcaching_sha2_password_auth\u001b[1;34m(conn, pkt)\u001b[0m\n\u001b[0;32m    262\u001b[0m     \u001b[38;5;28;01mif\u001b[39;00m DEBUG:\n\u001b[0;32m    263\u001b[0m         \u001b[38;5;28mprint\u001b[39m(conn\u001b[38;5;241m.\u001b[39mserver_public_key\u001b[38;5;241m.\u001b[39mdecode(\u001b[38;5;124m\"\u001b[39m\u001b[38;5;124mascii\u001b[39m\u001b[38;5;124m\"\u001b[39m))\n\u001b[1;32m--> 265\u001b[0m data \u001b[38;5;241m=\u001b[39m \u001b[43msha2_rsa_encrypt\u001b[49m\u001b[43m(\u001b[49m\u001b[43mconn\u001b[49m\u001b[38;5;241;43m.\u001b[39;49m\u001b[43mpassword\u001b[49m\u001b[43m,\u001b[49m\u001b[43m \u001b[49m\u001b[43mconn\u001b[49m\u001b[38;5;241;43m.\u001b[39;49m\u001b[43msalt\u001b[49m\u001b[43m,\u001b[49m\u001b[43m \u001b[49m\u001b[43mconn\u001b[49m\u001b[38;5;241;43m.\u001b[39;49m\u001b[43mserver_public_key\u001b[49m\u001b[43m)\u001b[49m\n\u001b[0;32m    266\u001b[0m pkt \u001b[38;5;241m=\u001b[39m _roundtrip(conn, data)\n",
      "File \u001b[1;32m~\\AppData\\Local\\Programs\\Python\\Python310\\lib\\site-packages\\pymysql\\_auth.py:143\u001b[0m, in \u001b[0;36msha2_rsa_encrypt\u001b[1;34m(password, salt, public_key)\u001b[0m\n\u001b[0;32m    138\u001b[0m \u001b[38;5;124;03m\"\"\"Encrypt password with salt and public_key.\u001b[39;00m\n\u001b[0;32m    139\u001b[0m \n\u001b[0;32m    140\u001b[0m \u001b[38;5;124;03mUsed for sha256_password and caching_sha2_password.\u001b[39;00m\n\u001b[0;32m    141\u001b[0m \u001b[38;5;124;03m\"\"\"\u001b[39;00m\n\u001b[0;32m    142\u001b[0m \u001b[38;5;28;01mif\u001b[39;00m \u001b[38;5;129;01mnot\u001b[39;00m _have_cryptography:\n\u001b[1;32m--> 143\u001b[0m     \u001b[38;5;28;01mraise\u001b[39;00m \u001b[38;5;167;01mRuntimeError\u001b[39;00m(\n\u001b[0;32m    144\u001b[0m         \u001b[38;5;124m\"\u001b[39m\u001b[38;5;124m'\u001b[39m\u001b[38;5;124mcryptography\u001b[39m\u001b[38;5;124m'\u001b[39m\u001b[38;5;124m package is required for sha256_password or caching_sha2_password auth methods\u001b[39m\u001b[38;5;124m\"\u001b[39m\n\u001b[0;32m    145\u001b[0m     )\n\u001b[0;32m    146\u001b[0m message \u001b[38;5;241m=\u001b[39m _xor_password(password \u001b[38;5;241m+\u001b[39m \u001b[38;5;124mb\u001b[39m\u001b[38;5;124m\"\u001b[39m\u001b[38;5;130;01m\\0\u001b[39;00m\u001b[38;5;124m\"\u001b[39m, salt)\n\u001b[0;32m    147\u001b[0m rsa_key \u001b[38;5;241m=\u001b[39m serialization\u001b[38;5;241m.\u001b[39mload_pem_public_key(public_key, default_backend())\n",
      "\u001b[1;31mRuntimeError\u001b[0m: 'cryptography' package is required for sha256_password or caching_sha2_password auth methods"
     ]
    }
   ],
   "source": [
    "from sqlalchemy import create_engine\n",
    "from sqlalchemy.ext.declarative import declarative_base\n",
    "from sqlalchemy import Column, String, Integer, Date\n",
    "\n",
    "eng = create_engine(\"mysql+pymysql://root:root@/car_rental\", echo = True)\n",
    "\n",
    "base = declarative_base()\n",
    "\n",
    "class Cars(base):\n",
    "   __tablename__ = 'cars'\n",
    "\n",
    "   car_id = Column(Integer, primary_key=True, autoincrement=True)\n",
    "   producer = Column(String(30), nullable=False)\n",
    "   model = Column(String(30), nullable=False)\n",
    "   year = Column(Integer, nullable=False)\n",
    "   horse_power = Column(Integer, nullable=False)\n",
    "   price_per_day = Column(Integer, nullable=False)\n",
    "\n",
    "class Clients(base):\n",
    "    __tablename__ = 'clients'\n",
    "\n",
    "    client_id = Column(Integer, primary_key=True, autoincrement=True)\n",
    "    name = Column(String(30), nullable=False)\n",
    "    surname = Column(String(30), nullable=False)\n",
    "    address = Column(String(30), nullable=False)\n",
    "    city = Column(String(30), nullable=False)\n",
    "\n",
    "class Bookings(base):\n",
    "    __tablename__ = 'bookings'\n",
    "\n",
    "    booking_id = Column(Integer, primary_key=True, autoincrement=True)\n",
    "    client_id = Column(Integer, nullable=False)\n",
    "    car_id = Column(Integer, nullable=False)\n",
    "    start_date = Column(Date, nullable=False)\n",
    "    end_date = Column(Date, nullable=False)\n",
    "    total_amount = Column(Integer, nullable=False)\n",
    "\n",
    "base.metadata.create_all(eng)"
   ]
  },
  {
   "cell_type": "markdown",
   "metadata": {
    "id": "a2MSjQgHlDQx"
   },
   "source": [
    "To samo zadanie można wykonać za pomocą odpowiednich zapytań SQLa:"
   ]
  },
  {
   "cell_type": "code",
   "execution_count": null,
   "metadata": {
    "colab": {
     "base_uri": "https://localhost:8080/",
     "height": 258
    },
    "id": "KpsxSoxfh8hb",
    "outputId": "e9875542-4acf-4b3a-9aa4-0ab3558da1ae"
   },
   "outputs": [
    {
     "name": "stdout",
     "output_type": "stream",
     "text": [
      "2020-10-16 22:45:54,704 INFO sqlalchemy.engine.base.Engine CREATE TABLE sql_booking(booking_id INTEGER PRIMARY KEY,client_id INTEGER,car_id INTEGER,start_date DATE,end_date DATE,total_amount INTEGER);\n",
      "2020-10-16 22:45:54,705 INFO sqlalchemy.engine.base.Engine {}\n",
      "2020-10-16 22:45:54,742 INFO sqlalchemy.engine.base.Engine COMMIT\n",
      "2020-10-16 22:45:54,744 INFO sqlalchemy.engine.base.Engine SHOW TABLES;\n",
      "2020-10-16 22:45:54,745 INFO sqlalchemy.engine.base.Engine {}\n",
      "('bookings',)\n",
      "('cars',)\n",
      "('clients',)\n",
      "('sql_booking',)\n",
      "2020-10-16 22:45:54,751 INFO sqlalchemy.engine.base.Engine DROP TABLE sql_booking\n",
      "2020-10-16 22:45:54,752 INFO sqlalchemy.engine.base.Engine {}\n",
      "2020-10-16 22:45:54,774 INFO sqlalchemy.engine.base.Engine COMMIT\n"
     ]
    },
    {
     "data": {
      "text/plain": [
       "<sqlalchemy.engine.result.ResultProxy at 0x7f1fae45c588>"
      ]
     },
     "execution_count": 24,
     "metadata": {
      "tags": []
     },
     "output_type": "execute_result"
    }
   ],
   "source": [
    "sql_statement = 'CREATE TABLE sql_booking(booking_id INTEGER PRIMARY KEY,' \\\n",
    "'client_id INTEGER,car_id INTEGER,start_date DATE,end_date DATE,total_amount INTEGER);'\n",
    "\n",
    "eng.execute(sql_statement)\n",
    "\n",
    "# Check\n",
    "result = eng.execute(\"SHOW TABLES;\")\n",
    "for description in result:\n",
    "    print(description)\n",
    "\n",
    "sql_statement = 'DROP TABLE sql_booking'\n",
    "eng.execute(sql_statement)"
   ]
  },
  {
   "cell_type": "markdown",
   "metadata": {
    "id": "paP2CpQrnOzn"
   },
   "source": [
    "Kolejne zadanie to dodanie kilku instancji do naszej tabeli"
   ]
  },
  {
   "cell_type": "code",
   "execution_count": null,
   "metadata": {
    "colab": {
     "base_uri": "https://localhost:8080/",
     "height": 139
    },
    "id": "xR7voe8yAc81",
    "outputId": "ef97804d-475e-42f2-e6ca-b2cdd60636a6"
   },
   "outputs": [
    {
     "name": "stdout",
     "output_type": "stream",
     "text": [
      "2020-10-16 22:43:06,932 INFO sqlalchemy.engine.base.Engine BEGIN (implicit)\n",
      "2020-10-16 22:43:06,935 INFO sqlalchemy.engine.base.Engine INSERT INTO cars (producer, model, year, horse_power, price_per_day) VALUES (%(producer)s, %(model)s, %(year)s, %(horse_power)s, %(price_per_day)s)\n",
      "2020-10-16 22:43:06,936 INFO sqlalchemy.engine.base.Engine {'producer': 'Seat', 'model': 'Leon', 'year': 2016, 'horse_power': 80, 'price_per_day': 200}\n",
      "2020-10-16 22:43:06,944 INFO sqlalchemy.engine.base.Engine INSERT INTO clients (name, surname, address, city) VALUES (%(name)s, %(surname)s, %(address)s, %(city)s)\n",
      "2020-10-16 22:43:06,955 INFO sqlalchemy.engine.base.Engine {'name': 'Jan', 'surname': 'Kowalski', 'address': 'ul. Florianska 12', 'city': 'Krakow'}\n",
      "2020-10-16 22:43:06,959 INFO sqlalchemy.engine.base.Engine COMMIT\n"
     ]
    }
   ],
   "source": [
    "from sqlalchemy.orm import sessionmaker\n",
    "\n",
    "Session = sessionmaker(bind=eng)\n",
    "session = Session()\n",
    "client_1 = Clients(name='Jan', surname='Kowalski', address='ul. Florianska 12', city='Krakow')\n",
    "car_1 = Cars(producer='Seat', model='Leon', year=2016, horse_power=80, price_per_day=200)\n",
    "\n",
    "session.add(client_1)\n",
    "session.add(car_1)\n",
    "session.commit()"
   ]
  },
  {
   "cell_type": "markdown",
   "metadata": {
    "id": "K2l_QxvWnUNE"
   },
   "source": [
    "W kolejnym należy wyświetlić zawartość poszczególnych tabel"
   ]
  },
  {
   "cell_type": "code",
   "execution_count": null,
   "metadata": {
    "colab": {
     "base_uri": "https://localhost:8080/",
     "height": 224
    },
    "id": "wIZkw5NrAj9w",
    "outputId": "311e9cb5-a4c1-4a2a-db96-3cfc5e76c9cc"
   },
   "outputs": [
    {
     "name": "stdout",
     "output_type": "stream",
     "text": [
      "2020-10-16 22:51:43,926 INFO sqlalchemy.engine.base.Engine BEGIN (implicit)\n",
      "2020-10-16 22:51:43,928 INFO sqlalchemy.engine.base.Engine SELECT clients.client_id AS clients_client_id, clients.name AS clients_name, clients.surname AS clients_surname, clients.address AS clients_address, clients.city AS clients_city \n",
      "FROM clients\n",
      "2020-10-16 22:51:43,930 INFO sqlalchemy.engine.base.Engine {}\n",
      "<__main__.Clients object at 0x7f1fae463d30>\n",
      "<__main__.Clients object at 0x7f1fae463c50>\n",
      "2020-10-16 22:51:43,935 INFO sqlalchemy.engine.base.Engine SELECT cars.car_id AS cars_car_id, cars.producer AS cars_producer, cars.model AS cars_model, cars.year AS cars_year, cars.horse_power AS cars_horse_power, cars.price_per_day AS cars_price_per_day \n",
      "FROM cars\n",
      "2020-10-16 22:51:43,936 INFO sqlalchemy.engine.base.Engine {}\n",
      "<Car: id=1, producer=Seat,model=Leon, year=2016,horse_power=80, price_per_day=200>\n",
      "<Car: id=2, producer=Seat,model=Leon, year=2016,horse_power=80, price_per_day=200>\n"
     ]
    }
   ],
   "source": [
    "from sqlalchemy.orm import sessionmaker\n",
    "\n",
    "Session = sessionmaker(bind=eng)\n",
    "session = Session()\n",
    "\n",
    "for client in session.query(Clients).all():\n",
    "    print(client)\n",
    "\n",
    "for car in session.query(Cars).all():\n",
    "    print(car)\n"
   ]
  },
  {
   "cell_type": "markdown",
   "metadata": {
    "id": "yWIUOIQYneJb"
   },
   "source": [
    "W celu zwiększenia czytelności warto zdefiniować reprezentację stringową naszych obiektów."
   ]
  },
  {
   "cell_type": "code",
   "execution_count": null,
   "metadata": {
    "colab": {
     "base_uri": "https://localhost:8080/",
     "height": 377
    },
    "id": "73u59pQXnFxl",
    "outputId": "b41c8a9e-66fd-4a75-84ae-406240734b29"
   },
   "outputs": [
    {
     "name": "stdout",
     "output_type": "stream",
     "text": [
      "2020-10-16 22:51:48,168 INFO sqlalchemy.engine.base.Engine SHOW VARIABLES LIKE 'sql_mode'\n",
      "2020-10-16 22:51:48,170 INFO sqlalchemy.engine.base.Engine {}\n",
      "2020-10-16 22:51:48,176 INFO sqlalchemy.engine.base.Engine SHOW VARIABLES LIKE 'lower_case_table_names'\n",
      "2020-10-16 22:51:48,178 INFO sqlalchemy.engine.base.Engine {}\n",
      "2020-10-16 22:51:48,182 INFO sqlalchemy.engine.base.Engine SELECT DATABASE()\n",
      "2020-10-16 22:51:48,183 INFO sqlalchemy.engine.base.Engine {}\n",
      "2020-10-16 22:51:48,185 INFO sqlalchemy.engine.base.Engine show collation where `Charset` = 'utf8mb4' and `Collation` = 'utf8mb4_bin'\n",
      "2020-10-16 22:51:48,188 INFO sqlalchemy.engine.base.Engine {}\n",
      "2020-10-16 22:51:48,191 INFO sqlalchemy.engine.base.Engine SELECT CAST('test plain returns' AS CHAR(60)) AS anon_1\n",
      "2020-10-16 22:51:48,192 INFO sqlalchemy.engine.base.Engine {}\n",
      "2020-10-16 22:51:48,195 INFO sqlalchemy.engine.base.Engine SELECT CAST('test unicode returns' AS CHAR(60)) AS anon_1\n",
      "2020-10-16 22:51:48,196 INFO sqlalchemy.engine.base.Engine {}\n",
      "2020-10-16 22:51:48,198 INFO sqlalchemy.engine.base.Engine SELECT CAST('test collated returns' AS CHAR CHARACTER SET utf8mb4) COLLATE utf8mb4_bin AS anon_1\n",
      "2020-10-16 22:51:48,199 INFO sqlalchemy.engine.base.Engine {}\n",
      "2020-10-16 22:51:48,201 INFO sqlalchemy.engine.base.Engine DESCRIBE `cars`\n",
      "2020-10-16 22:51:48,202 INFO sqlalchemy.engine.base.Engine {}\n",
      "2020-10-16 22:51:48,205 INFO sqlalchemy.engine.base.Engine DESCRIBE `clients`\n",
      "2020-10-16 22:51:48,206 INFO sqlalchemy.engine.base.Engine {}\n",
      "2020-10-16 22:51:48,210 INFO sqlalchemy.engine.base.Engine DESCRIBE `bookings`\n",
      "2020-10-16 22:51:48,210 INFO sqlalchemy.engine.base.Engine {}\n"
     ]
    }
   ],
   "source": [
    "from sqlalchemy import create_engine\n",
    "from sqlalchemy.ext.declarative import declarative_base\n",
    "from sqlalchemy import Column, String, Integer, Date\n",
    "\n",
    "eng = create_engine(\"mysql+pymysql://root:root@/car_rental\", echo = True)\n",
    "\n",
    "base = declarative_base()\n",
    "\n",
    "class Cars(base):\n",
    "   __tablename__ = 'cars'\n",
    "\n",
    "   car_id = Column(Integer, primary_key=True, autoincrement=True)\n",
    "   producer = Column(String(30), nullable=False)\n",
    "   model = Column(String(30), nullable=False)\n",
    "   year = Column(Integer, nullable=False)\n",
    "   horse_power = Column(Integer, nullable=False)\n",
    "   price_per_day = Column(Integer, nullable=False)\n",
    "\n",
    "   def __repr__(self):\n",
    "       return f'<Car: id={self.car_id}, producer={self.producer},' \\\n",
    "              f'model={self.model}, year={self.year},' \\\n",
    "              f'horse_power={self.horse_power}, price_per_day={self.price_per_day}>'\n",
    "\n",
    "\n",
    "class Clients(base):\n",
    "    __tablename__ = 'clients'\n",
    "\n",
    "    client_id = Column(Integer, primary_key=True, autoincrement=True)\n",
    "    name = Column(String(30), nullable=False)\n",
    "    surname = Column(String(30), nullable=False)\n",
    "    address = Column(String(30), nullable=False)\n",
    "    city = Column(String(30), nullable=False)\n",
    "\n",
    "class Bookings(base):\n",
    "    __tablename__ = 'bookings'\n",
    "\n",
    "    booking_id = Column(Integer, primary_key=True, autoincrement=True)\n",
    "    client_id = Column(Integer, nullable=False)\n",
    "    car_id = Column(Integer, nullable=False)\n",
    "    start_date = Column(Date, nullable=False)\n",
    "    end_date = Column(Date, nullable=False)\n",
    "    total_amount = Column(Integer, nullable=False)\n",
    "\n",
    "base.metadata.create_all(eng)"
   ]
  },
  {
   "cell_type": "markdown",
   "metadata": {
    "id": "g0SlI_ccnxec"
   },
   "source": [
    "Teraz uzyskamy troszkę bardziej czytelne wyniki:\n",
    "\n",
    "Przy okazji w taki sposób można wykorzystać select"
   ]
  },
  {
   "cell_type": "code",
   "execution_count": null,
   "metadata": {
    "colab": {
     "base_uri": "https://localhost:8080/",
     "height": 258
    },
    "id": "fNbj5SkXnuz7",
    "outputId": "87825562-dccd-4d18-a41d-9f70140a6871"
   },
   "outputs": [
    {
     "name": "stdout",
     "output_type": "stream",
     "text": [
      "SELECT clients.client_id, clients.name, clients.surname, clients.address, clients.city \n",
      "FROM clients\n",
      "2020-10-16 22:57:26,251 INFO sqlalchemy.engine.base.Engine SELECT clients.client_id, clients.name, clients.surname, clients.address, clients.city \n",
      "FROM clients\n",
      "2020-10-16 22:57:26,252 INFO sqlalchemy.engine.base.Engine {}\n",
      "(1, 'Jan', 'Kowalski', 'ul. Florianska 12', 'Krakow')\n",
      "(2, 'Jan', 'Kowalski', 'ul. Florianska 12', 'Krakow')\n",
      "2020-10-16 22:57:26,257 INFO sqlalchemy.engine.base.Engine BEGIN (implicit)\n",
      "2020-10-16 22:57:26,259 INFO sqlalchemy.engine.base.Engine SELECT cars.car_id AS cars_car_id, cars.producer AS cars_producer, cars.model AS cars_model, cars.year AS cars_year, cars.horse_power AS cars_horse_power, cars.price_per_day AS cars_price_per_day \n",
      "FROM cars\n",
      "2020-10-16 22:57:26,261 INFO sqlalchemy.engine.base.Engine {}\n",
      "<Car: id=1, producer=Seat,model=Leon, year=2016,horse_power=80, price_per_day=200>\n",
      "<Car: id=2, producer=Seat,model=Leon, year=2016,horse_power=80, price_per_day=200>\n"
     ]
    }
   ],
   "source": [
    "from sqlalchemy.orm import sessionmaker\n",
    "from sqlalchemy import select\n",
    "\n",
    "Session = sessionmaker(bind=eng)\n",
    "session = Session()\n",
    "\n",
    "s = select([Clients]) # Make sql_statement\n",
    "print(s)\n",
    "\n",
    "for row in eng.execute(s):\n",
    "\tprint(row)\n",
    "\n",
    "for car in session.query(Cars).all():\n",
    "    print(car)"
   ]
  },
  {
   "cell_type": "markdown",
   "metadata": {
    "id": "pUbGd_LapBE5"
   },
   "source": [
    "Stwórzmy teraz możliwość dodawania dużej ilośc danych poprzez funkcje insert_data"
   ]
  },
  {
   "cell_type": "code",
   "execution_count": null,
   "metadata": {
    "colab": {
     "base_uri": "https://localhost:8080/",
     "height": 1000
    },
    "id": "LpXXR6N1pAQa",
    "outputId": "69904a83-47af-4d9b-92fa-a8ee24880dff"
   },
   "outputs": [
    {
     "name": "stdout",
     "output_type": "stream",
     "text": [
      "2020-10-16 23:00:51,022 INFO sqlalchemy.engine.base.Engine INSERT INTO clients (name, surname, address, city) VALUES (%(name)s, %(surname)s, %(address)s, %(city)s)\n",
      "2020-10-16 23:00:51,025 INFO sqlalchemy.engine.base.Engine {'name': 'Jan', 'surname': 'Kowalski', 'address': 'ul. Florianska 12', 'city': 'Krakow'}\n",
      "2020-10-16 23:00:51,029 INFO sqlalchemy.engine.base.Engine COMMIT\n",
      "2020-10-16 23:00:51,039 INFO sqlalchemy.engine.base.Engine BEGIN (implicit)\n",
      "2020-10-16 23:00:51,043 INFO sqlalchemy.engine.base.Engine INSERT INTO clients (name, surname, address, city) VALUES (%(name)s, %(surname)s, %(address)s, %(city)s)\n",
      "2020-10-16 23:00:51,044 INFO sqlalchemy.engine.base.Engine {'name': 'Andrzej', 'surname': 'Nowak', 'address': 'ul. Saska 43', 'city': 'Wroclaw'}\n",
      "2020-10-16 23:00:51,047 INFO sqlalchemy.engine.base.Engine COMMIT\n",
      "2020-10-16 23:00:51,057 INFO sqlalchemy.engine.base.Engine BEGIN (implicit)\n",
      "2020-10-16 23:00:51,058 INFO sqlalchemy.engine.base.Engine INSERT INTO clients (name, surname, address, city) VALUES (%(name)s, %(surname)s, %(address)s, %(city)s)\n",
      "2020-10-16 23:00:51,059 INFO sqlalchemy.engine.base.Engine {'name': 'Michal', 'surname': 'Taki', 'address': 'os. Srodkowe 12', 'city': 'Poznan'}\n",
      "2020-10-16 23:00:51,061 INFO sqlalchemy.engine.base.Engine COMMIT\n",
      "2020-10-16 23:00:51,070 INFO sqlalchemy.engine.base.Engine BEGIN (implicit)\n",
      "2020-10-16 23:00:51,071 INFO sqlalchemy.engine.base.Engine INSERT INTO clients (name, surname, address, city) VALUES (%(name)s, %(surname)s, %(address)s, %(city)s)\n",
      "2020-10-16 23:00:51,072 INFO sqlalchemy.engine.base.Engine {'name': 'Pawel', 'surname': 'Ktory', 'address': 'ul. Stara 11', 'city': 'Gdynia'}\n",
      "2020-10-16 23:00:51,075 INFO sqlalchemy.engine.base.Engine COMMIT\n",
      "2020-10-16 23:00:51,085 INFO sqlalchemy.engine.base.Engine BEGIN (implicit)\n",
      "2020-10-16 23:00:51,086 INFO sqlalchemy.engine.base.Engine INSERT INTO clients (name, surname, address, city) VALUES (%(name)s, %(surname)s, %(address)s, %(city)s)\n",
      "2020-10-16 23:00:51,086 INFO sqlalchemy.engine.base.Engine {'name': 'Anna', 'surname': 'Inna', 'address': 'os. Srednie 1', 'city': 'Gniezno'}\n",
      "2020-10-16 23:00:51,088 INFO sqlalchemy.engine.base.Engine COMMIT\n",
      "2020-10-16 23:00:51,098 INFO sqlalchemy.engine.base.Engine BEGIN (implicit)\n",
      "2020-10-16 23:00:51,100 INFO sqlalchemy.engine.base.Engine INSERT INTO clients (name, surname, address, city) VALUES (%(name)s, %(surname)s, %(address)s, %(city)s)\n",
      "2020-10-16 23:00:51,102 INFO sqlalchemy.engine.base.Engine {'name': 'Alicja', 'surname': 'Panna', 'address': 'os. Duze 33', 'city': 'Torun'}\n",
      "2020-10-16 23:00:51,105 INFO sqlalchemy.engine.base.Engine COMMIT\n",
      "2020-10-16 23:00:51,113 INFO sqlalchemy.engine.base.Engine BEGIN (implicit)\n",
      "2020-10-16 23:00:51,115 INFO sqlalchemy.engine.base.Engine INSERT INTO clients (name, surname, address, city) VALUES (%(name)s, %(surname)s, %(address)s, %(city)s)\n",
      "2020-10-16 23:00:51,117 INFO sqlalchemy.engine.base.Engine {'name': 'Damian', 'surname': 'Papa', 'address': 'ul. Skosna 66', 'city': 'Warszawa'}\n",
      "2020-10-16 23:00:51,120 INFO sqlalchemy.engine.base.Engine COMMIT\n",
      "2020-10-16 23:00:51,128 INFO sqlalchemy.engine.base.Engine BEGIN (implicit)\n",
      "2020-10-16 23:00:51,129 INFO sqlalchemy.engine.base.Engine INSERT INTO clients (name, surname, address, city) VALUES (%(name)s, %(surname)s, %(address)s, %(city)s)\n",
      "2020-10-16 23:00:51,131 INFO sqlalchemy.engine.base.Engine {'name': 'Marek', 'surname': 'Troska', 'address': 'os. Male 90', 'city': 'Radom'}\n",
      "2020-10-16 23:00:51,133 INFO sqlalchemy.engine.base.Engine COMMIT\n",
      "2020-10-16 23:00:51,143 INFO sqlalchemy.engine.base.Engine BEGIN (implicit)\n",
      "2020-10-16 23:00:51,145 INFO sqlalchemy.engine.base.Engine INSERT INTO clients (name, surname, address, city) VALUES (%(name)s, %(surname)s, %(address)s, %(city)s)\n",
      "2020-10-16 23:00:51,145 INFO sqlalchemy.engine.base.Engine {'name': 'Jakub', 'surname': 'Klos', 'address': 'os. Polskie 19', 'city': 'Wadowice'}\n",
      "2020-10-16 23:00:51,150 INFO sqlalchemy.engine.base.Engine COMMIT\n",
      "2020-10-16 23:00:51,157 INFO sqlalchemy.engine.base.Engine BEGIN (implicit)\n",
      "2020-10-16 23:00:51,159 INFO sqlalchemy.engine.base.Engine INSERT INTO clients (name, surname, address, city) VALUES (%(name)s, %(surname)s, %(address)s, %(city)s)\n",
      "2020-10-16 23:00:51,159 INFO sqlalchemy.engine.base.Engine {'name': 'Lukasz', 'surname': 'Lis', 'address': 'os. Podlaskie 90', 'city': 'Bialystok'}\n",
      "2020-10-16 23:00:51,166 INFO sqlalchemy.engine.base.Engine COMMIT\n",
      "2020-10-16 23:00:51,175 INFO sqlalchemy.engine.base.Engine BEGIN (implicit)\n",
      "2020-10-16 23:00:51,176 INFO sqlalchemy.engine.base.Engine INSERT INTO cars (producer, model, year, horse_power, price_per_day) VALUES (%(producer)s, %(model)s, %(year)s, %(horse_power)s, %(price_per_day)s)\n",
      "2020-10-16 23:00:51,179 INFO sqlalchemy.engine.base.Engine {'producer': 'Seat', 'model': 'Leon', 'year': 2016, 'horse_power': 80, 'price_per_day': 200}\n",
      "2020-10-16 23:00:51,185 INFO sqlalchemy.engine.base.Engine COMMIT\n",
      "2020-10-16 23:00:51,192 INFO sqlalchemy.engine.base.Engine BEGIN (implicit)\n",
      "2020-10-16 23:00:51,193 INFO sqlalchemy.engine.base.Engine INSERT INTO cars (producer, model, year, horse_power, price_per_day) VALUES (%(producer)s, %(model)s, %(year)s, %(horse_power)s, %(price_per_day)s)\n",
      "2020-10-16 23:00:51,195 INFO sqlalchemy.engine.base.Engine {'producer': 'Toyota', 'model': 'Avensis', 'year': 2014, 'horse_power': 72, 'price_per_day': 100}\n",
      "2020-10-16 23:00:51,198 INFO sqlalchemy.engine.base.Engine COMMIT\n",
      "2020-10-16 23:00:51,206 INFO sqlalchemy.engine.base.Engine BEGIN (implicit)\n",
      "2020-10-16 23:00:51,207 INFO sqlalchemy.engine.base.Engine INSERT INTO cars (producer, model, year, horse_power, price_per_day) VALUES (%(producer)s, %(model)s, %(year)s, %(horse_power)s, %(price_per_day)s)\n",
      "2020-10-16 23:00:51,211 INFO sqlalchemy.engine.base.Engine {'producer': 'Mercedes', 'model': 'CLK', 'year': 2018, 'horse_power': 190, 'price_per_day': 400}\n",
      "2020-10-16 23:00:51,214 INFO sqlalchemy.engine.base.Engine COMMIT\n",
      "2020-10-16 23:00:51,221 INFO sqlalchemy.engine.base.Engine BEGIN (implicit)\n",
      "2020-10-16 23:00:51,222 INFO sqlalchemy.engine.base.Engine INSERT INTO cars (producer, model, year, horse_power, price_per_day) VALUES (%(producer)s, %(model)s, %(year)s, %(horse_power)s, %(price_per_day)s)\n",
      "2020-10-16 23:00:51,223 INFO sqlalchemy.engine.base.Engine {'producer': 'Hyundai', 'model': 'Coupe', 'year': 2014, 'horse_power': 165, 'price_per_day': 300}\n",
      "2020-10-16 23:00:51,229 INFO sqlalchemy.engine.base.Engine COMMIT\n",
      "2020-10-16 23:00:51,236 INFO sqlalchemy.engine.base.Engine BEGIN (implicit)\n",
      "2020-10-16 23:00:51,238 INFO sqlalchemy.engine.base.Engine INSERT INTO cars (producer, model, year, horse_power, price_per_day) VALUES (%(producer)s, %(model)s, %(year)s, %(horse_power)s, %(price_per_day)s)\n",
      "2020-10-16 23:00:51,241 INFO sqlalchemy.engine.base.Engine {'producer': 'Dacia', 'model': 'Logan', 'year': 2015, 'horse_power': 103, 'price_per_day': 150}\n",
      "2020-10-16 23:00:51,247 INFO sqlalchemy.engine.base.Engine COMMIT\n",
      "2020-10-16 23:00:51,254 INFO sqlalchemy.engine.base.Engine BEGIN (implicit)\n",
      "2020-10-16 23:00:51,255 INFO sqlalchemy.engine.base.Engine INSERT INTO cars (producer, model, year, horse_power, price_per_day) VALUES (%(producer)s, %(model)s, %(year)s, %(horse_power)s, %(price_per_day)s)\n",
      "2020-10-16 23:00:51,256 INFO sqlalchemy.engine.base.Engine {'producer': 'Saab', 'model': '95', 'year': 2012, 'horse_power': 140, 'price_per_day': 140}\n",
      "2020-10-16 23:00:51,260 INFO sqlalchemy.engine.base.Engine COMMIT\n",
      "2020-10-16 23:00:51,267 INFO sqlalchemy.engine.base.Engine BEGIN (implicit)\n",
      "2020-10-16 23:00:51,269 INFO sqlalchemy.engine.base.Engine INSERT INTO cars (producer, model, year, horse_power, price_per_day) VALUES (%(producer)s, %(model)s, %(year)s, %(horse_power)s, %(price_per_day)s)\n",
      "2020-10-16 23:00:51,270 INFO sqlalchemy.engine.base.Engine {'producer': 'BMW', 'model': 'E36', 'year': 2007, 'horse_power': 110, 'price_per_day': 80}\n",
      "2020-10-16 23:00:51,273 INFO sqlalchemy.engine.base.Engine COMMIT\n",
      "2020-10-16 23:00:51,281 INFO sqlalchemy.engine.base.Engine BEGIN (implicit)\n",
      "2020-10-16 23:00:51,282 INFO sqlalchemy.engine.base.Engine INSERT INTO cars (producer, model, year, horse_power, price_per_day) VALUES (%(producer)s, %(model)s, %(year)s, %(horse_power)s, %(price_per_day)s)\n",
      "2020-10-16 23:00:51,283 INFO sqlalchemy.engine.base.Engine {'producer': 'Fiat', 'model': 'Panda', 'year': 2016, 'horse_power': 77, 'price_per_day': 190}\n",
      "2020-10-16 23:00:51,285 INFO sqlalchemy.engine.base.Engine COMMIT\n",
      "2020-10-16 23:00:51,294 INFO sqlalchemy.engine.base.Engine BEGIN (implicit)\n",
      "2020-10-16 23:00:51,295 INFO sqlalchemy.engine.base.Engine INSERT INTO cars (producer, model, year, horse_power, price_per_day) VALUES (%(producer)s, %(model)s, %(year)s, %(horse_power)s, %(price_per_day)s)\n",
      "2020-10-16 23:00:51,295 INFO sqlalchemy.engine.base.Engine {'producer': 'Honda', 'model': 'Civic', 'year': 2019, 'horse_power': 130, 'price_per_day': 360}\n",
      "2020-10-16 23:00:51,298 INFO sqlalchemy.engine.base.Engine COMMIT\n",
      "2020-10-16 23:00:51,310 INFO sqlalchemy.engine.base.Engine BEGIN (implicit)\n",
      "2020-10-16 23:00:51,312 INFO sqlalchemy.engine.base.Engine INSERT INTO cars (producer, model, year, horse_power, price_per_day) VALUES (%(producer)s, %(model)s, %(year)s, %(horse_power)s, %(price_per_day)s)\n",
      "2020-10-16 23:00:51,314 INFO sqlalchemy.engine.base.Engine {'producer': 'Volvo', 'model': 'XC70', 'year': 2013, 'horse_power': 180, 'price_per_day': 280}\n",
      "2020-10-16 23:00:51,319 INFO sqlalchemy.engine.base.Engine COMMIT\n",
      "2020-10-16 23:00:51,327 INFO sqlalchemy.engine.base.Engine BEGIN (implicit)\n",
      "2020-10-16 23:00:51,330 INFO sqlalchemy.engine.base.Engine INSERT INTO bookings (client_id, car_id, start_date, end_date, total_amount) VALUES (%(client_id)s, %(car_id)s, %(start_date)s, %(end_date)s, %(total_amount)s)\n",
      "2020-10-16 23:00:51,332 INFO sqlalchemy.engine.base.Engine {'client_id': 3, 'car_id': 3, 'start_date': '2020-07-06', 'end_date': '2020-07-08', 'total_amount': 400}\n",
      "2020-10-16 23:00:51,335 INFO sqlalchemy.engine.base.Engine COMMIT\n",
      "2020-10-16 23:00:51,343 INFO sqlalchemy.engine.base.Engine BEGIN (implicit)\n",
      "2020-10-16 23:00:51,346 INFO sqlalchemy.engine.base.Engine INSERT INTO bookings (client_id, car_id, start_date, end_date, total_amount) VALUES (%(client_id)s, %(car_id)s, %(start_date)s, %(end_date)s, %(total_amount)s)\n",
      "2020-10-16 23:00:51,347 INFO sqlalchemy.engine.base.Engine {'client_id': 6, 'car_id': 10, 'start_date': '2020-07-10', 'end_date': '2020-07-16', 'total_amount': 1680}\n",
      "2020-10-16 23:00:51,351 INFO sqlalchemy.engine.base.Engine COMMIT\n",
      "2020-10-16 23:00:51,359 INFO sqlalchemy.engine.base.Engine BEGIN (implicit)\n",
      "2020-10-16 23:00:51,361 INFO sqlalchemy.engine.base.Engine INSERT INTO bookings (client_id, car_id, start_date, end_date, total_amount) VALUES (%(client_id)s, %(car_id)s, %(start_date)s, %(end_date)s, %(total_amount)s)\n",
      "2020-10-16 23:00:51,361 INFO sqlalchemy.engine.base.Engine {'client_id': 4, 'car_id': 5, 'start_date': '2020-07-11', 'end_date': '2020-07-14', 'total_amount': 450}\n",
      "2020-10-16 23:00:51,365 INFO sqlalchemy.engine.base.Engine COMMIT\n",
      "2020-10-16 23:00:51,375 INFO sqlalchemy.engine.base.Engine BEGIN (implicit)\n",
      "2020-10-16 23:00:51,376 INFO sqlalchemy.engine.base.Engine INSERT INTO bookings (client_id, car_id, start_date, end_date, total_amount) VALUES (%(client_id)s, %(car_id)s, %(start_date)s, %(end_date)s, %(total_amount)s)\n",
      "2020-10-16 23:00:51,377 INFO sqlalchemy.engine.base.Engine {'client_id': 5, 'car_id': 4, 'start_date': '2020-07-11', 'end_date': '2020-07-13', 'total_amount': 600}\n",
      "2020-10-16 23:00:51,380 INFO sqlalchemy.engine.base.Engine COMMIT\n",
      "2020-10-16 23:00:51,388 INFO sqlalchemy.engine.base.Engine BEGIN (implicit)\n",
      "2020-10-16 23:00:51,390 INFO sqlalchemy.engine.base.Engine INSERT INTO bookings (client_id, car_id, start_date, end_date, total_amount) VALUES (%(client_id)s, %(car_id)s, %(start_date)s, %(end_date)s, %(total_amount)s)\n",
      "2020-10-16 23:00:51,391 INFO sqlalchemy.engine.base.Engine {'client_id': 7, 'car_id': 3, 'start_date': '2020-07-12', 'end_date': '2020-07-14', 'total_amount': 800}\n",
      "2020-10-16 23:00:51,395 INFO sqlalchemy.engine.base.Engine COMMIT\n",
      "2020-10-16 23:00:51,402 INFO sqlalchemy.engine.base.Engine BEGIN (implicit)\n",
      "2020-10-16 23:00:51,403 INFO sqlalchemy.engine.base.Engine INSERT INTO bookings (client_id, car_id, start_date, end_date, total_amount) VALUES (%(client_id)s, %(car_id)s, %(start_date)s, %(end_date)s, %(total_amount)s)\n",
      "2020-10-16 23:00:51,404 INFO sqlalchemy.engine.base.Engine {'client_id': 5, 'car_id': 7, 'start_date': '2020-07-14', 'end_date': '2020-07-17', 'total_amount': 240}\n",
      "2020-10-16 23:00:51,411 INFO sqlalchemy.engine.base.Engine COMMIT\n",
      "2020-10-16 23:00:51,419 INFO sqlalchemy.engine.base.Engine BEGIN (implicit)\n",
      "2020-10-16 23:00:51,420 INFO sqlalchemy.engine.base.Engine INSERT INTO bookings (client_id, car_id, start_date, end_date, total_amount) VALUES (%(client_id)s, %(car_id)s, %(start_date)s, %(end_date)s, %(total_amount)s)\n",
      "2020-10-16 23:00:51,421 INFO sqlalchemy.engine.base.Engine {'client_id': 3, 'car_id': 8, 'start_date': '2020-07-14', 'end_date': '2020-07-16', 'total_amount': 380}\n",
      "2020-10-16 23:00:51,423 INFO sqlalchemy.engine.base.Engine COMMIT\n",
      "2020-10-16 23:00:51,436 INFO sqlalchemy.engine.base.Engine BEGIN (implicit)\n",
      "2020-10-16 23:00:51,440 INFO sqlalchemy.engine.base.Engine INSERT INTO bookings (client_id, car_id, start_date, end_date, total_amount) VALUES (%(client_id)s, %(car_id)s, %(start_date)s, %(end_date)s, %(total_amount)s)\n",
      "2020-10-16 23:00:51,441 INFO sqlalchemy.engine.base.Engine {'client_id': 5, 'car_id': 9, 'start_date': '2020-07-15', 'end_date': '2020-07-18', 'total_amount': 1080}\n",
      "2020-10-16 23:00:51,449 INFO sqlalchemy.engine.base.Engine COMMIT\n",
      "2020-10-16 23:00:51,455 INFO sqlalchemy.engine.base.Engine BEGIN (implicit)\n",
      "2020-10-16 23:00:51,456 INFO sqlalchemy.engine.base.Engine INSERT INTO bookings (client_id, car_id, start_date, end_date, total_amount) VALUES (%(client_id)s, %(car_id)s, %(start_date)s, %(end_date)s, %(total_amount)s)\n",
      "2020-10-16 23:00:51,458 INFO sqlalchemy.engine.base.Engine {'client_id': 6, 'car_id': 10, 'start_date': '2020-07-16', 'end_date': '2020-07-20', 'total_amount': 1120}\n",
      "2020-10-16 23:00:51,462 INFO sqlalchemy.engine.base.Engine COMMIT\n",
      "2020-10-16 23:00:51,469 INFO sqlalchemy.engine.base.Engine BEGIN (implicit)\n",
      "2020-10-16 23:00:51,471 INFO sqlalchemy.engine.base.Engine INSERT INTO bookings (client_id, car_id, start_date, end_date, total_amount) VALUES (%(client_id)s, %(car_id)s, %(start_date)s, %(end_date)s, %(total_amount)s)\n",
      "2020-10-16 23:00:51,472 INFO sqlalchemy.engine.base.Engine {'client_id': 8, 'car_id': 1, 'start_date': '2020-07-16', 'end_date': '2020-07-19', 'total_amount': 600}\n",
      "2020-10-16 23:00:51,474 INFO sqlalchemy.engine.base.Engine COMMIT\n",
      "2020-10-16 23:00:51,479 INFO sqlalchemy.engine.base.Engine BEGIN (implicit)\n",
      "2020-10-16 23:00:51,480 INFO sqlalchemy.engine.base.Engine INSERT INTO bookings (client_id, car_id, start_date, end_date, total_amount) VALUES (%(client_id)s, %(car_id)s, %(start_date)s, %(end_date)s, %(total_amount)s)\n",
      "2020-10-16 23:00:51,482 INFO sqlalchemy.engine.base.Engine {'client_id': 9, 'car_id': 2, 'start_date': '2020-07-16', 'end_date': '2020-07-21', 'total_amount': 500}\n",
      "2020-10-16 23:00:51,484 INFO sqlalchemy.engine.base.Engine COMMIT\n",
      "2020-10-16 23:00:51,492 INFO sqlalchemy.engine.base.Engine BEGIN (implicit)\n",
      "2020-10-16 23:00:51,496 INFO sqlalchemy.engine.base.Engine INSERT INTO bookings (client_id, car_id, start_date, end_date, total_amount) VALUES (%(client_id)s, %(car_id)s, %(start_date)s, %(end_date)s, %(total_amount)s)\n",
      "2020-10-16 23:00:51,498 INFO sqlalchemy.engine.base.Engine {'client_id': 10, 'car_id': 6, 'start_date': '2020-07-17', 'end_date': '2020-07-19', 'total_amount': 280}\n",
      "2020-10-16 23:00:51,501 INFO sqlalchemy.engine.base.Engine COMMIT\n",
      "2020-10-16 23:00:51,509 INFO sqlalchemy.engine.base.Engine BEGIN (implicit)\n",
      "2020-10-16 23:00:51,511 INFO sqlalchemy.engine.base.Engine INSERT INTO bookings (client_id, car_id, start_date, end_date, total_amount) VALUES (%(client_id)s, %(car_id)s, %(start_date)s, %(end_date)s, %(total_amount)s)\n",
      "2020-10-16 23:00:51,511 INFO sqlalchemy.engine.base.Engine {'client_id': 1, 'car_id': 9, 'start_date': '2020-07-17', 'end_date': '2020-07-19', 'total_amount': 720}\n",
      "2020-10-16 23:00:51,514 INFO sqlalchemy.engine.base.Engine COMMIT\n",
      "2020-10-16 23:00:51,521 INFO sqlalchemy.engine.base.Engine BEGIN (implicit)\n",
      "2020-10-16 23:00:51,523 INFO sqlalchemy.engine.base.Engine INSERT INTO bookings (client_id, car_id, start_date, end_date, total_amount) VALUES (%(client_id)s, %(car_id)s, %(start_date)s, %(end_date)s, %(total_amount)s)\n",
      "2020-10-16 23:00:51,523 INFO sqlalchemy.engine.base.Engine {'client_id': 3, 'car_id': 7, 'start_date': '2020-07-18', 'end_date': '2020-07-21', 'total_amount': 240}\n",
      "2020-10-16 23:00:51,525 INFO sqlalchemy.engine.base.Engine COMMIT\n",
      "2020-10-16 23:00:51,534 INFO sqlalchemy.engine.base.Engine BEGIN (implicit)\n",
      "2020-10-16 23:00:51,535 INFO sqlalchemy.engine.base.Engine INSERT INTO bookings (client_id, car_id, start_date, end_date, total_amount) VALUES (%(client_id)s, %(car_id)s, %(start_date)s, %(end_date)s, %(total_amount)s)\n",
      "2020-10-16 23:00:51,536 INFO sqlalchemy.engine.base.Engine {'client_id': 5, 'car_id': 4, 'start_date': '2020-07-18', 'end_date': '2020-07-22', 'total_amount': 1200}\n",
      "2020-10-16 23:00:51,539 INFO sqlalchemy.engine.base.Engine COMMIT\n"
     ]
    }
   ],
   "source": [
    "def insert_data(session, base, params):\n",
    "    session.add(base(**params))\n",
    "    session.commit()\n",
    "\n",
    "clients = [\n",
    "    {'name': 'Jan', 'surname': 'Kowalski', 'address': 'ul. Florianska 12', 'city': 'Krakow'},\n",
    "    {'name': 'Andrzej', 'surname': 'Nowak', 'address': 'ul. Saska 43', 'city': 'Wroclaw'},\n",
    "    {'name': 'Michal', 'surname': 'Taki', 'address': 'os. Srodkowe 12', 'city': 'Poznan'},\n",
    "    {'name': 'Pawel', 'surname': 'Ktory', 'address': 'ul. Stara 11', 'city': 'Gdynia'},\n",
    "    {'name': 'Anna', 'surname': 'Inna', 'address': 'os. Srednie 1', 'city': 'Gniezno'},\n",
    "    {'name': 'Alicja', 'surname': 'Panna', 'address': 'os. Duze 33', 'city': 'Torun'},\n",
    "    {'name': 'Damian', 'surname': 'Papa', 'address': 'ul. Skosna 66', 'city': 'Warszawa'},\n",
    "    {'name': 'Marek', 'surname': 'Troska', 'address': 'os. Male 90', 'city': 'Radom'},\n",
    "    {'name': 'Jakub', 'surname': 'Klos', 'address': 'os. Polskie 19', 'city': 'Wadowice'},\n",
    "    {'name': 'Lukasz', 'surname': 'Lis', 'address': 'os. Podlaskie 90', 'city': 'Bialystok'}]\n",
    "cars = [\n",
    "    {'producer': 'Seat', 'model': 'Leon', 'year': 2016, 'horse_power': 80, 'price_per_day': 200},\n",
    "    {'producer': 'Toyota', 'model': 'Avensis', 'year': 2014, 'horse_power': 72, 'price_per_day': 100},\n",
    "    {'producer': 'Mercedes', 'model': 'CLK', 'year': 2018, 'horse_power': 190, 'price_per_day': 400},\n",
    "    {'producer': 'Hyundai', 'model': 'Coupe', 'year': 2014, 'horse_power': 165, 'price_per_day': 300},\n",
    "    {'producer': 'Dacia', 'model': 'Logan', 'year': 2015, 'horse_power': 103, 'price_per_day': 150},\n",
    "    {'producer': 'Saab', 'model': '95', 'year': 2012, 'horse_power': 140, 'price_per_day': 140},\n",
    "    {'producer': 'BMW', 'model': 'E36', 'year': 2007, 'horse_power': 110, 'price_per_day': 80},\n",
    "    {'producer': 'Fiat', 'model': 'Panda', 'year': 2016, 'horse_power': 77, 'price_per_day': 190},\n",
    "    {'producer': 'Honda', 'model': 'Civic', 'year': 2019, 'horse_power': 130, 'price_per_day': 360},\n",
    "    {'producer': 'Volvo', 'model': 'XC70', 'year': 2013, 'horse_power': 180, 'price_per_day': 280}]\n",
    "bookings = [\n",
    "    {'client_id': 3, 'car_id': 3, 'start_date': '2020-07-06', 'end_date': '2020-07-08', 'total_amount': 400},\n",
    "    {'client_id': 6, 'car_id': 10, 'start_date': '2020-07-10', 'end_date': '2020-07-16', 'total_amount': 1680},\n",
    "    {'client_id': 4, 'car_id': 5, 'start_date': '2020-07-11', 'end_date': '2020-07-14', 'total_amount': 450},\n",
    "    {'client_id': 5, 'car_id': 4, 'start_date': '2020-07-11', 'end_date': '2020-07-13', 'total_amount': 600},\n",
    "    {'client_id': 7, 'car_id': 3, 'start_date': '2020-07-12', 'end_date': '2020-07-14', 'total_amount': 800},\n",
    "    {'client_id': 5, 'car_id': 7, 'start_date': '2020-07-14', 'end_date': '2020-07-17', 'total_amount': 240},\n",
    "    {'client_id': 3, 'car_id': 8, 'start_date': '2020-07-14', 'end_date': '2020-07-16', 'total_amount': 380},\n",
    "    {'client_id': 5, 'car_id': 9, 'start_date': '2020-07-15', 'end_date': '2020-07-18', 'total_amount': 1080},\n",
    "    {'client_id': 6, 'car_id': 10, 'start_date': '2020-07-16', 'end_date': '2020-07-20', 'total_amount': 1120},\n",
    "    {'client_id': 8, 'car_id': 1, 'start_date': '2020-07-16', 'end_date': '2020-07-19', 'total_amount': 600},\n",
    "    {'client_id': 9, 'car_id': 2, 'start_date': '2020-07-16', 'end_date': '2020-07-21', 'total_amount': 500},\n",
    "    {'client_id': 10, 'car_id': 6, 'start_date': '2020-07-17', 'end_date': '2020-07-19', 'total_amount': 280},\n",
    "    {'client_id': 1, 'car_id': 9, 'start_date': '2020-07-17', 'end_date': '2020-07-19', 'total_amount': 720},\n",
    "    {'client_id': 3, 'car_id': 7, 'start_date': '2020-07-18', 'end_date': '2020-07-21', 'total_amount': 240},\n",
    "    {'client_id': 5, 'car_id': 4, 'start_date': '2020-07-18', 'end_date': '2020-07-22', 'total_amount': 1200}]\n",
    "\n",
    "for client in clients:\n",
    "    insert_data(session, Clients, client)\n",
    "for car in cars:\n",
    "    insert_data(session, Cars, car)\n",
    "for booking in bookings:\n",
    "    insert_data(session, Bookings, booking)"
   ]
  },
  {
   "cell_type": "markdown",
   "metadata": {
    "id": "01qCfpvZpUmv"
   },
   "source": [
    "Spróbujmy teraz podziałać na tej utworzonej bazie:"
   ]
  },
  {
   "cell_type": "code",
   "execution_count": null,
   "metadata": {
    "colab": {
     "base_uri": "https://localhost:8080/",
     "height": 377
    },
    "id": "bW8Xg9e1pYVN",
    "outputId": "653b92b7-8cee-4df3-d621-29772dd5856a"
   },
   "outputs": [
    {
     "name": "stdout",
     "output_type": "stream",
     "text": [
      "2020-10-16 23:41:16,546 INFO sqlalchemy.engine.base.Engine SELECT bookings.booking_id AS bookings_booking_id, bookings.client_id AS bookings_client_id, bookings.car_id AS bookings_car_id, bookings.start_date AS bookings_start_date, bookings.end_date AS bookings_end_date, bookings.total_amount AS bookings_total_amount \n",
      "FROM bookings \n",
      "WHERE bookings.client_id = %(client_id_1)s\n",
      "2020-10-16 23:41:16,547 INFO sqlalchemy.engine.base.Engine {'client_id_1': 3}\n",
      "<__main__.Bookings object at 0x7f1fae3345f8>\n",
      "<__main__.Bookings object at 0x7f1fae3346a0>\n",
      "<__main__.Bookings object at 0x7f1fae471080>\n",
      "2020-10-16 23:41:16,557 INFO sqlalchemy.engine.base.Engine SELECT bookings.booking_id, bookings.client_id, bookings.car_id, bookings.start_date, bookings.end_date, bookings.total_amount \n",
      "FROM bookings \n",
      "WHERE bookings.client_id = %(client_id_1)s\n",
      "2020-10-16 23:41:16,558 INFO sqlalchemy.engine.base.Engine {'client_id_1': 3}\n",
      "[(1, 3, 3, datetime.date(2020, 7, 6), datetime.date(2020, 7, 8), 400), (7, 3, 8, datetime.date(2020, 7, 14), datetime.date(2020, 7, 16), 380), (14, 3, 7, datetime.date(2020, 7, 18), datetime.date(2020, 7, 21), 240)]\n",
      "2020-10-16 23:41:16,563 INFO sqlalchemy.engine.base.Engine SELECT cars.car_id, cars.producer, cars.model, cars.year, cars.horse_power, cars.price_per_day \n",
      "FROM bookings INNER JOIN cars ON bookings.car_id = cars.car_id \n",
      "WHERE bookings.client_id = %(client_id_1)s\n",
      "2020-10-16 23:41:16,566 INFO sqlalchemy.engine.base.Engine {'client_id_1': 5}\n",
      "(4, 'Toyota', 'Avensis', 2014, 72, 100)\n",
      "(7, 'Dacia', 'Logan', 2015, 103, 150)\n",
      "(9, 'BMW', 'E36', 2007, 110, 80)\n",
      "(4, 'Toyota', 'Avensis', 2014, 72, 100)\n"
     ]
    }
   ],
   "source": [
    "#1\n",
    "result = session.query(Bookings).filter(Bookings.client_id == 3)\n",
    "for booking in result:\n",
    "    print(booking)\n",
    "\n",
    "#2\n",
    "from sqlalchemy.sql import select\n",
    "\n",
    "conn = eng.connect()\n",
    "s = select([Bookings]).where(Bookings.client_id == 3)\n",
    "result = conn.execute(s).fetchall()\n",
    "print(result)\n",
    "\n",
    "from sqlalchemy.sql import select\n",
    "from sqlalchemy import join\n",
    "\n",
    "j = join(Bookings, Cars, Bookings.car_id == Cars.car_id)\n",
    "s = select([Cars]).select_from(j).where(Bookings.client_id == 5)\n",
    "result = conn.execute(s)\n",
    "for car in result:\n",
    "    print(car)\n",
    "\n"
   ]
  },
  {
   "cell_type": "code",
   "execution_count": null,
   "metadata": {
    "colab": {
     "base_uri": "https://localhost:8080/",
     "height": 51
    },
    "id": "xn3lBblfCslv",
    "outputId": "577253c1-dee4-4971-99e6-8871cd44c339"
   },
   "outputs": [
    {
     "name": "stdout",
     "output_type": "stream",
     "text": [
      "b'\\x80\\x03}q\\x00(X\\x05\\x00\\x00\\x00Aliceq\\x01KYX\\x03\\x00\\x00\\x00Bobq\\x02KHX\\x07\\x00\\x00\\x00Charlesq\\x03KWu.'\n",
      "{'Alice': 89, 'Bob': 72, 'Charles': 87}\n"
     ]
    }
   ],
   "source": [
    "import pickle\n",
    "\n",
    "#Here's an example dict\n",
    "grades = { 'Alice': 89, 'Bob': 72, 'Charles': 87 }\n",
    "\n",
    "#Use dumps to convert the object to a serialized string\n",
    "serial_grades = pickle.dumps( grades )\n",
    "print(serial_grades)\n",
    "#Use loads to de-serialize an object\n",
    "received_grades = pickle.loads( serial_grades )\n",
    "print(received_grades)"
   ]
  },
  {
   "cell_type": "code",
   "execution_count": null,
   "metadata": {
    "colab": {
     "base_uri": "https://localhost:8080/",
     "height": 1000
    },
    "id": "nLXxj_zOPHdJ",
    "outputId": "0d859667-c6ab-42bb-f9db-d0803ed3926a"
   },
   "outputs": [
    {
     "name": "stdout",
     "output_type": "stream",
     "text": [
      "Requirement already up-to-date: pip in /usr/local/lib/python3.6/dist-packages (20.2.3)\n",
      "Requirement already up-to-date: pandas-profiling[notebook] in /usr/local/lib/python3.6/dist-packages (2.9.0)\n",
      "Requirement already satisfied, skipping upgrade: phik>=0.9.10 in /usr/local/lib/python3.6/dist-packages (from pandas-profiling[notebook]) (0.10.0)\n",
      "Requirement already satisfied, skipping upgrade: missingno>=0.4.2 in /usr/local/lib/python3.6/dist-packages (from pandas-profiling[notebook]) (0.4.2)\n",
      "Requirement already satisfied, skipping upgrade: visions[type_image_path]==0.5.0 in /usr/local/lib/python3.6/dist-packages (from pandas-profiling[notebook]) (0.5.0)\n",
      "Requirement already satisfied, skipping upgrade: seaborn>=0.10.1 in /usr/local/lib/python3.6/dist-packages (from pandas-profiling[notebook]) (0.11.0)\n",
      "Requirement already satisfied, skipping upgrade: jinja2>=2.11.1 in /usr/local/lib/python3.6/dist-packages (from pandas-profiling[notebook]) (2.11.2)\n",
      "Requirement already satisfied, skipping upgrade: ipywidgets>=7.5.1 in /usr/local/lib/python3.6/dist-packages (from pandas-profiling[notebook]) (7.5.1)\n",
      "Requirement already satisfied, skipping upgrade: tangled-up-in-unicode>=0.0.6 in /usr/local/lib/python3.6/dist-packages (from pandas-profiling[notebook]) (0.0.6)\n",
      "Requirement already satisfied, skipping upgrade: confuse>=1.0.0 in /usr/local/lib/python3.6/dist-packages (from pandas-profiling[notebook]) (1.3.0)\n",
      "Requirement already satisfied, skipping upgrade: requests>=2.23.0 in /usr/local/lib/python3.6/dist-packages (from pandas-profiling[notebook]) (2.23.0)\n",
      "Requirement already satisfied, skipping upgrade: tqdm>=4.43.0 in /usr/local/lib/python3.6/dist-packages (from pandas-profiling[notebook]) (4.50.2)\n",
      "Requirement already satisfied, skipping upgrade: attrs>=19.3.0 in /usr/local/lib/python3.6/dist-packages (from pandas-profiling[notebook]) (20.2.0)\n",
      "Requirement already satisfied, skipping upgrade: numpy>=1.16.0 in /usr/local/lib/python3.6/dist-packages (from pandas-profiling[notebook]) (1.18.5)\n",
      "Requirement already satisfied, skipping upgrade: joblib in /usr/local/lib/python3.6/dist-packages (from pandas-profiling[notebook]) (0.16.0)\n",
      "Requirement already satisfied, skipping upgrade: pandas!=1.0.0,!=1.0.1,!=1.0.2,!=1.1.0,>=0.25.3 in /usr/local/lib/python3.6/dist-packages (from pandas-profiling[notebook]) (1.1.2)\n",
      "Requirement already satisfied, skipping upgrade: scipy>=1.4.1 in /usr/local/lib/python3.6/dist-packages (from pandas-profiling[notebook]) (1.4.1)\n",
      "Requirement already satisfied, skipping upgrade: matplotlib>=3.2.0 in /usr/local/lib/python3.6/dist-packages (from pandas-profiling[notebook]) (3.2.2)\n",
      "Requirement already satisfied, skipping upgrade: htmlmin>=0.1.12 in /usr/local/lib/python3.6/dist-packages (from pandas-profiling[notebook]) (0.1.12)\n",
      "Requirement already satisfied, skipping upgrade: jupyter-core>=4.6.3; extra == \"notebook\" in /usr/local/lib/python3.6/dist-packages (from pandas-profiling[notebook]) (4.6.3)\n",
      "Requirement already satisfied, skipping upgrade: jupyter-client>=6.0.0; extra == \"notebook\" in /usr/local/lib/python3.6/dist-packages (from pandas-profiling[notebook]) (6.1.7)\n",
      "Requirement already satisfied, skipping upgrade: numba>=0.38.1 in /usr/local/lib/python3.6/dist-packages (from phik>=0.9.10->pandas-profiling[notebook]) (0.48.0)\n",
      "Requirement already satisfied, skipping upgrade: networkx>=2.4 in /usr/local/lib/python3.6/dist-packages (from visions[type_image_path]==0.5.0->pandas-profiling[notebook]) (2.5)\n",
      "Requirement already satisfied, skipping upgrade: Pillow; extra == \"type_image_path\" in /usr/local/lib/python3.6/dist-packages (from visions[type_image_path]==0.5.0->pandas-profiling[notebook]) (7.0.0)\n",
      "Requirement already satisfied, skipping upgrade: imagehash; extra == \"type_image_path\" in /usr/local/lib/python3.6/dist-packages (from visions[type_image_path]==0.5.0->pandas-profiling[notebook]) (4.1.0)\n",
      "Requirement already satisfied, skipping upgrade: MarkupSafe>=0.23 in /usr/local/lib/python3.6/dist-packages (from jinja2>=2.11.1->pandas-profiling[notebook]) (1.1.1)\n",
      "Requirement already satisfied, skipping upgrade: traitlets>=4.3.1 in /usr/local/lib/python3.6/dist-packages (from ipywidgets>=7.5.1->pandas-profiling[notebook]) (4.3.3)\n",
      "Requirement already satisfied, skipping upgrade: ipython>=4.0.0; python_version >= \"3.3\" in /usr/local/lib/python3.6/dist-packages (from ipywidgets>=7.5.1->pandas-profiling[notebook]) (5.5.0)\n",
      "Requirement already satisfied, skipping upgrade: ipykernel>=4.5.1 in /usr/local/lib/python3.6/dist-packages (from ipywidgets>=7.5.1->pandas-profiling[notebook]) (4.10.1)\n",
      "Requirement already satisfied, skipping upgrade: nbformat>=4.2.0 in /usr/local/lib/python3.6/dist-packages (from ipywidgets>=7.5.1->pandas-profiling[notebook]) (5.0.7)\n",
      "Requirement already satisfied, skipping upgrade: widgetsnbextension~=3.5.0 in /usr/local/lib/python3.6/dist-packages (from ipywidgets>=7.5.1->pandas-profiling[notebook]) (3.5.1)\n",
      "Requirement already satisfied, skipping upgrade: pyyaml in /usr/local/lib/python3.6/dist-packages (from confuse>=1.0.0->pandas-profiling[notebook]) (3.13)\n",
      "Requirement already satisfied, skipping upgrade: urllib3!=1.25.0,!=1.25.1,<1.26,>=1.21.1 in /usr/local/lib/python3.6/dist-packages (from requests>=2.23.0->pandas-profiling[notebook]) (1.24.3)\n",
      "Requirement already satisfied, skipping upgrade: chardet<4,>=3.0.2 in /usr/local/lib/python3.6/dist-packages (from requests>=2.23.0->pandas-profiling[notebook]) (3.0.4)\n",
      "Requirement already satisfied, skipping upgrade: idna<3,>=2.5 in /usr/local/lib/python3.6/dist-packages (from requests>=2.23.0->pandas-profiling[notebook]) (2.10)\n",
      "Requirement already satisfied, skipping upgrade: certifi>=2017.4.17 in /usr/local/lib/python3.6/dist-packages (from requests>=2.23.0->pandas-profiling[notebook]) (2020.6.20)\n",
      "Requirement already satisfied, skipping upgrade: pytz>=2017.2 in /usr/local/lib/python3.6/dist-packages (from pandas!=1.0.0,!=1.0.1,!=1.0.2,!=1.1.0,>=0.25.3->pandas-profiling[notebook]) (2018.9)\n",
      "Requirement already satisfied, skipping upgrade: python-dateutil>=2.7.3 in /usr/local/lib/python3.6/dist-packages (from pandas!=1.0.0,!=1.0.1,!=1.0.2,!=1.1.0,>=0.25.3->pandas-profiling[notebook]) (2.8.1)\n",
      "Requirement already satisfied, skipping upgrade: pyparsing!=2.0.4,!=2.1.2,!=2.1.6,>=2.0.1 in /usr/local/lib/python3.6/dist-packages (from matplotlib>=3.2.0->pandas-profiling[notebook]) (2.4.7)\n",
      "Requirement already satisfied, skipping upgrade: kiwisolver>=1.0.1 in /usr/local/lib/python3.6/dist-packages (from matplotlib>=3.2.0->pandas-profiling[notebook]) (1.2.0)\n",
      "Requirement already satisfied, skipping upgrade: cycler>=0.10 in /usr/local/lib/python3.6/dist-packages (from matplotlib>=3.2.0->pandas-profiling[notebook]) (0.10.0)\n",
      "Requirement already satisfied, skipping upgrade: tornado>=4.1 in /usr/local/lib/python3.6/dist-packages (from jupyter-client>=6.0.0; extra == \"notebook\"->pandas-profiling[notebook]) (5.1.1)\n",
      "Requirement already satisfied, skipping upgrade: pyzmq>=13 in /usr/local/lib/python3.6/dist-packages (from jupyter-client>=6.0.0; extra == \"notebook\"->pandas-profiling[notebook]) (19.0.2)\n",
      "Requirement already satisfied, skipping upgrade: setuptools in /usr/local/lib/python3.6/dist-packages (from numba>=0.38.1->phik>=0.9.10->pandas-profiling[notebook]) (50.3.0)\n",
      "Requirement already satisfied, skipping upgrade: llvmlite<0.32.0,>=0.31.0dev0 in /usr/local/lib/python3.6/dist-packages (from numba>=0.38.1->phik>=0.9.10->pandas-profiling[notebook]) (0.31.0)\n",
      "Requirement already satisfied, skipping upgrade: decorator>=4.3.0 in /usr/local/lib/python3.6/dist-packages (from networkx>=2.4->visions[type_image_path]==0.5.0->pandas-profiling[notebook]) (4.4.2)\n",
      "Requirement already satisfied, skipping upgrade: six in /usr/local/lib/python3.6/dist-packages (from imagehash; extra == \"type_image_path\"->visions[type_image_path]==0.5.0->pandas-profiling[notebook]) (1.15.0)\n",
      "Requirement already satisfied, skipping upgrade: PyWavelets in /usr/local/lib/python3.6/dist-packages (from imagehash; extra == \"type_image_path\"->visions[type_image_path]==0.5.0->pandas-profiling[notebook]) (1.1.1)\n",
      "Requirement already satisfied, skipping upgrade: ipython-genutils in /usr/local/lib/python3.6/dist-packages (from traitlets>=4.3.1->ipywidgets>=7.5.1->pandas-profiling[notebook]) (0.2.0)\n",
      "Requirement already satisfied, skipping upgrade: pickleshare in /usr/local/lib/python3.6/dist-packages (from ipython>=4.0.0; python_version >= \"3.3\"->ipywidgets>=7.5.1->pandas-profiling[notebook]) (0.7.5)\n",
      "Requirement already satisfied, skipping upgrade: simplegeneric>0.8 in /usr/local/lib/python3.6/dist-packages (from ipython>=4.0.0; python_version >= \"3.3\"->ipywidgets>=7.5.1->pandas-profiling[notebook]) (0.8.1)\n",
      "Requirement already satisfied, skipping upgrade: pexpect; sys_platform != \"win32\" in /usr/local/lib/python3.6/dist-packages (from ipython>=4.0.0; python_version >= \"3.3\"->ipywidgets>=7.5.1->pandas-profiling[notebook]) (4.8.0)\n",
      "Requirement already satisfied, skipping upgrade: prompt-toolkit<2.0.0,>=1.0.4 in /usr/local/lib/python3.6/dist-packages (from ipython>=4.0.0; python_version >= \"3.3\"->ipywidgets>=7.5.1->pandas-profiling[notebook]) (1.0.18)\n",
      "Requirement already satisfied, skipping upgrade: pygments in /usr/local/lib/python3.6/dist-packages (from ipython>=4.0.0; python_version >= \"3.3\"->ipywidgets>=7.5.1->pandas-profiling[notebook]) (2.6.1)\n",
      "Requirement already satisfied, skipping upgrade: jsonschema!=2.5.0,>=2.4 in /usr/local/lib/python3.6/dist-packages (from nbformat>=4.2.0->ipywidgets>=7.5.1->pandas-profiling[notebook]) (2.6.0)\n",
      "Requirement already satisfied, skipping upgrade: notebook>=4.4.1 in /usr/local/lib/python3.6/dist-packages (from widgetsnbextension~=3.5.0->ipywidgets>=7.5.1->pandas-profiling[notebook]) (5.3.1)\n",
      "Requirement already satisfied, skipping upgrade: ptyprocess>=0.5 in /usr/local/lib/python3.6/dist-packages (from pexpect; sys_platform != \"win32\"->ipython>=4.0.0; python_version >= \"3.3\"->ipywidgets>=7.5.1->pandas-profiling[notebook]) (0.6.0)\n",
      "Requirement already satisfied, skipping upgrade: wcwidth in /usr/local/lib/python3.6/dist-packages (from prompt-toolkit<2.0.0,>=1.0.4->ipython>=4.0.0; python_version >= \"3.3\"->ipywidgets>=7.5.1->pandas-profiling[notebook]) (0.2.5)\n",
      "Requirement already satisfied, skipping upgrade: Send2Trash in /usr/local/lib/python3.6/dist-packages (from notebook>=4.4.1->widgetsnbextension~=3.5.0->ipywidgets>=7.5.1->pandas-profiling[notebook]) (1.5.0)\n",
      "Requirement already satisfied, skipping upgrade: terminado>=0.8.1 in /usr/local/lib/python3.6/dist-packages (from notebook>=4.4.1->widgetsnbextension~=3.5.0->ipywidgets>=7.5.1->pandas-profiling[notebook]) (0.9.1)\n",
      "Requirement already satisfied, skipping upgrade: nbconvert in /usr/local/lib/python3.6/dist-packages (from notebook>=4.4.1->widgetsnbextension~=3.5.0->ipywidgets>=7.5.1->pandas-profiling[notebook]) (5.6.1)\n",
      "Requirement already satisfied, skipping upgrade: bleach in /usr/local/lib/python3.6/dist-packages (from nbconvert->notebook>=4.4.1->widgetsnbextension~=3.5.0->ipywidgets>=7.5.1->pandas-profiling[notebook]) (3.2.1)\n",
      "Requirement already satisfied, skipping upgrade: mistune<2,>=0.8.1 in /usr/local/lib/python3.6/dist-packages (from nbconvert->notebook>=4.4.1->widgetsnbextension~=3.5.0->ipywidgets>=7.5.1->pandas-profiling[notebook]) (0.8.4)\n",
      "Requirement already satisfied, skipping upgrade: testpath in /usr/local/lib/python3.6/dist-packages (from nbconvert->notebook>=4.4.1->widgetsnbextension~=3.5.0->ipywidgets>=7.5.1->pandas-profiling[notebook]) (0.4.4)\n",
      "Requirement already satisfied, skipping upgrade: defusedxml in /usr/local/lib/python3.6/dist-packages (from nbconvert->notebook>=4.4.1->widgetsnbextension~=3.5.0->ipywidgets>=7.5.1->pandas-profiling[notebook]) (0.6.0)\n",
      "Requirement already satisfied, skipping upgrade: entrypoints>=0.2.2 in /usr/local/lib/python3.6/dist-packages (from nbconvert->notebook>=4.4.1->widgetsnbextension~=3.5.0->ipywidgets>=7.5.1->pandas-profiling[notebook]) (0.3)\n",
      "Requirement already satisfied, skipping upgrade: pandocfilters>=1.4.1 in /usr/local/lib/python3.6/dist-packages (from nbconvert->notebook>=4.4.1->widgetsnbextension~=3.5.0->ipywidgets>=7.5.1->pandas-profiling[notebook]) (1.4.2)\n",
      "Requirement already satisfied, skipping upgrade: packaging in /usr/local/lib/python3.6/dist-packages (from bleach->nbconvert->notebook>=4.4.1->widgetsnbextension~=3.5.0->ipywidgets>=7.5.1->pandas-profiling[notebook]) (20.4)\n",
      "Requirement already satisfied, skipping upgrade: webencodings in /usr/local/lib/python3.6/dist-packages (from bleach->nbconvert->notebook>=4.4.1->widgetsnbextension~=3.5.0->ipywidgets>=7.5.1->pandas-profiling[notebook]) (0.5.1)\n",
      "Enabling notebook extension jupyter-js-widgets/extension...\n",
      "      - Validating: \u001b[32mOK\u001b[0m\n",
      "Mounted at /drive\n"
     ]
    }
   ],
   "source": [
    "import sys\n",
    "!pip install -U pip\n",
    "!{sys.executable} -m pip install -U pandas-profiling[notebook]\n",
    "!jupyter nbextension enable --py widgetsnbextension\n",
    "\n",
    "from google.colab import drive\n",
    "drive.mount('/drive')\n"
   ]
  },
  {
   "cell_type": "code",
   "execution_count": 5,
   "metadata": {
    "colab": {
     "base_uri": "https://localhost:8080/",
     "height": 85
    },
    "id": "2UDsZacloyIb",
    "outputId": "c7ebab0d-61f5-4b85-993d-6ddac7f63599"
   },
   "outputs": [
    {
     "ename": "FileNotFoundError",
     "evalue": "[WinError 2] Nie można odnaleźć określonego pliku: 'drive'",
     "output_type": "error",
     "traceback": [
      "\u001b[1;31m---------------------------------------------------------------------------\u001b[0m",
      "\u001b[1;31mFileNotFoundError\u001b[0m                         Traceback (most recent call last)",
      "Cell \u001b[1;32mIn [5], line 2\u001b[0m\n\u001b[0;32m      1\u001b[0m \u001b[38;5;28;01mimport\u001b[39;00m \u001b[38;5;21;01mos\u001b[39;00m\n\u001b[1;32m----> 2\u001b[0m \u001b[43mos\u001b[49m\u001b[38;5;241;43m.\u001b[39;49m\u001b[43mchdir\u001b[49m\u001b[43m(\u001b[49m\u001b[38;5;124;43m\"\u001b[39;49m\u001b[38;5;124;43mdrive\u001b[39;49m\u001b[38;5;124;43m\"\u001b[39;49m\u001b[43m)\u001b[49m\n\u001b[0;32m      3\u001b[0m os\u001b[38;5;241m.\u001b[39mchdir(\u001b[38;5;124m\"\u001b[39m\u001b[38;5;124mMy Drive\u001b[39m\u001b[38;5;124m\"\u001b[39m)\n",
      "\u001b[1;31mFileNotFoundError\u001b[0m: [WinError 2] Nie można odnaleźć określonego pliku: 'drive'"
     ]
    }
   ],
   "source": [
    "import os\n",
    "os.chdir(\"drive\")\n",
    "os.chdir(\"My Drive\")"
   ]
  },
  {
   "cell_type": "code",
   "execution_count": null,
   "metadata": {
    "colab": {
     "base_uri": "https://localhost:8080/",
     "height": 1000
    },
    "id": "NRGNaWURp1FC",
    "outputId": "212f287a-9cf8-42bf-e6a2-a777c969d7bc"
   },
   "outputs": [
    {
     "name": "stdout",
     "output_type": "stream",
     "text": [
      "'1576418255304_1576416877008_skrypt- dzien-1.gdoc'\n",
      "'1576418413874_skrypt- dzien-2.gdoc'\n",
      "'2019.01.29_ MB workflow-Micro-solutions_Silvija.pptx'\n",
      " 2019-12-13-Autenti-DR___Wroc_aw___zlecenieUZ___Damian___Brzoza___1951.gdoc\n",
      " 2019-12-13-Autenti-DR___Wroc_aw___zlecenieUZ___Damian___Brzoza___1951.pdf\n",
      " 20200425_114737.jpg\n",
      "'7_kluczowe_zasoby (osobowe).gdoc'\n",
      "'air.com.rosettastone.mobile.CoursePlayer_v5.11.2_b5110228_[SAP].apk'\n",
      "'Apeer issues.gdoc'\n",
      "'Arkusz kalkulacyjny bez tytułu.gsheet'\n",
      " asd.gdoc\n",
      "'Barania z Wiki'\n",
      " całość.docx\n",
      " całość.pdf\n",
      " Codewars.gdoc\n",
      "'Colab Notebooks'\n",
      "'DamianBrzozaCV_PL_ONEPAGE (1).docx'\n",
      "'DamianBrzozaCV_PL_ONEPAGE (1).gdoc'\n",
      " DamianBrzozaCV_PL_ONEPAGE.docx\n",
      " DamianBrzozaCV_PL_ONEPAGE.gdoc\n",
      "'Dane Dane Dane.gdoc'\n",
      " Database.kdbx\n",
      " DataScienceInterviewQ.pdf\n",
      "'data science jola.pptx'\n",
      " Data+Science-kopia.pptx\n",
      "'Data Science zdalny RD-skonwertowany.pptx'\n",
      "'Diagnostyka to Gówno.gdoc'\n",
      "'Dla Pauliny KNIAŚ'\n",
      " Documents\n",
      "'Dokument bez nazwy.gdoc'\n",
      "'Dokument bez tsadsadsaytułu.gdoc'\n",
      "'Dokument bez tytułu (1).gdoc'\n",
      "'Dokument bez tytułu (2).gdoc'\n",
      "'Dokument bez tytułu (3).gdoc'\n",
      "'Dokument bez tytułu (4).gdoc'\n",
      "'Dokument bez tytułu (5).gdoc'\n",
      "'Dokument bez tytułu (6).gdoc'\n",
      "'Dokument bez tytułu (7).gdoc'\n",
      "'Dokument bez tytułu.gdoc'\n",
      " Dystrybucja.gsheet\n",
      "'Formularz bez nazwy.gform'\n",
      "'formularz o de minimis.gsheet'\n",
      "'formularz o de minimis.xlsx'\n",
      " Galopowanie.pdf\n",
      " GNUM\n",
      " gorski_mail.gdoc\n",
      "'Historie z mechanicznego.gdoc'\n",
      " icons8-github-32.png\n",
      " icons8-home-32.png\n",
      " icons8-linkedin-16.png\n",
      " icons8-linkedin-32.png\n",
      " icons8-linkedin-64.png\n",
      " IMAD\n",
      "'Kopia dokumentu Data Scientist - wprowadzenie 0.1 – 28 lipca o 12:32.gslides'\n",
      "'Kopia dokumentu Data Scientist - wprowadzenie 1.0 – 14 lipca o 16:17.gslides'\n",
      "'Kopia dokumentu Plan slajdów na panel ekspertów – 1 grudnia o 17:05.gdoc'\n",
      "'Kopia Kopia budzet_projektuPOPW.gsheet'\n",
      "'Kopia Kopia budzet_projektuPOPW.xlsx'\n",
      "'Kopia Opracowanie Kosiara.gdoc'\n",
      "'Kopia Raport z przeprowadzonych badań.gdoc'\n",
      "'Kopia Wrocław - zarezerwuj swoje zajęcia! :) (1).gsheet'\n",
      "'Kopia Wrocław - zarezerwuj swoje zajęcia! :) (2).gsheet'\n",
      "'Kopia Wrocław - zarezerwuj swoje zajęcia! :) (3).gsheet'\n",
      "'Kopia Wrocław - zarezerwuj swoje zajęcia! :).gsheet'\n",
      "'Lista do zabrania w góry:.gdoc'\n",
      "'Lista współtowarzyszy.gdoc'\n",
      "'Łysa hora'\n",
      "'Mapa bez nazwy (1).gmap'\n",
      "'Mapa bez nazwy.gmap'\n",
      " mateuszek\n",
      " Mateuszek\n",
      "'MB workflow-Micro-solutions.pptx'\n",
      " merged.pdf\n",
      " Michal_Czuba_formularz_do_suplementu.docx\n",
      " Michal_Czuba_formularz_do_suplementu.gdoc\n",
      " Mieszkanka.gsheet\n",
      " Model_biznesowy_canvas.pptx\n",
      " Model.pptx\n",
      " modelYOLO_path\n",
      " MS_2020-08-11-Release_Notes_Apeer_Blob_Tracking_Module.docx\n",
      " MS_2020-08-21-Release_Notes_Apeer_Statistics_Module.docx\n",
      " MS_Release_Notes_Apeer_Blob_Tracking_Module..docx\n",
      " MS_Verification_Report_Release_2020-08-11.gsheet\n",
      "'Niemieccy nurkowie.gdoc'\n",
      " Notes_200127_181101_4a9.docx\n",
      " Notes_200127_181101_4a9.gdoc\n",
      " Nowy-Dokument-2019-01-07-11.19.17.pdf\n",
      "'Nowy dokument tekstowy.txt'\n",
      " Odpowiedzi_obrona.gdoc\n",
      " old\n",
      "'Open Banking Hackathon.gdoc'\n",
      " opracowanie2.docx\n",
      " opracowanie3.docx\n",
      " opracowanie.docx\n",
      "'Opracowanie Kosiara.gdoc'\n",
      "'Opracowanie Kosiara (Oby dał to samo).gdoc'\n",
      "'Opracowanie Kosiara.pdf'\n",
      "'Opracowanie Optymalizacja.gdoc'\n",
      "'Oswiadczenie o przyjęciu nagrody .docx'\n",
      "'Oswiadczenie-zleceniobiorcy-2020 ptzykład (1).doc'\n",
      "'Oswiadczenie-zleceniobiorcy-2020 ptzykład (1).gdoc'\n",
      "'Otwarte Dane Hackathon.gdoc'\n",
      " Paulina-Kniaścvnowe.docx\n",
      " Pełnomocnictwo_notariusz.docx\n",
      "'Peter L. Bernstein - Przeciw bogom. Niezwykłe dziele ryzyka.pdf'\n",
      " Pitchdeck.pptx\n",
      "'Pitchdeck v3.pdf'\n",
      "'Pitchdeck v3.pptx'\n",
      " PKM.pdf\n",
      "'Plan Inkubacji - formularz.docx'\n",
      "'Plan Inkubacji - formularz.gdoc'\n",
      " Powtóreczka.gsheet\n",
      "'Powtórka z Pythona.gsheet'\n",
      "'Praca w Trasee.gdoc'\n",
      "'Prezentacja bez tytułu (1).gslides'\n",
      "'Prezentacja bez tytułu.gslides'\n",
      " Prezentacja.gdoc\n",
      " prezentacja_o_nas.pptx\n",
      "'Prezentacja - tekst.docx'\n",
      "'program 12-13 kwietnia 2019.docx'\n",
      "'program 12-13 kwietnia 2019.gdoc'\n",
      "'Propozycja Damian (1).pdf'\n",
      "'Propozycja Damian.pdf'\n",
      "'Protokół zdawczo-odbiorczy.docx'\n",
      " report.html\n",
      " Rozliczanko.gsheet\n",
      "'Rozliczanko wyjazdu.gsheet'\n",
      " Rozliczenia-Mieszkanie.gsheet\n",
      "'Rozliczenie 15-25.08. Węgry, Chorwacja.gsheet'\n",
      "'Samotna wyprawa Damiana B. '\n",
      " sample.csv\n",
      " SDA\n",
      "'SDA - Opisy.gdoc'\n",
      "'SDA-Webinar-Python-stacjonarne (1).pptx'\n",
      " SeaMore_final_1.pptx\n",
      " server.zip\n",
      "'Serwer Trasee.gsheet'\n",
      " Smoghaton.gdoc\n",
      " SponsorEvent.pptx\n",
      " Środki_Fundusze_ROV.gdoc\n",
      "'task-description (1).gdoc'\n",
      "'task-description (2).gdoc'\n",
      " task-description.gdoc\n",
      " test.csv\n",
      "'Testing!.gsheet'\n",
      " Trasee.gmap\n",
      "'Umowa_B2B_11.03.2019 (1).doc'\n",
      "'Umowa_B2B_11.03.2019 (1).gdoc'\n",
      "'Umowa_B2B_11.03.2019 (2).doc'\n",
      "'Umowa_B2B_11.03.2019 (2).gdoc'\n",
      "'Umowa_B2B_11.03.2019 (3).gdoc'\n",
      " Umowa_B2B_11.03.2019.doc\n",
      " Umowa_B2B_11.03.2019.gdoc\n",
      " Umowa_Przedstępna_Ola.docx\n",
      " Umowa_Przedstępna_Ola.gdoc\n",
      "'Umowa spółki - co powinna zawierać?.gdoc'\n",
      " Untitled0.ipynb\n",
      " Untitled1.ipynb\n",
      "'Wagi przedmiotów.gsheet'\n",
      "'Wakacje 2019.gdoc'\n",
      "'Wakajki z Wiki.gdoc'\n",
      "'Wniosek aplikacyjny 2019 AIP(1) (1).docx'\n",
      "'Workbook DS.docx'\n",
      "'Workbook DS.gdoc'\n",
      " wrocław_lo_ewd.gsheet\n",
      " wrocław_lo_ewd.xlsx\n",
      " Wypowiedzenie.gdoc\n",
      "'Wyprawa na Baranią doliną Białej Wisły.mp4'\n",
      "'Wyprawa na Ślęże.mp4'\n",
      " WZÓR-dla-trenerów-rachunek-zleceniobiorcy-1.doc\n",
      "'WZÓR dla trenerów - rachunek zleceniobiorcy.DOC'\n",
      "'WZÓR dla trenerów - rachunek zleceniobiorcy.DOC.gdoc'\n",
      "'Zaproszenie tekst.pdf'\n",
      " Zbiory.gdoc\n",
      " Zestawienie_kola_wspolpracy_mini_projekty.gsheet\n",
      " Zestawienie_kola_wspolpracy_mini_projekty.xlsx\n"
     ]
    }
   ],
   "source": [
    "!ls"
   ]
  },
  {
   "cell_type": "code",
   "execution_count": null,
   "metadata": {
    "id": "nZOjDEVFPHdO"
   },
   "outputs": [],
   "source": [
    "# Standard Library Imports\n",
    "from pathlib import Path\n",
    "\n",
    "# Installed packages\n",
    "import pandas as pd\n",
    "from ipywidgets import widgets\n",
    "\n",
    "# Our package\n",
    "from pandas_profiling import ProfileReport\n",
    "from pandas_profiling.utils.cache import cache_file"
   ]
  },
  {
   "cell_type": "markdown",
   "metadata": {
    "id": "hQpIHA8omVE8"
   },
   "source": []
  },
  {
   "cell_type": "code",
   "execution_count": null,
   "metadata": {
    "id": "9lmf28XIPHdR"
   },
   "outputs": [],
   "source": [
    "# Read the Titanic Dataset\n",
    "file_name = cache_file(\n",
    "    \"titanic.csv\",\n",
    "    \"https://raw.githubusercontent.com/datasciencedojo/datasets/master/titanic.csv\",\n",
    ")\n",
    "df = pd.read_csv(file_name)"
   ]
  },
  {
   "cell_type": "code",
   "execution_count": null,
   "metadata": {
    "id": "0E67ASuCPHdT"
   },
   "outputs": [],
   "source": [
    "# Generate the Profiling Report\n",
    "profile = ProfileReport(df, title=\"Titanic Dataset\", html={'style': {'full_width': True}}, sort=\"None\")"
   ]
  },
  {
   "cell_type": "code",
   "execution_count": null,
   "metadata": {
    "colab": {
     "base_uri": "https://localhost:8080/",
     "height": 66,
     "referenced_widgets": [
      "1c9849c9e5f1455e9ea2723b5d4bad3e",
      "18ee5765926f4e3a9195e4cba6768f49",
      "da9730ea70404cd2beb8adf6847e626c",
      "3992098c8e304eebacb0beaf62956380",
      "a2a341a9cbaf4c9d9f0c1ee63ee08eb8",
      "c6aecaa66c28441e91eb7bfd3f10a80c",
      "9eb5431518fb44798770f5976e8268af",
      "5ffd8f058fc5435198aa19047936f812",
      "79dfb962b569457dbe1c857b593100ba",
      "bc131599068b440d85fffd5b84fac61f",
      "7dcea1d3b89c4e5aaee2721d06430a1b"
     ]
    },
    "id": "Umsb_td7PHdW",
    "outputId": "6d3ee705-0344-4ac9-cbb8-a38228a22275"
   },
   "outputs": [
    {
     "data": {
      "application/vnd.jupyter.widget-view+json": {
       "model_id": "1c9849c9e5f1455e9ea2723b5d4bad3e",
       "version_major": 2,
       "version_minor": 0
      },
      "text/plain": [
       "HBox(children=(HTML(value='Export report to file'), FloatProgress(value=0.0, max=1.0), HTML(value='')))"
      ]
     },
     "metadata": {
      "tags": []
     },
     "output_type": "display_data"
    },
    {
     "name": "stdout",
     "output_type": "stream",
     "text": [
      "\n"
     ]
    }
   ],
   "source": [
    "# The Notebook Widgets Interface\n",
    "profile.to_file('report.html')"
   ]
  }
 ],
 "metadata": {
  "colab": {
   "name": "sqlalchemy.ipynb",
   "provenance": []
  },
  "kernelspec": {
   "display_name": "Python 3 (ipykernel)",
   "language": "python",
   "name": "python3"
  },
  "language_info": {
   "codemirror_mode": {
    "name": "ipython",
    "version": 3
   },
   "file_extension": ".py",
   "mimetype": "text/x-python",
   "name": "python",
   "nbconvert_exporter": "python",
   "pygments_lexer": "ipython3",
   "version": "3.10.4"
  },
  "toc": {
   "base_numbering": 1,
   "nav_menu": {},
   "number_sections": true,
   "sideBar": true,
   "skip_h1_title": false,
   "title_cell": "Table of Contents",
   "title_sidebar": "Contents",
   "toc_cell": false,
   "toc_position": {},
   "toc_section_display": true,
   "toc_window_display": true
  },
  "widgets": {
   "application/vnd.jupyter.widget-state+json": {
    "18ee5765926f4e3a9195e4cba6768f49": {
     "model_module": "@jupyter-widgets/base",
     "model_name": "LayoutModel",
     "state": {
      "_model_module": "@jupyter-widgets/base",
      "_model_module_version": "1.2.0",
      "_model_name": "LayoutModel",
      "_view_count": null,
      "_view_module": "@jupyter-widgets/base",
      "_view_module_version": "1.2.0",
      "_view_name": "LayoutView",
      "align_content": null,
      "align_items": null,
      "align_self": null,
      "border": null,
      "bottom": null,
      "display": null,
      "flex": null,
      "flex_flow": null,
      "grid_area": null,
      "grid_auto_columns": null,
      "grid_auto_flow": null,
      "grid_auto_rows": null,
      "grid_column": null,
      "grid_gap": null,
      "grid_row": null,
      "grid_template_areas": null,
      "grid_template_columns": null,
      "grid_template_rows": null,
      "height": null,
      "justify_content": null,
      "justify_items": null,
      "left": null,
      "margin": null,
      "max_height": null,
      "max_width": null,
      "min_height": null,
      "min_width": null,
      "object_fit": null,
      "object_position": null,
      "order": null,
      "overflow": null,
      "overflow_x": null,
      "overflow_y": null,
      "padding": null,
      "right": null,
      "top": null,
      "visibility": null,
      "width": null
     }
    },
    "1c9849c9e5f1455e9ea2723b5d4bad3e": {
     "model_module": "@jupyter-widgets/controls",
     "model_name": "HBoxModel",
     "state": {
      "_dom_classes": [],
      "_model_module": "@jupyter-widgets/controls",
      "_model_module_version": "1.5.0",
      "_model_name": "HBoxModel",
      "_view_count": null,
      "_view_module": "@jupyter-widgets/controls",
      "_view_module_version": "1.5.0",
      "_view_name": "HBoxView",
      "box_style": "",
      "children": [
       "IPY_MODEL_da9730ea70404cd2beb8adf6847e626c",
       "IPY_MODEL_3992098c8e304eebacb0beaf62956380",
       "IPY_MODEL_a2a341a9cbaf4c9d9f0c1ee63ee08eb8"
      ],
      "layout": "IPY_MODEL_18ee5765926f4e3a9195e4cba6768f49"
     }
    },
    "3992098c8e304eebacb0beaf62956380": {
     "model_module": "@jupyter-widgets/controls",
     "model_name": "FloatProgressModel",
     "state": {
      "_dom_classes": [],
      "_model_module": "@jupyter-widgets/controls",
      "_model_module_version": "1.5.0",
      "_model_name": "FloatProgressModel",
      "_view_count": null,
      "_view_module": "@jupyter-widgets/controls",
      "_view_module_version": "1.5.0",
      "_view_name": "ProgressView",
      "bar_style": "success",
      "description": "",
      "description_tooltip": null,
      "layout": "IPY_MODEL_79dfb962b569457dbe1c857b593100ba",
      "max": 1,
      "min": 0,
      "orientation": "horizontal",
      "style": "IPY_MODEL_5ffd8f058fc5435198aa19047936f812",
      "value": 1
     }
    },
    "5ffd8f058fc5435198aa19047936f812": {
     "model_module": "@jupyter-widgets/controls",
     "model_name": "ProgressStyleModel",
     "state": {
      "_model_module": "@jupyter-widgets/controls",
      "_model_module_version": "1.5.0",
      "_model_name": "ProgressStyleModel",
      "_view_count": null,
      "_view_module": "@jupyter-widgets/base",
      "_view_module_version": "1.2.0",
      "_view_name": "StyleView",
      "bar_color": null,
      "description_width": ""
     }
    },
    "79dfb962b569457dbe1c857b593100ba": {
     "model_module": "@jupyter-widgets/base",
     "model_name": "LayoutModel",
     "state": {
      "_model_module": "@jupyter-widgets/base",
      "_model_module_version": "1.2.0",
      "_model_name": "LayoutModel",
      "_view_count": null,
      "_view_module": "@jupyter-widgets/base",
      "_view_module_version": "1.2.0",
      "_view_name": "LayoutView",
      "align_content": null,
      "align_items": null,
      "align_self": null,
      "border": null,
      "bottom": null,
      "display": null,
      "flex": null,
      "flex_flow": null,
      "grid_area": null,
      "grid_auto_columns": null,
      "grid_auto_flow": null,
      "grid_auto_rows": null,
      "grid_column": null,
      "grid_gap": null,
      "grid_row": null,
      "grid_template_areas": null,
      "grid_template_columns": null,
      "grid_template_rows": null,
      "height": null,
      "justify_content": null,
      "justify_items": null,
      "left": null,
      "margin": null,
      "max_height": null,
      "max_width": null,
      "min_height": null,
      "min_width": null,
      "object_fit": null,
      "object_position": null,
      "order": null,
      "overflow": null,
      "overflow_x": null,
      "overflow_y": null,
      "padding": null,
      "right": null,
      "top": null,
      "visibility": null,
      "width": null
     }
    },
    "7dcea1d3b89c4e5aaee2721d06430a1b": {
     "model_module": "@jupyter-widgets/base",
     "model_name": "LayoutModel",
     "state": {
      "_model_module": "@jupyter-widgets/base",
      "_model_module_version": "1.2.0",
      "_model_name": "LayoutModel",
      "_view_count": null,
      "_view_module": "@jupyter-widgets/base",
      "_view_module_version": "1.2.0",
      "_view_name": "LayoutView",
      "align_content": null,
      "align_items": null,
      "align_self": null,
      "border": null,
      "bottom": null,
      "display": null,
      "flex": null,
      "flex_flow": null,
      "grid_area": null,
      "grid_auto_columns": null,
      "grid_auto_flow": null,
      "grid_auto_rows": null,
      "grid_column": null,
      "grid_gap": null,
      "grid_row": null,
      "grid_template_areas": null,
      "grid_template_columns": null,
      "grid_template_rows": null,
      "height": null,
      "justify_content": null,
      "justify_items": null,
      "left": null,
      "margin": null,
      "max_height": null,
      "max_width": null,
      "min_height": null,
      "min_width": null,
      "object_fit": null,
      "object_position": null,
      "order": null,
      "overflow": null,
      "overflow_x": null,
      "overflow_y": null,
      "padding": null,
      "right": null,
      "top": null,
      "visibility": null,
      "width": null
     }
    },
    "9eb5431518fb44798770f5976e8268af": {
     "model_module": "@jupyter-widgets/base",
     "model_name": "LayoutModel",
     "state": {
      "_model_module": "@jupyter-widgets/base",
      "_model_module_version": "1.2.0",
      "_model_name": "LayoutModel",
      "_view_count": null,
      "_view_module": "@jupyter-widgets/base",
      "_view_module_version": "1.2.0",
      "_view_name": "LayoutView",
      "align_content": null,
      "align_items": null,
      "align_self": null,
      "border": null,
      "bottom": null,
      "display": null,
      "flex": null,
      "flex_flow": null,
      "grid_area": null,
      "grid_auto_columns": null,
      "grid_auto_flow": null,
      "grid_auto_rows": null,
      "grid_column": null,
      "grid_gap": null,
      "grid_row": null,
      "grid_template_areas": null,
      "grid_template_columns": null,
      "grid_template_rows": null,
      "height": null,
      "justify_content": null,
      "justify_items": null,
      "left": null,
      "margin": null,
      "max_height": null,
      "max_width": null,
      "min_height": null,
      "min_width": null,
      "object_fit": null,
      "object_position": null,
      "order": null,
      "overflow": null,
      "overflow_x": null,
      "overflow_y": null,
      "padding": null,
      "right": null,
      "top": null,
      "visibility": null,
      "width": null
     }
    },
    "a2a341a9cbaf4c9d9f0c1ee63ee08eb8": {
     "model_module": "@jupyter-widgets/controls",
     "model_name": "HTMLModel",
     "state": {
      "_dom_classes": [],
      "_model_module": "@jupyter-widgets/controls",
      "_model_module_version": "1.5.0",
      "_model_name": "HTMLModel",
      "_view_count": null,
      "_view_module": "@jupyter-widgets/controls",
      "_view_module_version": "1.5.0",
      "_view_name": "HTMLView",
      "description": "",
      "description_tooltip": null,
      "layout": "IPY_MODEL_7dcea1d3b89c4e5aaee2721d06430a1b",
      "placeholder": "​",
      "style": "IPY_MODEL_bc131599068b440d85fffd5b84fac61f",
      "value": " 1/1 [00:00&lt;00:00, 10.82it/s]"
     }
    },
    "bc131599068b440d85fffd5b84fac61f": {
     "model_module": "@jupyter-widgets/controls",
     "model_name": "DescriptionStyleModel",
     "state": {
      "_model_module": "@jupyter-widgets/controls",
      "_model_module_version": "1.5.0",
      "_model_name": "DescriptionStyleModel",
      "_view_count": null,
      "_view_module": "@jupyter-widgets/base",
      "_view_module_version": "1.2.0",
      "_view_name": "StyleView",
      "description_width": ""
     }
    },
    "c6aecaa66c28441e91eb7bfd3f10a80c": {
     "model_module": "@jupyter-widgets/controls",
     "model_name": "DescriptionStyleModel",
     "state": {
      "_model_module": "@jupyter-widgets/controls",
      "_model_module_version": "1.5.0",
      "_model_name": "DescriptionStyleModel",
      "_view_count": null,
      "_view_module": "@jupyter-widgets/base",
      "_view_module_version": "1.2.0",
      "_view_name": "StyleView",
      "description_width": ""
     }
    },
    "da9730ea70404cd2beb8adf6847e626c": {
     "model_module": "@jupyter-widgets/controls",
     "model_name": "HTMLModel",
     "state": {
      "_dom_classes": [],
      "_model_module": "@jupyter-widgets/controls",
      "_model_module_version": "1.5.0",
      "_model_name": "HTMLModel",
      "_view_count": null,
      "_view_module": "@jupyter-widgets/controls",
      "_view_module_version": "1.5.0",
      "_view_name": "HTMLView",
      "description": "",
      "description_tooltip": null,
      "layout": "IPY_MODEL_9eb5431518fb44798770f5976e8268af",
      "placeholder": "​",
      "style": "IPY_MODEL_c6aecaa66c28441e91eb7bfd3f10a80c",
      "value": "Export report to file: 100%"
     }
    }
   }
  }
 },
 "nbformat": 4,
 "nbformat_minor": 1
}

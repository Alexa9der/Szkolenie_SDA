{
 "cells": [
  {
   "cell_type": "markdown",
   "id": "82a32617",
   "metadata": {},
   "source": [
    "# import"
   ]
  },
  {
   "cell_type": "code",
   "execution_count": 1,
   "id": "de3aa0fa",
   "metadata": {},
   "outputs": [],
   "source": [
    "import pandas as pd\n",
    "import numpy as np\n",
    "\n",
    "from faker import Faker # fake data"
   ]
  },
  {
   "cell_type": "markdown",
   "id": "419523fd",
   "metadata": {},
   "source": [
    "# Zadanie pandas"
   ]
  },
  {
   "cell_type": "markdown",
   "id": "3227135d",
   "metadata": {},
   "source": [
    "## Zadanie \n",
    "\n",
    "Stwórz dataframe z dzięsięcioma imionami uczniów i uczennic oraz liczbą\n",
    "punktów, jakie uzyskali z egzaminu. Następnie sprawdź, jaka była średnia i\n",
    "mediana wyników."
   ]
  },
  {
   "cell_type": "code",
   "execution_count": 2,
   "id": "90c37e6d",
   "metadata": {},
   "outputs": [
    {
     "data": {
      "text/html": [
       "<div>\n",
       "<style scoped>\n",
       "    .dataframe tbody tr th:only-of-type {\n",
       "        vertical-align: middle;\n",
       "    }\n",
       "\n",
       "    .dataframe tbody tr th {\n",
       "        vertical-align: top;\n",
       "    }\n",
       "\n",
       "    .dataframe thead th {\n",
       "        text-align: right;\n",
       "    }\n",
       "</style>\n",
       "<table border=\"1\" class=\"dataframe\">\n",
       "  <thead>\n",
       "    <tr style=\"text-align: right;\">\n",
       "      <th></th>\n",
       "      <th>name</th>\n",
       "      <th>points</th>\n",
       "    </tr>\n",
       "  </thead>\n",
       "  <tbody>\n",
       "    <tr>\n",
       "      <th>0</th>\n",
       "      <td>Liwia</td>\n",
       "      <td>7</td>\n",
       "    </tr>\n",
       "    <tr>\n",
       "      <th>1</th>\n",
       "      <td>Aleks</td>\n",
       "      <td>19</td>\n",
       "    </tr>\n",
       "    <tr>\n",
       "      <th>2</th>\n",
       "      <td>Alan</td>\n",
       "      <td>29</td>\n",
       "    </tr>\n",
       "    <tr>\n",
       "      <th>3</th>\n",
       "      <td>Ida</td>\n",
       "      <td>15</td>\n",
       "    </tr>\n",
       "    <tr>\n",
       "      <th>4</th>\n",
       "      <td>Arkadiusz</td>\n",
       "      <td>11</td>\n",
       "    </tr>\n",
       "    <tr>\n",
       "      <th>5</th>\n",
       "      <td>Jacek</td>\n",
       "      <td>8</td>\n",
       "    </tr>\n",
       "    <tr>\n",
       "      <th>6</th>\n",
       "      <td>Adam</td>\n",
       "      <td>29</td>\n",
       "    </tr>\n",
       "    <tr>\n",
       "      <th>7</th>\n",
       "      <td>Nela</td>\n",
       "      <td>21</td>\n",
       "    </tr>\n",
       "    <tr>\n",
       "      <th>8</th>\n",
       "      <td>Iwo</td>\n",
       "      <td>7</td>\n",
       "    </tr>\n",
       "    <tr>\n",
       "      <th>9</th>\n",
       "      <td>Natasza</td>\n",
       "      <td>26</td>\n",
       "    </tr>\n",
       "    <tr>\n",
       "      <th>10</th>\n",
       "      <td>Konrad</td>\n",
       "      <td>23</td>\n",
       "    </tr>\n",
       "    <tr>\n",
       "      <th>11</th>\n",
       "      <td>Miłosz</td>\n",
       "      <td>11</td>\n",
       "    </tr>\n",
       "    <tr>\n",
       "      <th>12</th>\n",
       "      <td>Apolonia</td>\n",
       "      <td>11</td>\n",
       "    </tr>\n",
       "    <tr>\n",
       "      <th>13</th>\n",
       "      <td>Urszula</td>\n",
       "      <td>24</td>\n",
       "    </tr>\n",
       "    <tr>\n",
       "      <th>14</th>\n",
       "      <td>Tola</td>\n",
       "      <td>21</td>\n",
       "    </tr>\n",
       "    <tr>\n",
       "      <th>15</th>\n",
       "      <td>Julita</td>\n",
       "      <td>4</td>\n",
       "    </tr>\n",
       "    <tr>\n",
       "      <th>16</th>\n",
       "      <td>Rozalia</td>\n",
       "      <td>8</td>\n",
       "    </tr>\n",
       "    <tr>\n",
       "      <th>17</th>\n",
       "      <td>Jerzy</td>\n",
       "      <td>24</td>\n",
       "    </tr>\n",
       "    <tr>\n",
       "      <th>18</th>\n",
       "      <td>Stefan</td>\n",
       "      <td>3</td>\n",
       "    </tr>\n",
       "  </tbody>\n",
       "</table>\n",
       "</div>"
      ],
      "text/plain": [
       "         name  points\n",
       "0       Liwia       7\n",
       "1       Aleks      19\n",
       "2        Alan      29\n",
       "3         Ida      15\n",
       "4   Arkadiusz      11\n",
       "5       Jacek       8\n",
       "6        Adam      29\n",
       "7        Nela      21\n",
       "8         Iwo       7\n",
       "9     Natasza      26\n",
       "10     Konrad      23\n",
       "11     Miłosz      11\n",
       "12   Apolonia      11\n",
       "13    Urszula      24\n",
       "14       Tola      21\n",
       "15     Julita       4\n",
       "16    Rozalia       8\n",
       "17      Jerzy      24\n",
       "18     Stefan       3"
      ]
     },
     "execution_count": 2,
     "metadata": {},
     "output_type": "execute_result"
    }
   ],
   "source": [
    "fake = Faker(locale='pl_PL')\n",
    "point_range = {\"start\": 1,\n",
    "              \"stop\": 31}\n",
    "len_col_names = 20\n",
    "\n",
    "np.random.seed(42)\n",
    "\n",
    "def name():\n",
    "    name = fake.name().strip().split(\" \")\n",
    "    if len(name) == 3 :  return name[1]\n",
    "    else : return name[0]\n",
    "\n",
    "names = {}\n",
    "for _ in range(len_col_names):\n",
    "    names[name()] = np.random.randint(point_range[\"start\"],\n",
    "                                           point_range[\"stop\"])\n",
    "\n",
    "df = pd.DataFrame(names.items(), columns=(\"name\",\"points\"))\n",
    "mean_med = df.describe().iloc[[1,5]]\n",
    "mean_med\n",
    "df"
   ]
  },
  {
   "cell_type": "markdown",
   "id": "8db6b288",
   "metadata": {},
   "source": [
    "## Zadanie \n",
    "\n",
    "Bazując na ramce danych utworzonej w poprzednim zadaniu, wyświetl\n",
    "czwarty wiersz. Następnie zapisz do osobnej ramki tych uczniów, którzy\n",
    "uzyskali wynik powyżej średniej.\n"
   ]
  },
  {
   "cell_type": "code",
   "execution_count": 3,
   "id": "326ee0b8",
   "metadata": {},
   "outputs": [
    {
     "data": {
      "text/html": [
       "<div>\n",
       "<style scoped>\n",
       "    .dataframe tbody tr th:only-of-type {\n",
       "        vertical-align: middle;\n",
       "    }\n",
       "\n",
       "    .dataframe tbody tr th {\n",
       "        vertical-align: top;\n",
       "    }\n",
       "\n",
       "    .dataframe thead th {\n",
       "        text-align: right;\n",
       "    }\n",
       "</style>\n",
       "<table border=\"1\" class=\"dataframe\">\n",
       "  <thead>\n",
       "    <tr style=\"text-align: right;\">\n",
       "      <th></th>\n",
       "      <th>name</th>\n",
       "      <th>points</th>\n",
       "    </tr>\n",
       "  </thead>\n",
       "  <tbody>\n",
       "    <tr>\n",
       "      <th>0</th>\n",
       "      <td>Liwia</td>\n",
       "      <td>7</td>\n",
       "    </tr>\n",
       "    <tr>\n",
       "      <th>1</th>\n",
       "      <td>Aleks</td>\n",
       "      <td>19</td>\n",
       "    </tr>\n",
       "    <tr>\n",
       "      <th>2</th>\n",
       "      <td>Alan</td>\n",
       "      <td>29</td>\n",
       "    </tr>\n",
       "    <tr>\n",
       "      <th>3</th>\n",
       "      <td>Ida</td>\n",
       "      <td>15</td>\n",
       "    </tr>\n",
       "    <tr>\n",
       "      <th>4</th>\n",
       "      <td>Arkadiusz</td>\n",
       "      <td>11</td>\n",
       "    </tr>\n",
       "  </tbody>\n",
       "</table>\n",
       "</div>"
      ],
      "text/plain": [
       "        name  points\n",
       "0      Liwia       7\n",
       "1      Aleks      19\n",
       "2       Alan      29\n",
       "3        Ida      15\n",
       "4  Arkadiusz      11"
      ]
     },
     "execution_count": 3,
     "metadata": {},
     "output_type": "execute_result"
    }
   ],
   "source": [
    "df.head(5)"
   ]
  },
  {
   "cell_type": "code",
   "execution_count": 4,
   "id": "def1ad13",
   "metadata": {},
   "outputs": [
    {
     "name": "stdout",
     "output_type": "stream",
     "text": [
      "  name  points\n",
      "3  Ida      15\n"
     ]
    },
    {
     "data": {
      "text/html": [
       "<div>\n",
       "<style scoped>\n",
       "    .dataframe tbody tr th:only-of-type {\n",
       "        vertical-align: middle;\n",
       "    }\n",
       "\n",
       "    .dataframe tbody tr th {\n",
       "        vertical-align: top;\n",
       "    }\n",
       "\n",
       "    .dataframe thead th {\n",
       "        text-align: right;\n",
       "    }\n",
       "</style>\n",
       "<table border=\"1\" class=\"dataframe\">\n",
       "  <thead>\n",
       "    <tr style=\"text-align: right;\">\n",
       "      <th></th>\n",
       "      <th>name</th>\n",
       "      <th>points</th>\n",
       "    </tr>\n",
       "  </thead>\n",
       "  <tbody>\n",
       "    <tr>\n",
       "      <th>1</th>\n",
       "      <td>Aleks</td>\n",
       "      <td>19</td>\n",
       "    </tr>\n",
       "    <tr>\n",
       "      <th>2</th>\n",
       "      <td>Alan</td>\n",
       "      <td>29</td>\n",
       "    </tr>\n",
       "    <tr>\n",
       "      <th>6</th>\n",
       "      <td>Adam</td>\n",
       "      <td>29</td>\n",
       "    </tr>\n",
       "    <tr>\n",
       "      <th>7</th>\n",
       "      <td>Nela</td>\n",
       "      <td>21</td>\n",
       "    </tr>\n",
       "    <tr>\n",
       "      <th>9</th>\n",
       "      <td>Natasza</td>\n",
       "      <td>26</td>\n",
       "    </tr>\n",
       "    <tr>\n",
       "      <th>10</th>\n",
       "      <td>Konrad</td>\n",
       "      <td>23</td>\n",
       "    </tr>\n",
       "    <tr>\n",
       "      <th>13</th>\n",
       "      <td>Urszula</td>\n",
       "      <td>24</td>\n",
       "    </tr>\n",
       "    <tr>\n",
       "      <th>14</th>\n",
       "      <td>Tola</td>\n",
       "      <td>21</td>\n",
       "    </tr>\n",
       "    <tr>\n",
       "      <th>17</th>\n",
       "      <td>Jerzy</td>\n",
       "      <td>24</td>\n",
       "    </tr>\n",
       "  </tbody>\n",
       "</table>\n",
       "</div>"
      ],
      "text/plain": [
       "       name  points\n",
       "1     Aleks      19\n",
       "2      Alan      29\n",
       "6      Adam      29\n",
       "7      Nela      21\n",
       "9   Natasza      26\n",
       "10   Konrad      23\n",
       "13  Urszula      24\n",
       "14     Tola      21\n",
       "17    Jerzy      24"
      ]
     },
     "execution_count": 4,
     "metadata": {},
     "output_type": "execute_result"
    }
   ],
   "source": [
    "print(df[3:4])\n",
    "# print(df.iloc[3])\n",
    "# print(df.loc[3:3,:])\n",
    "\n",
    "above_average = df[df.points > df.points.mean()]\n",
    "above_average"
   ]
  },
  {
   "cell_type": "markdown",
   "id": "c0706e4e",
   "metadata": {},
   "source": [
    "## Zadanie \n",
    "\n",
    "Dodaj do ramki trzecią kolumnę, w której znajdzie się procentowy wynik uczniów i uczennic z tego egzaminu (to znaczy, że każda wartość liczbowa musi zostać podzielona przez maksimum punktów, jakie można było na tym egzaminie uzyskać).\n",
    "\n",
    "Następnie, chcemy zanonimizować kolumnę z imionami: chcemy, by została tylko pierwsza i ostatnia litera imienia. Np. dla imienia “Marcelina” chcemy zachować “M...a”\n"
   ]
  },
  {
   "cell_type": "code",
   "execution_count": 8,
   "id": "3eb0d77c",
   "metadata": {
    "scrolled": true
   },
   "outputs": [
    {
     "data": {
      "text/html": [
       "<div>\n",
       "<style scoped>\n",
       "    .dataframe tbody tr th:only-of-type {\n",
       "        vertical-align: middle;\n",
       "    }\n",
       "\n",
       "    .dataframe tbody tr th {\n",
       "        vertical-align: top;\n",
       "    }\n",
       "\n",
       "    .dataframe thead th {\n",
       "        text-align: right;\n",
       "    }\n",
       "</style>\n",
       "<table border=\"1\" class=\"dataframe\">\n",
       "  <thead>\n",
       "    <tr style=\"text-align: right;\">\n",
       "      <th></th>\n",
       "      <th>name</th>\n",
       "      <th>points</th>\n",
       "      <th>percent_points</th>\n",
       "    </tr>\n",
       "  </thead>\n",
       "  <tbody>\n",
       "    <tr>\n",
       "      <th>14</th>\n",
       "      <td>T...a</td>\n",
       "      <td>21</td>\n",
       "      <td>0.700000</td>\n",
       "    </tr>\n",
       "    <tr>\n",
       "      <th>15</th>\n",
       "      <td>J...a</td>\n",
       "      <td>4</td>\n",
       "      <td>0.133333</td>\n",
       "    </tr>\n",
       "    <tr>\n",
       "      <th>16</th>\n",
       "      <td>R...a</td>\n",
       "      <td>8</td>\n",
       "      <td>0.266667</td>\n",
       "    </tr>\n",
       "    <tr>\n",
       "      <th>17</th>\n",
       "      <td>J...y</td>\n",
       "      <td>24</td>\n",
       "      <td>0.800000</td>\n",
       "    </tr>\n",
       "    <tr>\n",
       "      <th>18</th>\n",
       "      <td>S...n</td>\n",
       "      <td>3</td>\n",
       "      <td>0.100000</td>\n",
       "    </tr>\n",
       "  </tbody>\n",
       "</table>\n",
       "</div>"
      ],
      "text/plain": [
       "     name  points  percent_points\n",
       "14  T...a      21        0.700000\n",
       "15  J...a       4        0.133333\n",
       "16  R...a       8        0.266667\n",
       "17  J...y      24        0.800000\n",
       "18  S...n       3        0.100000"
      ]
     },
     "execution_count": 8,
     "metadata": {},
     "output_type": "execute_result"
    }
   ],
   "source": [
    "df[\"percent_points\"] = df.points / (point_range[\"stop\"] - 1)\n",
    "df.tail()"
   ]
  },
  {
   "cell_type": "code",
   "execution_count": 9,
   "id": "371aa01d",
   "metadata": {
    "scrolled": true
   },
   "outputs": [
    {
     "data": {
      "text/html": [
       "<div>\n",
       "<style scoped>\n",
       "    .dataframe tbody tr th:only-of-type {\n",
       "        vertical-align: middle;\n",
       "    }\n",
       "\n",
       "    .dataframe tbody tr th {\n",
       "        vertical-align: top;\n",
       "    }\n",
       "\n",
       "    .dataframe thead th {\n",
       "        text-align: right;\n",
       "    }\n",
       "</style>\n",
       "<table border=\"1\" class=\"dataframe\">\n",
       "  <thead>\n",
       "    <tr style=\"text-align: right;\">\n",
       "      <th></th>\n",
       "      <th>name</th>\n",
       "      <th>points</th>\n",
       "      <th>percent_points</th>\n",
       "    </tr>\n",
       "  </thead>\n",
       "  <tbody>\n",
       "    <tr>\n",
       "      <th>0</th>\n",
       "      <td>L...a</td>\n",
       "      <td>7</td>\n",
       "      <td>0.233333</td>\n",
       "    </tr>\n",
       "    <tr>\n",
       "      <th>1</th>\n",
       "      <td>A...s</td>\n",
       "      <td>19</td>\n",
       "      <td>0.633333</td>\n",
       "    </tr>\n",
       "    <tr>\n",
       "      <th>2</th>\n",
       "      <td>A...n</td>\n",
       "      <td>29</td>\n",
       "      <td>0.966667</td>\n",
       "    </tr>\n",
       "    <tr>\n",
       "      <th>3</th>\n",
       "      <td>I...a</td>\n",
       "      <td>15</td>\n",
       "      <td>0.500000</td>\n",
       "    </tr>\n",
       "    <tr>\n",
       "      <th>4</th>\n",
       "      <td>A...z</td>\n",
       "      <td>11</td>\n",
       "      <td>0.366667</td>\n",
       "    </tr>\n",
       "  </tbody>\n",
       "</table>\n",
       "</div>"
      ],
      "text/plain": [
       "    name  points  percent_points\n",
       "0  L...a       7        0.233333\n",
       "1  A...s      19        0.633333\n",
       "2  A...n      29        0.966667\n",
       "3  I...a      15        0.500000\n",
       "4  A...z      11        0.366667"
      ]
     },
     "execution_count": 9,
     "metadata": {},
     "output_type": "execute_result"
    }
   ],
   "source": [
    "\"\"\"\n",
    "Następnie, chcemy zanonimizować kolumnę z imionami: chcemy,\n",
    "by została tylko pierwsza i ostatnia litera imienia.\n",
    "Np. dla imienia “Marcelina” chcemy zachować “M...a\n",
    "”\"\"\"\n",
    "\n",
    "df.name = df.name.apply(lambda x: f\"{x[0]}...{x[-1]}\")\n",
    "df.head()"
   ]
  },
  {
   "cell_type": "markdown",
   "id": "df2f37e5",
   "metadata": {},
   "source": [
    "## Zadanie \n",
    "\n",
    "Połącz ze sobą dwie poniższe ramki.\n",
    "\n",
    "    student_data1 = pd.DataFrame({\n",
    "     'student_id': ['S1', 'S2', 'S3', 'S4', 'S5'],\n",
    "     'name': ['Danniella Fenton', 'Ryder Storey', 'Bryce Jensen', 'Ed Bernal', 'Kwame Morin']\n",
    "     })\n",
    "    student_data2 = pd.DataFrame({\n",
    "     'student_id': ['S6', 'S7', 'S8', 'S9', 'S10'],\n",
    "     'name': ['Scarlette Fisher', 'Carla Williamson', 'Dante Morse', 'Kaiser William', 'Madeeha Preston']\n",
    "     })\n"
   ]
  },
  {
   "cell_type": "code",
   "execution_count": null,
   "id": "9e6419cb",
   "metadata": {},
   "outputs": [],
   "source": [
    "student_data1 = pd.DataFrame({\n",
    " 'student_id': ['S1', 'S2', 'S3', 'S4', 'S5'],\n",
    " 'name': ['Danniella Fenton', 'Ryder Storey', 'Bryce Jensen', 'Ed Bernal', 'Kwame Morin']\n",
    " })\n",
    "\n",
    "student_data2 = pd.DataFrame({\n",
    " 'student_id': ['S6', 'S7', 'S8', 'S9', 'S10'],\n",
    " 'name': ['Scarlette Fisher', 'Carla Williamson', 'Dante Morse', 'Kaiser William', 'Madeeha Preston']\n",
    " })"
   ]
  },
  {
   "cell_type": "code",
   "execution_count": null,
   "id": "d10c551d",
   "metadata": {},
   "outputs": [],
   "source": [
    "student_data = student_data1.append(student_data2)\n",
    "student_data"
   ]
  },
  {
   "cell_type": "markdown",
   "id": "2f3a1c8b",
   "metadata": {},
   "source": [
    "## Zadanie \n",
    "\n",
    "Do ramki utworzonej w poprzednim zadaniu dodaj informacje o\n",
    "rezultatach studentów z ramki poniżej.\n",
    "\n",
    "    exam_results = pd.DataFrame({\n",
    "     'student_id': ['S2', 'S10', 'S3', 'S1', 'S7', 'S9', 'S5', 'S4', 'S8', 'S6'],\n",
    "     'marks': [200, 210, 190, 222, 199, 201, 200, 198, 219, 201]\n",
    "     })\n"
   ]
  },
  {
   "cell_type": "code",
   "execution_count": null,
   "id": "94d028d3",
   "metadata": {},
   "outputs": [],
   "source": [
    "exam_results = pd.DataFrame({\n",
    " 'student_id': ['S2', 'S10', 'S3', 'S1', 'S7', 'S9', 'S5', 'S4', 'S8', 'S6'],\n",
    " 'marks': [200, 210, 190, 222, 199, 201, 200, 198, 219, 201]\n",
    " })"
   ]
  },
  {
   "cell_type": "code",
   "execution_count": null,
   "id": "dfee7008",
   "metadata": {
    "scrolled": true
   },
   "outputs": [],
   "source": [
    "x = student_data.merge(exam_results, on=\"student_id\")\n",
    "x.describe(include=\"all\")"
   ]
  },
  {
   "cell_type": "markdown",
   "id": "4cd51ff7",
   "metadata": {},
   "source": [
    "## wczytaj plik wylosuj imiona i zapisz sobie do df"
   ]
  },
  {
   "cell_type": "code",
   "execution_count": null,
   "id": "15163666",
   "metadata": {},
   "outputs": [],
   "source": [
    "data_baby_names = pd.read_csv(r\"C:\\Users\\user\\Desktop\\Data Science\\SDA\\SDA szkolenie\\Przetwarzanie_zbiorów_danych\\files_for_Processing_datasets\\ML-datasets-master\\US_Baby_Names_right.csv\")\n",
    "r_name = data_baby_names.sample(n= 10).reset_index(drop=True)\n",
    "data_random_name =  pd.DataFrame(r_name.iloc[:,2])\n",
    "data_random_name.to_csv(\"My name for baby.csv\")"
   ]
  },
  {
   "cell_type": "markdown",
   "id": "a528a7b0",
   "metadata": {},
   "source": [
    "# Zadania z  RELACYJNYCH BAZ\n",
    "DANYCH"
   ]
  },
  {
   "cell_type": "markdown",
   "id": "d48c494f",
   "metadata": {},
   "source": [
    "## Zadanie \n",
    "\n",
    "1. Jakie tabele będą nam potrzebne, aby stworzyć szkielet bazy danych do\n",
    "zarządzania wypożyczalnią samochodów.\n",
    "\n",
    "2. Jakie relacje powinny być między tabelami samochodów, klientów i\n",
    "rezerwacji?\n",
    "\n",
    "3. Co może być kluczem głównym w poszczególnych tabelach?"
   ]
  },
  {
   "cell_type": "markdown",
   "id": "6e943005",
   "metadata": {},
   "source": [
    "# Zadania z SQL"
   ]
  },
  {
   "cell_type": "markdown",
   "id": "c74eb43b",
   "metadata": {},
   "source": [
    "## Zadanie \n",
    "\n",
    "1. Utwórz bazę danych car_rental i upewnij się, że aktualnie będzie ona\n",
    "bazą domyślną do wykonywania operacji. (USE car_rental)\n",
    "2. Dodaj odpowiednie tabele zawierające:\n",
    "a. cars - car_id, producer, model, year, horse_power, price_per_day\n",
    "b. clients - client_id, name, surname, address, city\n",
    "c. bookings - booking_id, client_id, car_id, start_date, end_date,\n",
    "total_amount\n",
    "3. *Dodaj autoinkrementację dla kluczy.\n",
    "4. *Zaktualizuj tabelę bookings o dwa klucze obce, które posiada."
   ]
  },
  {
   "cell_type": "code",
   "execution_count": null,
   "id": "4b136e03",
   "metadata": {},
   "outputs": [],
   "source": []
  }
 ],
 "metadata": {
  "kernelspec": {
   "display_name": "Python 3 (ipykernel)",
   "language": "python",
   "name": "python3"
  },
  "language_info": {
   "codemirror_mode": {
    "name": "ipython",
    "version": 3
   },
   "file_extension": ".py",
   "mimetype": "text/x-python",
   "name": "python",
   "nbconvert_exporter": "python",
   "pygments_lexer": "ipython3",
   "version": "3.10.4"
  },
  "nbTranslate": {
   "displayLangs": [
    "*"
   ],
   "hotkey": "alt-t",
   "langInMainMenu": true,
   "sourceLang": "en",
   "targetLang": "fr",
   "useGoogleTranslate": true
  },
  "toc": {
   "base_numbering": 1,
   "nav_menu": {},
   "number_sections": true,
   "sideBar": true,
   "skip_h1_title": false,
   "title_cell": "Table of Contents",
   "title_sidebar": "Contents",
   "toc_cell": false,
   "toc_position": {},
   "toc_section_display": true,
   "toc_window_display": true
  },
  "varInspector": {
   "cols": {
    "lenName": 16,
    "lenType": 16,
    "lenVar": 40
   },
   "kernels_config": {
    "python": {
     "delete_cmd_postfix": "",
     "delete_cmd_prefix": "del ",
     "library": "var_list.py",
     "varRefreshCmd": "print(var_dic_list())"
    },
    "r": {
     "delete_cmd_postfix": ") ",
     "delete_cmd_prefix": "rm(",
     "library": "var_list.r",
     "varRefreshCmd": "cat(var_dic_list()) "
    }
   },
   "types_to_exclude": [
    "module",
    "function",
    "builtin_function_or_method",
    "instance",
    "_Feature"
   ],
   "window_display": false
  }
 },
 "nbformat": 4,
 "nbformat_minor": 5
}

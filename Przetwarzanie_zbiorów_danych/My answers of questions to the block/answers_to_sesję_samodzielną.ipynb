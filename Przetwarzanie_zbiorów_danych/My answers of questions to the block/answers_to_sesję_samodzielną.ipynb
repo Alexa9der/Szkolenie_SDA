{
 "cells": [
  {
   "cell_type": "markdown",
   "id": "da1c24be",
   "metadata": {},
   "source": [
    "[questions Pandas](http://localhost:8888/notebooks/Desktop/Data%20Science/SDA/SDA%20szkolenie/Przetwarzanie_zbior%C3%B3w_danych/zadaniami_z_Pandasa/Pandas.ipynb)\n",
    "\n",
    "[Zadania_przetwarzanie_danych.pdf](http://localhost:8888/files/Desktop/Data%20Science/SDA/SDA%20szkolenie/Przetwarzanie_zbior%C3%B3w_danych/Sesj%C4%99%20Samodzieln%C4%85/Zadania_przetwarzanie_danych.pdf)"
   ]
  },
  {
   "cell_type": "markdown",
   "id": "69ff1e14",
   "metadata": {},
   "source": [
    "# import"
   ]
  },
  {
   "cell_type": "code",
   "execution_count": 1,
   "id": "41ab2ee2",
   "metadata": {},
   "outputs": [],
   "source": [
    "import pandas as pd\n",
    "import numpy as np "
   ]
  },
  {
   "cell_type": "markdown",
   "id": "6fc03d46",
   "metadata": {},
   "source": [
    "# Porównywanie pd.Series\n",
    "\n",
    "Utwórz dwa obiekty typu `pd.Series`, zawierające 100 wartości 0 lub 1. Wykorzystaj w tym celu generator liczb losowych z biblioteki NumPy [np.random.randint](https://docs.scipy.org/doc/numpy-1.15.1/reference/generated/numpy.random.randint.html#numpy-random-randint).\n",
    "\n",
    "Następnie wyświetl wszystkie indeksy, na których wartości w obu Series się zgadzają."
   ]
  },
  {
   "cell_type": "code",
   "execution_count": 35,
   "id": "b9b4a75f",
   "metadata": {},
   "outputs": [
    {
     "data": {
      "text/plain": [
       "Index([ 1,  2,  3,  8, 11, 14, 15, 19, 21, 22, 24, 25, 27, 31, 33, 37, 40, 41,\n",
       "       43, 44, 45, 46, 49, 50, 52, 54, 55, 56, 57, 60, 61, 65, 66, 72, 73, 76,\n",
       "       79, 80, 82, 87, 88, 89, 90, 91, 93, 94],\n",
       "      dtype='int64')"
      ]
     },
     "execution_count": 35,
     "metadata": {},
     "output_type": "execute_result"
    }
   ],
   "source": [
    "n = 100\n",
    "df_1 = pd.Series( np.random.randint(low= 2, size = n))\n",
    "df_2 = pd.Series( np.random.randint(low= 2, size = n))\n",
    "df_1[df_1 == df_2].index"
   ]
  },
  {
   "cell_type": "markdown",
   "id": "566e137f",
   "metadata": {},
   "source": [
    "# Zbiór chipotle - kto zapłacił najwięcej?\n",
    "\n",
    "Wczytaj zbiór [chipotle]( https://github.com/matzim95/ML-datasets ) i dodaj kolumne `price_dollars`, zawierającą cenę w dolarach. Następnie sprawdź, które z zamówień opiewało na najwyższą kwotę (wykorzystaj w tym celu grupowanie i wybraną agregację). Podaj jego indeks (`order_id`) oraz wartość zamówienia."
   ]
  },
  {
   "cell_type": "code",
   "execution_count": 61,
   "id": "8629146c",
   "metadata": {},
   "outputs": [
    {
     "data": {
      "text/html": [
       "<div>\n",
       "<style scoped>\n",
       "    .dataframe tbody tr th:only-of-type {\n",
       "        vertical-align: middle;\n",
       "    }\n",
       "\n",
       "    .dataframe tbody tr th {\n",
       "        vertical-align: top;\n",
       "    }\n",
       "\n",
       "    .dataframe thead th {\n",
       "        text-align: right;\n",
       "    }\n",
       "</style>\n",
       "<table border=\"1\" class=\"dataframe\">\n",
       "  <thead>\n",
       "    <tr style=\"text-align: right;\">\n",
       "      <th></th>\n",
       "      <th>order_id</th>\n",
       "      <th>quantity</th>\n",
       "      <th>item_name</th>\n",
       "      <th>choice_description</th>\n",
       "      <th>item_price</th>\n",
       "    </tr>\n",
       "  </thead>\n",
       "  <tbody>\n",
       "    <tr>\n",
       "      <th>0</th>\n",
       "      <td>1</td>\n",
       "      <td>1</td>\n",
       "      <td>Chips and Fresh Tomato Salsa</td>\n",
       "      <td>NaN</td>\n",
       "      <td>$2.39</td>\n",
       "    </tr>\n",
       "    <tr>\n",
       "      <th>1</th>\n",
       "      <td>1</td>\n",
       "      <td>1</td>\n",
       "      <td>Izze</td>\n",
       "      <td>[Clementine]</td>\n",
       "      <td>$3.39</td>\n",
       "    </tr>\n",
       "    <tr>\n",
       "      <th>2</th>\n",
       "      <td>1</td>\n",
       "      <td>1</td>\n",
       "      <td>Nantucket Nectar</td>\n",
       "      <td>[Apple]</td>\n",
       "      <td>$3.39</td>\n",
       "    </tr>\n",
       "    <tr>\n",
       "      <th>3</th>\n",
       "      <td>1</td>\n",
       "      <td>1</td>\n",
       "      <td>Chips and Tomatillo-Green Chili Salsa</td>\n",
       "      <td>NaN</td>\n",
       "      <td>$2.39</td>\n",
       "    </tr>\n",
       "    <tr>\n",
       "      <th>4</th>\n",
       "      <td>2</td>\n",
       "      <td>2</td>\n",
       "      <td>Chicken Bowl</td>\n",
       "      <td>[Tomatillo-Red Chili Salsa (Hot), [Black Beans...</td>\n",
       "      <td>$16.98</td>\n",
       "    </tr>\n",
       "  </tbody>\n",
       "</table>\n",
       "</div>"
      ],
      "text/plain": [
       "   order_id  quantity                              item_name  \\\n",
       "0         1         1           Chips and Fresh Tomato Salsa   \n",
       "1         1         1                                   Izze   \n",
       "2         1         1                       Nantucket Nectar   \n",
       "3         1         1  Chips and Tomatillo-Green Chili Salsa   \n",
       "4         2         2                           Chicken Bowl   \n",
       "\n",
       "                                  choice_description item_price  \n",
       "0                                                NaN      $2.39  \n",
       "1                                       [Clementine]      $3.39  \n",
       "2                                            [Apple]      $3.39  \n",
       "3                                                NaN      $2.39  \n",
       "4  [Tomatillo-Red Chili Salsa (Hot), [Black Beans...     $16.98  "
      ]
     },
     "execution_count": 61,
     "metadata": {},
     "output_type": "execute_result"
    }
   ],
   "source": [
    "df = pd.read_html(\"https://github.com/matzim95/ML-datasets/blob/master/chipotle.tsv\",\n",
    "                 encoding= \"utf-8\")[0].drop(\"Unnamed: 0\", axis=1)\n",
    "df.head()"
   ]
  },
  {
   "cell_type": "code",
   "execution_count": 67,
   "id": "a9ab7bbe",
   "metadata": {},
   "outputs": [],
   "source": [
    "# dodaj kolumne price_dollars, zawierającą cenę w dolarach\n",
    "df[\"price_dollars\"] = df.item_price.apply(lambda L: L[1:]).astype(\"float\")"
   ]
  },
  {
   "cell_type": "code",
   "execution_count": 96,
   "id": "32ca2db6",
   "metadata": {},
   "outputs": [
    {
     "data": {
      "text/html": [
       "<div>\n",
       "<style scoped>\n",
       "    .dataframe tbody tr th:only-of-type {\n",
       "        vertical-align: middle;\n",
       "    }\n",
       "\n",
       "    .dataframe tbody tr th {\n",
       "        vertical-align: top;\n",
       "    }\n",
       "\n",
       "    .dataframe thead th {\n",
       "        text-align: right;\n",
       "    }\n",
       "</style>\n",
       "<table border=\"1\" class=\"dataframe\">\n",
       "  <thead>\n",
       "    <tr style=\"text-align: right;\">\n",
       "      <th></th>\n",
       "      <th>order_id</th>\n",
       "      <th>price_dollars</th>\n",
       "    </tr>\n",
       "  </thead>\n",
       "  <tbody>\n",
       "    <tr>\n",
       "      <th>925</th>\n",
       "      <td>926</td>\n",
       "      <td>205.25</td>\n",
       "    </tr>\n",
       "  </tbody>\n",
       "</table>\n",
       "</div>"
      ],
      "text/plain": [
       "     order_id  price_dollars\n",
       "925       926         205.25"
      ]
     },
     "execution_count": 96,
     "metadata": {},
     "output_type": "execute_result"
    }
   ],
   "source": [
    "# które z zamówień opiewało na najwyższą kwotę.\n",
    "# Podaj jego indeks (order_id) oraz wartość zamówienia.\n",
    "sumeri_prince = df.groupby(\"order_id\", as_index= False).agg({\"price_dollars\":\"sum\"})\\\n",
    "                                       .sort_values(\"price_dollars\", ascending= False)\n",
    "\n",
    "sumeri_prince.iloc[:1]"
   ]
  },
  {
   "cell_type": "markdown",
   "id": "a7f101f9",
   "metadata": {},
   "source": [
    "#  Łączenie DataFrames\n",
    "\n",
    "Wczytaj zbiory [danych]((https://github.com/matzim95/ML-datasets).) `rating.csv` oraz `parking.csv`. Spróbuj połączyć je wykorzystując metodę `merge`. Pamiętaj o odpowiedniej nazwie kol"
   ]
  },
  {
   "cell_type": "code",
   "execution_count": 97,
   "id": "f77578f8",
   "metadata": {
    "collapsed": true
   },
   "outputs": [
    {
     "data": {
      "text/html": [
       "<div>\n",
       "<style scoped>\n",
       "    .dataframe tbody tr th:only-of-type {\n",
       "        vertical-align: middle;\n",
       "    }\n",
       "\n",
       "    .dataframe tbody tr th {\n",
       "        vertical-align: top;\n",
       "    }\n",
       "\n",
       "    .dataframe thead th {\n",
       "        text-align: right;\n",
       "    }\n",
       "</style>\n",
       "<table border=\"1\" class=\"dataframe\">\n",
       "  <thead>\n",
       "    <tr style=\"text-align: right;\">\n",
       "      <th></th>\n",
       "      <th>userID</th>\n",
       "      <th>placeID</th>\n",
       "      <th>rating</th>\n",
       "      <th>food_rating</th>\n",
       "      <th>service_rating</th>\n",
       "    </tr>\n",
       "  </thead>\n",
       "  <tbody>\n",
       "    <tr>\n",
       "      <th>0</th>\n",
       "      <td>U1077</td>\n",
       "      <td>135085</td>\n",
       "      <td>2</td>\n",
       "      <td>2</td>\n",
       "      <td>2</td>\n",
       "    </tr>\n",
       "    <tr>\n",
       "      <th>1</th>\n",
       "      <td>U1077</td>\n",
       "      <td>135038</td>\n",
       "      <td>2</td>\n",
       "      <td>2</td>\n",
       "      <td>1</td>\n",
       "    </tr>\n",
       "    <tr>\n",
       "      <th>2</th>\n",
       "      <td>U1077</td>\n",
       "      <td>132825</td>\n",
       "      <td>2</td>\n",
       "      <td>2</td>\n",
       "      <td>2</td>\n",
       "    </tr>\n",
       "    <tr>\n",
       "      <th>3</th>\n",
       "      <td>U1077</td>\n",
       "      <td>135060</td>\n",
       "      <td>1</td>\n",
       "      <td>2</td>\n",
       "      <td>2</td>\n",
       "    </tr>\n",
       "    <tr>\n",
       "      <th>4</th>\n",
       "      <td>U1068</td>\n",
       "      <td>135104</td>\n",
       "      <td>1</td>\n",
       "      <td>1</td>\n",
       "      <td>2</td>\n",
       "    </tr>\n",
       "  </tbody>\n",
       "</table>\n",
       "</div>"
      ],
      "text/plain": [
       "  userID  placeID  rating  food_rating  service_rating\n",
       "0  U1077   135085       2            2               2\n",
       "1  U1077   135038       2            2               1\n",
       "2  U1077   132825       2            2               2\n",
       "3  U1077   135060       1            2               2\n",
       "4  U1068   135104       1            1               2"
      ]
     },
     "execution_count": 97,
     "metadata": {},
     "output_type": "execute_result"
    }
   ],
   "source": [
    "rating = pd.read_html(\"https://github.com/matzim95/ML-datasets/blob/master/rating.csv\" ,\n",
    "                 encoding= \"utf-8\")[0].drop(\"Unnamed: 0\", axis=1)\n",
    "\n",
    "parking = pd.read_html(\"https://github.com/matzim95/ML-datasets/blob/master/parking.csv\" ,\n",
    "                 encoding= \"utf-8\")[0].drop(\"Unnamed: 0\", axis=1)\n"
   ]
  },
  {
   "cell_type": "code",
   "execution_count": 99,
   "id": "417d24c6",
   "metadata": {},
   "outputs": [
    {
     "data": {
      "text/html": [
       "<div>\n",
       "<style scoped>\n",
       "    .dataframe tbody tr th:only-of-type {\n",
       "        vertical-align: middle;\n",
       "    }\n",
       "\n",
       "    .dataframe tbody tr th {\n",
       "        vertical-align: top;\n",
       "    }\n",
       "\n",
       "    .dataframe thead th {\n",
       "        text-align: right;\n",
       "    }\n",
       "</style>\n",
       "<table border=\"1\" class=\"dataframe\">\n",
       "  <thead>\n",
       "    <tr style=\"text-align: right;\">\n",
       "      <th></th>\n",
       "      <th>userID</th>\n",
       "      <th>placeID</th>\n",
       "      <th>rating</th>\n",
       "      <th>food_rating</th>\n",
       "      <th>service_rating</th>\n",
       "    </tr>\n",
       "  </thead>\n",
       "  <tbody>\n",
       "    <tr>\n",
       "      <th>0</th>\n",
       "      <td>U1077</td>\n",
       "      <td>135085</td>\n",
       "      <td>2</td>\n",
       "      <td>2</td>\n",
       "      <td>2</td>\n",
       "    </tr>\n",
       "    <tr>\n",
       "      <th>1</th>\n",
       "      <td>U1077</td>\n",
       "      <td>135038</td>\n",
       "      <td>2</td>\n",
       "      <td>2</td>\n",
       "      <td>1</td>\n",
       "    </tr>\n",
       "    <tr>\n",
       "      <th>2</th>\n",
       "      <td>U1077</td>\n",
       "      <td>132825</td>\n",
       "      <td>2</td>\n",
       "      <td>2</td>\n",
       "      <td>2</td>\n",
       "    </tr>\n",
       "    <tr>\n",
       "      <th>3</th>\n",
       "      <td>U1077</td>\n",
       "      <td>135060</td>\n",
       "      <td>1</td>\n",
       "      <td>2</td>\n",
       "      <td>2</td>\n",
       "    </tr>\n",
       "    <tr>\n",
       "      <th>4</th>\n",
       "      <td>U1068</td>\n",
       "      <td>135104</td>\n",
       "      <td>1</td>\n",
       "      <td>1</td>\n",
       "      <td>2</td>\n",
       "    </tr>\n",
       "  </tbody>\n",
       "</table>\n",
       "</div>"
      ],
      "text/plain": [
       "  userID  placeID  rating  food_rating  service_rating\n",
       "0  U1077   135085       2            2               2\n",
       "1  U1077   135038       2            2               1\n",
       "2  U1077   132825       2            2               2\n",
       "3  U1077   135060       1            2               2\n",
       "4  U1068   135104       1            1               2"
      ]
     },
     "execution_count": 99,
     "metadata": {},
     "output_type": "execute_result"
    }
   ],
   "source": [
    "rating.head()"
   ]
  },
  {
   "cell_type": "code",
   "execution_count": 98,
   "id": "49f5a4e7",
   "metadata": {
    "scrolled": true
   },
   "outputs": [
    {
     "data": {
      "text/html": [
       "<div>\n",
       "<style scoped>\n",
       "    .dataframe tbody tr th:only-of-type {\n",
       "        vertical-align: middle;\n",
       "    }\n",
       "\n",
       "    .dataframe tbody tr th {\n",
       "        vertical-align: top;\n",
       "    }\n",
       "\n",
       "    .dataframe thead th {\n",
       "        text-align: right;\n",
       "    }\n",
       "</style>\n",
       "<table border=\"1\" class=\"dataframe\">\n",
       "  <thead>\n",
       "    <tr style=\"text-align: right;\">\n",
       "      <th></th>\n",
       "      <th>placeID</th>\n",
       "      <th>parking_lot</th>\n",
       "    </tr>\n",
       "  </thead>\n",
       "  <tbody>\n",
       "    <tr>\n",
       "      <th>0</th>\n",
       "      <td>135111</td>\n",
       "      <td>public</td>\n",
       "    </tr>\n",
       "    <tr>\n",
       "      <th>1</th>\n",
       "      <td>135110</td>\n",
       "      <td>none</td>\n",
       "    </tr>\n",
       "    <tr>\n",
       "      <th>2</th>\n",
       "      <td>135109</td>\n",
       "      <td>none</td>\n",
       "    </tr>\n",
       "    <tr>\n",
       "      <th>3</th>\n",
       "      <td>135108</td>\n",
       "      <td>none</td>\n",
       "    </tr>\n",
       "    <tr>\n",
       "      <th>4</th>\n",
       "      <td>135107</td>\n",
       "      <td>none</td>\n",
       "    </tr>\n",
       "  </tbody>\n",
       "</table>\n",
       "</div>"
      ],
      "text/plain": [
       "   placeID parking_lot\n",
       "0   135111      public\n",
       "1   135110        none\n",
       "2   135109        none\n",
       "3   135108        none\n",
       "4   135107        none"
      ]
     },
     "execution_count": 98,
     "metadata": {},
     "output_type": "execute_result"
    }
   ],
   "source": [
    "parking.head()"
   ]
  },
  {
   "cell_type": "code",
   "execution_count": 101,
   "id": "cb3839f5",
   "metadata": {},
   "outputs": [
    {
     "data": {
      "text/html": [
       "<div>\n",
       "<style scoped>\n",
       "    .dataframe tbody tr th:only-of-type {\n",
       "        vertical-align: middle;\n",
       "    }\n",
       "\n",
       "    .dataframe tbody tr th {\n",
       "        vertical-align: top;\n",
       "    }\n",
       "\n",
       "    .dataframe thead th {\n",
       "        text-align: right;\n",
       "    }\n",
       "</style>\n",
       "<table border=\"1\" class=\"dataframe\">\n",
       "  <thead>\n",
       "    <tr style=\"text-align: right;\">\n",
       "      <th></th>\n",
       "      <th>userID</th>\n",
       "      <th>placeID</th>\n",
       "      <th>rating</th>\n",
       "      <th>food_rating</th>\n",
       "      <th>service_rating</th>\n",
       "      <th>parking_lot</th>\n",
       "    </tr>\n",
       "  </thead>\n",
       "  <tbody>\n",
       "    <tr>\n",
       "      <th>0</th>\n",
       "      <td>U1077</td>\n",
       "      <td>135085</td>\n",
       "      <td>2</td>\n",
       "      <td>2</td>\n",
       "      <td>2</td>\n",
       "      <td>public</td>\n",
       "    </tr>\n",
       "    <tr>\n",
       "      <th>1</th>\n",
       "      <td>U1077</td>\n",
       "      <td>135038</td>\n",
       "      <td>2</td>\n",
       "      <td>2</td>\n",
       "      <td>1</td>\n",
       "      <td>none</td>\n",
       "    </tr>\n",
       "    <tr>\n",
       "      <th>2</th>\n",
       "      <td>U1077</td>\n",
       "      <td>132825</td>\n",
       "      <td>2</td>\n",
       "      <td>2</td>\n",
       "      <td>2</td>\n",
       "      <td>none</td>\n",
       "    </tr>\n",
       "    <tr>\n",
       "      <th>3</th>\n",
       "      <td>U1077</td>\n",
       "      <td>135060</td>\n",
       "      <td>1</td>\n",
       "      <td>2</td>\n",
       "      <td>2</td>\n",
       "      <td>none</td>\n",
       "    </tr>\n",
       "    <tr>\n",
       "      <th>4</th>\n",
       "      <td>U1068</td>\n",
       "      <td>135104</td>\n",
       "      <td>1</td>\n",
       "      <td>1</td>\n",
       "      <td>2</td>\n",
       "      <td>yes</td>\n",
       "    </tr>\n",
       "  </tbody>\n",
       "</table>\n",
       "</div>"
      ],
      "text/plain": [
       "  userID  placeID  rating  food_rating  service_rating parking_lot\n",
       "0  U1077   135085       2            2               2      public\n",
       "1  U1077   135038       2            2               1        none\n",
       "2  U1077   132825       2            2               2        none\n",
       "3  U1077   135060       1            2               2        none\n",
       "4  U1068   135104       1            1               2         yes"
      ]
     },
     "execution_count": 101,
     "metadata": {},
     "output_type": "execute_result"
    }
   ],
   "source": [
    "data = rating.merge(parking, how= 'left' , on= \"placeID\" )\n",
    "data.head()"
   ]
  },
  {
   "cell_type": "markdown",
   "id": "b5f855ba",
   "metadata": {},
   "source": [
    "# Zadania - dzień 2:\n",
    "Część zadań pojawia się wcześniej na zajęciach z trenerem. Jednak ich wykonanie\n",
    "jest zarezerwowane dla osób, które skończyły wcześniej aniżeli reszta grupy.\n",
    "Prezentują się następująco:\n",
    "Do bazy danych car_rental:\n",
    "1. *Dodaj autoinkrementację dla kluczy.\n",
    "2. *Zaktualizuj tabelę bookings o dwa klucze obce, które posiada.\n",
    "3. *Zastąp dane wybranego klienta swoimi danymi.\n",
    "4. *W związku z RODO - usuń swoje dane.\n",
    "5. *Dodaj 2 nowych klientów.\n",
    "6. *Wypisz wszystkie rezerwacje, których koszt całkowity znajduje się w\n",
    "przedziale 1000-2555.\n",
    "7. *Wypisz id wszystkich klientów, których nazwisko zaczyna się na literę 'N'\n",
    "oraz imię kończy się na litery 'ej'.\n",
    "8. *Wypisz liczbę wypożyczonych samochodów, dla których dzienny koszt\n",
    "wypożyczenia jest większy lub równy 300, grupując samochody po mocy\n",
    "silnika, sortując od najmniejszej.\n",
    "9. *Wypisz sumę kosztów wszystkich rezerwacji, które zostały zrealizowane w\n",
    "okresie 14-18.07.2020.\n",
    "10. *Wypisz:\n",
    "a. średnią liczbę pieniędzy wydanych przez każdego klienta -\n",
    "nazewnictwo kolumny: Srednia_wartosc_rezerwacji\n",
    "b. liczbę wypożyczonych samochodów dla każdego klienta,\n",
    "uwzględniając tylko tych klientów, którzy wypożyczyli co najmniej dwa\n",
    "samochody - nazewnictwo kolumny:\n",
    "Liczba_wypozyczonych_samochodow\n",
    "c. imię i nazwisko klienta - nazewnictwo kolumn: Imie, Nazwisko\n",
    "d. sortując po największej liczbie wypożyczonych samochodów.\n",
    "Wszystko jednym zapytaniem.\n",
    "Dodatkowo zadania, których nie było na zajęciach:\n",
    "11.Za pomocą odpowiedniej komendy otrzymaj informacje:\n",
    "a. Który samochód jest najczęściej wypożyczany.\n",
    "b. Który samochód przynosi najwięcej pieniędzy.\n",
    "c. Średnia moc samochodów w wypożyczalni.\n",
    "d. Które samochody przynoszą więcej pieniędzy, te wyprodukowane\n",
    "przed 2015 rokiem, czy te po.\n",
    "e. Ile samochodów zostało wypożyczonych po '2020-07-15', a ile przed\n",
    "i za jaką łączną kwotę."
   ]
  },
  {
   "cell_type": "markdown",
   "id": "db3322cd",
   "metadata": {},
   "source": [
    "# Zadania - dzień 3:\n",
    "1. Połącz się z serwerem mysql, ustawiając bazę cinematic jako bazę\n",
    "główną/domyślną. Stwórz definicję tabeli, korzystając z SQLAlchemy:\n",
    "a. Directors(klasa) - tabela directors: director_id(PK), name, surname,\n",
    "rating\n",
    "b. Movies(klasa) - tabela movies: movie_id(PK), title, year, category,\n",
    "director_id, rating\n",
    "\n",
    "2. Stwórz sesję, którą będziemy wykorzystywać do wykonywania zapytań.\n",
    "\n",
    "3. Uzupełnij danymi tabele directors oraz movies, korzystając ze stworzonej\n",
    "sesji. Dane:\n",
    "a. directors = [ {'name': 'Frank', 'surname': 'Darabont', 'rating': 7}, {'name':\n",
    "'Francis Ford', 'surname': 'Coppola', 'rating': 8}, {'name': 'Quentin',\n",
    "'surname': 'Tarantino', 'rating': 10}, {'name': 'Christopher', 'surname':\n",
    "'Nolan', 'rating': 9}, {'name': 'David', 'surname': 'Fincher', 'rating': 7}]\n",
    "\n",
    "b. movies = [ {'title': 'The Shawshank Redemption', 'year': 1994,\n",
    "'category': 'Drama', 'director_id': 1, 'rating': 8}, {'title': 'The Green Mile',\n",
    "'year': 1999, 'category': 'Drama', 'director_id': 1, 'rating': 6}, {'title': 'The\n",
    "Godfather', 'year': 1972, 'category': 'Crime', 'director_id': 2, 'rating': 7},\n",
    "{'title': 'The Godfather III', 'year': 1990, 'category': 'Crime', 'director_id':\n",
    "2, 'rating': 6}, {'title': 'Pulp Fiction', 'year': 1994, 'category': 'Crime',\n",
    "'director_id': 3, 'rating': 9}, {'title': 'Inglourious Basterds', 'year': 2009,\n",
    "'category': 'War', 'director_id': 3, 'rating': 8}, {'title': 'The Dark Knight',\n",
    "'year': 2008, 'category': 'Action', 'director_id': 4, 'rating': 9}, {'title':\n",
    "'Interstellar', 'year': 2014, 'category': 'Sci-fi', 'director_id': 4, 'rating': 8},\n",
    "{'title': 'The Prestige', 'year': 2006, 'category': 'Drama', 'director_id': 4,\n",
    "'rating': 10}, {'title': 'Fight Club', 'year': 1999, 'category': 'Drama',\n",
    "'director_id': 5, 'rating': 7}, {'title': 'Zodiac', 'year': 2007, 'category':\n",
    "'Crime', 'director_id': 5, 'rating': 5}, {'title': 'Seven', 'year': 1995,\n",
    "'category': 'Drama', 'director_id': 5, 'rating': 8}, {'title': 'Alien 3', 'year':\n",
    "1992, 'category': 'Horror', 'director_id': 5, 'rating': 5}]\n",
    "\n",
    "4. Wypisz wszystkie filmy z kategorii Drama.\n",
    "5. Wypisz tytuły filmów z kategorii Crime, które zostały wyprodukowane po roku\n",
    "1994.\n",
    "6. Wypisz kategorie wszystkich filmów oraz ich ranking dla filmów, które zostały\n",
    "wyprodukowane w latach 2000-2010 oraz których ranking jest większy niż 7,\n",
    "sortując po rankingu.\n",
    "7. Wypisz nazwiska wszystkich reżyserów, których ranking jest większy bądź\n",
    "równy 6, a ich imię zaczyna się na literę 'D' lub kończy się na literę 'n'.\n",
    "8. Zbadaj tabele za pomocą pandas profiling."
   ]
  },
  {
   "cell_type": "markdown",
   "id": "27705b48",
   "metadata": {},
   "source": []
  },
  {
   "cell_type": "markdown",
   "id": "bcd6a680",
   "metadata": {},
   "source": []
  },
  {
   "cell_type": "markdown",
   "id": "56f86938",
   "metadata": {},
   "source": []
  },
  {
   "cell_type": "markdown",
   "id": "738aee80",
   "metadata": {},
   "source": []
  },
  {
   "cell_type": "markdown",
   "id": "0c6b1570",
   "metadata": {},
   "source": []
  },
  {
   "cell_type": "markdown",
   "id": "bbd20756",
   "metadata": {},
   "source": []
  }
 ],
 "metadata": {
  "kernelspec": {
   "display_name": "Python 3 (ipykernel)",
   "language": "python",
   "name": "python3"
  },
  "language_info": {
   "codemirror_mode": {
    "name": "ipython",
    "version": 3
   },
   "file_extension": ".py",
   "mimetype": "text/x-python",
   "name": "python",
   "nbconvert_exporter": "python",
   "pygments_lexer": "ipython3",
   "version": "3.10.4"
  },
  "toc": {
   "base_numbering": 1,
   "nav_menu": {},
   "number_sections": true,
   "sideBar": true,
   "skip_h1_title": false,
   "title_cell": "Table of Contents",
   "title_sidebar": "Contents",
   "toc_cell": false,
   "toc_position": {},
   "toc_section_display": true,
   "toc_window_display": true
  }
 },
 "nbformat": 4,
 "nbformat_minor": 5
}

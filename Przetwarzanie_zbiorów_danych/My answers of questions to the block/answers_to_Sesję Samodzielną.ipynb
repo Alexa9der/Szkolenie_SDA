{
 "cells": [
  {
   "cell_type": "markdown",
   "id": "da1c24be",
   "metadata": {},
   "source": [
    "[questions Pandas](http://localhost:8888/notebooks/Desktop/Data%20Science/SDA/SDA%20szkolenie/Przetwarzanie_zbior%C3%B3w_danych/zadaniami_z_Pandasa/Pandas.ipynb)\n",
    "\n",
    "[Zadania_przetwarzanie_danych.pdf](http://localhost:8888/files/Desktop/Data%20Science/SDA/SDA%20szkolenie/Przetwarzanie_zbior%C3%B3w_danych/Sesj%C4%99%20Samodzieln%C4%85/Zadania_przetwarzanie_danych.pdf)"
   ]
  },
  {
   "cell_type": "code",
   "execution_count": null,
   "id": "809b125a",
   "metadata": {},
   "outputs": [],
   "source": []
  }
 ],
 "metadata": {
  "kernelspec": {
   "display_name": "Python 3 (ipykernel)",
   "language": "python",
   "name": "python3"
  },
  "language_info": {
   "codemirror_mode": {
    "name": "ipython",
    "version": 3
   },
   "file_extension": ".py",
   "mimetype": "text/x-python",
   "name": "python",
   "nbconvert_exporter": "python",
   "pygments_lexer": "ipython3",
   "version": "3.10.4"
  },
  "toc": {
   "base_numbering": 1,
   "nav_menu": {},
   "number_sections": true,
   "sideBar": true,
   "skip_h1_title": false,
   "title_cell": "Table of Contents",
   "title_sidebar": "Contents",
   "toc_cell": false,
   "toc_position": {},
   "toc_section_display": true,
   "toc_window_display": true
  }
 },
 "nbformat": 4,
 "nbformat_minor": 5
}

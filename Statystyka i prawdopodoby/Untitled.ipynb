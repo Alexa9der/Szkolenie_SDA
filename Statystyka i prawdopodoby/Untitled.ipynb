{
 "cells": [
  {
   "cell_type": "code",
   "execution_count": 153,
   "id": "2e6726a1",
   "metadata": {},
   "outputs": [],
   "source": [
    "import numpy as np\n",
    "\n",
    "import matplotlib.pyplot as plt"
   ]
  },
  {
   "cell_type": "markdown",
   "id": "d3163a44",
   "metadata": {},
   "source": [
    "# Statystyka i prawdopodobieństwo"
   ]
  },
  {
   "cell_type": "markdown",
   "id": "84ff2cba",
   "metadata": {},
   "source": [
    "## Wektory\n",
    "Wektor to tablica liczb, których\n",
    "identyfikacja jest możliwa za pomocą\n",
    "indeksu określającego położenie. "
   ]
  },
  {
   "cell_type": "code",
   "execution_count": 5,
   "id": "2b6b19c1",
   "metadata": {},
   "outputs": [
    {
     "data": {
      "text/plain": [
       "(array([1, 2, 3]),\n",
       " array([[1],\n",
       "        [2],\n",
       "        [3]]))"
      ]
     },
     "execution_count": 5,
     "metadata": {},
     "output_type": "execute_result"
    }
   ],
   "source": [
    "vector = np.array([1,2,3])\n",
    "vector_2 = np.array([[1],[2],[3],])\n",
    "vector, vector_2"
   ]
  },
  {
   "cell_type": "markdown",
   "id": "a1e5e384",
   "metadata": {},
   "source": [
    "## Macierze\n",
    "Macierz to, podobnie jak wektor, tablica liczb,\n",
    "tyle że dwuwymiarowa. Identyfikacja konkretnej\n",
    "liczby jest możliwa za pomocą dwóch indeksów\n",
    "określających położenie.\n",
    "\n",
    "Macierze są zapisywane w postaci prostokątnej\n",
    "tablicy i są oznaczane zazwyczaj dużą literą\n",
    "alfabetu, co pokazano na przykładzie poniższej\n",
    "macierzy:\n"
   ]
  },
  {
   "cell_type": "code",
   "execution_count": 9,
   "id": "42c59686",
   "metadata": {},
   "outputs": [
    {
     "data": {
      "text/plain": [
       "array([[1, 2, 3],\n",
       "       [9, 8, 7]])"
      ]
     },
     "execution_count": 9,
     "metadata": {},
     "output_type": "execute_result"
    }
   ],
   "source": [
    "matrices_2x3 = np.array([[1,2,3],[9,8,7]])\n",
    "matrices_2x3"
   ]
  },
  {
   "cell_type": "code",
   "execution_count": 25,
   "id": "682a69d1",
   "metadata": {},
   "outputs": [
    {
     "name": "stdout",
     "output_type": "stream",
     "text": [
      "matrices_arange =  [1 2 3 4 5 6 7 8 9]\n",
      "matrices_linspace =  [ 1.   1.9  2.8  3.7  4.6  5.5  6.4  7.3  8.2  9.1 10. ]\n"
     ]
    }
   ],
   "source": [
    "matrices_arange = np.arange(1,10)\n",
    "matrices_linspace  = np.linspace(1,10,11)\n",
    "\n",
    "print(\"matrices_arange = \", matrices_arange)\n",
    "print(\"matrices_linspace = \", matrices_linspace)"
   ]
  },
  {
   "cell_type": "code",
   "execution_count": 295,
   "id": "6dc7ccc0",
   "metadata": {},
   "outputs": [],
   "source": [
    "matrices_3x3 = np.array([[1,1,1],[6,5,4],[9,8,7]])"
   ]
  },
  {
   "cell_type": "code",
   "execution_count": 33,
   "id": "2c0a87aa",
   "metadata": {},
   "outputs": [
    {
     "name": "stdout",
     "output_type": "stream",
     "text": [
      "shape:  (3, 3)\n",
      "size:  9\n",
      "ndim:  2\n"
     ]
    }
   ],
   "source": [
    "print(\"shape: \", matrices_3x3.shape  )\n",
    "print(\"size: \", matrices_3x3.size  )\n",
    "print(\"ndim: \", matrices_3x3.ndim  )"
   ]
  },
  {
   "cell_type": "markdown",
   "id": "dc0fe293",
   "metadata": {},
   "source": [
    "## Tensor\n",
    "\n",
    "Ogólnie rzecz biorąc, liczby w tablicy tworzą regularną siatkę ze zmienną liczbą osi, którą\n",
    "nazywamy tensorem. Tensor to „pojemnik” na dane. Możemy mieć tensor 0D, który\n",
    "zawiera jeden skalar.\n",
    "Skalar jest tensorem 0-wymiarowym (0D). Ma zatem 0 osi i ma rangę 0 (mowa tensora\n",
    "dla „liczby osi”). \n",
    "\n",
    "I tu pojawia się niuans: pojedyncza liczba może być wyrażona jako\n",
    "tensor, nie oznacza to, że tak powinno być, ani ogólnie tak jest. Istnieje dobry powód, aby\n",
    "móc je traktować jako takie (operacje tensorowe), ale jako mechanizm\n",
    "przechowywania, ta zdolność może być myląca. \n",
    "\n",
    "Tensor 1D nazywamy wektorem. \n",
    "\n",
    "Tensor 2D to macierz."
   ]
  },
  {
   "cell_type": "code",
   "execution_count": 36,
   "id": "fdeca186",
   "metadata": {},
   "outputs": [
    {
     "data": {
      "text/plain": [
       "array([[1, 2],\n",
       "       [1, 2],\n",
       "       [1, 1],\n",
       "       [4, 3]])"
      ]
     },
     "execution_count": 36,
     "metadata": {},
     "output_type": "execute_result"
    }
   ],
   "source": [
    "tensor = np.array([[1,2],[1,2],[1,1],[4,3]]) \n",
    "tensor"
   ]
  },
  {
   "cell_type": "markdown",
   "id": "6c601b29",
   "metadata": {},
   "source": [
    "## Dostęp do elementów macierzy"
   ]
  },
  {
   "cell_type": "code",
   "execution_count": 41,
   "id": "7940e12a",
   "metadata": {},
   "outputs": [
    {
     "data": {
      "text/plain": [
       "array([[1, 1, 1],\n",
       "       [6, 5, 4],\n",
       "       [9, 8, 7]])"
      ]
     },
     "execution_count": 41,
     "metadata": {},
     "output_type": "execute_result"
    }
   ],
   "source": [
    "matrices_3x3 = np.array([[1,1,1],[6,5,4],[9,8,7]])\n",
    "matrices_3x3"
   ]
  },
  {
   "cell_type": "code",
   "execution_count": 39,
   "id": "5163b241",
   "metadata": {},
   "outputs": [
    {
     "data": {
      "text/plain": [
       "array([6, 5, 4])"
      ]
     },
     "execution_count": 39,
     "metadata": {},
     "output_type": "execute_result"
    }
   ],
   "source": [
    "matrices_3x3[1] # matrices[i]"
   ]
  },
  {
   "cell_type": "code",
   "execution_count": 40,
   "id": "6790c15e",
   "metadata": {},
   "outputs": [
    {
     "data": {
      "text/plain": [
       "array([1, 5, 8])"
      ]
     },
     "execution_count": 40,
     "metadata": {},
     "output_type": "execute_result"
    }
   ],
   "source": [
    "matrices_3x3[:,1] # matrices[j]"
   ]
  },
  {
   "cell_type": "code",
   "execution_count": 49,
   "id": "4750473b",
   "metadata": {},
   "outputs": [
    {
     "name": "stdout",
     "output_type": "stream",
     "text": [
      "True\n"
     ]
    },
    {
     "data": {
      "text/plain": [
       "5"
      ]
     },
     "execution_count": 49,
     "metadata": {},
     "output_type": "execute_result"
    }
   ],
   "source": [
    "print(matrices_3x3[1][1] == matrices_3x3[1,1]) # matrices[i,j]\n",
    "matrices_3x3[1,1]"
   ]
  },
  {
   "cell_type": "markdown",
   "id": "f5be84a2",
   "metadata": {},
   "source": [
    "## Generowanie liczb losowych"
   ]
  },
  {
   "cell_type": "code",
   "execution_count": 227,
   "id": "e7585d1e",
   "metadata": {
    "scrolled": true
   },
   "outputs": [
    {
     "name": "stdout",
     "output_type": "stream",
     "text": [
      "rozklad normalny =  [ 1.62245075 -1.57761382 -0.44811062 -0.91613556 -0.89091695 -1.6017421\n",
      "  0.73320193 -0.0307151  -1.03346714  0.74247547]\n",
      "\n",
      "układem jednolitym =  [0.63095094 0.11962422 0.17900761 0.66250597 0.17913719 0.71059555\n",
      " 0.49660328 0.460604   0.68577707 0.06933768]\n",
      "\n",
      "random numbers =  [18 12 11 29 25 18 25 21  9 18]\n"
     ]
    },
    {
     "data": {
      "image/png": "[encoded data removed]",
      "text/plain": [
       "<Figure size 640x480 with 1 Axes>"
      ]
     },
     "metadata": {},
     "output_type": "display_data"
    }
   ],
   "source": [
    "normal_gauss_random = np.random.normal(loc=0.0, scale=1.0, size=10)\n",
    "uniform_arrangement_random = np.random.uniform(low=0.0, high=1.0, size=10)\n",
    "random_numbers = np.random.randint(3, 30, size=10, dtype=int)\n",
    "\n",
    "print(\"rozklad normalny = \", normal_gauss_random)\n",
    "print()\n",
    "print(\"układem jednolitym = \", uniform_arrangement_random)\n",
    "print()\n",
    "print(\"random numbers = \", random_numbers)\n",
    "\n",
    "plt.figure(1)\n",
    "plt.plot(normal_gauss_random,'--',color=\"b\", label=\"rozklad normalny\")\n",
    "plt.plot(uniform_arrangement_random, \":\",color=\"g\", label=\"układem jednolitym\")\n",
    "plt.plot(random_numbers,color=\"r\", label=\"random numbers\");\n",
    "plt.show()"
   ]
  },
  {
   "cell_type": "markdown",
   "id": "86cf644e",
   "metadata": {},
   "source": [
    "##  Podstawowe działania na macierzach"
   ]
  },
  {
   "cell_type": "code",
   "execution_count": 254,
   "id": "9f8e499b",
   "metadata": {},
   "outputs": [
    {
     "data": {
      "text/plain": [
       "(array([[1, 5, 2],\n",
       "        [9, 6, 3],\n",
       "        [8, 3, 8]]),\n",
       " array([[ 6.,  4.,  9.],\n",
       "        [-1.,  4.,  3.],\n",
       "        [-6.,  3.,  9.]]))"
      ]
     },
     "execution_count": 254,
     "metadata": {},
     "output_type": "execute_result"
    }
   ],
   "source": [
    "A = np.array([[1,5,2],[9,6,3],[8,3,8]])\n",
    "B = np.array([[6,4,9],[-1,4,3],[-6.,3,9]])\n",
    "\n",
    "A, B"
   ]
  },
  {
   "cell_type": "code",
   "execution_count": 261,
   "id": "d4480ac9",
   "metadata": {},
   "outputs": [
    {
     "data": {
      "text/plain": [
       "(array([[ 7.,  9., 11.],\n",
       "        [ 8., 10.,  6.],\n",
       "        [ 2.,  6., 17.]]),\n",
       " array([[ 7.,  9., 11.],\n",
       "        [ 8., 10.,  6.],\n",
       "        [ 2.,  6., 17.]]))"
      ]
     },
     "execution_count": 261,
     "metadata": {},
     "output_type": "execute_result"
    }
   ],
   "source": [
    "A+B, np.add(A,B) # dodavanie"
   ]
  },
  {
   "cell_type": "code",
   "execution_count": 260,
   "id": "b264ee09",
   "metadata": {},
   "outputs": [
    {
     "data": {
      "text/plain": [
       "(array([[-5.,  1., -7.],\n",
       "        [10.,  2.,  0.],\n",
       "        [14.,  0., -1.]]),\n",
       " array([[-5.,  1., -7.],\n",
       "        [10.,  2.,  0.],\n",
       "        [14.,  0., -1.]]))"
      ]
     },
     "execution_count": 260,
     "metadata": {},
     "output_type": "execute_result"
    }
   ],
   "source": [
    "A-B, np.subtract(A,B) # odejmowanie"
   ]
  },
  {
   "cell_type": "code",
   "execution_count": 262,
   "id": "99a8a4e2",
   "metadata": {},
   "outputs": [
    {
     "data": {
      "text/plain": [
       "array([[  6.,  20.,  18.],\n",
       "       [ -9.,  24.,   9.],\n",
       "       [-48.,   9.,  72.]])"
      ]
     },
     "execution_count": 262,
     "metadata": {},
     "output_type": "execute_result"
    }
   ],
   "source": [
    "# mnozenie \n",
    "A * B"
   ]
  },
  {
   "cell_type": "code",
   "execution_count": 263,
   "id": "7d4d563d",
   "metadata": {},
   "outputs": [
    {
     "data": {
      "text/plain": [
       "array([[ 30.,  20.,  45.],\n",
       "       [ -5.,  20.,  15.],\n",
       "       [-30.,  15.,  45.]])"
      ]
     },
     "execution_count": 263,
     "metadata": {},
     "output_type": "execute_result"
    }
   ],
   "source": [
    "# mnozenie przez liczbe\n",
    "5 * B"
   ]
  },
  {
   "cell_type": "code",
   "execution_count": 270,
   "id": "ee554b44",
   "metadata": {},
   "outputs": [
    {
     "data": {
      "text/plain": [
       "(array([[1, 9, 8],\n",
       "        [5, 6, 3],\n",
       "        [2, 3, 8]]),\n",
       " array([[1, 5, 2],\n",
       "        [9, 6, 3],\n",
       "        [8, 3, 8]]))"
      ]
     },
     "execution_count": 270,
     "metadata": {},
     "output_type": "execute_result"
    }
   ],
   "source": [
    "# transpozycja \n",
    "A.T , A"
   ]
  },
  {
   "cell_type": "code",
   "execution_count": 269,
   "id": "f6f08a17",
   "metadata": {},
   "outputs": [
    {
     "data": {
      "text/plain": [
       "(array([[ 6., -1., -6.],\n",
       "        [ 4.,  4.,  3.],\n",
       "        [ 9.,  3.,  9.]]),\n",
       " array([[ 6.,  4.,  9.],\n",
       "        [-1.,  4.,  3.],\n",
       "        [-6.,  3.,  9.]]))"
      ]
     },
     "execution_count": 269,
     "metadata": {},
     "output_type": "execute_result"
    }
   ],
   "source": [
    "B.T ,B"
   ]
  },
  {
   "cell_type": "code",
   "execution_count": 277,
   "id": "902814e5",
   "metadata": {},
   "outputs": [
    {
     "name": "stdout",
     "output_type": "stream",
     "text": [
      "[[1 2]\n",
      " [2 2]]\n"
     ]
    },
    {
     "data": {
      "text/plain": [
       "array([[-1. ,  1. ],\n",
       "       [ 1. , -0.5]])"
      ]
     },
     "execution_count": 277,
     "metadata": {},
     "output_type": "execute_result"
    }
   ],
   "source": [
    "# macierz odvrotna jest jest tylko dla maciezy kwadratowych \n",
    "# ktorych wyznacznik jest nie zerowy\n",
    "\n",
    "macierz = np.array([[1,2],[2,2]])\n",
    "print(macierz)\n",
    "\n",
    "np.linalg.inv(macierz)"
   ]
  },
  {
   "cell_type": "code",
   "execution_count": 293,
   "id": "72265b19",
   "metadata": {},
   "outputs": [
    {
     "name": "stdout",
     "output_type": "stream",
     "text": [
      "[[1 1 1]\n",
      " [6 5 4]\n",
      " [9 8 7]\n",
      " [6 6 6]]\n"
     ]
    },
    {
     "data": {
      "text/plain": [
       "(array([[1, 1, 1, 6, 5, 4],\n",
       "        [9, 8, 7, 6, 6, 6]]),\n",
       " array([[1, 1],\n",
       "        [1, 6],\n",
       "        [5, 4],\n",
       "        [9, 8],\n",
       "        [7, 6],\n",
       "        [6, 6]]))"
      ]
     },
     "execution_count": 293,
     "metadata": {},
     "output_type": "execute_result"
    }
   ],
   "source": [
    "matrices_3x4 = np.array([[1, 1, 1],\n",
    "                         [6, 5, 4],\n",
    "                         [9, 8, 7],\n",
    "                         [6, 6, 6]])\n",
    "print(matrices_3x4)\n",
    "\n",
    "matrices_2x6 = matrices_3x3.reshape(2,6)\n",
    "matrices_6x2 = matrices_3x3.reshape(6,2)\n",
    "matrices_2x6 , matrices_6x2"
   ]
  },
  {
   "cell_type": "code",
   "execution_count": 301,
   "id": "9d5f8a70",
   "metadata": {},
   "outputs": [
    {
     "name": "stdout",
     "output_type": "stream",
     "text": [
      "matrices_3x3 =  [[1 1 1]\n",
      " [6 5 4]\n",
      " [9 8 7]]\n",
      "\n",
      "matrices_3x3.diagonal =  [1 5 7]\n",
      "\n",
      "diagonal.sum =  13\n"
     ]
    }
   ],
   "source": [
    "\n",
    "print(\"matrices_3x3 = \", matrices_3x3)\n",
    "print()\n",
    "print(\"matrices_3x3.diagonal = \", matrices_3x3.diagonal() )\n",
    "print()\n",
    "print(\"diagonal.sum = \", matrices_3x3.diagonal().sum() )"
   ]
  },
  {
   "cell_type": "code",
   "execution_count": 309,
   "id": "0d0937b6",
   "metadata": {
    "scrolled": true
   },
   "outputs": [
    {
     "name": "stdout",
     "output_type": "stream",
     "text": [
      "origin matrices_3x3 [[1 1 1]\n",
      " [6 5 4]\n",
      " [9 8 7]]\n",
      "\n",
      "splaszczenie macierzy domyslnie [1 1 1 6 5 4 9 8 7]\n",
      "\n",
      "splaszczenie macierzy columnowo [1 6 9 1 5 8 1 4 7]\n"
     ]
    }
   ],
   "source": [
    "# splaszczenie macierzy do wektora \n",
    "# domyslnie wierszowo , jesli chcemy columnowo parametr : order = \"F\"\n",
    "\n",
    "print(\"origin matrices_3x3\", matrices_3x3)\n",
    "print()\n",
    "print(\"splaszczenie macierzy domyslnie\", matrices_3x3.flatten())\n",
    "print()\n",
    "print(\"splaszczenie macierzy columnowo\", matrices_3x3.flatten(order =\"F\"))"
   ]
  },
  {
   "cell_type": "code",
   "execution_count": 324,
   "id": "c0bfc1af",
   "metadata": {},
   "outputs": [
    {
     "data": {
      "text/plain": [
       "array([[1., 0., 0.],\n",
       "       [0., 1., 0.],\n",
       "       [0., 0., 1.]])"
      ]
     },
     "execution_count": 324,
     "metadata": {},
     "output_type": "execute_result"
    }
   ],
   "source": [
    "# macierz jednostkowa \n",
    "np.identity(3)"
   ]
  },
  {
   "cell_type": "markdown",
   "id": "5ec854b8",
   "metadata": {},
   "source": [
    "## Wyznacznik macierzy"
   ]
  },
  {
   "cell_type": "code",
   "execution_count": 322,
   "id": "3e6b8e14",
   "metadata": {},
   "outputs": [
    {
     "data": {
      "text/plain": [
       "-14.000000000000004"
      ]
     },
     "execution_count": 322,
     "metadata": {},
     "output_type": "execute_result"
    }
   ],
   "source": [
    "# det(A) = |a11| = a11\n",
    "\n",
    "# det(A) = |a, b | = a * d - c * b\n",
    "#          |c, d |\n",
    "\n",
    "np.linalg.det([[1,2,5],[3,2,1],[2,1,3]])"
   ]
  },
  {
   "cell_type": "markdown",
   "id": "345aa0da",
   "metadata": {},
   "source": [
    "## Obliczanie wartości własnych i wektorów własnych\n"
   ]
  },
  {
   "cell_type": "code",
   "execution_count": 333,
   "id": "65fa944b",
   "metadata": {},
   "outputs": [
    {
     "name": "stdout",
     "output_type": "stream",
     "text": [
      "values =  [-2.22044605e-16  3.00000000e+00  0.00000000e+00]\n",
      "vektor =  [[-0.81649658  0.57735027  0.        ]\n",
      " [ 0.40824829  0.57735027 -0.70710678]\n",
      " [ 0.40824829  0.57735027  0.70710678]]\n"
     ]
    }
   ],
   "source": [
    "matrix = np.ones((3,3))\n",
    "values, vektor = np.linalg.eig(matrix)\n",
    "print(\"values = \", values)\n",
    "print(\"vektor = \", vektor)\n"
   ]
  },
  {
   "cell_type": "markdown",
   "id": "04820a04",
   "metadata": {},
   "source": [
    "# Statystyka – podstawowe informacje\n",
    "\n"
   ]
  },
  {
   "cell_type": "code",
   "execution_count": null,
   "id": "1872afb2",
   "metadata": {},
   "outputs": [],
   "source": []
  },
  {
   "cell_type": "code",
   "execution_count": null,
   "id": "52499446",
   "metadata": {},
   "outputs": [],
   "source": []
  },
  {
   "cell_type": "code",
   "execution_count": null,
   "id": "eae44b94",
   "metadata": {},
   "outputs": [],
   "source": []
  },
  {
   "cell_type": "code",
   "execution_count": null,
   "id": "d4989b91",
   "metadata": {},
   "outputs": [],
   "source": []
  },
  {
   "cell_type": "code",
   "execution_count": null,
   "id": "6edc5cc1",
   "metadata": {},
   "outputs": [],
   "source": []
  },
  {
   "cell_type": "code",
   "execution_count": null,
   "id": "7a3b372e",
   "metadata": {},
   "outputs": [],
   "source": []
  },
  {
   "cell_type": "code",
   "execution_count": null,
   "id": "13b35d3a",
   "metadata": {},
   "outputs": [],
   "source": []
  },
  {
   "cell_type": "code",
   "execution_count": null,
   "id": "9b7cd92f",
   "metadata": {},
   "outputs": [],
   "source": []
  },
  {
   "cell_type": "code",
   "execution_count": null,
   "id": "cbf37798",
   "metadata": {},
   "outputs": [],
   "source": []
  },
  {
   "cell_type": "code",
   "execution_count": null,
   "id": "eaaf34b6",
   "metadata": {},
   "outputs": [],
   "source": []
  },
  {
   "cell_type": "code",
   "execution_count": null,
   "id": "acf6ff78",
   "metadata": {},
   "outputs": [],
   "source": []
  },
  {
   "cell_type": "markdown",
   "id": "97bfc9d2",
   "metadata": {},
   "source": [
    "# Zadanie."
   ]
  },
  {
   "cell_type": "markdown",
   "id": "836a5ac4",
   "metadata": {},
   "source": [
    "##  Zadanie1 \n",
    "Stwórz numpy array z wartościami od 1 do do 9, wyświetl, a\n",
    "następnie odwróć tę tablicę (pierwszy element zostaje ostatnim,\n",
    "itd.)."
   ]
  },
  {
   "cell_type": "code",
   "execution_count": 230,
   "id": "2db94da4",
   "metadata": {},
   "outputs": [
    {
     "data": {
      "text/plain": [
       "(array([1, 2, 3, 4, 5, 6, 7, 8, 9]), array([9, 8, 7, 6, 5, 4, 3, 2, 1]))"
      ]
     },
     "execution_count": 230,
     "metadata": {},
     "output_type": "execute_result"
    }
   ],
   "source": [
    "arry = np.arange(1,10)\n",
    "arry, arry[::-1]"
   ]
  },
  {
   "cell_type": "markdown",
   "id": "c34d4dde",
   "metadata": {},
   "source": [
    "## Zadanie 2\n",
    "Stwórz następujący numpy array: [1, 23, 4, 31, 1, 1, 4, 23, 4, 1]; a\n",
    "następnie wypisz wszystkie unikalne (nie powtarzające się)\n",
    "elementy."
   ]
  },
  {
   "cell_type": "code",
   "execution_count": 252,
   "id": "8f83bead",
   "metadata": {},
   "outputs": [
    {
     "data": {
      "text/plain": [
       "(array([ 1,  4, 23, 31]), array([ 1,  4, 23, 31]))"
      ]
     },
     "execution_count": 252,
     "metadata": {},
     "output_type": "execute_result"
    }
   ],
   "source": [
    "arry = np.array([1, 23, 4, 31, 1, 1, 4, 23, 4, 1])\n",
    "\n",
    "my_res = []\n",
    "for i in range(len(arry)):\n",
    "    if arry[i] not in my_res:\n",
    "        my_res.append(arry[i])\n",
    "    if i+1 == len(arry):\n",
    "        my_res = np.array(sorted(my_res))\n",
    "    \n",
    "np.unique(arry), my_res"
   ]
  },
  {
   "cell_type": "markdown",
   "id": "3e2ce95b",
   "metadata": {},
   "source": [
    "## Zadanie 3\n",
    "Stwórz macierz 3x3 (używając reshape) z wartościami od 2 do 10."
   ]
  },
  {
   "cell_type": "code",
   "execution_count": 313,
   "id": "c8e9389d",
   "metadata": {},
   "outputs": [
    {
     "data": {
      "text/plain": [
       "array([[1, 2, 3],\n",
       "       [4, 5, 6],\n",
       "       [7, 8, 9]])"
      ]
     },
     "execution_count": 313,
     "metadata": {},
     "output_type": "execute_result"
    }
   ],
   "source": [
    "np.arange(1,10).reshape(3,3)"
   ]
  },
  {
   "cell_type": "markdown",
   "id": "9a9df11a",
   "metadata": {},
   "source": [
    "## Zadanie 4\n",
    "Stwórz tablicę z sześcioma losowymi wartościami z przedziału od\n",
    "10 do 30."
   ]
  },
  {
   "cell_type": "code",
   "execution_count": 314,
   "id": "3d97a194",
   "metadata": {},
   "outputs": [
    {
     "data": {
      "text/plain": [
       "array([29, 15, 28, 12, 27, 20])"
      ]
     },
     "execution_count": 314,
     "metadata": {},
     "output_type": "execute_result"
    }
   ],
   "source": [
    "np.random.randint(10,30,6)"
   ]
  },
  {
   "cell_type": "markdown",
   "id": "774d12b3",
   "metadata": {},
   "source": [
    "## Zadanie 5\n",
    "Spośród tablicy wartości: [23, 45, 112, 150, 43, 254, 95, 8] wyfiltruj te,\n",
    "które są większe od 100"
   ]
  },
  {
   "cell_type": "code",
   "execution_count": 338,
   "id": "52eb29ae",
   "metadata": {},
   "outputs": [
    {
     "data": {
      "text/plain": [
       "array([112, 150, 254])"
      ]
     },
     "execution_count": 338,
     "metadata": {},
     "output_type": "execute_result"
    }
   ],
   "source": [
    "tablica = np.array( [23, 45, 112, 150, 43, 254, 95, 8])\n",
    "tablica[tablica > 100]"
   ]
  },
  {
   "cell_type": "markdown",
   "id": "d8b278b3",
   "metadata": {},
   "source": [
    "## Zadanie 6\n",
    "Stwórz poniższą macierz 4x4, a następnie:\n",
    "* wyświetl element z drugiego wiersza i trzeciej kolumny,\n",
    "* oblicz jej wyznacznik,\n",
    "* oblicz jej ślad (sumę elementów na głównej przekątnej),\n",
    "* znajdź element największy i najmniejszy."
   ]
  },
  {
   "cell_type": "code",
   "execution_count": 340,
   "id": "6be4abfa",
   "metadata": {},
   "outputs": [
    {
     "data": {
      "text/plain": [
       "array([[ 1, 15,  4, 13],\n",
       "       [ 8, 21,  3, 12],\n",
       "       [11, 13, 11,  5],\n",
       "       [31, 13,  0,  2]])"
      ]
     },
     "execution_count": 340,
     "metadata": {},
     "output_type": "execute_result"
    }
   ],
   "source": [
    "macierz = np.array([\n",
    "    [1,15,4,13],\n",
    "    [8,21,3,12],\n",
    "    [11,13,11,5],\n",
    "    [31,13,0,2]\n",
    "])\n",
    "macierz"
   ]
  },
  {
   "cell_type": "code",
   "execution_count": 341,
   "id": "48d3e902",
   "metadata": {},
   "outputs": [
    {
     "data": {
      "text/plain": [
       "3"
      ]
     },
     "execution_count": 341,
     "metadata": {},
     "output_type": "execute_result"
    }
   ],
   "source": [
    "macierz[1,2]"
   ]
  },
  {
   "cell_type": "code",
   "execution_count": 342,
   "id": "aac199f5",
   "metadata": {},
   "outputs": [
    {
     "data": {
      "text/plain": [
       "-19018.999999999993"
      ]
     },
     "execution_count": 342,
     "metadata": {},
     "output_type": "execute_result"
    }
   ],
   "source": [
    "np.linalg.det(macierz)"
   ]
  },
  {
   "cell_type": "code",
   "execution_count": 344,
   "id": "8334a6ee",
   "metadata": {},
   "outputs": [
    {
     "data": {
      "text/plain": [
       "35"
      ]
     },
     "execution_count": 344,
     "metadata": {},
     "output_type": "execute_result"
    }
   ],
   "source": [
    "macierz.diagonal().sum()"
   ]
  },
  {
   "cell_type": "code",
   "execution_count": 345,
   "id": "51c1ee81",
   "metadata": {},
   "outputs": [
    {
     "data": {
      "text/plain": [
       "(0, 31)"
      ]
     },
     "execution_count": 345,
     "metadata": {},
     "output_type": "execute_result"
    }
   ],
   "source": [
    "macierz.min(), macierz.max()"
   ]
  },
  {
   "cell_type": "code",
   "execution_count": null,
   "id": "18d0637d",
   "metadata": {},
   "outputs": [],
   "source": []
  },
  {
   "cell_type": "code",
   "execution_count": null,
   "id": "59b50eeb",
   "metadata": {},
   "outputs": [],
   "source": []
  }
 ],
 "metadata": {
  "kernelspec": {
   "display_name": "Python 3 (ipykernel)",
   "language": "python",
   "name": "python3"
  },
  "language_info": {
   "codemirror_mode": {
    "name": "ipython",
    "version": 3
   },
   "file_extension": ".py",
   "mimetype": "text/x-python",
   "name": "python",
   "nbconvert_exporter": "python",
   "pygments_lexer": "ipython3",
   "version": "3.10.4"
  },
  "nbTranslate": {
   "displayLangs": [
    "*"
   ],
   "hotkey": "alt-t",
   "langInMainMenu": true,
   "sourceLang": "en",
   "targetLang": "fr",
   "useGoogleTranslate": true
  },
  "toc": {
   "base_numbering": 1,
   "nav_menu": {},
   "number_sections": true,
   "sideBar": true,
   "skip_h1_title": false,
   "title_cell": "Table of Contents",
   "title_sidebar": "Contents",
   "toc_cell": false,
   "toc_position": {},
   "toc_section_display": true,
   "toc_window_display": true
  },
  "varInspector": {
   "cols": {
    "lenName": 16,
    "lenType": 16,
    "lenVar": 40
   },
   "kernels_config": {
    "python": {
     "delete_cmd_postfix": "",
     "delete_cmd_prefix": "del ",
     "library": "var_list.py",
     "varRefreshCmd": "print(var_dic_list())"
    },
    "r": {
     "delete_cmd_postfix": ") ",
     "delete_cmd_prefix": "rm(",
     "library": "var_list.r",
     "varRefreshCmd": "cat(var_dic_list()) "
    }
   },
   "types_to_exclude": [
    "module",
    "function",
    "builtin_function_or_method",
    "instance",
    "_Feature"
   ],
   "window_display": false
  }
 },
 "nbformat": 4,
 "nbformat_minor": 5
}

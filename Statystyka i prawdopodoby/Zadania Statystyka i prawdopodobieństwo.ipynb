{
 "cells": [
  {
   "cell_type": "markdown",
   "id": "83183c7d",
   "metadata": {},
   "source": [
    "import"
   ]
  },
  {
   "cell_type": "code",
   "execution_count": 242,
   "id": "ba7496b4",
   "metadata": {},
   "outputs": [],
   "source": [
    "import pandas as pd \n",
    "import numpy as np \n",
    "from scipy import stats as st\n",
    "import statistics as s \n",
    "\n",
    "import seaborn as sns\n",
    "sns.set_style(\"darkgrid\")"
   ]
  },
  {
   "cell_type": "markdown",
   "id": "81f3c2ee",
   "metadata": {},
   "source": [
    "# Rozpocznijmy od zadań związanych z manipulacją tablicami."
   ]
  },
  {
   "cell_type": "markdown",
   "id": "4f1d569b",
   "metadata": {},
   "source": [
    "## Zadanie 1\n",
    "\n",
    "Rozpocznijmy od zadań związanych z manipulacją tablicami.\n",
    "\n",
    "Postaraj się rozwiązać podane poniżej zadania więcej niż jednym sposobem.\n",
    "\n",
    "* Stwórz np.ndarray zawierający liczby od 0 do 100.\n",
    "* Stwórz np.ndarray zawierający liczby od 0 do 1000, które są podzielne przez liczbę 11. Zadbaj o to, aby liczby ułożone były w kolejności malejącej.\n",
    "*Stwórz np.ndarray zawierający 70 jednakokowo od siebie odległych liczb z przedziału -5 do 5\n"
   ]
  },
  {
   "cell_type": "code",
   "execution_count": 14,
   "id": "9285910a",
   "metadata": {
    "collapsed": true
   },
   "outputs": [
    {
     "data": {
      "text/plain": [
       "(array([  0,   1,   2,   3,   4,   5,   6,   7,   8,   9,  10,  11,  12,\n",
       "         13,  14,  15,  16,  17,  18,  19,  20,  21,  22,  23,  24,  25,\n",
       "         26,  27,  28,  29,  30,  31,  32,  33,  34,  35,  36,  37,  38,\n",
       "         39,  40,  41,  42,  43,  44,  45,  46,  47,  48,  49,  50,  51,\n",
       "         52,  53,  54,  55,  56,  57,  58,  59,  60,  61,  62,  63,  64,\n",
       "         65,  66,  67,  68,  69,  70,  71,  72,  73,  74,  75,  76,  77,\n",
       "         78,  79,  80,  81,  82,  83,  84,  85,  86,  87,  88,  89,  90,\n",
       "         91,  92,  93,  94,  95,  96,  97,  98,  99, 100]),\n",
       " array([  0,   1,   2,   3,   4,   5,   6,   7,   8,   9,  10,  11,  12,\n",
       "         13,  14,  15,  16,  17,  18,  19,  20,  21,  22,  23,  24,  25,\n",
       "         26,  27,  28,  29,  30,  31,  32,  33,  34,  35,  36,  37,  38,\n",
       "         39,  40,  41,  42,  43,  44,  45,  46,  47,  48,  49,  50,  51,\n",
       "         52,  53,  54,  55,  56,  57,  58,  59,  60,  61,  62,  63,  64,\n",
       "         65,  66,  67,  68,  69,  70,  71,  72,  73,  74,  75,  76,  77,\n",
       "         78,  79,  80,  81,  82,  83,  84,  85,  86,  87,  88,  89,  90,\n",
       "         91,  92,  93,  94,  95,  96,  97,  98,  99, 100]))"
      ]
     },
     "execution_count": 14,
     "metadata": {},
     "output_type": "execute_result"
    }
   ],
   "source": [
    "# Stwórz np.ndarray zawierający liczby od 0 do 100.\n",
    "x = [i for i in range(101)]\n",
    "x = np.array(x)\n",
    "\n",
    "x_2 = np.arange(0, 101, 1)\n",
    "x, x_2"
   ]
  },
  {
   "cell_type": "code",
   "execution_count": 27,
   "id": "e71ef427",
   "metadata": {
    "collapsed": true
   },
   "outputs": [
    {
     "data": {
      "text/plain": [
       "([990,\n",
       "  979,\n",
       "  968,\n",
       "  957,\n",
       "  946,\n",
       "  935,\n",
       "  924,\n",
       "  913,\n",
       "  902,\n",
       "  891,\n",
       "  880,\n",
       "  869,\n",
       "  858,\n",
       "  847,\n",
       "  836,\n",
       "  825,\n",
       "  814,\n",
       "  803,\n",
       "  792,\n",
       "  781,\n",
       "  770,\n",
       "  759,\n",
       "  748,\n",
       "  737,\n",
       "  726,\n",
       "  715,\n",
       "  704,\n",
       "  693,\n",
       "  682,\n",
       "  671,\n",
       "  660,\n",
       "  649,\n",
       "  638,\n",
       "  627,\n",
       "  616,\n",
       "  605,\n",
       "  594,\n",
       "  583,\n",
       "  572,\n",
       "  561,\n",
       "  550,\n",
       "  539,\n",
       "  528,\n",
       "  517,\n",
       "  506,\n",
       "  495,\n",
       "  484,\n",
       "  473,\n",
       "  462,\n",
       "  451,\n",
       "  440,\n",
       "  429,\n",
       "  418,\n",
       "  407,\n",
       "  396,\n",
       "  385,\n",
       "  374,\n",
       "  363,\n",
       "  352,\n",
       "  341,\n",
       "  330,\n",
       "  319,\n",
       "  308,\n",
       "  297,\n",
       "  286,\n",
       "  275,\n",
       "  264,\n",
       "  253,\n",
       "  242,\n",
       "  231,\n",
       "  220,\n",
       "  209,\n",
       "  198,\n",
       "  187,\n",
       "  176,\n",
       "  165,\n",
       "  154,\n",
       "  143,\n",
       "  132,\n",
       "  121,\n",
       "  110,\n",
       "  99,\n",
       "  88,\n",
       "  77,\n",
       "  66,\n",
       "  55,\n",
       "  44,\n",
       "  33,\n",
       "  22,\n",
       "  11,\n",
       "  0],\n",
       " array([990, 979, 968, 957, 946, 935, 924, 913, 902, 891, 880, 869, 858,\n",
       "        847, 836, 825, 814, 803, 792, 781, 770, 759, 748, 737, 726, 715,\n",
       "        704, 693, 682, 671, 660, 649, 638, 627, 616, 605, 594, 583, 572,\n",
       "        561, 550, 539, 528, 517, 506, 495, 484, 473, 462, 451, 440, 429,\n",
       "        418, 407, 396, 385, 374, 363, 352, 341, 330, 319, 308, 297, 286,\n",
       "        275, 264, 253, 242, 231, 220, 209, 198, 187, 176, 165, 154, 143,\n",
       "        132, 121, 110,  99,  88,  77,  66,  55,  44,  33,  22,  11,   0]))"
      ]
     },
     "execution_count": 27,
     "metadata": {},
     "output_type": "execute_result"
    }
   ],
   "source": [
    "# Stwórz np.ndarray zawierający liczby od 0 do 1000, które są podzielne przez liczbę 11. \n",
    "# Zadbaj o to, aby liczby ułożone były w kolejności malejącej.\n",
    "\n",
    "x = np.arange(0,1001,1)[::-1]\n",
    "x = [i for i in x if i % 11 == 0]\n",
    "\n",
    "x_2 = np.array([i for i in range(1001) if i % 11 == 0])[::-1]\n",
    "\n",
    "x, x_2"
   ]
  },
  {
   "cell_type": "code",
   "execution_count": 33,
   "id": "cac305f1",
   "metadata": {
    "collapsed": true
   },
   "outputs": [
    {
     "data": {
      "text/plain": [
       "array([-5.        , -4.85507246, -4.71014493, -4.56521739, -4.42028986,\n",
       "       -4.27536232, -4.13043478, -3.98550725, -3.84057971, -3.69565217,\n",
       "       -3.55072464, -3.4057971 , -3.26086957, -3.11594203, -2.97101449,\n",
       "       -2.82608696, -2.68115942, -2.53623188, -2.39130435, -2.24637681,\n",
       "       -2.10144928, -1.95652174, -1.8115942 , -1.66666667, -1.52173913,\n",
       "       -1.37681159, -1.23188406, -1.08695652, -0.94202899, -0.79710145,\n",
       "       -0.65217391, -0.50724638, -0.36231884, -0.2173913 , -0.07246377,\n",
       "        0.07246377,  0.2173913 ,  0.36231884,  0.50724638,  0.65217391,\n",
       "        0.79710145,  0.94202899,  1.08695652,  1.23188406,  1.37681159,\n",
       "        1.52173913,  1.66666667,  1.8115942 ,  1.95652174,  2.10144928,\n",
       "        2.24637681,  2.39130435,  2.53623188,  2.68115942,  2.82608696,\n",
       "        2.97101449,  3.11594203,  3.26086957,  3.4057971 ,  3.55072464,\n",
       "        3.69565217,  3.84057971,  3.98550725,  4.13043478,  4.27536232,\n",
       "        4.42028986,  4.56521739,  4.71014493,  4.85507246,  5.        ])"
      ]
     },
     "execution_count": 33,
     "metadata": {},
     "output_type": "execute_result"
    }
   ],
   "source": [
    "# Stwórz np.ndarray zawierający 70 jednakokowo od siebie odległych liczb z przedziału -5 do 5\n",
    "\n",
    "np.linspace(-5,5,70)"
   ]
  },
  {
   "cell_type": "markdown",
   "id": "e8aaa0bb",
   "metadata": {},
   "source": [
    "## Zadanie 2\n",
    "Stwórz macierze, takie jak przedstawiono poniżej, a następnie z ich pomocą przeprowadź kilka operacji matematycznych.\n",
    "\n",
    "[[1 4 7]\n",
    "\n",
    " [2 5 8]\n",
    " \n",
    " [3 6 9]]\n",
    "\n",
    "\n",
    "\n",
    "\n",
    "[[3 2 3]\n",
    "\n",
    " [4 3 1]\n",
    " \n",
    " [7 3 1]]\n",
    "\n",
    "Oblicz:\n",
    "* sumę\n",
    "* różnice\n",
    "* Transpozycję obu macierzy\n",
    "* Mnożenie macierzy element-wise\n",
    "* Dzielenie macierzy element-wise\n",
    "* Iloczyn macierzy\n"
   ]
  },
  {
   "cell_type": "code",
   "execution_count": 53,
   "id": "8d5a3a0f",
   "metadata": {},
   "outputs": [],
   "source": [
    "matrix = np.array([[1, 4, 7],\n",
    "                   [2, 5, 8],\n",
    "                   [3, 6, 9]])\n",
    "\n",
    "matrix_2 =  np.array([[3, 2, 3],\n",
    "                      [4, 3, 1],\n",
    "                      [7, 3, 1]])\n",
    "                  \n",
    "add = np.add(matrix, matrix_2), matrix + matrix_2\n",
    "sub = np.subtract(matrix, matrix_2), matrix - matrix_2\n",
    "tr = np.transpose(matrix), matrix.T # np.transpose(matrix_2),  matrix_2.T\n",
    "m = np.multiply(matrix, matrix_2), matrix * matrix_2\n",
    "d = np.divide(matrix, matrix_2), matrix / matrix_2\n",
    "m_prod = np.matmul(matrix, matrix_2), matrix @ matrix_2"
   ]
  },
  {
   "cell_type": "markdown",
   "id": "3f183882",
   "metadata": {},
   "source": [
    "## Zadanie \n",
    "\n",
    "Oblicz:\n",
    "\n",
    "* Stwórz np.array zawierający cosinusy i sinusy wartości bedących w przedziale od 0 do pi, kolejne liczby powinny być od siebie większe o 1/10 radiana.\n",
    "\n",
    "* Stwórz np.array zawierający liczby od -100 do 100, gdzie każda następna liczba jest większa od poprzedniej o 2 (-100, -98, -96… 98, 100).\n",
    "\n",
    "* Oblicz 20 pierwszych kwadratów.\n",
    "\n",
    "* Oblicz sumę tablic, tak aby element na pozycji 'i' był sumą i-tego elementu z pierwszej tablicy oraz elementu len(array)-1-i drugiej tablicy. Użyj tablicy pierwszych 20 kwadratów oraz 20 sześcianów."
   ]
  },
  {
   "cell_type": "code",
   "execution_count": 58,
   "id": "1ab0089a",
   "metadata": {
    "collapsed": true
   },
   "outputs": [
    {
     "data": {
      "text/plain": [
       "(array([0.        , 0.09983342, 0.19866933, 0.29552021, 0.38941834,\n",
       "        0.47942554, 0.56464247, 0.64421769, 0.71735609, 0.78332691,\n",
       "        0.84147098, 0.89120736, 0.93203909, 0.96355819, 0.98544973,\n",
       "        0.99749499, 0.9995736 , 0.99166481, 0.97384763, 0.94630009,\n",
       "        0.90929743, 0.86320937, 0.8084964 , 0.74570521, 0.67546318,\n",
       "        0.59847214, 0.51550137, 0.42737988, 0.33498815, 0.23924933,\n",
       "        0.14112001, 0.04158066]),\n",
       " array([ 1.        ,  0.99500417,  0.98006658,  0.95533649,  0.92106099,\n",
       "         0.87758256,  0.82533561,  0.76484219,  0.69670671,  0.62160997,\n",
       "         0.54030231,  0.45359612,  0.36235775,  0.26749883,  0.16996714,\n",
       "         0.0707372 , -0.02919952, -0.12884449, -0.22720209, -0.32328957,\n",
       "        -0.41614684, -0.5048461 , -0.58850112, -0.66627602, -0.73739372,\n",
       "        -0.80114362, -0.85688875, -0.90407214, -0.94222234, -0.97095817,\n",
       "        -0.9899925 , -0.99913515]))"
      ]
     },
     "execution_count": 58,
     "metadata": {},
     "output_type": "execute_result"
    }
   ],
   "source": [
    "# Stwórz np.array zawierający cosinusy i sinusy wartości bedących w przedziale \n",
    "# od 0 do pi, kolejne liczby powinny być od siebie większe o 1/10 radiana.\n",
    "\n",
    "numbers = np.arange(0, 3.14, 0.1)\n",
    "s, c =np.sin(numbers), np.cos(numbers) \n",
    "s, c"
   ]
  },
  {
   "cell_type": "code",
   "execution_count": 60,
   "id": "6e8cf159",
   "metadata": {
    "collapsed": true
   },
   "outputs": [
    {
     "data": {
      "text/plain": [
       "array([-100,  -98,  -96,  -94,  -92,  -90,  -88,  -86,  -84,  -82,  -80,\n",
       "        -78,  -76,  -74,  -72,  -70,  -68,  -66,  -64,  -62,  -60,  -58,\n",
       "        -56,  -54,  -52,  -50,  -48,  -46,  -44,  -42,  -40,  -38,  -36,\n",
       "        -34,  -32,  -30,  -28,  -26,  -24,  -22,  -20,  -18,  -16,  -14,\n",
       "        -12,  -10,   -8,   -6,   -4,   -2,    0,    2,    4,    6,    8,\n",
       "         10,   12,   14,   16,   18,   20,   22,   24,   26,   28,   30,\n",
       "         32,   34,   36,   38,   40,   42,   44,   46,   48,   50,   52,\n",
       "         54,   56,   58,   60,   62,   64,   66,   68,   70,   72,   74,\n",
       "         76,   78,   80,   82,   84,   86,   88,   90,   92,   94,   96,\n",
       "         98,  100])"
      ]
     },
     "execution_count": 60,
     "metadata": {},
     "output_type": "execute_result"
    }
   ],
   "source": [
    "# Stwórz np.array zawierający liczby od -100 do 100, gdzie każda następna \n",
    "# liczba jest większa od poprzedniej o 2 (-100, -98, -96… 98, 100).\n",
    "np.arange(-100, 101, 2)"
   ]
  },
  {
   "cell_type": "code",
   "execution_count": 75,
   "id": "e187e547",
   "metadata": {},
   "outputs": [],
   "source": [
    "# Oblicz 20 pierwszych kwadratów.\n",
    "x = [2 ** i for i in range(21)]\n",
    "x = np.array(x)\n",
    "\n",
    "x_2 = np.array([2 ** i for i in range(21)])"
   ]
  },
  {
   "cell_type": "code",
   "execution_count": 80,
   "id": "7b582cc8",
   "metadata": {},
   "outputs": [
    {
     "data": {
      "text/plain": [
       "(array([8000, 6860, 5836, 4922, 4112, 3400, 2780, 2246, 1792, 1412, 1100,\n",
       "         850,  656,  512,  412,  350,  320,  316,  332,  362,  400]),\n",
       " array([8000, 6860, 5836, 4922, 4112, 3400, 2780, 2246, 1792, 1412, 1100,\n",
       "         850,  656,  512,  412,  350,  320,  316,  332,  362,  400]),\n",
       " array([8000, 6860, 5836, 4922, 4112, 3400, 2780, 2246, 1792, 1412, 1100,\n",
       "         850,  656,  512,  412,  350,  320,  316,  332,  362,  400]))"
      ]
     },
     "execution_count": 80,
     "metadata": {},
     "output_type": "execute_result"
    }
   ],
   "source": [
    "# Oblicz sumę tablic, tak aby element na pozycji 'i' był sumą i-tego elementu \n",
    "# z pierwszej tablicy oraz elementu len(array)-1-i drugiej tablicy.  \n",
    "# Użyj tablicy pierwszych 20 kwadratów oraz 20 sześcianów.\n",
    "\n",
    "x = np.arange(0,21) ** 2\n",
    "y = np.arange(0,21) ** 3\n",
    "res = x + y[::-1]\n",
    "\n",
    "x = np.arange(0,21) ** 2\n",
    "y = np.arange(0,21)[::-1] ** 3\n",
    "res_2 = x + y\n",
    "\n",
    "n = np.arange(0,21) \n",
    "res_3 = n**2 + n[::-1]**3\n",
    "\n",
    "res, res_2, res_3"
   ]
  },
  {
   "cell_type": "markdown",
   "id": "7248b123",
   "metadata": {},
   "source": [
    "## Zadanie \n",
    "Stwórz tablicę 100 elementową od 1 do 101 dla każdego wzoru ciągu podanego poniżej.\n",
    "\n",
    "Oblicz sumę wszystkich elementów.\n",
    "\n",
    "\n",
    "* 1/n (rezultat = 5.1972785077386305)\n",
    "* 1/sqt(n) (rezultat = 18.689107543805147)\n",
    "* (1+1/n)^n (rezultat = 268.74089438451426)"
   ]
  },
  {
   "cell_type": "code",
   "execution_count": 95,
   "id": "4ad77610",
   "metadata": {},
   "outputs": [],
   "source": [
    "n = np.arange(1,102)"
   ]
  },
  {
   "cell_type": "code",
   "execution_count": 96,
   "id": "3fc18d8f",
   "metadata": {},
   "outputs": [
    {
     "data": {
      "text/plain": [
       "5.1972785077386305"
      ]
     },
     "execution_count": 96,
     "metadata": {},
     "output_type": "execute_result"
    }
   ],
   "source": [
    "sum(1/n)"
   ]
  },
  {
   "cell_type": "code",
   "execution_count": 97,
   "id": "77da0edc",
   "metadata": {},
   "outputs": [
    {
     "data": {
      "text/plain": [
       "18.689107543805147"
      ]
     },
     "execution_count": 97,
     "metadata": {},
     "output_type": "execute_result"
    }
   ],
   "source": [
    "sum(1/np.sqrt(n))"
   ]
  },
  {
   "cell_type": "code",
   "execution_count": 98,
   "id": "09f94df9",
   "metadata": {},
   "outputs": [
    {
     "data": {
      "text/plain": [
       "268.74089438451426"
      ]
     },
     "execution_count": 98,
     "metadata": {},
     "output_type": "execute_result"
    }
   ],
   "source": [
    "sum((1+1/n)**n)"
   ]
  },
  {
   "cell_type": "markdown",
   "id": "28dd3b43",
   "metadata": {},
   "source": [
    "## Zadanie \n",
    "\n",
    "Stwórz macierz A o wymiarach 7x7. Wypełnij ją dowolnymi wartościami - np. liczbami od 0 do 48.\n",
    "\n",
    "* Znajdź element z 3 rzędu i 4 kolumny\n",
    "* Zastąp liczbę występującą w 6 rzędzie i 3 kolumnie liczbą pi.\n",
    "* Stwórz macierz B zawierającą pierwsze 3 rzędy oraz wszystkie kolumny poza ostatnią macierzy A.\n",
    "* Stwórz macierz zawierającą elementy z 2 pierwszych kolumn\n",
    "* Stwórz macierz zawierającą 4 ostatnie rzędy"
   ]
  },
  {
   "cell_type": "code",
   "execution_count": 103,
   "id": "c009830a",
   "metadata": {},
   "outputs": [],
   "source": [
    "matrix = np.arange(0,49).reshape(7,7)"
   ]
  },
  {
   "cell_type": "code",
   "execution_count": 106,
   "id": "e6bb02b4",
   "metadata": {},
   "outputs": [
    {
     "data": {
      "text/plain": [
       "17"
      ]
     },
     "execution_count": 106,
     "metadata": {},
     "output_type": "execute_result"
    }
   ],
   "source": [
    "matrix[2,3]"
   ]
  },
  {
   "cell_type": "code",
   "execution_count": 117,
   "id": "4e46d331",
   "metadata": {},
   "outputs": [
    {
     "data": {
      "text/plain": [
       "array([[ 0,  1,  2,  3,  4,  5,  6],\n",
       "       [ 7,  8,  9, 10, 11, 12, 13],\n",
       "       [14, 15, 16, 17, 18, 19, 20],\n",
       "       [21, 22, 23, 24, 25, 26, 27],\n",
       "       [28, 29, 30, 31, 32, 33, 34],\n",
       "       [35, 36, 37, 38, 39, 40, 41],\n",
       "       [42, 43,  3, 45, 46, 47, 48]])"
      ]
     },
     "execution_count": 117,
     "metadata": {},
     "output_type": "execute_result"
    }
   ],
   "source": [
    "# Zastąp liczbę występującą w 6 rzędzie i 3 kolumnie liczbą pi.\n",
    "matrix[6][2] = np.pi\n",
    "matrix"
   ]
  },
  {
   "cell_type": "code",
   "execution_count": 122,
   "id": "8fd7866d",
   "metadata": {
    "scrolled": true
   },
   "outputs": [
    {
     "data": {
      "text/plain": [
       "array([[ 0,  1,  2,  3,  4,  5],\n",
       "       [ 7,  8,  9, 10, 11, 12],\n",
       "       [14, 15, 16, 17, 18, 19]])"
      ]
     },
     "execution_count": 122,
     "metadata": {},
     "output_type": "execute_result"
    }
   ],
   "source": [
    "# Stwórz macierz B zawierającą pierwsze 3 rzędy oraz wszystkie kolumny poza ostatnią macierzy A.\n",
    "matrix_b = matrix[:3,:-1]\n",
    "matrix_b"
   ]
  },
  {
   "cell_type": "code",
   "execution_count": 124,
   "id": "e745f834",
   "metadata": {},
   "outputs": [
    {
     "data": {
      "text/plain": [
       "array([[ 0,  1],\n",
       "       [ 7,  8],\n",
       "       [14, 15],\n",
       "       [21, 22],\n",
       "       [28, 29],\n",
       "       [35, 36],\n",
       "       [42, 43]])"
      ]
     },
     "execution_count": 124,
     "metadata": {},
     "output_type": "execute_result"
    }
   ],
   "source": [
    "# Stwórz macierz zawierającą elementy z 2 pierwszych kolumn\n",
    "matrix_c = matrix[:,:2]\n",
    "matrix_c"
   ]
  },
  {
   "cell_type": "code",
   "execution_count": 129,
   "id": "b4421e19",
   "metadata": {},
   "outputs": [
    {
     "data": {
      "text/plain": [
       "array([[21, 22, 23, 24, 25, 26, 27],\n",
       "       [28, 29, 30, 31, 32, 33, 34],\n",
       "       [35, 36, 37, 38, 39, 40, 41],\n",
       "       [42, 43,  3, 45, 46, 47, 48]])"
      ]
     },
     "execution_count": 129,
     "metadata": {},
     "output_type": "execute_result"
    }
   ],
   "source": [
    "# Stwórz macierz zawierającą 4 ostatnie rzędy\n",
    "matrix_d = matrix[-4:,:]\n",
    "matrix_d"
   ]
  },
  {
   "cell_type": "markdown",
   "id": "bb759953",
   "metadata": {},
   "source": [
    "## Zadanie \n",
    "Stwórz wektor posiadający 36 elementów, a następnie przekształć go do macierzy o podanym rozmiarze\n",
    "\n",
    "* 2x18\n",
    "* 3x12\n",
    "* 4x9"
   ]
  },
  {
   "cell_type": "code",
   "execution_count": 132,
   "id": "7ed96df5",
   "metadata": {},
   "outputs": [],
   "source": [
    "matrix = np.arange(0,36)"
   ]
  },
  {
   "cell_type": "code",
   "execution_count": 133,
   "id": "21a5ed49",
   "metadata": {},
   "outputs": [
    {
     "data": {
      "text/plain": [
       "array([[ 0,  1,  2,  3,  4,  5,  6,  7,  8,  9, 10, 11, 12, 13, 14, 15,\n",
       "        16, 17],\n",
       "       [18, 19, 20, 21, 22, 23, 24, 25, 26, 27, 28, 29, 30, 31, 32, 33,\n",
       "        34, 35]])"
      ]
     },
     "execution_count": 133,
     "metadata": {},
     "output_type": "execute_result"
    }
   ],
   "source": [
    "matrix.reshape(2,18)"
   ]
  },
  {
   "cell_type": "code",
   "execution_count": 134,
   "id": "d0f18a71",
   "metadata": {},
   "outputs": [
    {
     "data": {
      "text/plain": [
       "array([[ 0,  1,  2,  3,  4,  5,  6,  7,  8,  9, 10, 11],\n",
       "       [12, 13, 14, 15, 16, 17, 18, 19, 20, 21, 22, 23],\n",
       "       [24, 25, 26, 27, 28, 29, 30, 31, 32, 33, 34, 35]])"
      ]
     },
     "execution_count": 134,
     "metadata": {},
     "output_type": "execute_result"
    }
   ],
   "source": [
    "matrix.reshape(3,12)"
   ]
  },
  {
   "cell_type": "code",
   "execution_count": 135,
   "id": "31c9417b",
   "metadata": {},
   "outputs": [
    {
     "data": {
      "text/plain": [
       "array([[ 0,  1,  2,  3,  4,  5,  6,  7,  8],\n",
       "       [ 9, 10, 11, 12, 13, 14, 15, 16, 17],\n",
       "       [18, 19, 20, 21, 22, 23, 24, 25, 26],\n",
       "       [27, 28, 29, 30, 31, 32, 33, 34, 35]])"
      ]
     },
     "execution_count": 135,
     "metadata": {},
     "output_type": "execute_result"
    }
   ],
   "source": [
    "matrix.reshape(4,9)"
   ]
  },
  {
   "cell_type": "markdown",
   "id": "09fa354e",
   "metadata": {},
   "source": [
    "## Zadanie \n",
    "Stwórz macierz 100x100 o następującej strukturze i wartościach.\n",
    "\n",
    "[[  1.   1.   1. ...   1.   1.   1.]\n",
    "\n",
    " [  2.   2.   2. ...   2.   2.   2.]\n",
    " \n",
    " [  3.   3.   3. ...   3.   3.   3.]\n",
    " ...\n",
    " \n",
    " [ 98.  98.  98. ...  98.  98.  98.]\n",
    " \n",
    " [ 99.  99.  99. ...  99.  99.  99.]\n",
    " \n",
    " [100. 100. 100. ... 100. 100. 100.]]"
   ]
  },
  {
   "cell_type": "code",
   "execution_count": 159,
   "id": "19471995",
   "metadata": {},
   "outputs": [
    {
     "data": {
      "text/plain": [
       "(array([[  1,   1,   1, ...,   1,   1,   1],\n",
       "        [  2,   2,   2, ...,   2,   2,   2],\n",
       "        [  3,   3,   3, ...,   3,   3,   3],\n",
       "        ...,\n",
       "        [ 98,  98,  98, ...,  98,  98,  98],\n",
       "        [ 99,  99,  99, ...,  99,  99,  99],\n",
       "        [100, 100, 100, ..., 100, 100, 100]]),\n",
       " array([[  1,   1,   1, ...,   1,   1,   1],\n",
       "        [  2,   2,   2, ...,   2,   2,   2],\n",
       "        [  3,   3,   3, ...,   3,   3,   3],\n",
       "        ...,\n",
       "        [ 98,  98,  98, ...,  98,  98,  98],\n",
       "        [ 99,  99,  99, ...,  99,  99,  99],\n",
       "        [100, 100, 100, ..., 100, 100, 100]]))"
      ]
     },
     "execution_count": 159,
     "metadata": {},
     "output_type": "execute_result"
    }
   ],
   "source": [
    "x = [[i] * 100 for i in range(1,101)]\n",
    "res = np.array(x).reshape(100,100)\n",
    "\n",
    "res_2 = np.array( [np.arange(1,101)] * 100).T\n",
    "\n",
    "res, res_2"
   ]
  },
  {
   "cell_type": "markdown",
   "id": "e5ef1cb6",
   "metadata": {},
   "source": [
    "## Zadanie \n",
    "Stwórz trzy macierze 2x5 wraz z elementami [0,..9], [10,..19], [20,..29]. Stwórz z nich macierze 3D łącząc je wzdłuż osi 0, 1 i 2\n",
    "\n",
    "* Wyświetl wartości znajdujące się pod indeksami [0,0,0] oraz [0,1,1].\n",
    "* Wyświetl kształt tych macierzy\n",
    "* Oblicz sume tych macierzy"
   ]
  },
  {
   "cell_type": "code",
   "execution_count": 173,
   "id": "b24b00c2",
   "metadata": {},
   "outputs": [],
   "source": [
    "a = np.arange(0,10).reshape(2,5)\n",
    "b = np.arange(10,20).reshape(2,5)\n",
    "c = np.arange(20,30).reshape(2,5)\n",
    "\n",
    "d = np.stack((a, b, c), axis=0)\n",
    "d_1 = np.stack((a, b, c), axis=1)\n",
    "d_2 = np.stack((a, b, c), axis=2)"
   ]
  },
  {
   "cell_type": "code",
   "execution_count": 177,
   "id": "3ca80930",
   "metadata": {},
   "outputs": [
    {
     "name": "stdout",
     "output_type": "stream",
     "text": [
      "0 \n",
      " 0 \n",
      " 0 \n",
      " 6 \n",
      " 11 \n",
      " 11\n"
     ]
    }
   ],
   "source": [
    "# Wyświetl wartości znajdujące się pod indeksami [0,0,0] oraz [0,1,1].\n",
    "print(d[0,0,0],\"\\n\", d_1[0,0,0],\"\\n\", d_2[0,0,0],\"\\n\", d[0,1,1],\"\\n\",\\\n",
    "      d_1[0,1,1],\"\\n\", d_2[0,1,1])"
   ]
  },
  {
   "cell_type": "code",
   "execution_count": 178,
   "id": "596c77a1",
   "metadata": {},
   "outputs": [
    {
     "name": "stdout",
     "output_type": "stream",
     "text": [
      "(3, 2, 5) \n",
      " (2, 3, 5) \n",
      " (2, 5, 3) \n",
      "\n"
     ]
    }
   ],
   "source": [
    "# Wyświetl kształt tych macierzy\n",
    "print(d.shape,\"\\n\",d_1.shape,\"\\n\",d_2.shape,\"\\n\")"
   ]
  },
  {
   "cell_type": "code",
   "execution_count": 179,
   "id": "b29d5c3b",
   "metadata": {},
   "outputs": [
    {
     "data": {
      "text/plain": [
       "(435, 435, 435)"
      ]
     },
     "execution_count": 179,
     "metadata": {},
     "output_type": "execute_result"
    }
   ],
   "source": [
    "# Oblicz sume tych macierzy\n",
    "np.sum(d), np.sum(d), np.sum(d)"
   ]
  },
  {
   "cell_type": "markdown",
   "id": "27c28cde",
   "metadata": {},
   "source": [
    "# Statystyka opisowa"
   ]
  },
  {
   "cell_type": "markdown",
   "id": "14f87894",
   "metadata": {},
   "source": [
    "## Zadanie 1\n",
    "Pobierz MDR_RR_TB_burden_estimates_2022-01-12.csv.\n",
    "\n",
    "Załóż, że iso_numeric jest wartością numeryczną. \n",
    "\n",
    "* Spróbuj załadować ją za pomocą np.loadtxt a następnie przekształcić ją na zmieną typu float. Wyrzuć wartości nieznane.\n",
    "* Stwórz funkcję, która oblicza podstawowe statystyki, takie jak: max, min, średnia, mediana, odchylenie standardowe, wariancja."
   ]
  },
  {
   "cell_type": "code",
   "execution_count": 217,
   "id": "4437f420",
   "metadata": {
    "collapsed": true
   },
   "outputs": [
    {
     "name": "stdout",
     "output_type": "stream",
     "text": [
      "non-numerical input\n",
      "non-numerical input\n",
      "non-numerical input\n"
     ]
    },
    {
     "data": {
      "text/plain": [
       "array([  4.,   8.,  12.,  16.,  20.,  24., 660.,  28.,  32.,  51., 533.,\n",
       "        36.,  40.,  31.,  44.,  48.,  50.,  52., 112.,  56.,  84., 204.,\n",
       "        60.,  64.,  68.,  70.,  72.,  76.,  92.,  96., 100., 854., 108.,\n",
       "       132., 116., 120., 124., 136., 140., 148., 152., 156., 170., 174.,\n",
       "       178., 184., 188., 384., 191., 192., 531., 196., 203., 408., 180.,\n",
       "       208., 262., 212., 214., 218., 818., 222., 226., 232., 233., 748.,\n",
       "       231., 242., 246., 250., 258., 266., 270., 268., 276., 288., 300.,\n",
       "       304., 308., 316., 320., 324., 624., 328., 332., 340., 348., 352.,\n",
       "       356., 360., 364., 368., 372., 376., 380., 388., 392., 400., 398.,\n",
       "       404., 296., 414., 417., 418., 428., 422., 426., 430., 434., 440.,\n",
       "       442., 450., 454., 458., 462., 466., 470., 584., 478., 480., 484.,\n",
       "       583., 492., 496., 499., 500., 504., 508., 104., 516., 520., 524.,\n",
       "       528., 540., 554., 558., 562., 566., 570., 807., 580., 578., 512.,\n",
       "       586., 585., 591., 598., 600., 604., 608., 616., 620., 630., 634.,\n",
       "       410., 498., 642., 643., 646., 659., 662., 670., 882., 674., 678.,\n",
       "       682., 686., 688., 690., 694., 702., 534., 703., 705.,  90., 706.,\n",
       "       710., 728., 724., 144., 729., 740., 752., 756., 760., 762., 764.,\n",
       "       626., 768., 772., 776., 780., 788., 792., 795., 796., 798., 800.,\n",
       "       804., 784., 826., 834., 840., 858., 860., 548., 862., 704., 876.,\n",
       "       887., 894., 716.])"
      ]
     },
     "execution_count": 217,
     "metadata": {},
     "output_type": "execute_result"
    }
   ],
   "source": [
    "def converter(x):\n",
    "    try:\n",
    "        return float(x.decode(\"utf-8\").replace('\"', ''))\n",
    "    except ValueError:\n",
    "        print('non-numerical input')\n",
    "\n",
    "data = np.loadtxt(\n",
    "        r\"C:\\Users\\user\\Desktop\\Data Science\\SDA\\SDA szkolenie\\Statystyka i prawdopodoby\\csv\\MDR_RR_TB_burden_estimates_2022-01-12.csv\",     \n",
    "        delimiter=',', \n",
    "        usecols=(3), \n",
    "        converters = {3: converter},\n",
    "        skiprows=1, \n",
    "        unpack=True\n",
    "    )\n",
    "    \n",
    "data = data[np.logical_not(np.isnan(data))]\n",
    "data"
   ]
  },
  {
   "cell_type": "code",
   "execution_count": null,
   "id": "e87be357",
   "metadata": {},
   "outputs": [],
   "source": [
    "# Stwórz funkcję, która oblicza podstawowe statystyki, takie jak: \n",
    "# max, min, średnia, mediana, odchylenie standardowe, wariancja."
   ]
  },
  {
   "cell_type": "code",
   "execution_count": 225,
   "id": "b1ce1280",
   "metadata": {},
   "outputs": [
    {
     "name": "stdout",
     "output_type": "stream",
     "text": [
      "max:  894.0\n",
      "min:  4.0\n",
      "mean:  434.3066037735849\n",
      "median:  437.0\n",
      "std:  254.1044306077786\n",
      "wariancja:  64569.06165450337\n"
     ]
    }
   ],
   "source": [
    "def statistiks(df):\n",
    "    print(\"max: \",df.max())\n",
    "    print(\"min: \",df.min())\n",
    "    print(\"mean: \",df.mean())\n",
    "    print(\"median: \",np.median(df))\n",
    "    print(\"std: \",df.std())\n",
    "    print(\"wariancja: \",df.var())\n",
    "    \n",
    "statistiks(data)"
   ]
  },
  {
   "cell_type": "markdown",
   "id": "aba243bf",
   "metadata": {},
   "source": [
    "## Zadanie \n",
    "Pobierz Wzrost.csv.\n",
    "\n",
    "Oblicz podstawowe statystki tak jak powyżej. Zastanów się, jaka jest różnica pomiędzy wartością wariancji, a odchylenia standardowego. Dlaczego taka różnica występuje? Postaraj się rozszerzyć zawartość Twojej funkcji, wyświetlającej podstawowe statystyki o nowe metody z biblioteki statistics oraz scipy.stats.modules"
   ]
  },
  {
   "cell_type": "code",
   "execution_count": 234,
   "id": "6e80e585",
   "metadata": {},
   "outputs": [
    {
     "data": {
      "text/plain": [
       "array([156., 158., 167., 188., 197., 167., 197., 178., 186., 157., 198.,\n",
       "       199., 178., 168., 156., 151., 167., 167.])"
      ]
     },
     "execution_count": 234,
     "metadata": {},
     "output_type": "execute_result"
    }
   ],
   "source": [
    "data = np.loadtxt(r\"C:\\Users\\user\\Desktop\\Data Science\\SDA\\SDA szkolenie\\Statystyka i prawdopodoby\\csv\\Wzrost.csv\",  \n",
    "                 delimiter=',', encoding= \"utf-8\" )\n",
    "data"
   ]
  },
  {
   "cell_type": "code",
   "execution_count": 264,
   "id": "c86a3b05",
   "metadata": {},
   "outputs": [
    {
     "name": "stdout",
     "output_type": "stream",
     "text": [
      "median_high:  168.0 \n",
      " median_high:  168.0 \n",
      " median_low:  167.0 \n",
      " mode:  167.0 \n",
      " pvariance:  254.69444444444446 \n",
      " variance:  269.6764705882353 \n",
      " pstdev:  15.95914923936876 \n",
      " stdev:  16.42182908777933\n",
      "\n",
      "kurtosis: -1.3074579340561316\n",
      "skewness: 0.29608077170359876\n"
     ]
    },
    {
     "data": {
      "text/plain": [
       "DescribeResult(nobs=18, minmax=(151.0, 199.0), mean=174.16666666666666, variance=269.67647058823536, skewness=0.29608077170359876, kurtosis=-1.3074579340561316)"
      ]
     },
     "execution_count": 264,
     "metadata": {},
     "output_type": "execute_result"
    }
   ],
   "source": [
    "print( \"median_high: \", s.median_high(data),\"\\n\",  \\\n",
    "       \"median_high: \", s.median_high(data),\"\\n\", \\\n",
    "        \"median_low: \", s.median_low(data),\"\\n\",  \\\n",
    "        \"mode: \",       s.mode(data),\"\\n\",        \\\n",
    "        \"pvariance: \",  s.pvariance(data),\"\\n\",   \\\n",
    "        \"variance: \",   s.variance(data),\"\\n\",    \\\n",
    "        \"pstdev: \",     s.pstdev(data),\"\\n\",      \\\n",
    "        \"stdev: \",      s.stdev(data)        )\n",
    "print()\n",
    "print( \"kurtosis:\", st.kurtosis(data) )\n",
    "print( \"skewness:\", st.skew(data) )\n",
    "st.describe(data)"
   ]
  },
  {
   "cell_type": "markdown",
   "id": "87710e18",
   "metadata": {},
   "source": [
    "## Zadanie 3\n",
    "\n",
    "Znajdź dowolny inny zbiór danych csv w Internecie. Spróbuj przeanalizować wartości numeryczne występujące w pliku z pomocą Twojej funkcji."
   ]
  },
  {
   "cell_type": "markdown",
   "id": "9db77b2f",
   "metadata": {},
   "source": [
    "# Rozkłady prawdopodobieństwa zmiennych losowych"
   ]
  },
  {
   "cell_type": "markdown",
   "id": "4c1e628c",
   "metadata": {},
   "source": [
    "## Zadanie \n",
    "\n",
    "Wygeneruj 1000 liczb z rozkładu Bernoulliego.\n",
    "\n",
    "W tym celu wykorzystaj: scipy. Spróbuj dowiedzieć się, jak hiperparametr - prawdopodobieństwo sukcesu p, wpływa na średnią, wariancję, skośność, kurtozę wygenerowanego zbioru."
   ]
  },
  {
   "cell_type": "code",
   "execution_count": 296,
   "id": "45cfe42a",
   "metadata": {},
   "outputs": [],
   "source": [
    "def prin_stats(data):\n",
    "    print(\"mean:\",np.mean(data))\n",
    "    print(\"var:\",np.var(data))    \n",
    "    print(\"skew:\",st.skew(data))\n",
    "    print(\"kurtosis:\",st.kurtosis(data))    \n",
    "    print()"
   ]
  },
  {
   "cell_type": "code",
   "execution_count": 297,
   "id": "c351c1c0",
   "metadata": {},
   "outputs": [
    {
     "name": "stdout",
     "output_type": "stream",
     "text": [
      "mean: 0.271\n",
      "var: 0.19755899999999996\n",
      "skew: 1.0304266169174092\n",
      "kurtosis: -0.9382209871481422\n",
      "\n",
      "mean: 0.3 \n",
      "var: 0.21 \n",
      "skew: 0.8728715609439694 \n",
      "kurt: -1.2380952380952381\n"
     ]
    }
   ],
   "source": [
    "p = .3  # gdzie p jest prawdopodobieństwem pojedynczego sukcesu, \n",
    "        # a 1 - p jest prawdopodobieństwem pojedynczej porażki.\n",
    "    \n",
    "data = st.bernoulli.rvs(p, size = 1000)\n",
    "mean, var, skew, kurt = st.bernoulli.stats(p, moments ='mvsk')\n",
    "\n",
    "prin_stats(data)\n",
    "print(\"mean:\", mean,\"\\nvar:\", var,\"\\nskew:\", skew,\"\\nkurt:\", kurt )"
   ]
  },
  {
   "cell_type": "markdown",
   "id": "7eed3aa1",
   "metadata": {},
   "source": [
    "## Zadanie \n",
    "\n",
    "Wygeneruj 100 próbek z następujących rozkładów: Bernoulli, Binomial, Poisson.\n",
    "\n",
    "Oblicz ich podstawowe statystyki (średnią, wariancję, kurtozę oraz skośność).\n",
    "\n",
    "Postaraj się pomyśleć o róznicach pomiędzy poszczególnymi rozkładami bazując na obliczonych statystykach."
   ]
  },
  {
   "cell_type": "code",
   "execution_count": 305,
   "id": "72dac54f",
   "metadata": {},
   "outputs": [
    {
     "name": "stdout",
     "output_type": "stream",
     "text": [
      "0.3 0.21 0.8728715609439694 -1.2380952380952381\n",
      "2.0 1.2 0.18257418583505533 -0.3666666666666668\n",
      "0.6 0.6 1.2909944487358056 1.6666666666666667\n"
     ]
    }
   ],
   "source": [
    "#Bernoulli\n",
    "p = 0.3 \n",
    "mean, var, skew, kurt = st.bernoulli.stats(p, moments ='mvsk')\n",
    "print(mean, var, skew, kurt)\n",
    "\n",
    "#Binomial\n",
    "n, p = 5, 0.4\n",
    "mean, var, skew, kurt = st.binom.stats(n, p, moments='mvsk')\n",
    "print(mean, var, skew, kurt)\n",
    "\n",
    "#Poisson\n",
    "mu = 0.6\n",
    "mean, var, skew, kurt = st.poisson.stats(mu, moments='mvsk')\n",
    "print(mean, var, skew, kurt)"
   ]
  },
  {
   "cell_type": "markdown",
   "id": "4bee5f5d",
   "metadata": {},
   "source": [
    "# Testy statystyczne"
   ]
  },
  {
   "cell_type": "markdown",
   "id": "a848cbdb",
   "metadata": {},
   "source": [
    "## Zadanie 1\n",
    "Wygeneruj 200 próbek z rozkładu normalnego o średniej 2 oraz odchyleniu standardowym 30. \n",
    "\n",
    "Przetestuj hipotezę, że średnia tej dystrybucji jest równa 2.5.\n",
    "\n",
    "Info:\n",
    "\n",
    "Przyjmij poziom ufności α = 0.05\n",
    "\n",
    "Extra:\n",
    "\n",
    "Postaraj się powtórzyć ten test kilka razy. Zlicz ile razy hipoteza została zaakceptowana. Następnie zrób to samo z użyciem mniejszej próby."
   ]
  },
  {
   "cell_type": "code",
   "execution_count": 365,
   "id": "47795ca1",
   "metadata": {
    "code_folding": []
   },
   "outputs": [
    {
     "name": "stdout",
     "output_type": "stream",
     "text": [
      "Hipothesis rejected!\n",
      "Hipothesis rejected!\n",
      "Hipothesis rejected!\n",
      "Hipothesis rejected!\n",
      "Hipothesis rejected!\n",
      "Hipothesis rejected!\n",
      "Hipothesis rejected!\n",
      "Hipothesis rejected!\n",
      "Hipothesis rejected!\n",
      "Hipothesis rejected!\n",
      "Hipothesis rejected!\n",
      "Hipothesis rejected!\n",
      "Hipothesis rejected!\n",
      "Hipothesis rejected!\n",
      "Hipothesis rejected!\n",
      "Hipothesis rejected!\n",
      "Hipothesis rejected!\n",
      "Hipothesis rejected!\n",
      "Hipothesis rejected!\n",
      "Hipothesis rejected!\n",
      "{989: 0.07772600863283238}\n"
     ]
    }
   ],
   "source": [
    "def test(a = 0.05, n = 200, m = 2, std = .3 ):\n",
    "    era = 1000 \n",
    "    success = {}\n",
    "    \n",
    "    for i in range(era):\n",
    "        data = st.norm.rvs(loc= m, scale= std, size= n)\n",
    "        res = st.ttest_1samp(data, 2.5 )\n",
    "        if res.pvalue > a: success[i] = res.pvalue\n",
    "            \n",
    "    return success if success else \"Hipothesis rejected!\"\n",
    "\n",
    "print(test())\n",
    "\n",
    "for i in range(200,0,-10):\n",
    "    print(test(n = i))"
   ]
  },
  {
   "cell_type": "markdown",
   "id": "211d01a3",
   "metadata": {},
   "source": [
    "## Zadanie 2\n",
    "Pobierz napoje.csv. \n",
    "\n",
    "Sprawdź hipotezę:\n",
    "\n",
    "* średnia konsumpcja piwa lech = 60.500 \n",
    "* średnia konsumpcja coli = 222.000 \n",
    "* średnia konsumpcja regionalnego piwa = 43.500"
   ]
  },
  {
   "cell_type": "code",
   "execution_count": null,
   "id": "c7490051",
   "metadata": {},
   "outputs": [],
   "source": []
  },
  {
   "cell_type": "code",
   "execution_count": null,
   "id": "d021fcd1",
   "metadata": {},
   "outputs": [],
   "source": []
  }
 ],
 "metadata": {
  "kernelspec": {
   "display_name": "Python 3 (ipykernel)",
   "language": "python",
   "name": "python3"
  },
  "language_info": {
   "codemirror_mode": {
    "name": "ipython",
    "version": 3
   },
   "file_extension": ".py",
   "mimetype": "text/x-python",
   "name": "python",
   "nbconvert_exporter": "python",
   "pygments_lexer": "ipython3",
   "version": "3.10.4"
  },
  "nbTranslate": {
   "displayLangs": [
    "*"
   ],
   "hotkey": "alt-t",
   "langInMainMenu": true,
   "sourceLang": "en",
   "targetLang": "fr",
   "useGoogleTranslate": true
  },
  "toc": {
   "base_numbering": 1,
   "nav_menu": {},
   "number_sections": true,
   "sideBar": true,
   "skip_h1_title": false,
   "title_cell": "Table of Contents",
   "title_sidebar": "Contents",
   "toc_cell": false,
   "toc_position": {},
   "toc_section_display": true,
   "toc_window_display": true
  },
  "varInspector": {
   "cols": {
    "lenName": 16,
    "lenType": 16,
    "lenVar": 40
   },
   "kernels_config": {
    "python": {
     "delete_cmd_postfix": "",
     "delete_cmd_prefix": "del ",
     "library": "var_list.py",
     "varRefreshCmd": "print(var_dic_list())"
    },
    "r": {
     "delete_cmd_postfix": ") ",
     "delete_cmd_prefix": "rm(",
     "library": "var_list.r",
     "varRefreshCmd": "cat(var_dic_list()) "
    }
   },
   "types_to_exclude": [
    "module",
    "function",
    "builtin_function_or_method",
    "instance",
    "_Feature"
   ],
   "window_display": false
  }
 },
 "nbformat": 4,
 "nbformat_minor": 5
}

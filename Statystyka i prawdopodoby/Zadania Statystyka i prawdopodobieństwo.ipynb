{
 "cells": [
  {
   "cell_type": "markdown",
   "id": "83183c7d",
   "metadata": {},
   "source": [
    "import"
   ]
  },
  {
   "cell_type": "code",
   "execution_count": 17,
   "id": "ba7496b4",
   "metadata": {},
   "outputs": [],
   "source": [
    "import pandas as pd \n",
    "import numpy as np \n",
    "from scipy import stats as st\n",
    "import statistics as s \n",
    "\n",
    "from IPython.display import display\n",
    "\n",
    "import matplotlib.pyplot as plt\n",
    "import seaborn as sns\n",
    "sns.set_style(\"darkgrid\")"
   ]
  },
  {
   "cell_type": "markdown",
   "id": "81f3c2ee",
   "metadata": {},
   "source": [
    "# Rozpocznijmy od zadań związanych z manipulacją tablicami."
   ]
  },
  {
   "cell_type": "markdown",
   "id": "4f1d569b",
   "metadata": {},
   "source": [
    "## Zadanie 1\n",
    "\n",
    "Rozpocznijmy od zadań związanych z manipulacją tablicami.\n",
    "\n",
    "Postaraj się rozwiązać podane poniżej zadania więcej niż jednym sposobem.\n",
    "\n",
    "* Stwórz np.ndarray zawierający liczby od 0 do 100.\n",
    "* Stwórz np.ndarray zawierający liczby od 0 do 1000, które są podzielne przez liczbę 11. Zadbaj o to, aby liczby ułożone były w kolejności malejącej.\n",
    "*Stwórz np.ndarray zawierający 70 jednakokowo od siebie odległych liczb z przedziału -5 do 5\n"
   ]
  },
  {
   "cell_type": "code",
   "execution_count": 14,
   "id": "9285910a",
   "metadata": {
    "collapsed": true
   },
   "outputs": [
    {
     "data": {
      "text/plain": [
       "(array([  0,   1,   2,   3,   4,   5,   6,   7,   8,   9,  10,  11,  12,\n",
       "         13,  14,  15,  16,  17,  18,  19,  20,  21,  22,  23,  24,  25,\n",
       "         26,  27,  28,  29,  30,  31,  32,  33,  34,  35,  36,  37,  38,\n",
       "         39,  40,  41,  42,  43,  44,  45,  46,  47,  48,  49,  50,  51,\n",
       "         52,  53,  54,  55,  56,  57,  58,  59,  60,  61,  62,  63,  64,\n",
       "         65,  66,  67,  68,  69,  70,  71,  72,  73,  74,  75,  76,  77,\n",
       "         78,  79,  80,  81,  82,  83,  84,  85,  86,  87,  88,  89,  90,\n",
       "         91,  92,  93,  94,  95,  96,  97,  98,  99, 100]),\n",
       " array([  0,   1,   2,   3,   4,   5,   6,   7,   8,   9,  10,  11,  12,\n",
       "         13,  14,  15,  16,  17,  18,  19,  20,  21,  22,  23,  24,  25,\n",
       "         26,  27,  28,  29,  30,  31,  32,  33,  34,  35,  36,  37,  38,\n",
       "         39,  40,  41,  42,  43,  44,  45,  46,  47,  48,  49,  50,  51,\n",
       "         52,  53,  54,  55,  56,  57,  58,  59,  60,  61,  62,  63,  64,\n",
       "         65,  66,  67,  68,  69,  70,  71,  72,  73,  74,  75,  76,  77,\n",
       "         78,  79,  80,  81,  82,  83,  84,  85,  86,  87,  88,  89,  90,\n",
       "         91,  92,  93,  94,  95,  96,  97,  98,  99, 100]))"
      ]
     },
     "execution_count": 14,
     "metadata": {},
     "output_type": "execute_result"
    }
   ],
   "source": [
    "# Stwórz np.ndarray zawierający liczby od 0 do 100.\n",
    "x = [i for i in range(101)]\n",
    "x = np.array(x)\n",
    "\n",
    "x_2 = np.arange(0, 101, 1)\n",
    "x, x_2"
   ]
  },
  {
   "cell_type": "code",
   "execution_count": 27,
   "id": "e71ef427",
   "metadata": {
    "collapsed": true
   },
   "outputs": [
    {
     "data": {
      "text/plain": [
       "([990,\n",
       "  979,\n",
       "  968,\n",
       "  957,\n",
       "  946,\n",
       "  935,\n",
       "  924,\n",
       "  913,\n",
       "  902,\n",
       "  891,\n",
       "  880,\n",
       "  869,\n",
       "  858,\n",
       "  847,\n",
       "  836,\n",
       "  825,\n",
       "  814,\n",
       "  803,\n",
       "  792,\n",
       "  781,\n",
       "  770,\n",
       "  759,\n",
       "  748,\n",
       "  737,\n",
       "  726,\n",
       "  715,\n",
       "  704,\n",
       "  693,\n",
       "  682,\n",
       "  671,\n",
       "  660,\n",
       "  649,\n",
       "  638,\n",
       "  627,\n",
       "  616,\n",
       "  605,\n",
       "  594,\n",
       "  583,\n",
       "  572,\n",
       "  561,\n",
       "  550,\n",
       "  539,\n",
       "  528,\n",
       "  517,\n",
       "  506,\n",
       "  495,\n",
       "  484,\n",
       "  473,\n",
       "  462,\n",
       "  451,\n",
       "  440,\n",
       "  429,\n",
       "  418,\n",
       "  407,\n",
       "  396,\n",
       "  385,\n",
       "  374,\n",
       "  363,\n",
       "  352,\n",
       "  341,\n",
       "  330,\n",
       "  319,\n",
       "  308,\n",
       "  297,\n",
       "  286,\n",
       "  275,\n",
       "  264,\n",
       "  253,\n",
       "  242,\n",
       "  231,\n",
       "  220,\n",
       "  209,\n",
       "  198,\n",
       "  187,\n",
       "  176,\n",
       "  165,\n",
       "  154,\n",
       "  143,\n",
       "  132,\n",
       "  121,\n",
       "  110,\n",
       "  99,\n",
       "  88,\n",
       "  77,\n",
       "  66,\n",
       "  55,\n",
       "  44,\n",
       "  33,\n",
       "  22,\n",
       "  11,\n",
       "  0],\n",
       " array([990, 979, 968, 957, 946, 935, 924, 913, 902, 891, 880, 869, 858,\n",
       "        847, 836, 825, 814, 803, 792, 781, 770, 759, 748, 737, 726, 715,\n",
       "        704, 693, 682, 671, 660, 649, 638, 627, 616, 605, 594, 583, 572,\n",
       "        561, 550, 539, 528, 517, 506, 495, 484, 473, 462, 451, 440, 429,\n",
       "        418, 407, 396, 385, 374, 363, 352, 341, 330, 319, 308, 297, 286,\n",
       "        275, 264, 253, 242, 231, 220, 209, 198, 187, 176, 165, 154, 143,\n",
       "        132, 121, 110,  99,  88,  77,  66,  55,  44,  33,  22,  11,   0]))"
      ]
     },
     "execution_count": 27,
     "metadata": {},
     "output_type": "execute_result"
    }
   ],
   "source": [
    "# Stwórz np.ndarray zawierający liczby od 0 do 1000, które są podzielne przez liczbę 11. \n",
    "# Zadbaj o to, aby liczby ułożone były w kolejności malejącej.\n",
    "\n",
    "x = np.arange(0,1001,1)[::-1]\n",
    "x = [i for i in x if i % 11 == 0]\n",
    "\n",
    "x_2 = np.array([i for i in range(1001) if i % 11 == 0])[::-1]\n",
    "\n",
    "x, x_2"
   ]
  },
  {
   "cell_type": "code",
   "execution_count": 33,
   "id": "cac305f1",
   "metadata": {
    "collapsed": true
   },
   "outputs": [
    {
     "data": {
      "text/plain": [
       "array([-5.        , -4.85507246, -4.71014493, -4.56521739, -4.42028986,\n",
       "       -4.27536232, -4.13043478, -3.98550725, -3.84057971, -3.69565217,\n",
       "       -3.55072464, -3.4057971 , -3.26086957, -3.11594203, -2.97101449,\n",
       "       -2.82608696, -2.68115942, -2.53623188, -2.39130435, -2.24637681,\n",
       "       -2.10144928, -1.95652174, -1.8115942 , -1.66666667, -1.52173913,\n",
       "       -1.37681159, -1.23188406, -1.08695652, -0.94202899, -0.79710145,\n",
       "       -0.65217391, -0.50724638, -0.36231884, -0.2173913 , -0.07246377,\n",
       "        0.07246377,  0.2173913 ,  0.36231884,  0.50724638,  0.65217391,\n",
       "        0.79710145,  0.94202899,  1.08695652,  1.23188406,  1.37681159,\n",
       "        1.52173913,  1.66666667,  1.8115942 ,  1.95652174,  2.10144928,\n",
       "        2.24637681,  2.39130435,  2.53623188,  2.68115942,  2.82608696,\n",
       "        2.97101449,  3.11594203,  3.26086957,  3.4057971 ,  3.55072464,\n",
       "        3.69565217,  3.84057971,  3.98550725,  4.13043478,  4.27536232,\n",
       "        4.42028986,  4.56521739,  4.71014493,  4.85507246,  5.        ])"
      ]
     },
     "execution_count": 33,
     "metadata": {},
     "output_type": "execute_result"
    }
   ],
   "source": [
    "# Stwórz np.ndarray zawierający 70 jednakokowo od siebie odległych liczb z przedziału -5 do 5\n",
    "\n",
    "np.linspace(-5,5,70)"
   ]
  },
  {
   "cell_type": "markdown",
   "id": "e8aaa0bb",
   "metadata": {},
   "source": [
    "## Zadanie 2\n",
    "Stwórz macierze, takie jak przedstawiono poniżej, a następnie z ich pomocą przeprowadź kilka operacji matematycznych.\n",
    "\n",
    "[[1 4 7]\n",
    "\n",
    " [2 5 8]\n",
    " \n",
    " [3 6 9]]\n",
    "\n",
    "\n",
    "\n",
    "\n",
    "[[3 2 3]\n",
    "\n",
    " [4 3 1]\n",
    " \n",
    " [7 3 1]]\n",
    "\n",
    "Oblicz:\n",
    "* sumę\n",
    "* różnice\n",
    "* Transpozycję obu macierzy\n",
    "* Mnożenie macierzy element-wise\n",
    "* Dzielenie macierzy element-wise\n",
    "* Iloczyn macierzy\n"
   ]
  },
  {
   "cell_type": "code",
   "execution_count": 53,
   "id": "8d5a3a0f",
   "metadata": {},
   "outputs": [],
   "source": [
    "matrix = np.array([[1, 4, 7],\n",
    "                   [2, 5, 8],\n",
    "                   [3, 6, 9]])\n",
    "\n",
    "matrix_2 =  np.array([[3, 2, 3],\n",
    "                      [4, 3, 1],\n",
    "                      [7, 3, 1]])\n",
    "                  \n",
    "add = np.add(matrix, matrix_2), matrix + matrix_2\n",
    "sub = np.subtract(matrix, matrix_2), matrix - matrix_2\n",
    "tr = np.transpose(matrix), matrix.T # np.transpose(matrix_2),  matrix_2.T\n",
    "m = np.multiply(matrix, matrix_2), matrix * matrix_2\n",
    "d = np.divide(matrix, matrix_2), matrix / matrix_2\n",
    "m_prod = np.matmul(matrix, matrix_2), matrix @ matrix_2"
   ]
  },
  {
   "cell_type": "markdown",
   "id": "3f183882",
   "metadata": {},
   "source": [
    "## Zadanie \n",
    "\n",
    "Oblicz:\n",
    "\n",
    "* Stwórz np.array zawierający cosinusy i sinusy wartości bedących w przedziale od 0 do pi, kolejne liczby powinny być od siebie większe o 1/10 radiana.\n",
    "\n",
    "* Stwórz np.array zawierający liczby od -100 do 100, gdzie każda następna liczba jest większa od poprzedniej o 2 (-100, -98, -96… 98, 100).\n",
    "\n",
    "* Oblicz 20 pierwszych kwadratów.\n",
    "\n",
    "* Oblicz sumę tablic, tak aby element na pozycji 'i' był sumą i-tego elementu z pierwszej tablicy oraz elementu len(array)-1-i drugiej tablicy. Użyj tablicy pierwszych 20 kwadratów oraz 20 sześcianów."
   ]
  },
  {
   "cell_type": "code",
   "execution_count": 58,
   "id": "1ab0089a",
   "metadata": {
    "collapsed": true
   },
   "outputs": [
    {
     "data": {
      "text/plain": [
       "(array([0.        , 0.09983342, 0.19866933, 0.29552021, 0.38941834,\n",
       "        0.47942554, 0.56464247, 0.64421769, 0.71735609, 0.78332691,\n",
       "        0.84147098, 0.89120736, 0.93203909, 0.96355819, 0.98544973,\n",
       "        0.99749499, 0.9995736 , 0.99166481, 0.97384763, 0.94630009,\n",
       "        0.90929743, 0.86320937, 0.8084964 , 0.74570521, 0.67546318,\n",
       "        0.59847214, 0.51550137, 0.42737988, 0.33498815, 0.23924933,\n",
       "        0.14112001, 0.04158066]),\n",
       " array([ 1.        ,  0.99500417,  0.98006658,  0.95533649,  0.92106099,\n",
       "         0.87758256,  0.82533561,  0.76484219,  0.69670671,  0.62160997,\n",
       "         0.54030231,  0.45359612,  0.36235775,  0.26749883,  0.16996714,\n",
       "         0.0707372 , -0.02919952, -0.12884449, -0.22720209, -0.32328957,\n",
       "        -0.41614684, -0.5048461 , -0.58850112, -0.66627602, -0.73739372,\n",
       "        -0.80114362, -0.85688875, -0.90407214, -0.94222234, -0.97095817,\n",
       "        -0.9899925 , -0.99913515]))"
      ]
     },
     "execution_count": 58,
     "metadata": {},
     "output_type": "execute_result"
    }
   ],
   "source": [
    "# Stwórz np.array zawierający cosinusy i sinusy wartości bedących w przedziale \n",
    "# od 0 do pi, kolejne liczby powinny być od siebie większe o 1/10 radiana.\n",
    "\n",
    "numbers = np.arange(0, 3.14, 0.1)\n",
    "s, c =np.sin(numbers), np.cos(numbers) \n",
    "s, c"
   ]
  },
  {
   "cell_type": "code",
   "execution_count": 60,
   "id": "6e8cf159",
   "metadata": {
    "collapsed": true
   },
   "outputs": [
    {
     "data": {
      "text/plain": [
       "array([-100,  -98,  -96,  -94,  -92,  -90,  -88,  -86,  -84,  -82,  -80,\n",
       "        -78,  -76,  -74,  -72,  -70,  -68,  -66,  -64,  -62,  -60,  -58,\n",
       "        -56,  -54,  -52,  -50,  -48,  -46,  -44,  -42,  -40,  -38,  -36,\n",
       "        -34,  -32,  -30,  -28,  -26,  -24,  -22,  -20,  -18,  -16,  -14,\n",
       "        -12,  -10,   -8,   -6,   -4,   -2,    0,    2,    4,    6,    8,\n",
       "         10,   12,   14,   16,   18,   20,   22,   24,   26,   28,   30,\n",
       "         32,   34,   36,   38,   40,   42,   44,   46,   48,   50,   52,\n",
       "         54,   56,   58,   60,   62,   64,   66,   68,   70,   72,   74,\n",
       "         76,   78,   80,   82,   84,   86,   88,   90,   92,   94,   96,\n",
       "         98,  100])"
      ]
     },
     "execution_count": 60,
     "metadata": {},
     "output_type": "execute_result"
    }
   ],
   "source": [
    "# Stwórz np.array zawierający liczby od -100 do 100, gdzie każda następna \n",
    "# liczba jest większa od poprzedniej o 2 (-100, -98, -96… 98, 100).\n",
    "np.arange(-100, 101, 2)"
   ]
  },
  {
   "cell_type": "code",
   "execution_count": 75,
   "id": "e187e547",
   "metadata": {},
   "outputs": [],
   "source": [
    "# Oblicz 20 pierwszych kwadratów.\n",
    "x = [2 ** i for i in range(21)]\n",
    "x = np.array(x)\n",
    "\n",
    "x_2 = np.array([2 ** i for i in range(21)])"
   ]
  },
  {
   "cell_type": "code",
   "execution_count": 80,
   "id": "7b582cc8",
   "metadata": {},
   "outputs": [
    {
     "data": {
      "text/plain": [
       "(array([8000, 6860, 5836, 4922, 4112, 3400, 2780, 2246, 1792, 1412, 1100,\n",
       "         850,  656,  512,  412,  350,  320,  316,  332,  362,  400]),\n",
       " array([8000, 6860, 5836, 4922, 4112, 3400, 2780, 2246, 1792, 1412, 1100,\n",
       "         850,  656,  512,  412,  350,  320,  316,  332,  362,  400]),\n",
       " array([8000, 6860, 5836, 4922, 4112, 3400, 2780, 2246, 1792, 1412, 1100,\n",
       "         850,  656,  512,  412,  350,  320,  316,  332,  362,  400]))"
      ]
     },
     "execution_count": 80,
     "metadata": {},
     "output_type": "execute_result"
    }
   ],
   "source": [
    "# Oblicz sumę tablic, tak aby element na pozycji 'i' był sumą i-tego elementu \n",
    "# z pierwszej tablicy oraz elementu len(array)-1-i drugiej tablicy.  \n",
    "# Użyj tablicy pierwszych 20 kwadratów oraz 20 sześcianów.\n",
    "\n",
    "x = np.arange(0,21) ** 2\n",
    "y = np.arange(0,21) ** 3\n",
    "res = x + y[::-1]\n",
    "\n",
    "x = np.arange(0,21) ** 2\n",
    "y = np.arange(0,21)[::-1] ** 3\n",
    "res_2 = x + y\n",
    "\n",
    "n = np.arange(0,21) \n",
    "res_3 = n**2 + n[::-1]**3\n",
    "\n",
    "res, res_2, res_3"
   ]
  },
  {
   "cell_type": "markdown",
   "id": "7248b123",
   "metadata": {},
   "source": [
    "## Zadanie \n",
    "Stwórz tablicę 100 elementową od 1 do 101 dla każdego wzoru ciągu podanego poniżej.\n",
    "\n",
    "Oblicz sumę wszystkich elementów.\n",
    "\n",
    "\n",
    "* 1/n (rezultat = 5.1972785077386305)\n",
    "* 1/sqt(n) (rezultat = 18.689107543805147)\n",
    "* (1+1/n)^n (rezultat = 268.74089438451426)"
   ]
  },
  {
   "cell_type": "code",
   "execution_count": 95,
   "id": "4ad77610",
   "metadata": {},
   "outputs": [],
   "source": [
    "n = np.arange(1,102)"
   ]
  },
  {
   "cell_type": "code",
   "execution_count": 96,
   "id": "3fc18d8f",
   "metadata": {},
   "outputs": [
    {
     "data": {
      "text/plain": [
       "5.1972785077386305"
      ]
     },
     "execution_count": 96,
     "metadata": {},
     "output_type": "execute_result"
    }
   ],
   "source": [
    "sum(1/n)"
   ]
  },
  {
   "cell_type": "code",
   "execution_count": 97,
   "id": "77da0edc",
   "metadata": {},
   "outputs": [
    {
     "data": {
      "text/plain": [
       "18.689107543805147"
      ]
     },
     "execution_count": 97,
     "metadata": {},
     "output_type": "execute_result"
    }
   ],
   "source": [
    "sum(1/np.sqrt(n))"
   ]
  },
  {
   "cell_type": "code",
   "execution_count": 98,
   "id": "09f94df9",
   "metadata": {},
   "outputs": [
    {
     "data": {
      "text/plain": [
       "268.74089438451426"
      ]
     },
     "execution_count": 98,
     "metadata": {},
     "output_type": "execute_result"
    }
   ],
   "source": [
    "sum((1+1/n)**n)"
   ]
  },
  {
   "cell_type": "markdown",
   "id": "28dd3b43",
   "metadata": {},
   "source": [
    "## Zadanie \n",
    "\n",
    "Stwórz macierz A o wymiarach 7x7. Wypełnij ją dowolnymi wartościami - np. liczbami od 0 do 48.\n",
    "\n",
    "* Znajdź element z 3 rzędu i 4 kolumny\n",
    "* Zastąp liczbę występującą w 6 rzędzie i 3 kolumnie liczbą pi.\n",
    "* Stwórz macierz B zawierającą pierwsze 3 rzędy oraz wszystkie kolumny poza ostatnią macierzy A.\n",
    "* Stwórz macierz zawierającą elementy z 2 pierwszych kolumn\n",
    "* Stwórz macierz zawierającą 4 ostatnie rzędy"
   ]
  },
  {
   "cell_type": "code",
   "execution_count": 103,
   "id": "c009830a",
   "metadata": {},
   "outputs": [],
   "source": [
    "matrix = np.arange(0,49).reshape(7,7)"
   ]
  },
  {
   "cell_type": "code",
   "execution_count": 106,
   "id": "e6bb02b4",
   "metadata": {},
   "outputs": [
    {
     "data": {
      "text/plain": [
       "17"
      ]
     },
     "execution_count": 106,
     "metadata": {},
     "output_type": "execute_result"
    }
   ],
   "source": [
    "matrix[2,3]"
   ]
  },
  {
   "cell_type": "code",
   "execution_count": 117,
   "id": "4e46d331",
   "metadata": {},
   "outputs": [
    {
     "data": {
      "text/plain": [
       "array([[ 0,  1,  2,  3,  4,  5,  6],\n",
       "       [ 7,  8,  9, 10, 11, 12, 13],\n",
       "       [14, 15, 16, 17, 18, 19, 20],\n",
       "       [21, 22, 23, 24, 25, 26, 27],\n",
       "       [28, 29, 30, 31, 32, 33, 34],\n",
       "       [35, 36, 37, 38, 39, 40, 41],\n",
       "       [42, 43,  3, 45, 46, 47, 48]])"
      ]
     },
     "execution_count": 117,
     "metadata": {},
     "output_type": "execute_result"
    }
   ],
   "source": [
    "# Zastąp liczbę występującą w 6 rzędzie i 3 kolumnie liczbą pi.\n",
    "matrix[6][2] = np.pi\n",
    "matrix"
   ]
  },
  {
   "cell_type": "code",
   "execution_count": 122,
   "id": "8fd7866d",
   "metadata": {
    "scrolled": true
   },
   "outputs": [
    {
     "data": {
      "text/plain": [
       "array([[ 0,  1,  2,  3,  4,  5],\n",
       "       [ 7,  8,  9, 10, 11, 12],\n",
       "       [14, 15, 16, 17, 18, 19]])"
      ]
     },
     "execution_count": 122,
     "metadata": {},
     "output_type": "execute_result"
    }
   ],
   "source": [
    "# Stwórz macierz B zawierającą pierwsze 3 rzędy oraz wszystkie kolumny poza ostatnią macierzy A.\n",
    "matrix_b = matrix[:3,:-1]\n",
    "matrix_b"
   ]
  },
  {
   "cell_type": "code",
   "execution_count": 124,
   "id": "e745f834",
   "metadata": {},
   "outputs": [
    {
     "data": {
      "text/plain": [
       "array([[ 0,  1],\n",
       "       [ 7,  8],\n",
       "       [14, 15],\n",
       "       [21, 22],\n",
       "       [28, 29],\n",
       "       [35, 36],\n",
       "       [42, 43]])"
      ]
     },
     "execution_count": 124,
     "metadata": {},
     "output_type": "execute_result"
    }
   ],
   "source": [
    "# Stwórz macierz zawierającą elementy z 2 pierwszych kolumn\n",
    "matrix_c = matrix[:,:2]\n",
    "matrix_c"
   ]
  },
  {
   "cell_type": "code",
   "execution_count": 129,
   "id": "b4421e19",
   "metadata": {},
   "outputs": [
    {
     "data": {
      "text/plain": [
       "array([[21, 22, 23, 24, 25, 26, 27],\n",
       "       [28, 29, 30, 31, 32, 33, 34],\n",
       "       [35, 36, 37, 38, 39, 40, 41],\n",
       "       [42, 43,  3, 45, 46, 47, 48]])"
      ]
     },
     "execution_count": 129,
     "metadata": {},
     "output_type": "execute_result"
    }
   ],
   "source": [
    "# Stwórz macierz zawierającą 4 ostatnie rzędy\n",
    "matrix_d = matrix[-4:,:]\n",
    "matrix_d"
   ]
  },
  {
   "cell_type": "markdown",
   "id": "bb759953",
   "metadata": {},
   "source": [
    "## Zadanie \n",
    "Stwórz wektor posiadający 36 elementów, a następnie przekształć go do macierzy o podanym rozmiarze\n",
    "\n",
    "* 2x18\n",
    "* 3x12\n",
    "* 4x9"
   ]
  },
  {
   "cell_type": "code",
   "execution_count": 132,
   "id": "7ed96df5",
   "metadata": {},
   "outputs": [],
   "source": [
    "matrix = np.arange(0,36)"
   ]
  },
  {
   "cell_type": "code",
   "execution_count": 133,
   "id": "21a5ed49",
   "metadata": {},
   "outputs": [
    {
     "data": {
      "text/plain": [
       "array([[ 0,  1,  2,  3,  4,  5,  6,  7,  8,  9, 10, 11, 12, 13, 14, 15,\n",
       "        16, 17],\n",
       "       [18, 19, 20, 21, 22, 23, 24, 25, 26, 27, 28, 29, 30, 31, 32, 33,\n",
       "        34, 35]])"
      ]
     },
     "execution_count": 133,
     "metadata": {},
     "output_type": "execute_result"
    }
   ],
   "source": [
    "matrix.reshape(2,18)"
   ]
  },
  {
   "cell_type": "code",
   "execution_count": 134,
   "id": "d0f18a71",
   "metadata": {},
   "outputs": [
    {
     "data": {
      "text/plain": [
       "array([[ 0,  1,  2,  3,  4,  5,  6,  7,  8,  9, 10, 11],\n",
       "       [12, 13, 14, 15, 16, 17, 18, 19, 20, 21, 22, 23],\n",
       "       [24, 25, 26, 27, 28, 29, 30, 31, 32, 33, 34, 35]])"
      ]
     },
     "execution_count": 134,
     "metadata": {},
     "output_type": "execute_result"
    }
   ],
   "source": [
    "matrix.reshape(3,12)"
   ]
  },
  {
   "cell_type": "code",
   "execution_count": 135,
   "id": "31c9417b",
   "metadata": {},
   "outputs": [
    {
     "data": {
      "text/plain": [
       "array([[ 0,  1,  2,  3,  4,  5,  6,  7,  8],\n",
       "       [ 9, 10, 11, 12, 13, 14, 15, 16, 17],\n",
       "       [18, 19, 20, 21, 22, 23, 24, 25, 26],\n",
       "       [27, 28, 29, 30, 31, 32, 33, 34, 35]])"
      ]
     },
     "execution_count": 135,
     "metadata": {},
     "output_type": "execute_result"
    }
   ],
   "source": [
    "matrix.reshape(4,9)"
   ]
  },
  {
   "cell_type": "markdown",
   "id": "09fa354e",
   "metadata": {},
   "source": [
    "## Zadanie \n",
    "Stwórz macierz 100x100 o następującej strukturze i wartościach.\n",
    "\n",
    "[[  1.   1.   1. ...   1.   1.   1.]\n",
    "\n",
    " [  2.   2.   2. ...   2.   2.   2.]\n",
    " \n",
    " [  3.   3.   3. ...   3.   3.   3.]\n",
    " ...\n",
    " \n",
    " [ 98.  98.  98. ...  98.  98.  98.]\n",
    " \n",
    " [ 99.  99.  99. ...  99.  99.  99.]\n",
    " \n",
    " [100. 100. 100. ... 100. 100. 100.]]"
   ]
  },
  {
   "cell_type": "code",
   "execution_count": 159,
   "id": "19471995",
   "metadata": {},
   "outputs": [
    {
     "data": {
      "text/plain": [
       "(array([[  1,   1,   1, ...,   1,   1,   1],\n",
       "        [  2,   2,   2, ...,   2,   2,   2],\n",
       "        [  3,   3,   3, ...,   3,   3,   3],\n",
       "        ...,\n",
       "        [ 98,  98,  98, ...,  98,  98,  98],\n",
       "        [ 99,  99,  99, ...,  99,  99,  99],\n",
       "        [100, 100, 100, ..., 100, 100, 100]]),\n",
       " array([[  1,   1,   1, ...,   1,   1,   1],\n",
       "        [  2,   2,   2, ...,   2,   2,   2],\n",
       "        [  3,   3,   3, ...,   3,   3,   3],\n",
       "        ...,\n",
       "        [ 98,  98,  98, ...,  98,  98,  98],\n",
       "        [ 99,  99,  99, ...,  99,  99,  99],\n",
       "        [100, 100, 100, ..., 100, 100, 100]]))"
      ]
     },
     "execution_count": 159,
     "metadata": {},
     "output_type": "execute_result"
    }
   ],
   "source": [
    "x = [[i] * 100 for i in range(1,101)]\n",
    "res = np.array(x).reshape(100,100)\n",
    "\n",
    "res_2 = np.array( [np.arange(1,101)] * 100).T\n",
    "\n",
    "res, res_2"
   ]
  },
  {
   "cell_type": "markdown",
   "id": "e5ef1cb6",
   "metadata": {},
   "source": [
    "## Zadanie \n",
    "Stwórz trzy macierze 2x5 wraz z elementami [0,..9], [10,..19], [20,..29]. Stwórz z nich macierze 3D łącząc je wzdłuż osi 0, 1 i 2\n",
    "\n",
    "* Wyświetl wartości znajdujące się pod indeksami [0,0,0] oraz [0,1,1].\n",
    "* Wyświetl kształt tych macierzy\n",
    "* Oblicz sume tych macierzy"
   ]
  },
  {
   "cell_type": "code",
   "execution_count": 173,
   "id": "b24b00c2",
   "metadata": {},
   "outputs": [],
   "source": [
    "a = np.arange(0,10).reshape(2,5)\n",
    "b = np.arange(10,20).reshape(2,5)\n",
    "c = np.arange(20,30).reshape(2,5)\n",
    "\n",
    "d = np.stack((a, b, c), axis=0)\n",
    "d_1 = np.stack((a, b, c), axis=1)\n",
    "d_2 = np.stack((a, b, c), axis=2)"
   ]
  },
  {
   "cell_type": "code",
   "execution_count": 177,
   "id": "3ca80930",
   "metadata": {},
   "outputs": [
    {
     "name": "stdout",
     "output_type": "stream",
     "text": [
      "0 \n",
      " 0 \n",
      " 0 \n",
      " 6 \n",
      " 11 \n",
      " 11\n"
     ]
    }
   ],
   "source": [
    "# Wyświetl wartości znajdujące się pod indeksami [0,0,0] oraz [0,1,1].\n",
    "print(d[0,0,0],\"\\n\", d_1[0,0,0],\"\\n\", d_2[0,0,0],\"\\n\", d[0,1,1],\"\\n\",\\\n",
    "      d_1[0,1,1],\"\\n\", d_2[0,1,1])"
   ]
  },
  {
   "cell_type": "code",
   "execution_count": 178,
   "id": "596c77a1",
   "metadata": {},
   "outputs": [
    {
     "name": "stdout",
     "output_type": "stream",
     "text": [
      "(3, 2, 5) \n",
      " (2, 3, 5) \n",
      " (2, 5, 3) \n",
      "\n"
     ]
    }
   ],
   "source": [
    "# Wyświetl kształt tych macierzy\n",
    "print(d.shape,\"\\n\",d_1.shape,\"\\n\",d_2.shape,\"\\n\")"
   ]
  },
  {
   "cell_type": "code",
   "execution_count": 179,
   "id": "b29d5c3b",
   "metadata": {},
   "outputs": [
    {
     "data": {
      "text/plain": [
       "(435, 435, 435)"
      ]
     },
     "execution_count": 179,
     "metadata": {},
     "output_type": "execute_result"
    }
   ],
   "source": [
    "# Oblicz sume tych macierzy\n",
    "np.sum(d), np.sum(d), np.sum(d)"
   ]
  },
  {
   "cell_type": "markdown",
   "id": "27c28cde",
   "metadata": {},
   "source": [
    "# Statystyka opisowa"
   ]
  },
  {
   "cell_type": "markdown",
   "id": "14f87894",
   "metadata": {},
   "source": [
    "## Zadanie 1\n",
    "Pobierz MDR_RR_TB_burden_estimates_2022-01-12.csv.\n",
    "\n",
    "Załóż, że iso_numeric jest wartością numeryczną. \n",
    "\n",
    "* Spróbuj załadować ją za pomocą np.loadtxt a następnie przekształcić ją na zmieną typu float. Wyrzuć wartości nieznane.\n",
    "* Stwórz funkcję, która oblicza podstawowe statystyki, takie jak: max, min, średnia, mediana, odchylenie standardowe, wariancja."
   ]
  },
  {
   "cell_type": "code",
   "execution_count": 217,
   "id": "4437f420",
   "metadata": {
    "collapsed": true
   },
   "outputs": [
    {
     "name": "stdout",
     "output_type": "stream",
     "text": [
      "non-numerical input\n",
      "non-numerical input\n",
      "non-numerical input\n"
     ]
    },
    {
     "data": {
      "text/plain": [
       "array([  4.,   8.,  12.,  16.,  20.,  24., 660.,  28.,  32.,  51., 533.,\n",
       "        36.,  40.,  31.,  44.,  48.,  50.,  52., 112.,  56.,  84., 204.,\n",
       "        60.,  64.,  68.,  70.,  72.,  76.,  92.,  96., 100., 854., 108.,\n",
       "       132., 116., 120., 124., 136., 140., 148., 152., 156., 170., 174.,\n",
       "       178., 184., 188., 384., 191., 192., 531., 196., 203., 408., 180.,\n",
       "       208., 262., 212., 214., 218., 818., 222., 226., 232., 233., 748.,\n",
       "       231., 242., 246., 250., 258., 266., 270., 268., 276., 288., 300.,\n",
       "       304., 308., 316., 320., 324., 624., 328., 332., 340., 348., 352.,\n",
       "       356., 360., 364., 368., 372., 376., 380., 388., 392., 400., 398.,\n",
       "       404., 296., 414., 417., 418., 428., 422., 426., 430., 434., 440.,\n",
       "       442., 450., 454., 458., 462., 466., 470., 584., 478., 480., 484.,\n",
       "       583., 492., 496., 499., 500., 504., 508., 104., 516., 520., 524.,\n",
       "       528., 540., 554., 558., 562., 566., 570., 807., 580., 578., 512.,\n",
       "       586., 585., 591., 598., 600., 604., 608., 616., 620., 630., 634.,\n",
       "       410., 498., 642., 643., 646., 659., 662., 670., 882., 674., 678.,\n",
       "       682., 686., 688., 690., 694., 702., 534., 703., 705.,  90., 706.,\n",
       "       710., 728., 724., 144., 729., 740., 752., 756., 760., 762., 764.,\n",
       "       626., 768., 772., 776., 780., 788., 792., 795., 796., 798., 800.,\n",
       "       804., 784., 826., 834., 840., 858., 860., 548., 862., 704., 876.,\n",
       "       887., 894., 716.])"
      ]
     },
     "execution_count": 217,
     "metadata": {},
     "output_type": "execute_result"
    }
   ],
   "source": [
    "def converter(x):\n",
    "    try:\n",
    "        return float(x.decode(\"utf-8\").replace('\"', ''))\n",
    "    except ValueError:\n",
    "        print('non-numerical input')\n",
    "\n",
    "data = np.loadtxt(\n",
    "        r\"C:\\Users\\user\\Desktop\\Data Science\\SDA\\SDA szkolenie\\Statystyka i prawdopodoby\\csv\\MDR_RR_TB_burden_estimates_2022-01-12.csv\",     \n",
    "        delimiter=',', \n",
    "        usecols=(3), \n",
    "        converters = {3: converter},\n",
    "        skiprows=1, \n",
    "        unpack=True\n",
    "    )\n",
    "    \n",
    "data = data[np.logical_not(np.isnan(data))]\n",
    "data"
   ]
  },
  {
   "cell_type": "code",
   "execution_count": null,
   "id": "e87be357",
   "metadata": {},
   "outputs": [],
   "source": [
    "# Stwórz funkcję, która oblicza podstawowe statystyki, takie jak: \n",
    "# max, min, średnia, mediana, odchylenie standardowe, wariancja."
   ]
  },
  {
   "cell_type": "code",
   "execution_count": 225,
   "id": "b1ce1280",
   "metadata": {},
   "outputs": [
    {
     "name": "stdout",
     "output_type": "stream",
     "text": [
      "max:  894.0\n",
      "min:  4.0\n",
      "mean:  434.3066037735849\n",
      "median:  437.0\n",
      "std:  254.1044306077786\n",
      "wariancja:  64569.06165450337\n"
     ]
    }
   ],
   "source": [
    "def statistiks(df):\n",
    "    print(\"max: \",df.max())\n",
    "    print(\"min: \",df.min())\n",
    "    print(\"mean: \",df.mean())\n",
    "    print(\"median: \",np.median(df))\n",
    "    print(\"std: \",df.std())\n",
    "    print(\"wariancja: \",df.var())\n",
    "    \n",
    "statistiks(data)"
   ]
  },
  {
   "cell_type": "markdown",
   "id": "aba243bf",
   "metadata": {},
   "source": [
    "## Zadanie \n",
    "Pobierz Wzrost.csv.\n",
    "\n",
    "Oblicz podstawowe statystki tak jak powyżej. Zastanów się, jaka jest różnica pomiędzy wartością wariancji, a odchylenia standardowego. Dlaczego taka różnica występuje? Postaraj się rozszerzyć zawartość Twojej funkcji, wyświetlającej podstawowe statystyki o nowe metody z biblioteki statistics oraz scipy.stats.modules"
   ]
  },
  {
   "cell_type": "code",
   "execution_count": 234,
   "id": "6e80e585",
   "metadata": {},
   "outputs": [
    {
     "data": {
      "text/plain": [
       "array([156., 158., 167., 188., 197., 167., 197., 178., 186., 157., 198.,\n",
       "       199., 178., 168., 156., 151., 167., 167.])"
      ]
     },
     "execution_count": 234,
     "metadata": {},
     "output_type": "execute_result"
    }
   ],
   "source": [
    "data = np.loadtxt(r\"C:\\Users\\user\\Desktop\\Data Science\\SDA\\SDA szkolenie\\Statystyka i prawdopodoby\\csv\\Wzrost.csv\",  \n",
    "                 delimiter=',', encoding= \"utf-8\" )\n",
    "data"
   ]
  },
  {
   "cell_type": "code",
   "execution_count": 264,
   "id": "c86a3b05",
   "metadata": {},
   "outputs": [
    {
     "name": "stdout",
     "output_type": "stream",
     "text": [
      "median_high:  168.0 \n",
      " median_high:  168.0 \n",
      " median_low:  167.0 \n",
      " mode:  167.0 \n",
      " pvariance:  254.69444444444446 \n",
      " variance:  269.6764705882353 \n",
      " pstdev:  15.95914923936876 \n",
      " stdev:  16.42182908777933\n",
      "\n",
      "kurtosis: -1.3074579340561316\n",
      "skewness: 0.29608077170359876\n"
     ]
    },
    {
     "data": {
      "text/plain": [
       "DescribeResult(nobs=18, minmax=(151.0, 199.0), mean=174.16666666666666, variance=269.67647058823536, skewness=0.29608077170359876, kurtosis=-1.3074579340561316)"
      ]
     },
     "execution_count": 264,
     "metadata": {},
     "output_type": "execute_result"
    }
   ],
   "source": [
    "print( \"median_high: \", s.median_high(data),\"\\n\",  \\\n",
    "       \"median_high: \", s.median_high(data),\"\\n\", \\\n",
    "        \"median_low: \", s.median_low(data),\"\\n\",  \\\n",
    "        \"mode: \",       s.mode(data),\"\\n\",        \\\n",
    "        \"pvariance: \",  s.pvariance(data),\"\\n\",   \\\n",
    "        \"variance: \",   s.variance(data),\"\\n\",    \\\n",
    "        \"pstdev: \",     s.pstdev(data),\"\\n\",      \\\n",
    "        \"stdev: \",      s.stdev(data)        )\n",
    "print()\n",
    "print( \"kurtosis:\", st.kurtosis(data) )\n",
    "print( \"skewness:\", st.skew(data) )\n",
    "st.describe(data)"
   ]
  },
  {
   "cell_type": "markdown",
   "id": "87710e18",
   "metadata": {},
   "source": [
    "## Zadanie 3\n",
    "\n",
    "Znajdź dowolny inny zbiór danych csv w Internecie. Spróbuj przeanalizować wartości numeryczne występujące w pliku z pomocą Twojej funkcji."
   ]
  },
  {
   "cell_type": "markdown",
   "id": "9db77b2f",
   "metadata": {},
   "source": [
    "# Rozkłady prawdopodobieństwa zmiennych losowych"
   ]
  },
  {
   "cell_type": "markdown",
   "id": "4c1e628c",
   "metadata": {},
   "source": [
    "## Zadanie \n",
    "\n",
    "Wygeneruj 1000 liczb z rozkładu Bernoulliego.\n",
    "\n",
    "W tym celu wykorzystaj: scipy. Spróbuj dowiedzieć się, jak hiperparametr - prawdopodobieństwo sukcesu p, wpływa na średnią, wariancję, skośność, kurtozę wygenerowanego zbioru."
   ]
  },
  {
   "cell_type": "code",
   "execution_count": 296,
   "id": "45cfe42a",
   "metadata": {},
   "outputs": [],
   "source": [
    "def prin_stats(data):\n",
    "    print(\"mean:\",np.mean(data))\n",
    "    print(\"var:\",np.var(data))    \n",
    "    print(\"skew:\",st.skew(data))\n",
    "    print(\"kurtosis:\",st.kurtosis(data))    \n",
    "    print()"
   ]
  },
  {
   "cell_type": "code",
   "execution_count": 297,
   "id": "c351c1c0",
   "metadata": {},
   "outputs": [
    {
     "name": "stdout",
     "output_type": "stream",
     "text": [
      "mean: 0.271\n",
      "var: 0.19755899999999996\n",
      "skew: 1.0304266169174092\n",
      "kurtosis: -0.9382209871481422\n",
      "\n",
      "mean: 0.3 \n",
      "var: 0.21 \n",
      "skew: 0.8728715609439694 \n",
      "kurt: -1.2380952380952381\n"
     ]
    }
   ],
   "source": [
    "p = .3  # gdzie p jest prawdopodobieństwem pojedynczego sukcesu, \n",
    "        # a 1 - p jest prawdopodobieństwem pojedynczej porażki.\n",
    "    \n",
    "data = st.bernoulli.rvs(p, size = 1000)\n",
    "mean, var, skew, kurt = st.bernoulli.stats(p, moments ='mvsk')\n",
    "\n",
    "prin_stats(data)\n",
    "print(\"mean:\", mean,\"\\nvar:\", var,\"\\nskew:\", skew,\"\\nkurt:\", kurt )"
   ]
  },
  {
   "cell_type": "markdown",
   "id": "7eed3aa1",
   "metadata": {},
   "source": [
    "## Zadanie \n",
    "\n",
    "Wygeneruj 100 próbek z następujących rozkładów: Bernoulli, Binomial, Poisson.\n",
    "\n",
    "Oblicz ich podstawowe statystyki (średnią, wariancję, kurtozę oraz skośność).\n",
    "\n",
    "Postaraj się pomyśleć o róznicach pomiędzy poszczególnymi rozkładami bazując na obliczonych statystykach."
   ]
  },
  {
   "cell_type": "code",
   "execution_count": 305,
   "id": "72dac54f",
   "metadata": {},
   "outputs": [
    {
     "name": "stdout",
     "output_type": "stream",
     "text": [
      "0.3 0.21 0.8728715609439694 -1.2380952380952381\n",
      "2.0 1.2 0.18257418583505533 -0.3666666666666668\n",
      "0.6 0.6 1.2909944487358056 1.6666666666666667\n"
     ]
    }
   ],
   "source": [
    "#Bernoulli\n",
    "p = 0.3 \n",
    "mean, var, skew, kurt = st.bernoulli.stats(p, moments ='mvsk')\n",
    "print(mean, var, skew, kurt)\n",
    "\n",
    "#Binomial\n",
    "n, p = 5, 0.4\n",
    "mean, var, skew, kurt = st.binom.stats(n, p, moments='mvsk')\n",
    "print(mean, var, skew, kurt)\n",
    "\n",
    "#Poisson\n",
    "mu = 0.6\n",
    "mean, var, skew, kurt = st.poisson.stats(mu, moments='mvsk')\n",
    "print(mean, var, skew, kurt)"
   ]
  },
  {
   "cell_type": "markdown",
   "id": "4bee5f5d",
   "metadata": {},
   "source": [
    "# Testy statystyczne"
   ]
  },
  {
   "cell_type": "markdown",
   "id": "a848cbdb",
   "metadata": {},
   "source": [
    "## Zadanie 1\n",
    "Wygeneruj 200 próbek z rozkładu normalnego o średniej 2 oraz odchyleniu standardowym 30. \n",
    "\n",
    "Przetestuj hipotezę, że średnia tej dystrybucji jest równa 2.5.\n",
    "\n",
    "Info:\n",
    "\n",
    "Przyjmij poziom ufności α = 0.05\n",
    "\n",
    "Extra:\n",
    "\n",
    "Postaraj się powtórzyć ten test kilka razy. Zlicz ile razy hipoteza została zaakceptowana. Następnie zrób to samo z użyciem mniejszej próby."
   ]
  },
  {
   "cell_type": "code",
   "execution_count": 16,
   "id": "47795ca1",
   "metadata": {
    "code_folding": []
   },
   "outputs": [
    {
     "name": "stdout",
     "output_type": "stream",
     "text": [
      "Hipothesis rejected!\n",
      "Hipothesis rejected!\n",
      "Hipothesis rejected!\n",
      "Hipothesis rejected!\n",
      "Hipothesis rejected!\n",
      "Hipothesis rejected!\n",
      "Hipothesis rejected!\n",
      "Hipothesis rejected!\n",
      "Hipothesis rejected!\n",
      "Hipothesis rejected!\n",
      "Hipothesis rejected!\n",
      "Hipothesis rejected!\n",
      "Hipothesis rejected!\n",
      "Hipothesis rejected!\n",
      "Hipothesis rejected!\n",
      "Hipothesis rejected!\n",
      "Hipothesis rejected!\n",
      "Hipothesis rejected!\n",
      "Hipothesis rejected!\n",
      "Hipothesis rejected!\n",
      "{277: 0.05679199538676712, 381: 0.057144090189666194, 863: 0.13320562324576496}\n"
     ]
    }
   ],
   "source": [
    "def test(a = 0.05, n = 200, m = 2, std = .3 ):\n",
    "    era = 1000 \n",
    "    success = {}\n",
    "    \n",
    "    for i in range(era):\n",
    "        data = st.norm.rvs(loc= m, scale= std, size= n)\n",
    "        res = st.ttest_1samp(data, 2.5 )\n",
    "        if res.pvalue > a: success[i] = res.pvalue\n",
    "            \n",
    "    return success if success else \"Hipothesis rejected!\"\n",
    "\n",
    "print(test())\n",
    "\n",
    "for i in range(200,0,-10):\n",
    "    print(test(n = i))"
   ]
  },
  {
   "cell_type": "markdown",
   "id": "211d01a3",
   "metadata": {},
   "source": [
    "## Zadanie 2\n",
    "Pobierz napoje.csv. \n",
    "\n",
    "Sprawdź hipotezę:\n",
    "\n",
    "* średnia konsumpcja piwa lech = 60.500 \n",
    "* średnia konsumpcja coli = 222.000 \n",
    "* średnia konsumpcja regionalnego piwa = 43.500"
   ]
  },
  {
   "cell_type": "code",
   "execution_count": 2,
   "id": "0ea0f601",
   "metadata": {},
   "outputs": [],
   "source": [
    "data = pd.read_csv(r\"C:\\Users\\User\\Desktop\\Szkolenie_SDA\\Statystyka i prawdopodoby\\csv\\napoje.csv\",\n",
    "                  delimiter=\";\")"
   ]
  },
  {
   "cell_type": "code",
   "execution_count": 3,
   "id": "7858ba8e",
   "metadata": {},
   "outputs": [],
   "source": [
    "alpha = 0.05\n",
    "\n",
    "\n",
    "name_columns = [\"lech\",\"cola\",\"regionalne\"]\n",
    "mean = [60500, 222000, 43500]"
   ]
  },
  {
   "cell_type": "code",
   "execution_count": 90,
   "id": "c59ab1a9",
   "metadata": {},
   "outputs": [
    {
     "name": "stdout",
     "output_type": "stream",
     "text": [
      "lech : Hipothesis accepted\n",
      "cola : Hipothesis accepted\n",
      "regionalne : Hipothesis accepted\n"
     ]
    }
   ],
   "source": [
    "for n, m in zip(name_columns, mean):\n",
    "    T, p = st.ttest_1samp(data[n].mean() ,m)\n",
    "\n",
    "    if p < alpha:\n",
    "        print(n, \": Hipothesis rejected!\")\n",
    "    else:\n",
    "        print(n, \": Hipothesis accepted\")"
   ]
  },
  {
   "cell_type": "markdown",
   "id": "489ca894",
   "metadata": {},
   "source": [
    "## Zadanie 3\n",
    "Sprawdź która zmienna odstaje od rozkładu normalnego w napoje.csv"
   ]
  },
  {
   "cell_type": "code",
   "execution_count": 105,
   "id": "3638d8af",
   "metadata": {},
   "outputs": [
    {
     "name": "stdout",
     "output_type": "stream",
     "text": [
      "mies : Hipothesis rejected!\n",
      "rok : Hipothesis rejected!\n",
      "pepsi : Hipothesis accepted\n",
      "fanta : Hipothesis accepted\n",
      "żywiec : Hipothesis accepted\n",
      "okocim : Hipothesis accepted\n",
      "regionalne : Hipothesis rejected!\n",
      "cola : Hipothesis accepted\n",
      "lech : Hipothesis accepted\n"
     ]
    }
   ],
   "source": [
    "rejected_h = []\n",
    "\n",
    "for i in data.columns:\n",
    "    T, p = st.normaltest(data[i])\n",
    "    \n",
    "    if p < alpha:\n",
    "        rejected_h.append(i)\n",
    "        print(i, \": Hipothesis rejected!\")\n",
    "    else:\n",
    "        print(i, \": Hipothesis accepted\")"
   ]
  },
  {
   "cell_type": "code",
   "execution_count": 114,
   "id": "a4f503ea",
   "metadata": {},
   "outputs": [
    {
     "data": {
      "image/png": "[encoded data removed]",
      "text/plain": [
       "<Figure size 640x480 with 4 Axes>"
      ]
     },
     "metadata": {},
     "output_type": "display_data"
    }
   ],
   "source": [
    "data[rejected_h].hist();"
   ]
  },
  {
   "cell_type": "markdown",
   "id": "45466596",
   "metadata": {},
   "source": [
    "## Zadanie 4\n",
    "Sprawdź równość średnich następujących par\n",
    "\n",
    "* okocim - lech\n",
    "* fanta - piwo regionalne\n",
    "* cola - pepsi\n",
    "\n",
    "Info:\n",
    "\n",
    "Załóż równą wariancje poszczególnych zmiennych\n",
    "\n",
    "Z dokumnetacji:\n",
    "\n",
    "\" Three variations of Levene’s test are possible. The possibilities and their recommended usages are:\n",
    "\n",
    "‘median’ : Recommended for skewed (non-normal) distributions.\n",
    "\n",
    "‘mean’ : Recommended for symmetric, moderate-tailed distributions.\n",
    "\n",
    "‘trimmed’ : Recommended for heavy-tailed distributions. \""
   ]
  },
  {
   "cell_type": "code",
   "execution_count": 118,
   "id": "24fadb94",
   "metadata": {},
   "outputs": [
    {
     "name": "stdout",
     "output_type": "stream",
     "text": [
      "okocim = lech : Hipothesis accepted\n",
      "fanta = regionalne : Hipothesis rejected!\n",
      "cola = pepsi : Hipothesis rejected!\n"
     ]
    }
   ],
   "source": [
    "x = ['okocim', 'fanta', 'cola']\n",
    "y = ['lech', 'regionalne', 'pepsi']\n",
    "\n",
    "for s, f in zip(x,y):\n",
    "    T, p = st.ttest_ind(data[s], data[f])\n",
    "    \n",
    "    if p < alpha:\n",
    "        rejected_h.append(i)\n",
    "        print(s, \"=\", f, \": Hipothesis rejected!\")\n",
    "    else:\n",
    "        print(s, \"=\", f, \": Hipothesis accepted\")"
   ]
  },
  {
   "cell_type": "markdown",
   "id": "39d96d2c",
   "metadata": {},
   "source": [
    "## Zadanie 5\n",
    "Sprawdź równość wariancji następujących par\n",
    "\n",
    "* okocim     - lech,\n",
    "* livestock  - fanta\n",
    "* regionalne - cola.\n",
    "\n",
    "Wskazówka:\n",
    "\n",
    "Rozważ użycie różnych wartości parametru center\n",
    "\n",
    "Z dokumnetacji:\n",
    "\n",
    "Three variations of Levene’s test are possible. The possibilities and their recommended usages are:\n",
    "\n",
    "‘median’ : Recommended for skewed (non-normal) distributions.\n",
    "\n",
    "‘mean’ : Recommended for symmetric, moderate-tailed distributions.\n",
    "\n",
    "‘trimmed’ : Recommended for heavy-tailed distributions."
   ]
  },
  {
   "cell_type": "code",
   "execution_count": 8,
   "id": "8f3f4e61",
   "metadata": {},
   "outputs": [
    {
     "name": "stdout",
     "output_type": "stream",
     "text": [
      "Hipothesis accepted\n",
      "Hipothesis accepted\n",
      "Hipothesis rejected!\n"
     ]
    }
   ],
   "source": [
    "a = .05\n",
    "\n",
    "x = ['okocim', 'fanta', 'cola']\n",
    "y = ['lech', 'żywiec', 'regionalne']\n",
    "\n",
    "for f, s in zip(x, y):\n",
    "    stat, p  = st.levene(data[f], data[s])\n",
    "    \n",
    "    if p < a:\n",
    "        print(\"Hipothesis rejected!\")\n",
    "    else:\n",
    "        print(\"Hipothesis accepted\") \n",
    "    "
   ]
  },
  {
   "cell_type": "markdown",
   "id": "78bb6000",
   "metadata": {},
   "source": [
    " # Zadanie 6\n",
    " \n",
    "Sprawdź równość średnich w latach 2001 i 2015 dla piwa regionalnego"
   ]
  },
  {
   "cell_type": "code",
   "execution_count": 11,
   "id": "8443eee6",
   "metadata": {
    "scrolled": true
   },
   "outputs": [
    {
     "data": {
      "text/html": [
       "<div>\n",
       "<style scoped>\n",
       "    .dataframe tbody tr th:only-of-type {\n",
       "        vertical-align: middle;\n",
       "    }\n",
       "\n",
       "    .dataframe tbody tr th {\n",
       "        vertical-align: top;\n",
       "    }\n",
       "\n",
       "    .dataframe thead th {\n",
       "        text-align: right;\n",
       "    }\n",
       "</style>\n",
       "<table border=\"1\" class=\"dataframe\">\n",
       "  <thead>\n",
       "    <tr style=\"text-align: right;\">\n",
       "      <th></th>\n",
       "      <th>mies</th>\n",
       "      <th>rok</th>\n",
       "      <th>pepsi</th>\n",
       "      <th>fanta</th>\n",
       "      <th>żywiec</th>\n",
       "      <th>okocim</th>\n",
       "      <th>regionalne</th>\n",
       "      <th>cola</th>\n",
       "      <th>lech</th>\n",
       "    </tr>\n",
       "  </thead>\n",
       "  <tbody>\n",
       "    <tr>\n",
       "      <th>0</th>\n",
       "      <td>1</td>\n",
       "      <td>2001</td>\n",
       "      <td>108447</td>\n",
       "      <td>43302</td>\n",
       "      <td>186385</td>\n",
       "      <td>54301</td>\n",
       "      <td>45065</td>\n",
       "      <td>227013</td>\n",
       "      <td>56306</td>\n",
       "    </tr>\n",
       "    <tr>\n",
       "      <th>1</th>\n",
       "      <td>2</td>\n",
       "      <td>2001</td>\n",
       "      <td>105439</td>\n",
       "      <td>46711</td>\n",
       "      <td>168782</td>\n",
       "      <td>68131</td>\n",
       "      <td>43933</td>\n",
       "      <td>221115</td>\n",
       "      <td>67212</td>\n",
       "    </tr>\n",
       "    <tr>\n",
       "      <th>2</th>\n",
       "      <td>3</td>\n",
       "      <td>2001</td>\n",
       "      <td>111675</td>\n",
       "      <td>36029</td>\n",
       "      <td>172186</td>\n",
       "      <td>63104</td>\n",
       "      <td>46663</td>\n",
       "      <td>222812</td>\n",
       "      <td>67398</td>\n",
       "    </tr>\n",
       "    <tr>\n",
       "      <th>3</th>\n",
       "      <td>4</td>\n",
       "      <td>2001</td>\n",
       "      <td>113232</td>\n",
       "      <td>33659</td>\n",
       "      <td>172445</td>\n",
       "      <td>50871</td>\n",
       "      <td>45195</td>\n",
       "      <td>238631</td>\n",
       "      <td>57100</td>\n",
       "    </tr>\n",
       "    <tr>\n",
       "      <th>4</th>\n",
       "      <td>5</td>\n",
       "      <td>2001</td>\n",
       "      <td>110274</td>\n",
       "      <td>40853</td>\n",
       "      <td>174526</td>\n",
       "      <td>67924</td>\n",
       "      <td>47926</td>\n",
       "      <td>222963</td>\n",
       "      <td>65001</td>\n",
       "    </tr>\n",
       "  </tbody>\n",
       "</table>\n",
       "</div>"
      ],
      "text/plain": [
       "   mies   rok   pepsi  fanta  żywiec  okocim  regionalne    cola   lech\n",
       "0     1  2001  108447  43302  186385   54301       45065  227013  56306\n",
       "1     2  2001  105439  46711  168782   68131       43933  221115  67212\n",
       "2     3  2001  111675  36029  172186   63104       46663  222812  67398\n",
       "3     4  2001  113232  33659  172445   50871       45195  238631  57100\n",
       "4     5  2001  110274  40853  174526   67924       47926  222963  65001"
      ]
     },
     "execution_count": 11,
     "metadata": {},
     "output_type": "execute_result"
    }
   ],
   "source": [
    "data.head()\n",
    "# data.info()"
   ]
  },
  {
   "cell_type": "code",
   "execution_count": 25,
   "id": "e40cf867",
   "metadata": {},
   "outputs": [
    {
     "name": "stdout",
     "output_type": "stream",
     "text": [
      "-3.5977780582718273 0.0016000242362201897\n",
      "Hipothesis rejected!\n"
     ]
    }
   ],
   "source": [
    "a = .05\n",
    "\n",
    "\n",
    "x = data.loc[data[\"rok\"] == 2001, 'regionalne']\n",
    "y = data.loc[data[\"rok\"] == 2015, 'regionalne']\n",
    "\n",
    "T, p = st.ttest_ind(x,y)\n",
    "\n",
    "print(T, p)\n",
    "\n",
    "if p < a:\n",
    "    print(\"Hipothesis rejected!\")\n",
    "else:\n",
    "    print(\"Hipothesis accepted\")"
   ]
  },
  {
   "cell_type": "markdown",
   "id": "ff05fef1",
   "metadata": {},
   "source": [
    "## Zadanie 7\n",
    "\n",
    "Sprawdź równość średnich dla wartości z roku 2016 przed i po reklamie napoje_po_reklamie.csv osobno dla coli, fanty oraz pepsi. \n",
    "\n",
    "Załóż, że zmienne są od siebie zależne."
   ]
  },
  {
   "cell_type": "code",
   "execution_count": 71,
   "id": "680326bc",
   "metadata": {},
   "outputs": [
    {
     "name": "stdout",
     "output_type": "stream",
     "text": [
      "Hipothesis accepted\n",
      "Hipothesis accepted\n",
      "Hipothesis accepted\n"
     ]
    }
   ],
   "source": [
    "data = pd.read_csv(r\"C:\\Users\\User\\Desktop\\Szkolenie_SDA\\Statystyka i prawdopodoby\\csv\\napoje.csv\",\n",
    "                  delimiter=\";\")\n",
    "data_2016 = data.loc[data[\"rok\"] == 2016, :]\n",
    "\n",
    "\n",
    "data_after_ad = pd.read_csv(r\"C:\\Users\\User\\Desktop\\Szkolenie_SDA\\Statystyka i prawdopodoby\\csv\\napoje_po_reklamie.csv\",\n",
    "                       sep=';', encoding=\"utf-8\")    \n",
    "\n",
    "\n",
    "\n",
    "name_x = ['cola','fanta', 'pepsi']\n",
    "name_y = [6, 2, 1]\n",
    "\n",
    "for x, y in zip(name_x, name_y):\n",
    "    T, p = st.ttest_rel(data_2016[x], data_after_ad.iloc[:, y])\n",
    "    \n",
    "    if p < a:\n",
    "        print(\"Hipothesis rejected!\")\n",
    "    else:\n",
    "        print(\"Hipothesis accepted\")"
   ]
  },
  {
   "cell_type": "markdown",
   "id": "72150040",
   "metadata": {},
   "source": [
    "# Testy nieparametryczne\n",
    "Info:\n",
    "\n",
    "Przyjmij poziom ufności α = 0.05"
   ]
  },
  {
   "cell_type": "code",
   "execution_count": 3,
   "id": "3fcb73e6",
   "metadata": {},
   "outputs": [],
   "source": [
    "a = .05"
   ]
  },
  {
   "cell_type": "markdown",
   "id": "bec4adfc",
   "metadata": {},
   "source": [
    "## Zadanie 1\n",
    "\n",
    "Dla zbioru napoje.csv sprawdź równość średnich z okresu 2001-2006 pomiędzy piwem regionalnym a lechem.\n",
    "\n",
    "\n",
    "Załóż, ze rozkłady nie są rozkładami normalnymi."
   ]
  },
  {
   "cell_type": "code",
   "execution_count": 19,
   "id": "a2c4702f",
   "metadata": {},
   "outputs": [],
   "source": [
    "data_drink = pd.read_csv(r\"C:\\Users\\User\\Desktop\\Szkolenie_SDA\\Statystyka i prawdopodoby\\csv\\napoje.csv\",\n",
    "                         sep= \";\")\n",
    "\n",
    "\n",
    "region = data_drink.loc[(data_drink.rok >= 2001)&(data_drink.rok <= 2006), \"regionalne\"]\n",
    "lech = data_drink.loc[(data_drink.rok >= 2001)&(data_drink.rok <= 2006), \"lech\"]"
   ]
  },
  {
   "cell_type": "code",
   "execution_count": 21,
   "id": "2f233935",
   "metadata": {},
   "outputs": [
    {
     "name": "stdout",
     "output_type": "stream",
     "text": [
      "Hipothesis rejected!\n"
     ]
    }
   ],
   "source": [
    "U1, p = st.mannwhitneyu(region, lech, method=\"exact\")\n",
    "\n",
    "if p < a:\n",
    "    print(\"Hipothesis rejected!\")\n",
    "else:\n",
    "    print(\"Hipothesis accepted\")"
   ]
  },
  {
   "cell_type": "markdown",
   "id": "9a57160a",
   "metadata": {},
   "source": [
    "## Zadanie 2\n",
    "\n",
    "Dla zbioru Aggressn.csv, sprawdź czy dane pochodzą z rozkładu normalnego oraz czy mają równą wariancję.\n",
    "\n",
    "Dobierz odpowiedni test statystyczny i finalnie sprawdź również czy średnie są takie same."
   ]
  },
  {
   "cell_type": "code",
   "execution_count": 52,
   "id": "e2716541",
   "metadata": {},
   "outputs": [],
   "source": [
    "data_aggressn = pd.read_csv(r\"C:\\Users\\User\\Desktop\\Szkolenie_SDA\\Statystyka i prawdopodoby\\csv\\Aggressn.csv\",\n",
    "                         sep= \";\", skiprows=1)\n",
    "data_b = data_aggressn.loc[data_aggressn[\"PŁEĆ\"] == \"CHŁOPIEC\", \"AGRESJA\"]\n",
    "data_g = data_aggressn.loc[data_aggressn[\"PŁEĆ\"] == \"DZIEWCZYNKA\", \"AGRESJA\"]"
   ]
  },
  {
   "cell_type": "code",
   "execution_count": 56,
   "id": "c157c137",
   "metadata": {},
   "outputs": [
    {
     "name": "stdout",
     "output_type": "stream",
     "text": [
      "Normal distribution boy. Hypothesis accepted\n",
      "Normal distribution girls. Hypothesis accepted\n",
      "Equal variances. Hypothesis accepted\n",
      "Test for the mean. Hypothesis rejected!\n"
     ]
    }
   ],
   "source": [
    "# normal distribution \n",
    "b_t_norm, b_p_norm =  st.shapiro(data_b)\n",
    "g_t_norm, g_p_norm =  st.shapiro(data_g)\n",
    "\n",
    "# equal variances\n",
    "var_stat, var_p = st.levene(data_b, data_g)\n",
    "\n",
    "# test for the means\n",
    "mean_stat, mean_p = st.ttest_ind(data_b, data_g)\n",
    " \n",
    "if b_p_norm < a:\n",
    "    print(\"Normal distribution boy. Hypothesis rejected!\")\n",
    "else:\n",
    "    print(\"Normal distribution boy. Hypothesis accepted\")\n",
    "    \n",
    "if g_p_norm < a:\n",
    "    print(\"Normal distribution girls. Hypothesis rejected!\")\n",
    "else:\n",
    "    print(\"Normal distribution girls. Hypothesis accepted\")\n",
    "    \n",
    "\n",
    "if var_p < a:\n",
    "    print(\"Equal variances. Hypothesis rejected!\")\n",
    "else:\n",
    "    print(\"Equal variances. Hypothesis accepted\")\n",
    "    \n",
    "if mean_p < a:\n",
    "    print(\"Test for the mean. Hypothesis rejected!\")\n",
    "else:\n",
    "    print(\"Test for the mean. Hypothesis accepted\")"
   ]
  },
  {
   "cell_type": "markdown",
   "id": "4adc40f8",
   "metadata": {},
   "source": [
    "## Zadanie 3\n",
    "\n",
    "Dla zbioru Synchron.csv, sprawdź równość średnich przed i po synchronizacji.\n",
    "\n",
    "Wybierz odpowiedni test."
   ]
  },
  {
   "cell_type": "code",
   "execution_count": 63,
   "id": "bfa61012",
   "metadata": {
    "collapsed": true
   },
   "outputs": [
    {
     "data": {
      "text/html": [
       "<div>\n",
       "<style scoped>\n",
       "    .dataframe tbody tr th:only-of-type {\n",
       "        vertical-align: middle;\n",
       "    }\n",
       "\n",
       "    .dataframe tbody tr th {\n",
       "        vertical-align: top;\n",
       "    }\n",
       "\n",
       "    .dataframe thead th {\n",
       "        text-align: right;\n",
       "    }\n",
       "</style>\n",
       "<table border=\"1\" class=\"dataframe\">\n",
       "  <thead>\n",
       "    <tr style=\"text-align: right;\">\n",
       "      <th></th>\n",
       "      <th>Z_SYNCH</th>\n",
       "      <th>BEZ_SYNC</th>\n",
       "    </tr>\n",
       "  </thead>\n",
       "  <tbody>\n",
       "    <tr>\n",
       "      <th>0</th>\n",
       "      <td>20.3</td>\n",
       "      <td>50.4</td>\n",
       "    </tr>\n",
       "    <tr>\n",
       "      <th>1</th>\n",
       "      <td>17.0</td>\n",
       "      <td>87.0</td>\n",
       "    </tr>\n",
       "    <tr>\n",
       "      <th>2</th>\n",
       "      <td>6.5</td>\n",
       "      <td>25.1</td>\n",
       "    </tr>\n",
       "    <tr>\n",
       "      <th>3</th>\n",
       "      <td>25.0</td>\n",
       "      <td>28.5</td>\n",
       "    </tr>\n",
       "    <tr>\n",
       "      <th>4</th>\n",
       "      <td>5.4</td>\n",
       "      <td>26.9</td>\n",
       "    </tr>\n",
       "    <tr>\n",
       "      <th>5</th>\n",
       "      <td>29.2</td>\n",
       "      <td>36.6</td>\n",
       "    </tr>\n",
       "    <tr>\n",
       "      <th>6</th>\n",
       "      <td>2.9</td>\n",
       "      <td>1.0</td>\n",
       "    </tr>\n",
       "    <tr>\n",
       "      <th>7</th>\n",
       "      <td>6.6</td>\n",
       "      <td>43.8</td>\n",
       "    </tr>\n",
       "    <tr>\n",
       "      <th>8</th>\n",
       "      <td>15.8</td>\n",
       "      <td>44.2</td>\n",
       "    </tr>\n",
       "    <tr>\n",
       "      <th>9</th>\n",
       "      <td>8.3</td>\n",
       "      <td>10.4</td>\n",
       "    </tr>\n",
       "    <tr>\n",
       "      <th>10</th>\n",
       "      <td>34.0</td>\n",
       "      <td>29.9</td>\n",
       "    </tr>\n",
       "    <tr>\n",
       "      <th>11</th>\n",
       "      <td>8.0</td>\n",
       "      <td>27.7</td>\n",
       "    </tr>\n",
       "  </tbody>\n",
       "</table>\n",
       "</div>"
      ],
      "text/plain": [
       "    Z_SYNCH  BEZ_SYNC\n",
       "0      20.3      50.4\n",
       "1      17.0      87.0\n",
       "2       6.5      25.1\n",
       "3      25.0      28.5\n",
       "4       5.4      26.9\n",
       "5      29.2      36.6\n",
       "6       2.9       1.0\n",
       "7       6.6      43.8\n",
       "8      15.8      44.2\n",
       "9       8.3      10.4\n",
       "10     34.0      29.9\n",
       "11      8.0      27.7"
      ]
     },
     "execution_count": 63,
     "metadata": {},
     "output_type": "execute_result"
    }
   ],
   "source": [
    "data_synchron = pd.read_csv(r\"C:\\Users\\User\\Desktop\\Szkolenie_SDA\\Statystyka i prawdopodoby\\csv\\Synchron.csv\",\n",
    "                         encoding= 'unicode_escape' ,sep=':', skiprows=1, decimal=\",\")"
   ]
  },
  {
   "cell_type": "code",
   "execution_count": 66,
   "id": "bddcf52a",
   "metadata": {},
   "outputs": [
    {
     "name": "stdout",
     "output_type": "stream",
     "text": [
      "Hypothesis rejected!\n"
     ]
    }
   ],
   "source": [
    "stat, p = st.ttest_rel(data_synchron[\"Z_SYNCH\"], data_synchron[\"BEZ_SYNC\"] )\n",
    "\n",
    "if mean_p < a:\n",
    "    print(\"Hypothesis rejected!\")\n",
    "else:\n",
    "    print(\"Hypothesis accepted\")"
   ]
  },
  {
   "cell_type": "markdown",
   "id": "3a62c50c",
   "metadata": {},
   "source": [
    "# Korelacja i kowariancja"
   ]
  },
  {
   "cell_type": "markdown",
   "id": "2df2f0ef",
   "metadata": {},
   "source": [
    "## Zadanie 1\n",
    "\n",
    "W pliku pracownicy.csv oblicz liniową korelację pomiędzy zarobkami w poszczególnych miesiącach."
   ]
  },
  {
   "cell_type": "code",
   "execution_count": 5,
   "id": "0a6f8db0",
   "metadata": {
    "collapsed": true
   },
   "outputs": [
    {
     "data": {
      "text/html": [
       "<div>\n",
       "<style scoped>\n",
       "    .dataframe tbody tr th:only-of-type {\n",
       "        vertical-align: middle;\n",
       "    }\n",
       "\n",
       "    .dataframe tbody tr th {\n",
       "        vertical-align: top;\n",
       "    }\n",
       "\n",
       "    .dataframe thead th {\n",
       "        text-align: right;\n",
       "    }\n",
       "</style>\n",
       "<table border=\"1\" class=\"dataframe\">\n",
       "  <thead>\n",
       "    <tr style=\"text-align: right;\">\n",
       "      <th></th>\n",
       "      <th>NIP</th>\n",
       "      <th>nazwisko</th>\n",
       "      <th>imie</th>\n",
       "      <th>dataur</th>\n",
       "      <th>datazatr</th>\n",
       "      <th>wyksztalcenie</th>\n",
       "      <th>styczen</th>\n",
       "      <th>luty</th>\n",
       "      <th>marzec</th>\n",
       "      <th>kwiecien</th>\n",
       "      <th>...</th>\n",
       "      <th>lipiec</th>\n",
       "      <th>sierpien</th>\n",
       "      <th>wrzesien</th>\n",
       "      <th>pazdziernik</th>\n",
       "      <th>listopad</th>\n",
       "      <th>grudzien</th>\n",
       "      <th>plec</th>\n",
       "      <th>stazpracy</th>\n",
       "      <th>wiekwdniach</th>\n",
       "      <th>roczne</th>\n",
       "    </tr>\n",
       "  </thead>\n",
       "  <tbody>\n",
       "    <tr>\n",
       "      <th>0</th>\n",
       "      <td>100-21-42-503</td>\n",
       "      <td>Rusek</td>\n",
       "      <td>Pawe³</td>\n",
       "      <td>1976-11-12</td>\n",
       "      <td>2004-01-09</td>\n",
       "      <td>3-licencjat</td>\n",
       "      <td>3850</td>\n",
       "      <td>3860</td>\n",
       "      <td>3820</td>\n",
       "      <td>3790</td>\n",
       "      <td>...</td>\n",
       "      <td>4040</td>\n",
       "      <td>4010</td>\n",
       "      <td>4080</td>\n",
       "      <td>3670</td>\n",
       "      <td>3570</td>\n",
       "      <td>3720</td>\n",
       "      <td>mê¿czyzna</td>\n",
       "      <td>5031</td>\n",
       "      <td>14950</td>\n",
       "      <td>46110</td>\n",
       "    </tr>\n",
       "    <tr>\n",
       "      <th>1</th>\n",
       "      <td>100-623-59-22</td>\n",
       "      <td>Goro</td>\n",
       "      <td>Piotr</td>\n",
       "      <td>1969-06-17</td>\n",
       "      <td>1994-12-14</td>\n",
       "      <td>4-wy¿sze</td>\n",
       "      <td>4770</td>\n",
       "      <td>4740</td>\n",
       "      <td>4300</td>\n",
       "      <td>4610</td>\n",
       "      <td>...</td>\n",
       "      <td>4630</td>\n",
       "      <td>4460</td>\n",
       "      <td>4430</td>\n",
       "      <td>4900</td>\n",
       "      <td>4980</td>\n",
       "      <td>4510</td>\n",
       "      <td>mê¿czyzna</td>\n",
       "      <td>8344</td>\n",
       "      <td>17655</td>\n",
       "      <td>55380</td>\n",
       "    </tr>\n",
       "    <tr>\n",
       "      <th>2</th>\n",
       "      <td>101-294-43-23</td>\n",
       "      <td>Paszek</td>\n",
       "      <td>Dariusz</td>\n",
       "      <td>1975-02-06</td>\n",
       "      <td>2000-09-15</td>\n",
       "      <td>4-wy¿sze</td>\n",
       "      <td>4570</td>\n",
       "      <td>4370</td>\n",
       "      <td>4500</td>\n",
       "      <td>4300</td>\n",
       "      <td>...</td>\n",
       "      <td>5240</td>\n",
       "      <td>4370</td>\n",
       "      <td>4640</td>\n",
       "      <td>4590</td>\n",
       "      <td>4610</td>\n",
       "      <td>4800</td>\n",
       "      <td>mê¿czyzna</td>\n",
       "      <td>6242</td>\n",
       "      <td>15595</td>\n",
       "      <td>55360</td>\n",
       "    </tr>\n",
       "  </tbody>\n",
       "</table>\n",
       "<p>3 rows × 22 columns</p>\n",
       "</div>"
      ],
      "text/plain": [
       "             NIP nazwisko     imie      dataur    datazatr wyksztalcenie  \\\n",
       "0  100-21-42-503    Rusek    Pawe³  1976-11-12  2004-01-09   3-licencjat   \n",
       "1  100-623-59-22    Goro    Piotr  1969-06-17  1994-12-14      4-wy¿sze   \n",
       "2  101-294-43-23   Paszek  Dariusz  1975-02-06  2000-09-15      4-wy¿sze   \n",
       "\n",
       "   styczen  luty  marzec  kwiecien  ...  lipiec  sierpien  wrzesien  \\\n",
       "0     3850  3860    3820      3790  ...    4040      4010      4080   \n",
       "1     4770  4740    4300      4610  ...    4630      4460      4430   \n",
       "2     4570  4370    4500      4300  ...    5240      4370      4640   \n",
       "\n",
       "   pazdziernik  listopad  grudzien       plec  stazpracy wiekwdniach  roczne  \n",
       "0         3670      3570      3720  mê¿czyzna       5031       14950   46110  \n",
       "1         4900      4980      4510  mê¿czyzna       8344       17655   55380  \n",
       "2         4590      4610      4800  mê¿czyzna       6242       15595   55360  \n",
       "\n",
       "[3 rows x 22 columns]"
      ]
     },
     "execution_count": 5,
     "metadata": {},
     "output_type": "execute_result"
    }
   ],
   "source": [
    "data_workers = pd.read_csv(r\"C:\\Users\\User\\Desktop\\Szkolenie_SDA\\Statystyka i prawdopodoby\\csv\\pracownicy.csv\",  \n",
    "                          sep= \";\", encoding= 'unicode_escape')\n",
    "data_workers.head(3)"
   ]
  },
  {
   "cell_type": "code",
   "execution_count": 29,
   "id": "d004d1d2",
   "metadata": {},
   "outputs": [
    {
     "data": {
      "text/html": [
       "<style type=\"text/css\">\n",
       "#T_3ea3e_row0_col0, #T_3ea3e_row1_col1, #T_3ea3e_row2_col2, #T_3ea3e_row3_col3, #T_3ea3e_row4_col4, #T_3ea3e_row5_col5, #T_3ea3e_row6_col6, #T_3ea3e_row7_col7, #T_3ea3e_row8_col8, #T_3ea3e_row9_col9, #T_3ea3e_row10_col10, #T_3ea3e_row11_col11 {\n",
       "  background-color: #023858;\n",
       "  color: #f1f1f1;\n",
       "}\n",
       "#T_3ea3e_row0_col1, #T_3ea3e_row3_col1, #T_3ea3e_row9_col2, #T_3ea3e_row10_col5, #T_3ea3e_row10_col6 {\n",
       "  background-color: #f0eaf4;\n",
       "  color: #000000;\n",
       "}\n",
       "#T_3ea3e_row0_col2, #T_3ea3e_row4_col2, #T_3ea3e_row5_col3, #T_3ea3e_row5_col11, #T_3ea3e_row6_col9, #T_3ea3e_row10_col2, #T_3ea3e_row10_col11 {\n",
       "  background-color: #e7e3f0;\n",
       "  color: #000000;\n",
       "}\n",
       "#T_3ea3e_row0_col3, #T_3ea3e_row6_col10, #T_3ea3e_row7_col10, #T_3ea3e_row11_col1 {\n",
       "  background-color: #f2ecf5;\n",
       "  color: #000000;\n",
       "}\n",
       "#T_3ea3e_row0_col4, #T_3ea3e_row1_col8, #T_3ea3e_row3_col5, #T_3ea3e_row5_col4, #T_3ea3e_row7_col3 {\n",
       "  background-color: #ece7f2;\n",
       "  color: #000000;\n",
       "}\n",
       "#T_3ea3e_row0_col5 {\n",
       "  background-color: #abbfdc;\n",
       "  color: #000000;\n",
       "}\n",
       "#T_3ea3e_row0_col6, #T_3ea3e_row6_col5 {\n",
       "  background-color: #eae6f1;\n",
       "  color: #000000;\n",
       "}\n",
       "#T_3ea3e_row0_col7 {\n",
       "  background-color: #d3d4e7;\n",
       "  color: #000000;\n",
       "}\n",
       "#T_3ea3e_row0_col8 {\n",
       "  background-color: #c2cbe2;\n",
       "  color: #000000;\n",
       "}\n",
       "#T_3ea3e_row0_col9, #T_3ea3e_row7_col11 {\n",
       "  background-color: #e6e2ef;\n",
       "  color: #000000;\n",
       "}\n",
       "#T_3ea3e_row0_col10, #T_3ea3e_row2_col1, #T_3ea3e_row2_col7 {\n",
       "  background-color: #e0dded;\n",
       "  color: #000000;\n",
       "}\n",
       "#T_3ea3e_row0_col11 {\n",
       "  background-color: #bbc7e0;\n",
       "  color: #000000;\n",
       "}\n",
       "#T_3ea3e_row1_col0, #T_3ea3e_row1_col9 {\n",
       "  background-color: #faf3f9;\n",
       "  color: #000000;\n",
       "}\n",
       "#T_3ea3e_row1_col2, #T_3ea3e_row4_col1 {\n",
       "  background-color: #e1dfed;\n",
       "  color: #000000;\n",
       "}\n",
       "#T_3ea3e_row1_col3, #T_3ea3e_row9_col0, #T_3ea3e_row11_col4 {\n",
       "  background-color: #eee9f3;\n",
       "  color: #000000;\n",
       "}\n",
       "#T_3ea3e_row1_col4 {\n",
       "  background-color: #e2dfee;\n",
       "  color: #000000;\n",
       "}\n",
       "#T_3ea3e_row1_col5, #T_3ea3e_row3_col4, #T_3ea3e_row10_col7 {\n",
       "  background-color: #efe9f3;\n",
       "  color: #000000;\n",
       "}\n",
       "#T_3ea3e_row1_col6, #T_3ea3e_row1_col10, #T_3ea3e_row6_col2, #T_3ea3e_row9_col10, #T_3ea3e_row10_col1 {\n",
       "  background-color: #fcf4fa;\n",
       "  color: #000000;\n",
       "}\n",
       "#T_3ea3e_row1_col7, #T_3ea3e_row2_col3, #T_3ea3e_row2_col11 {\n",
       "  background-color: #f4eef6;\n",
       "  color: #000000;\n",
       "}\n",
       "#T_3ea3e_row1_col11, #T_3ea3e_row2_col0, #T_3ea3e_row2_col9, #T_3ea3e_row8_col2 {\n",
       "  background-color: #f1ebf5;\n",
       "  color: #000000;\n",
       "}\n",
       "#T_3ea3e_row2_col4, #T_3ea3e_row2_col10, #T_3ea3e_row7_col0, #T_3ea3e_row7_col2 {\n",
       "  background-color: #e5e1ef;\n",
       "  color: #000000;\n",
       "}\n",
       "#T_3ea3e_row2_col5, #T_3ea3e_row3_col0, #T_3ea3e_row3_col8, #T_3ea3e_row3_col11, #T_3ea3e_row4_col10, #T_3ea3e_row5_col2, #T_3ea3e_row6_col1, #T_3ea3e_row6_col7, #T_3ea3e_row7_col6, #T_3ea3e_row8_col3, #T_3ea3e_row10_col4, #T_3ea3e_row10_col9 {\n",
       "  background-color: #fff7fb;\n",
       "  color: #000000;\n",
       "}\n",
       "#T_3ea3e_row2_col6, #T_3ea3e_row3_col10, #T_3ea3e_row4_col7, #T_3ea3e_row6_col11, #T_3ea3e_row7_col1, #T_3ea3e_row9_col1, #T_3ea3e_row11_col2 {\n",
       "  background-color: #f7f0f7;\n",
       "  color: #000000;\n",
       "}\n",
       "#T_3ea3e_row2_col8, #T_3ea3e_row5_col10, #T_3ea3e_row8_col1 {\n",
       "  background-color: #eee8f3;\n",
       "  color: #000000;\n",
       "}\n",
       "#T_3ea3e_row3_col2, #T_3ea3e_row6_col0, #T_3ea3e_row6_col8, #T_3ea3e_row8_col4, #T_3ea3e_row8_col6 {\n",
       "  background-color: #f8f1f8;\n",
       "  color: #000000;\n",
       "}\n",
       "#T_3ea3e_row3_col6, #T_3ea3e_row5_col7, #T_3ea3e_row9_col5 {\n",
       "  background-color: #d8d7e9;\n",
       "  color: #000000;\n",
       "}\n",
       "#T_3ea3e_row3_col7, #T_3ea3e_row11_col5 {\n",
       "  background-color: #ebe6f2;\n",
       "  color: #000000;\n",
       "}\n",
       "#T_3ea3e_row3_col9 {\n",
       "  background-color: #fbf3f9;\n",
       "  color: #000000;\n",
       "}\n",
       "#T_3ea3e_row4_col0, #T_3ea3e_row4_col8, #T_3ea3e_row9_col4 {\n",
       "  background-color: #f6eff7;\n",
       "  color: #000000;\n",
       "}\n",
       "#T_3ea3e_row4_col3 {\n",
       "  background-color: #ede7f2;\n",
       "  color: #000000;\n",
       "}\n",
       "#T_3ea3e_row4_col5, #T_3ea3e_row4_col11, #T_3ea3e_row5_col1, #T_3ea3e_row10_col0 {\n",
       "  background-color: #ede8f3;\n",
       "  color: #000000;\n",
       "}\n",
       "#T_3ea3e_row4_col6, #T_3ea3e_row7_col5 {\n",
       "  background-color: #dddbec;\n",
       "  color: #000000;\n",
       "}\n",
       "#T_3ea3e_row4_col9 {\n",
       "  background-color: #f9f2f8;\n",
       "  color: #000000;\n",
       "}\n",
       "#T_3ea3e_row5_col0 {\n",
       "  background-color: #b8c6e0;\n",
       "  color: #000000;\n",
       "}\n",
       "#T_3ea3e_row5_col6, #T_3ea3e_row11_col7 {\n",
       "  background-color: #e4e1ef;\n",
       "  color: #000000;\n",
       "}\n",
       "#T_3ea3e_row5_col8, #T_3ea3e_row6_col3, #T_3ea3e_row8_col11 {\n",
       "  background-color: #d9d8ea;\n",
       "  color: #000000;\n",
       "}\n",
       "#T_3ea3e_row5_col9 {\n",
       "  background-color: #dad9ea;\n",
       "  color: #000000;\n",
       "}\n",
       "#T_3ea3e_row6_col4 {\n",
       "  background-color: #e0deed;\n",
       "  color: #000000;\n",
       "}\n",
       "#T_3ea3e_row7_col4 {\n",
       "  background-color: #faf2f8;\n",
       "  color: #000000;\n",
       "}\n",
       "#T_3ea3e_row7_col8, #T_3ea3e_row7_col9 {\n",
       "  background-color: #c0c9e2;\n",
       "  color: #000000;\n",
       "}\n",
       "#T_3ea3e_row8_col0 {\n",
       "  background-color: #d6d6e9;\n",
       "  color: #000000;\n",
       "}\n",
       "#T_3ea3e_row8_col5, #T_3ea3e_row8_col9 {\n",
       "  background-color: #dedcec;\n",
       "  color: #000000;\n",
       "}\n",
       "#T_3ea3e_row8_col7 {\n",
       "  background-color: #bfc9e1;\n",
       "  color: #000000;\n",
       "}\n",
       "#T_3ea3e_row8_col10 {\n",
       "  background-color: #f3edf5;\n",
       "  color: #000000;\n",
       "}\n",
       "#T_3ea3e_row9_col3, #T_3ea3e_row11_col6 {\n",
       "  background-color: #f5eff6;\n",
       "  color: #000000;\n",
       "}\n",
       "#T_3ea3e_row9_col6 {\n",
       "  background-color: #dfddec;\n",
       "  color: #000000;\n",
       "}\n",
       "#T_3ea3e_row9_col7 {\n",
       "  background-color: #b5c4df;\n",
       "  color: #000000;\n",
       "}\n",
       "#T_3ea3e_row9_col8, #T_3ea3e_row11_col8 {\n",
       "  background-color: #d7d6e9;\n",
       "  color: #000000;\n",
       "}\n",
       "#T_3ea3e_row9_col11 {\n",
       "  background-color: #e3e0ee;\n",
       "  color: #000000;\n",
       "}\n",
       "#T_3ea3e_row10_col3 {\n",
       "  background-color: #f5eef6;\n",
       "  color: #000000;\n",
       "}\n",
       "#T_3ea3e_row10_col8 {\n",
       "  background-color: #f1ebf4;\n",
       "  color: #000000;\n",
       "}\n",
       "#T_3ea3e_row11_col0 {\n",
       "  background-color: #ced0e6;\n",
       "  color: #000000;\n",
       "}\n",
       "#T_3ea3e_row11_col3 {\n",
       "  background-color: #fef6fb;\n",
       "  color: #000000;\n",
       "}\n",
       "#T_3ea3e_row11_col9 {\n",
       "  background-color: #e9e5f1;\n",
       "  color: #000000;\n",
       "}\n",
       "#T_3ea3e_row11_col10 {\n",
       "  background-color: #e8e4f0;\n",
       "  color: #000000;\n",
       "}\n",
       "</style>\n",
       "<table id=\"T_3ea3e\">\n",
       "  <thead>\n",
       "    <tr>\n",
       "      <th class=\"blank level0\" >&nbsp;</th>\n",
       "      <th id=\"T_3ea3e_level0_col0\" class=\"col_heading level0 col0\" >styczen</th>\n",
       "      <th id=\"T_3ea3e_level0_col1\" class=\"col_heading level0 col1\" >luty</th>\n",
       "      <th id=\"T_3ea3e_level0_col2\" class=\"col_heading level0 col2\" >marzec</th>\n",
       "      <th id=\"T_3ea3e_level0_col3\" class=\"col_heading level0 col3\" >kwiecien</th>\n",
       "      <th id=\"T_3ea3e_level0_col4\" class=\"col_heading level0 col4\" >maj</th>\n",
       "      <th id=\"T_3ea3e_level0_col5\" class=\"col_heading level0 col5\" >czerwiec</th>\n",
       "      <th id=\"T_3ea3e_level0_col6\" class=\"col_heading level0 col6\" >lipiec</th>\n",
       "      <th id=\"T_3ea3e_level0_col7\" class=\"col_heading level0 col7\" >sierpien</th>\n",
       "      <th id=\"T_3ea3e_level0_col8\" class=\"col_heading level0 col8\" >wrzesien</th>\n",
       "      <th id=\"T_3ea3e_level0_col9\" class=\"col_heading level0 col9\" >pazdziernik</th>\n",
       "      <th id=\"T_3ea3e_level0_col10\" class=\"col_heading level0 col10\" >listopad</th>\n",
       "      <th id=\"T_3ea3e_level0_col11\" class=\"col_heading level0 col11\" >grudzien</th>\n",
       "    </tr>\n",
       "  </thead>\n",
       "  <tbody>\n",
       "    <tr>\n",
       "      <th id=\"T_3ea3e_level0_row0\" class=\"row_heading level0 row0\" >styczen</th>\n",
       "      <td id=\"T_3ea3e_row0_col0\" class=\"data row0 col0\" >1.000000</td>\n",
       "      <td id=\"T_3ea3e_row0_col1\" class=\"data row0 col1\" >0.813795</td>\n",
       "      <td id=\"T_3ea3e_row0_col2\" class=\"data row0 col2\" >0.825087</td>\n",
       "      <td id=\"T_3ea3e_row0_col3\" class=\"data row0 col3\" >0.807034</td>\n",
       "      <td id=\"T_3ea3e_row0_col4\" class=\"data row0 col4\" >0.818721</td>\n",
       "      <td id=\"T_3ea3e_row0_col5\" class=\"data row0 col5\" >0.868955</td>\n",
       "      <td id=\"T_3ea3e_row0_col6\" class=\"data row0 col6\" >0.816099</td>\n",
       "      <td id=\"T_3ea3e_row0_col7\" class=\"data row0 col7\" >0.837659</td>\n",
       "      <td id=\"T_3ea3e_row0_col8\" class=\"data row0 col8\" >0.850336</td>\n",
       "      <td id=\"T_3ea3e_row0_col9\" class=\"data row0 col9\" >0.828461</td>\n",
       "      <td id=\"T_3ea3e_row0_col10\" class=\"data row0 col10\" >0.829661</td>\n",
       "      <td id=\"T_3ea3e_row0_col11\" class=\"data row0 col11\" >0.856381</td>\n",
       "    </tr>\n",
       "    <tr>\n",
       "      <th id=\"T_3ea3e_level0_row1\" class=\"row_heading level0 row1\" >luty</th>\n",
       "      <td id=\"T_3ea3e_row1_col0\" class=\"data row1 col0\" >0.813795</td>\n",
       "      <td id=\"T_3ea3e_row1_col1\" class=\"data row1 col1\" >1.000000</td>\n",
       "      <td id=\"T_3ea3e_row1_col2\" class=\"data row1 col2\" >0.830002</td>\n",
       "      <td id=\"T_3ea3e_row1_col3\" class=\"data row1 col3\" >0.812723</td>\n",
       "      <td id=\"T_3ea3e_row1_col4\" class=\"data row1 col4\" >0.827928</td>\n",
       "      <td id=\"T_3ea3e_row1_col5\" class=\"data row1 col5\" >0.816808</td>\n",
       "      <td id=\"T_3ea3e_row1_col6\" class=\"data row1 col6\" >0.792156</td>\n",
       "      <td id=\"T_3ea3e_row1_col7\" class=\"data row1 col7\" >0.803305</td>\n",
       "      <td id=\"T_3ea3e_row1_col8\" class=\"data row1 col8\" >0.815762</td>\n",
       "      <td id=\"T_3ea3e_row1_col9\" class=\"data row1 col9\" >0.803853</td>\n",
       "      <td id=\"T_3ea3e_row1_col10\" class=\"data row1 col10\" >0.796558</td>\n",
       "      <td id=\"T_3ea3e_row1_col11\" class=\"data row1 col11\" >0.809812</td>\n",
       "    </tr>\n",
       "    <tr>\n",
       "      <th id=\"T_3ea3e_level0_row2\" class=\"row_heading level0 row2\" >marzec</th>\n",
       "      <td id=\"T_3ea3e_row2_col0\" class=\"data row2 col0\" >0.825087</td>\n",
       "      <td id=\"T_3ea3e_row2_col1\" class=\"data row2 col1\" >0.830002</td>\n",
       "      <td id=\"T_3ea3e_row2_col2\" class=\"data row2 col2\" >1.000000</td>\n",
       "      <td id=\"T_3ea3e_row2_col3\" class=\"data row2 col3\" >0.804151</td>\n",
       "      <td id=\"T_3ea3e_row2_col4\" class=\"data row2 col4\" >0.825031</td>\n",
       "      <td id=\"T_3ea3e_row2_col5\" class=\"data row2 col5\" >0.794404</td>\n",
       "      <td id=\"T_3ea3e_row2_col6\" class=\"data row2 col6\" >0.798820</td>\n",
       "      <td id=\"T_3ea3e_row2_col7\" class=\"data row2 col7\" >0.826555</td>\n",
       "      <td id=\"T_3ea3e_row2_col8\" class=\"data row2 col8\" >0.813537</td>\n",
       "      <td id=\"T_3ea3e_row2_col9\" class=\"data row2 col9\" >0.815532</td>\n",
       "      <td id=\"T_3ea3e_row2_col10\" class=\"data row2 col10\" >0.824825</td>\n",
       "      <td id=\"T_3ea3e_row2_col11\" class=\"data row2 col11\" >0.805747</td>\n",
       "    </tr>\n",
       "    <tr>\n",
       "      <th id=\"T_3ea3e_level0_row3\" class=\"row_heading level0 row3\" >kwiecien</th>\n",
       "      <td id=\"T_3ea3e_row3_col0\" class=\"data row3 col0\" >0.807034</td>\n",
       "      <td id=\"T_3ea3e_row3_col1\" class=\"data row3 col1\" >0.812723</td>\n",
       "      <td id=\"T_3ea3e_row3_col2\" class=\"data row3 col2\" >0.804151</td>\n",
       "      <td id=\"T_3ea3e_row3_col3\" class=\"data row3 col3\" >1.000000</td>\n",
       "      <td id=\"T_3ea3e_row3_col4\" class=\"data row3 col4\" >0.814584</td>\n",
       "      <td id=\"T_3ea3e_row3_col5\" class=\"data row3 col5\" >0.820903</td>\n",
       "      <td id=\"T_3ea3e_row3_col6\" class=\"data row3 col6\" >0.834085</td>\n",
       "      <td id=\"T_3ea3e_row3_col7\" class=\"data row3 col7\" >0.815635</td>\n",
       "      <td id=\"T_3ea3e_row3_col8\" class=\"data row3 col8\" >0.788804</td>\n",
       "      <td id=\"T_3ea3e_row3_col9\" class=\"data row3 col9\" >0.802667</td>\n",
       "      <td id=\"T_3ea3e_row3_col10\" class=\"data row3 col10\" >0.803198</td>\n",
       "      <td id=\"T_3ea3e_row3_col11\" class=\"data row3 col11\" >0.790373</td>\n",
       "    </tr>\n",
       "    <tr>\n",
       "      <th id=\"T_3ea3e_level0_row4\" class=\"row_heading level0 row4\" >maj</th>\n",
       "      <td id=\"T_3ea3e_row4_col0\" class=\"data row4 col0\" >0.818721</td>\n",
       "      <td id=\"T_3ea3e_row4_col1\" class=\"data row4 col1\" >0.827928</td>\n",
       "      <td id=\"T_3ea3e_row4_col2\" class=\"data row4 col2\" >0.825031</td>\n",
       "      <td id=\"T_3ea3e_row4_col3\" class=\"data row4 col3\" >0.814584</td>\n",
       "      <td id=\"T_3ea3e_row4_col4\" class=\"data row4 col4\" >1.000000</td>\n",
       "      <td id=\"T_3ea3e_row4_col5\" class=\"data row4 col5\" >0.818794</td>\n",
       "      <td id=\"T_3ea3e_row4_col6\" class=\"data row4 col6\" >0.828962</td>\n",
       "      <td id=\"T_3ea3e_row4_col7\" class=\"data row4 col7\" >0.800005</td>\n",
       "      <td id=\"T_3ea3e_row4_col8\" class=\"data row4 col8\" >0.801909</td>\n",
       "      <td id=\"T_3ea3e_row4_col9\" class=\"data row4 col9\" >0.805023</td>\n",
       "      <td id=\"T_3ea3e_row4_col10\" class=\"data row4 col10\" >0.792288</td>\n",
       "      <td id=\"T_3ea3e_row4_col11\" class=\"data row4 col11\" >0.815116</td>\n",
       "    </tr>\n",
       "    <tr>\n",
       "      <th id=\"T_3ea3e_level0_row5\" class=\"row_heading level0 row5\" >czerwiec</th>\n",
       "      <td id=\"T_3ea3e_row5_col0\" class=\"data row5 col0\" >0.868955</td>\n",
       "      <td id=\"T_3ea3e_row5_col1\" class=\"data row5 col1\" >0.816808</td>\n",
       "      <td id=\"T_3ea3e_row5_col2\" class=\"data row5 col2\" >0.794404</td>\n",
       "      <td id=\"T_3ea3e_row5_col3\" class=\"data row5 col3\" >0.820903</td>\n",
       "      <td id=\"T_3ea3e_row5_col4\" class=\"data row5 col4\" >0.818794</td>\n",
       "      <td id=\"T_3ea3e_row5_col5\" class=\"data row5 col5\" >1.000000</td>\n",
       "      <td id=\"T_3ea3e_row5_col6\" class=\"data row5 col6\" >0.822083</td>\n",
       "      <td id=\"T_3ea3e_row5_col7\" class=\"data row5 col7\" >0.834015</td>\n",
       "      <td id=\"T_3ea3e_row5_col8\" class=\"data row5 col8\" >0.833196</td>\n",
       "      <td id=\"T_3ea3e_row5_col9\" class=\"data row5 col9\" >0.838775</td>\n",
       "      <td id=\"T_3ea3e_row5_col10\" class=\"data row5 col10\" >0.816057</td>\n",
       "      <td id=\"T_3ea3e_row5_col11\" class=\"data row5 col11\" >0.821486</td>\n",
       "    </tr>\n",
       "    <tr>\n",
       "      <th id=\"T_3ea3e_level0_row6\" class=\"row_heading level0 row6\" >lipiec</th>\n",
       "      <td id=\"T_3ea3e_row6_col0\" class=\"data row6 col0\" >0.816099</td>\n",
       "      <td id=\"T_3ea3e_row6_col1\" class=\"data row6 col1\" >0.792156</td>\n",
       "      <td id=\"T_3ea3e_row6_col2\" class=\"data row6 col2\" >0.798820</td>\n",
       "      <td id=\"T_3ea3e_row6_col3\" class=\"data row6 col3\" >0.834085</td>\n",
       "      <td id=\"T_3ea3e_row6_col4\" class=\"data row6 col4\" >0.828962</td>\n",
       "      <td id=\"T_3ea3e_row6_col5\" class=\"data row6 col5\" >0.822083</td>\n",
       "      <td id=\"T_3ea3e_row6_col6\" class=\"data row6 col6\" >1.000000</td>\n",
       "      <td id=\"T_3ea3e_row6_col7\" class=\"data row6 col7\" >0.787838</td>\n",
       "      <td id=\"T_3ea3e_row6_col8\" class=\"data row6 col8\" >0.798160</td>\n",
       "      <td id=\"T_3ea3e_row6_col9\" class=\"data row6 col9\" >0.827001</td>\n",
       "      <td id=\"T_3ea3e_row6_col10\" class=\"data row6 col10\" >0.809943</td>\n",
       "      <td id=\"T_3ea3e_row6_col11\" class=\"data row6 col11\" >0.801791</td>\n",
       "    </tr>\n",
       "    <tr>\n",
       "      <th id=\"T_3ea3e_level0_row7\" class=\"row_heading level0 row7\" >sierpien</th>\n",
       "      <td id=\"T_3ea3e_row7_col0\" class=\"data row7 col0\" >0.837659</td>\n",
       "      <td id=\"T_3ea3e_row7_col1\" class=\"data row7 col1\" >0.803305</td>\n",
       "      <td id=\"T_3ea3e_row7_col2\" class=\"data row7 col2\" >0.826555</td>\n",
       "      <td id=\"T_3ea3e_row7_col3\" class=\"data row7 col3\" >0.815635</td>\n",
       "      <td id=\"T_3ea3e_row7_col4\" class=\"data row7 col4\" >0.800005</td>\n",
       "      <td id=\"T_3ea3e_row7_col5\" class=\"data row7 col5\" >0.834015</td>\n",
       "      <td id=\"T_3ea3e_row7_col6\" class=\"data row7 col6\" >0.787838</td>\n",
       "      <td id=\"T_3ea3e_row7_col7\" class=\"data row7 col7\" >1.000000</td>\n",
       "      <td id=\"T_3ea3e_row7_col8\" class=\"data row7 col8\" >0.851699</td>\n",
       "      <td id=\"T_3ea3e_row7_col9\" class=\"data row7 col9\" >0.857825</td>\n",
       "      <td id=\"T_3ea3e_row7_col10\" class=\"data row7 col10\" >0.810906</td>\n",
       "      <td id=\"T_3ea3e_row7_col11\" class=\"data row7 col11\" >0.822580</td>\n",
       "    </tr>\n",
       "    <tr>\n",
       "      <th id=\"T_3ea3e_level0_row8\" class=\"row_heading level0 row8\" >wrzesien</th>\n",
       "      <td id=\"T_3ea3e_row8_col0\" class=\"data row8 col0\" >0.850336</td>\n",
       "      <td id=\"T_3ea3e_row8_col1\" class=\"data row8 col1\" >0.815762</td>\n",
       "      <td id=\"T_3ea3e_row8_col2\" class=\"data row8 col2\" >0.813537</td>\n",
       "      <td id=\"T_3ea3e_row8_col3\" class=\"data row8 col3\" >0.788804</td>\n",
       "      <td id=\"T_3ea3e_row8_col4\" class=\"data row8 col4\" >0.801909</td>\n",
       "      <td id=\"T_3ea3e_row8_col5\" class=\"data row8 col5\" >0.833196</td>\n",
       "      <td id=\"T_3ea3e_row8_col6\" class=\"data row8 col6\" >0.798160</td>\n",
       "      <td id=\"T_3ea3e_row8_col7\" class=\"data row8 col7\" >0.851699</td>\n",
       "      <td id=\"T_3ea3e_row8_col8\" class=\"data row8 col8\" >1.000000</td>\n",
       "      <td id=\"T_3ea3e_row8_col9\" class=\"data row8 col9\" >0.835173</td>\n",
       "      <td id=\"T_3ea3e_row8_col10\" class=\"data row8 col10\" >0.808865</td>\n",
       "      <td id=\"T_3ea3e_row8_col11\" class=\"data row8 col11\" >0.835182</td>\n",
       "    </tr>\n",
       "    <tr>\n",
       "      <th id=\"T_3ea3e_level0_row9\" class=\"row_heading level0 row9\" >pazdziernik</th>\n",
       "      <td id=\"T_3ea3e_row9_col0\" class=\"data row9 col0\" >0.828461</td>\n",
       "      <td id=\"T_3ea3e_row9_col1\" class=\"data row9 col1\" >0.803853</td>\n",
       "      <td id=\"T_3ea3e_row9_col2\" class=\"data row9 col2\" >0.815532</td>\n",
       "      <td id=\"T_3ea3e_row9_col3\" class=\"data row9 col3\" >0.802667</td>\n",
       "      <td id=\"T_3ea3e_row9_col4\" class=\"data row9 col4\" >0.805023</td>\n",
       "      <td id=\"T_3ea3e_row9_col5\" class=\"data row9 col5\" >0.838775</td>\n",
       "      <td id=\"T_3ea3e_row9_col6\" class=\"data row9 col6\" >0.827001</td>\n",
       "      <td id=\"T_3ea3e_row9_col7\" class=\"data row9 col7\" >0.857825</td>\n",
       "      <td id=\"T_3ea3e_row9_col8\" class=\"data row9 col8\" >0.835173</td>\n",
       "      <td id=\"T_3ea3e_row9_col9\" class=\"data row9 col9\" >1.000000</td>\n",
       "      <td id=\"T_3ea3e_row9_col10\" class=\"data row9 col10\" >0.796900</td>\n",
       "      <td id=\"T_3ea3e_row9_col11\" class=\"data row9 col11\" >0.824968</td>\n",
       "    </tr>\n",
       "    <tr>\n",
       "      <th id=\"T_3ea3e_level0_row10\" class=\"row_heading level0 row10\" >listopad</th>\n",
       "      <td id=\"T_3ea3e_row10_col0\" class=\"data row10 col0\" >0.829661</td>\n",
       "      <td id=\"T_3ea3e_row10_col1\" class=\"data row10 col1\" >0.796558</td>\n",
       "      <td id=\"T_3ea3e_row10_col2\" class=\"data row10 col2\" >0.824825</td>\n",
       "      <td id=\"T_3ea3e_row10_col3\" class=\"data row10 col3\" >0.803198</td>\n",
       "      <td id=\"T_3ea3e_row10_col4\" class=\"data row10 col4\" >0.792288</td>\n",
       "      <td id=\"T_3ea3e_row10_col5\" class=\"data row10 col5\" >0.816057</td>\n",
       "      <td id=\"T_3ea3e_row10_col6\" class=\"data row10 col6\" >0.809943</td>\n",
       "      <td id=\"T_3ea3e_row10_col7\" class=\"data row10 col7\" >0.810906</td>\n",
       "      <td id=\"T_3ea3e_row10_col8\" class=\"data row10 col8\" >0.808865</td>\n",
       "      <td id=\"T_3ea3e_row10_col9\" class=\"data row10 col9\" >0.796900</td>\n",
       "      <td id=\"T_3ea3e_row10_col10\" class=\"data row10 col10\" >1.000000</td>\n",
       "      <td id=\"T_3ea3e_row10_col11\" class=\"data row10 col11\" >0.822248</td>\n",
       "    </tr>\n",
       "    <tr>\n",
       "      <th id=\"T_3ea3e_level0_row11\" class=\"row_heading level0 row11\" >grudzien</th>\n",
       "      <td id=\"T_3ea3e_row11_col0\" class=\"data row11 col0\" >0.856381</td>\n",
       "      <td id=\"T_3ea3e_row11_col1\" class=\"data row11 col1\" >0.809812</td>\n",
       "      <td id=\"T_3ea3e_row11_col2\" class=\"data row11 col2\" >0.805747</td>\n",
       "      <td id=\"T_3ea3e_row11_col3\" class=\"data row11 col3\" >0.790373</td>\n",
       "      <td id=\"T_3ea3e_row11_col4\" class=\"data row11 col4\" >0.815116</td>\n",
       "      <td id=\"T_3ea3e_row11_col5\" class=\"data row11 col5\" >0.821486</td>\n",
       "      <td id=\"T_3ea3e_row11_col6\" class=\"data row11 col6\" >0.801791</td>\n",
       "      <td id=\"T_3ea3e_row11_col7\" class=\"data row11 col7\" >0.822580</td>\n",
       "      <td id=\"T_3ea3e_row11_col8\" class=\"data row11 col8\" >0.835182</td>\n",
       "      <td id=\"T_3ea3e_row11_col9\" class=\"data row11 col9\" >0.824968</td>\n",
       "      <td id=\"T_3ea3e_row11_col10\" class=\"data row11 col10\" >0.822248</td>\n",
       "      <td id=\"T_3ea3e_row11_col11\" class=\"data row11 col11\" >1.000000</td>\n",
       "    </tr>\n",
       "  </tbody>\n",
       "</table>\n"
      ],
      "text/plain": [
       "<pandas.io.formats.style.Styler at 0x2d2748a24f0>"
      ]
     },
     "metadata": {},
     "output_type": "display_data"
    },
    {
     "data": {
      "image/png": "[encoded data removed]",
      "text/plain": [
       "<Figure size 480x480 with 1 Axes>"
      ]
     },
     "metadata": {},
     "output_type": "display_data"
    }
   ],
   "source": [
    "corr_months = data_workers.loc[:,\"styczen\":\"grudzien\"].corr()\n",
    "\n",
    "display(corr_months.style.background_gradient(axis=0))\n",
    "\n",
    "plt.matshow(corr_months);"
   ]
  },
  {
   "cell_type": "markdown",
   "id": "c2f3b366",
   "metadata": {},
   "source": [
    "## Zadanie 2\n",
    "\n",
    "Załaduj napoje.csv Sprawdź czy istnieje związek pomiędzy konsumpcja poszczególnych napojów."
   ]
  },
  {
   "cell_type": "code",
   "execution_count": 24,
   "id": "e203211c",
   "metadata": {},
   "outputs": [
    {
     "data": {
      "text/html": [
       "<div>\n",
       "<style scoped>\n",
       "    .dataframe tbody tr th:only-of-type {\n",
       "        vertical-align: middle;\n",
       "    }\n",
       "\n",
       "    .dataframe tbody tr th {\n",
       "        vertical-align: top;\n",
       "    }\n",
       "\n",
       "    .dataframe thead th {\n",
       "        text-align: right;\n",
       "    }\n",
       "</style>\n",
       "<table border=\"1\" class=\"dataframe\">\n",
       "  <thead>\n",
       "    <tr style=\"text-align: right;\">\n",
       "      <th></th>\n",
       "      <th>mies</th>\n",
       "      <th>rok</th>\n",
       "      <th>pepsi</th>\n",
       "      <th>fanta</th>\n",
       "      <th>żywiec</th>\n",
       "      <th>okocim</th>\n",
       "      <th>regionalne</th>\n",
       "      <th>cola</th>\n",
       "      <th>lech</th>\n",
       "    </tr>\n",
       "  </thead>\n",
       "  <tbody>\n",
       "    <tr>\n",
       "      <th>0</th>\n",
       "      <td>1</td>\n",
       "      <td>2001</td>\n",
       "      <td>108447</td>\n",
       "      <td>43302</td>\n",
       "      <td>186385</td>\n",
       "      <td>54301</td>\n",
       "      <td>45065</td>\n",
       "      <td>227013</td>\n",
       "      <td>56306</td>\n",
       "    </tr>\n",
       "    <tr>\n",
       "      <th>1</th>\n",
       "      <td>2</td>\n",
       "      <td>2001</td>\n",
       "      <td>105439</td>\n",
       "      <td>46711</td>\n",
       "      <td>168782</td>\n",
       "      <td>68131</td>\n",
       "      <td>43933</td>\n",
       "      <td>221115</td>\n",
       "      <td>67212</td>\n",
       "    </tr>\n",
       "    <tr>\n",
       "      <th>2</th>\n",
       "      <td>3</td>\n",
       "      <td>2001</td>\n",
       "      <td>111675</td>\n",
       "      <td>36029</td>\n",
       "      <td>172186</td>\n",
       "      <td>63104</td>\n",
       "      <td>46663</td>\n",
       "      <td>222812</td>\n",
       "      <td>67398</td>\n",
       "    </tr>\n",
       "  </tbody>\n",
       "</table>\n",
       "</div>"
      ],
      "text/plain": [
       "   mies   rok   pepsi  fanta  żywiec  okocim  regionalne    cola   lech\n",
       "0     1  2001  108447  43302  186385   54301       45065  227013  56306\n",
       "1     2  2001  105439  46711  168782   68131       43933  221115  67212\n",
       "2     3  2001  111675  36029  172186   63104       46663  222812  67398"
      ]
     },
     "execution_count": 24,
     "metadata": {},
     "output_type": "execute_result"
    }
   ],
   "source": [
    "data_drink = pd.read_csv(r\"C:\\Users\\User\\Desktop\\Szkolenie_SDA\\Statystyka i prawdopodoby\\csv\\napoje.csv\",\n",
    "                  delimiter=\";\")\n",
    "data_drink.head(3)"
   ]
  },
  {
   "cell_type": "code",
   "execution_count": 45,
   "id": "d659da8a",
   "metadata": {},
   "outputs": [
    {
     "data": {
      "text/html": [
       "<style type=\"text/css\">\n",
       "#T_f1a7c_row0_col0, #T_f1a7c_row1_col1, #T_f1a7c_row2_col2, #T_f1a7c_row3_col3, #T_f1a7c_row4_col4, #T_f1a7c_row5_col5, #T_f1a7c_row6_col6 {\n",
       "  background-color: #023858;\n",
       "  color: #f1f1f1;\n",
       "}\n",
       "#T_f1a7c_row0_col1 {\n",
       "  background-color: #ced0e6;\n",
       "  color: #000000;\n",
       "}\n",
       "#T_f1a7c_row0_col2 {\n",
       "  background-color: #f1ebf4;\n",
       "  color: #000000;\n",
       "}\n",
       "#T_f1a7c_row0_col3, #T_f1a7c_row3_col2 {\n",
       "  background-color: #f1ebf5;\n",
       "  color: #000000;\n",
       "}\n",
       "#T_f1a7c_row0_col4 {\n",
       "  background-color: #fbf3f9;\n",
       "  color: #000000;\n",
       "}\n",
       "#T_f1a7c_row0_col5, #T_f1a7c_row6_col1 {\n",
       "  background-color: #f8f1f8;\n",
       "  color: #000000;\n",
       "}\n",
       "#T_f1a7c_row0_col6, #T_f1a7c_row1_col5, #T_f1a7c_row2_col4, #T_f1a7c_row4_col2, #T_f1a7c_row5_col1, #T_f1a7c_row5_col3, #T_f1a7c_row5_col6, #T_f1a7c_row6_col0 {\n",
       "  background-color: #fff7fb;\n",
       "  color: #000000;\n",
       "}\n",
       "#T_f1a7c_row1_col0 {\n",
       "  background-color: #d1d2e6;\n",
       "  color: #000000;\n",
       "}\n",
       "#T_f1a7c_row1_col2, #T_f1a7c_row3_col1 {\n",
       "  background-color: #ede8f3;\n",
       "  color: #000000;\n",
       "}\n",
       "#T_f1a7c_row1_col3, #T_f1a7c_row5_col0 {\n",
       "  background-color: #faf2f8;\n",
       "  color: #000000;\n",
       "}\n",
       "#T_f1a7c_row1_col4, #T_f1a7c_row4_col1 {\n",
       "  background-color: #f5eff6;\n",
       "  color: #000000;\n",
       "}\n",
       "#T_f1a7c_row1_col6 {\n",
       "  background-color: #f9f2f8;\n",
       "  color: #000000;\n",
       "}\n",
       "#T_f1a7c_row2_col0, #T_f1a7c_row3_col5, #T_f1a7c_row3_col6, #T_f1a7c_row6_col4 {\n",
       "  background-color: #f2ecf5;\n",
       "  color: #000000;\n",
       "}\n",
       "#T_f1a7c_row2_col1 {\n",
       "  background-color: #eee8f3;\n",
       "  color: #000000;\n",
       "}\n",
       "#T_f1a7c_row2_col3 {\n",
       "  background-color: #fef6fb;\n",
       "  color: #000000;\n",
       "}\n",
       "#T_f1a7c_row2_col5, #T_f1a7c_row6_col3, #T_f1a7c_row6_col5 {\n",
       "  background-color: #fef6fa;\n",
       "  color: #000000;\n",
       "}\n",
       "#T_f1a7c_row2_col6, #T_f1a7c_row3_col4 {\n",
       "  background-color: #f0eaf4;\n",
       "  color: #000000;\n",
       "}\n",
       "#T_f1a7c_row3_col0 {\n",
       "  background-color: #e5e1ef;\n",
       "  color: #000000;\n",
       "}\n",
       "#T_f1a7c_row4_col0, #T_f1a7c_row4_col3, #T_f1a7c_row5_col2 {\n",
       "  background-color: #fdf5fa;\n",
       "  color: #000000;\n",
       "}\n",
       "#T_f1a7c_row4_col5 {\n",
       "  background-color: #e7e3f0;\n",
       "  color: #000000;\n",
       "}\n",
       "#T_f1a7c_row4_col6 {\n",
       "  background-color: #f4edf6;\n",
       "  color: #000000;\n",
       "}\n",
       "#T_f1a7c_row5_col4 {\n",
       "  background-color: #e6e2ef;\n",
       "  color: #000000;\n",
       "}\n",
       "#T_f1a7c_row6_col2 {\n",
       "  background-color: #eee9f3;\n",
       "  color: #000000;\n",
       "}\n",
       "</style>\n",
       "<table id=\"T_f1a7c\">\n",
       "  <thead>\n",
       "    <tr>\n",
       "      <th class=\"blank level0\" >&nbsp;</th>\n",
       "      <th id=\"T_f1a7c_level0_col0\" class=\"col_heading level0 col0\" >pepsi</th>\n",
       "      <th id=\"T_f1a7c_level0_col1\" class=\"col_heading level0 col1\" >fanta</th>\n",
       "      <th id=\"T_f1a7c_level0_col2\" class=\"col_heading level0 col2\" >żywiec</th>\n",
       "      <th id=\"T_f1a7c_level0_col3\" class=\"col_heading level0 col3\" >okocim</th>\n",
       "      <th id=\"T_f1a7c_level0_col4\" class=\"col_heading level0 col4\" >regionalne</th>\n",
       "      <th id=\"T_f1a7c_level0_col5\" class=\"col_heading level0 col5\" >cola</th>\n",
       "      <th id=\"T_f1a7c_level0_col6\" class=\"col_heading level0 col6\" >lech</th>\n",
       "    </tr>\n",
       "  </thead>\n",
       "  <tbody>\n",
       "    <tr>\n",
       "      <th id=\"T_f1a7c_level0_row0\" class=\"row_heading level0 row0\" >pepsi</th>\n",
       "      <td id=\"T_f1a7c_row0_col0\" class=\"data row0 col0\" >1.000000</td>\n",
       "      <td id=\"T_f1a7c_row0_col1\" class=\"data row0 col1\" >0.203185</td>\n",
       "      <td id=\"T_f1a7c_row0_col2\" class=\"data row0 col2\" >0.026878</td>\n",
       "      <td id=\"T_f1a7c_row0_col3\" class=\"data row0 col3\" >0.107167</td>\n",
       "      <td id=\"T_f1a7c_row0_col4\" class=\"data row0 col4\" >-0.046138</td>\n",
       "      <td id=\"T_f1a7c_row0_col5\" class=\"data row0 col5\" >-0.024217</td>\n",
       "      <td id=\"T_f1a7c_row0_col6\" class=\"data row0 col6\" >-0.061948</td>\n",
       "    </tr>\n",
       "    <tr>\n",
       "      <th id=\"T_f1a7c_level0_row1\" class=\"row_heading level0 row1\" >fanta</th>\n",
       "      <td id=\"T_f1a7c_row1_col0\" class=\"data row1 col0\" >0.203185</td>\n",
       "      <td id=\"T_f1a7c_row1_col1\" class=\"data row1 col1\" >1.000000</td>\n",
       "      <td id=\"T_f1a7c_row1_col2\" class=\"data row1 col2\" >0.050518</td>\n",
       "      <td id=\"T_f1a7c_row1_col3\" class=\"data row1 col3\" >0.054096</td>\n",
       "      <td id=\"T_f1a7c_row1_col4\" class=\"data row1 col4\" >-0.004915</td>\n",
       "      <td id=\"T_f1a7c_row1_col5\" class=\"data row1 col5\" >-0.073571</td>\n",
       "      <td id=\"T_f1a7c_row1_col6\" class=\"data row1 col6\" >-0.019197</td>\n",
       "    </tr>\n",
       "    <tr>\n",
       "      <th id=\"T_f1a7c_level0_row2\" class=\"row_heading level0 row2\" >żywiec</th>\n",
       "      <td id=\"T_f1a7c_row2_col0\" class=\"data row2 col0\" >0.026878</td>\n",
       "      <td id=\"T_f1a7c_row2_col1\" class=\"data row2 col1\" >0.050518</td>\n",
       "      <td id=\"T_f1a7c_row2_col2\" class=\"data row2 col2\" >1.000000</td>\n",
       "      <td id=\"T_f1a7c_row2_col3\" class=\"data row2 col3\" >0.021363</td>\n",
       "      <td id=\"T_f1a7c_row2_col4\" class=\"data row2 col4\" >-0.076077</td>\n",
       "      <td id=\"T_f1a7c_row2_col5\" class=\"data row2 col5\" >-0.063147</td>\n",
       "      <td id=\"T_f1a7c_row2_col6\" class=\"data row2 col6\" >0.043483</td>\n",
       "    </tr>\n",
       "    <tr>\n",
       "      <th id=\"T_f1a7c_level0_row3\" class=\"row_heading level0 row3\" >okocim</th>\n",
       "      <td id=\"T_f1a7c_row3_col0\" class=\"data row3 col0\" >0.107167</td>\n",
       "      <td id=\"T_f1a7c_row3_col1\" class=\"data row3 col1\" >0.054096</td>\n",
       "      <td id=\"T_f1a7c_row3_col2\" class=\"data row3 col2\" >0.021363</td>\n",
       "      <td id=\"T_f1a7c_row3_col3\" class=\"data row3 col3\" >1.000000</td>\n",
       "      <td id=\"T_f1a7c_row3_col4\" class=\"data row3 col4\" >0.034082</td>\n",
       "      <td id=\"T_f1a7c_row3_col5\" class=\"data row3 col5\" >0.016133</td>\n",
       "      <td id=\"T_f1a7c_row3_col6\" class=\"data row3 col6\" >0.027080</td>\n",
       "    </tr>\n",
       "    <tr>\n",
       "      <th id=\"T_f1a7c_level0_row4\" class=\"row_heading level0 row4\" >regionalne</th>\n",
       "      <td id=\"T_f1a7c_row4_col0\" class=\"data row4 col0\" >-0.046138</td>\n",
       "      <td id=\"T_f1a7c_row4_col1\" class=\"data row4 col1\" >-0.004915</td>\n",
       "      <td id=\"T_f1a7c_row4_col2\" class=\"data row4 col2\" >-0.076077</td>\n",
       "      <td id=\"T_f1a7c_row4_col3\" class=\"data row4 col3\" >0.034082</td>\n",
       "      <td id=\"T_f1a7c_row4_col4\" class=\"data row4 col4\" >1.000000</td>\n",
       "      <td id=\"T_f1a7c_row4_col5\" class=\"data row4 col5\" >0.089247</td>\n",
       "      <td id=\"T_f1a7c_row4_col6\" class=\"data row4 col6\" >0.019794</td>\n",
       "    </tr>\n",
       "    <tr>\n",
       "      <th id=\"T_f1a7c_level0_row5\" class=\"row_heading level0 row5\" >cola</th>\n",
       "      <td id=\"T_f1a7c_row5_col0\" class=\"data row5 col0\" >-0.024217</td>\n",
       "      <td id=\"T_f1a7c_row5_col1\" class=\"data row5 col1\" >-0.073571</td>\n",
       "      <td id=\"T_f1a7c_row5_col2\" class=\"data row5 col2\" >-0.063147</td>\n",
       "      <td id=\"T_f1a7c_row5_col3\" class=\"data row5 col3\" >0.016133</td>\n",
       "      <td id=\"T_f1a7c_row5_col4\" class=\"data row5 col4\" >0.089247</td>\n",
       "      <td id=\"T_f1a7c_row5_col5\" class=\"data row5 col5\" >1.000000</td>\n",
       "      <td id=\"T_f1a7c_row5_col6\" class=\"data row5 col6\" >-0.062341</td>\n",
       "    </tr>\n",
       "    <tr>\n",
       "      <th id=\"T_f1a7c_level0_row6\" class=\"row_heading level0 row6\" >lech</th>\n",
       "      <td id=\"T_f1a7c_row6_col0\" class=\"data row6 col0\" >-0.061948</td>\n",
       "      <td id=\"T_f1a7c_row6_col1\" class=\"data row6 col1\" >-0.019197</td>\n",
       "      <td id=\"T_f1a7c_row6_col2\" class=\"data row6 col2\" >0.043483</td>\n",
       "      <td id=\"T_f1a7c_row6_col3\" class=\"data row6 col3\" >0.027080</td>\n",
       "      <td id=\"T_f1a7c_row6_col4\" class=\"data row6 col4\" >0.019794</td>\n",
       "      <td id=\"T_f1a7c_row6_col5\" class=\"data row6 col5\" >-0.062341</td>\n",
       "      <td id=\"T_f1a7c_row6_col6\" class=\"data row6 col6\" >1.000000</td>\n",
       "    </tr>\n",
       "  </tbody>\n",
       "</table>\n"
      ],
      "text/plain": [
       "<pandas.io.formats.style.Styler at 0x2d2773d0550>"
      ]
     },
     "metadata": {},
     "output_type": "display_data"
    },
    {
     "data": {
      "image/png": "[encoded data removed]",
      "text/plain": [
       "<Figure size 480x480 with 1 Axes>"
      ]
     },
     "metadata": {},
     "output_type": "display_data"
    }
   ],
   "source": [
    "corr_drink = data_drink.loc[:,\"pepsi\":].corr()\n",
    "\n",
    "display(corr_drink.style.background_gradient(axis=0) )\n",
    "\n",
    "plt.matshow(corr_drink);"
   ]
  },
  {
   "cell_type": "markdown",
   "id": "e5d16ebb",
   "metadata": {},
   "source": [
    "## Zadanie 3\n",
    "\n",
    "W pliku pracownicy.csv, użyj spearman correlation coefficients do sprawdzenia czy istnieje związek pomiędzy stażem pracy, a zarobkami w poszczególnych miesiącach."
   ]
  },
  {
   "cell_type": "code",
   "execution_count": 42,
   "id": "711425b5",
   "metadata": {},
   "outputs": [
    {
     "data": {
      "text/html": [
       "<div>\n",
       "<style scoped>\n",
       "    .dataframe tbody tr th:only-of-type {\n",
       "        vertical-align: middle;\n",
       "    }\n",
       "\n",
       "    .dataframe tbody tr th {\n",
       "        vertical-align: top;\n",
       "    }\n",
       "\n",
       "    .dataframe thead th {\n",
       "        text-align: right;\n",
       "    }\n",
       "</style>\n",
       "<table border=\"1\" class=\"dataframe\">\n",
       "  <thead>\n",
       "    <tr style=\"text-align: right;\">\n",
       "      <th></th>\n",
       "      <th>NIP</th>\n",
       "      <th>nazwisko</th>\n",
       "      <th>imie</th>\n",
       "      <th>dataur</th>\n",
       "      <th>datazatr</th>\n",
       "      <th>wyksztalcenie</th>\n",
       "      <th>styczen</th>\n",
       "      <th>luty</th>\n",
       "      <th>marzec</th>\n",
       "      <th>kwiecien</th>\n",
       "      <th>...</th>\n",
       "      <th>lipiec</th>\n",
       "      <th>sierpien</th>\n",
       "      <th>wrzesien</th>\n",
       "      <th>pazdziernik</th>\n",
       "      <th>listopad</th>\n",
       "      <th>grudzien</th>\n",
       "      <th>plec</th>\n",
       "      <th>stazpracy</th>\n",
       "      <th>wiekwdniach</th>\n",
       "      <th>roczne</th>\n",
       "    </tr>\n",
       "  </thead>\n",
       "  <tbody>\n",
       "    <tr>\n",
       "      <th>0</th>\n",
       "      <td>100-21-42-503</td>\n",
       "      <td>Rusek</td>\n",
       "      <td>Pawe³</td>\n",
       "      <td>1976-11-12</td>\n",
       "      <td>2004-01-09</td>\n",
       "      <td>3-licencjat</td>\n",
       "      <td>3850</td>\n",
       "      <td>3860</td>\n",
       "      <td>3820</td>\n",
       "      <td>3790</td>\n",
       "      <td>...</td>\n",
       "      <td>4040</td>\n",
       "      <td>4010</td>\n",
       "      <td>4080</td>\n",
       "      <td>3670</td>\n",
       "      <td>3570</td>\n",
       "      <td>3720</td>\n",
       "      <td>mê¿czyzna</td>\n",
       "      <td>5031</td>\n",
       "      <td>14950</td>\n",
       "      <td>46110</td>\n",
       "    </tr>\n",
       "  </tbody>\n",
       "</table>\n",
       "<p>1 rows × 22 columns</p>\n",
       "</div>"
      ],
      "text/plain": [
       "             NIP nazwisko   imie      dataur    datazatr wyksztalcenie  \\\n",
       "0  100-21-42-503    Rusek  Pawe³  1976-11-12  2004-01-09   3-licencjat   \n",
       "\n",
       "   styczen  luty  marzec  kwiecien  ...  lipiec  sierpien  wrzesien  \\\n",
       "0     3850  3860    3820      3790  ...    4040      4010      4080   \n",
       "\n",
       "   pazdziernik  listopad  grudzien       plec  stazpracy wiekwdniach  roczne  \n",
       "0         3670      3570      3720  mê¿czyzna       5031       14950   46110  \n",
       "\n",
       "[1 rows x 22 columns]"
      ]
     },
     "execution_count": 42,
     "metadata": {},
     "output_type": "execute_result"
    }
   ],
   "source": [
    "data_workers.head(1)"
   ]
  },
  {
   "cell_type": "code",
   "execution_count": 44,
   "id": "8f31c0b1",
   "metadata": {},
   "outputs": [
    {
     "data": {
      "text/html": [
       "<style type=\"text/css\">\n",
       "#T_43745_row0_col0, #T_43745_row1_col1, #T_43745_row2_col2, #T_43745_row3_col3, #T_43745_row4_col4, #T_43745_row5_col5, #T_43745_row6_col6, #T_43745_row7_col7, #T_43745_row8_col8, #T_43745_row9_col9, #T_43745_row10_col10, #T_43745_row11_col11, #T_43745_row12_col12 {\n",
       "  background-color: #023858;\n",
       "  color: #f1f1f1;\n",
       "}\n",
       "#T_43745_row0_col1, #T_43745_row2_col5, #T_43745_row4_col8, #T_43745_row5_col4, #T_43745_row7_col4, #T_43745_row8_col3, #T_43745_row10_col3, #T_43745_row10_col9 {\n",
       "  background-color: #0569a5;\n",
       "  color: #f1f1f1;\n",
       "}\n",
       "#T_43745_row0_col2, #T_43745_row0_col7, #T_43745_row2_col7, #T_43745_row5_col9, #T_43745_row6_col3, #T_43745_row9_col2, #T_43745_row9_col5, #T_43745_row9_col8 {\n",
       "  background-color: #05659f;\n",
       "  color: #f1f1f1;\n",
       "}\n",
       "#T_43745_row0_col3, #T_43745_row7_col6, #T_43745_row8_col4, #T_43745_row9_col3, #T_43745_row9_col4, #T_43745_row11_col1 {\n",
       "  background-color: #056aa6;\n",
       "  color: #f1f1f1;\n",
       "}\n",
       "#T_43745_row0_col4, #T_43745_row1_col8, #T_43745_row3_col10, #T_43745_row4_col5, #T_43745_row5_col1, #T_43745_row5_col3, #T_43745_row7_col3, #T_43745_row8_col6, #T_43745_row8_col10, #T_43745_row10_col7, #T_43745_row11_col2, #T_43745_row11_col4 {\n",
       "  background-color: #0568a3;\n",
       "  color: #f1f1f1;\n",
       "}\n",
       "#T_43745_row0_col5 {\n",
       "  background-color: #045e93;\n",
       "  color: #f1f1f1;\n",
       "}\n",
       "#T_43745_row0_col6, #T_43745_row2_col0, #T_43745_row2_col8, #T_43745_row2_col9, #T_43745_row4_col6, #T_43745_row5_col6, #T_43745_row6_col0, #T_43745_row6_col5 {\n",
       "  background-color: #0566a0;\n",
       "  color: #f1f1f1;\n",
       "}\n",
       "#T_43745_row0_col8, #T_43745_row7_col8, #T_43745_row8_col0, #T_43745_row8_col7 {\n",
       "  background-color: #046299;\n",
       "  color: #f1f1f1;\n",
       "}\n",
       "#T_43745_row0_col9, #T_43745_row1_col4, #T_43745_row2_col6, #T_43745_row3_col7, #T_43745_row4_col1, #T_43745_row6_col4, #T_43745_row7_col10, #T_43745_row9_col0, #T_43745_row10_col0, #T_43745_row10_col5 {\n",
       "  background-color: #0567a2;\n",
       "  color: #f1f1f1;\n",
       "}\n",
       "#T_43745_row0_col10, #T_43745_row1_col5, #T_43745_row2_col4, #T_43745_row3_col2, #T_43745_row3_col5, #T_43745_row4_col0, #T_43745_row4_col11, #T_43745_row5_col10, #T_43745_row6_col2, #T_43745_row6_col10, #T_43745_row6_col11, #T_43745_row10_col6, #T_43745_row11_col6 {\n",
       "  background-color: #0567a1;\n",
       "  color: #f1f1f1;\n",
       "}\n",
       "#T_43745_row0_col11, #T_43745_row11_col0 {\n",
       "  background-color: #045c90;\n",
       "  color: #f1f1f1;\n",
       "}\n",
       "#T_43745_row0_col12, #T_43745_row9_col12 {\n",
       "  background-color: #fcf4fa;\n",
       "  color: #000000;\n",
       "}\n",
       "#T_43745_row1_col0, #T_43745_row1_col3, #T_43745_row1_col11, #T_43745_row2_col3, #T_43745_row2_col11, #T_43745_row3_col0, #T_43745_row3_col1, #T_43745_row3_col4, #T_43745_row3_col8, #T_43745_row3_col9, #T_43745_row4_col3, #T_43745_row4_col7, #T_43745_row4_col9, #T_43745_row5_col2, #T_43745_row6_col8, #T_43745_row8_col1, #T_43745_row9_col10, #T_43745_row10_col8 {\n",
       "  background-color: #0569a4;\n",
       "  color: #f1f1f1;\n",
       "}\n",
       "#T_43745_row1_col2, #T_43745_row2_col10, #T_43745_row8_col5, #T_43745_row10_col2, #T_43745_row11_col8 {\n",
       "  background-color: #04639b;\n",
       "  color: #f1f1f1;\n",
       "}\n",
       "#T_43745_row1_col6, #T_43745_row1_col9, #T_43745_row1_col10, #T_43745_row3_col11, #T_43745_row6_col7 {\n",
       "  background-color: #056ba7;\n",
       "  color: #f1f1f1;\n",
       "}\n",
       "#T_43745_row1_col7, #T_43745_row4_col10, #T_43745_row9_col1 {\n",
       "  background-color: #056ba9;\n",
       "  color: #f1f1f1;\n",
       "}\n",
       "#T_43745_row1_col12 {\n",
       "  background-color: #f8f1f8;\n",
       "  color: #000000;\n",
       "}\n",
       "#T_43745_row2_col1, #T_43745_row4_col2, #T_43745_row5_col7, #T_43745_row7_col0, #T_43745_row7_col2, #T_43745_row8_col2, #T_43745_row8_col9, #T_43745_row9_col11, #T_43745_row11_col7, #T_43745_row11_col9 {\n",
       "  background-color: #04649e;\n",
       "  color: #f1f1f1;\n",
       "}\n",
       "#T_43745_row2_col12, #T_43745_row12_col0, #T_43745_row12_col1, #T_43745_row12_col2, #T_43745_row12_col3, #T_43745_row12_col4, #T_43745_row12_col5, #T_43745_row12_col6, #T_43745_row12_col7, #T_43745_row12_col8, #T_43745_row12_col9, #T_43745_row12_col10, #T_43745_row12_col11 {\n",
       "  background-color: #fff7fb;\n",
       "  color: #000000;\n",
       "}\n",
       "#T_43745_row3_col6, #T_43745_row5_col8, #T_43745_row6_col9, #T_43745_row7_col5, #T_43745_row7_col11, #T_43745_row9_col6, #T_43745_row10_col11, #T_43745_row11_col10 {\n",
       "  background-color: #04649d;\n",
       "  color: #f1f1f1;\n",
       "}\n",
       "#T_43745_row3_col12, #T_43745_row4_col12 {\n",
       "  background-color: #f7f0f7;\n",
       "  color: #000000;\n",
       "}\n",
       "#T_43745_row5_col0 {\n",
       "  background-color: #045e94;\n",
       "  color: #f1f1f1;\n",
       "}\n",
       "#T_43745_row5_col11, #T_43745_row8_col11, #T_43745_row11_col5 {\n",
       "  background-color: #04629a;\n",
       "  color: #f1f1f1;\n",
       "}\n",
       "#T_43745_row5_col12, #T_43745_row6_col12, #T_43745_row11_col12 {\n",
       "  background-color: #fdf5fa;\n",
       "  color: #000000;\n",
       "}\n",
       "#T_43745_row6_col1, #T_43745_row7_col1, #T_43745_row10_col1, #T_43745_row11_col3 {\n",
       "  background-color: #056caa;\n",
       "  color: #f1f1f1;\n",
       "}\n",
       "#T_43745_row7_col9 {\n",
       "  background-color: #046097;\n",
       "  color: #f1f1f1;\n",
       "}\n",
       "#T_43745_row7_col12 {\n",
       "  background-color: #fbf3f9;\n",
       "  color: #000000;\n",
       "}\n",
       "#T_43745_row8_col12 {\n",
       "  background-color: #faf3f9;\n",
       "  color: #000000;\n",
       "}\n",
       "#T_43745_row9_col7 {\n",
       "  background-color: #046198;\n",
       "  color: #f1f1f1;\n",
       "}\n",
       "#T_43745_row10_col4 {\n",
       "  background-color: #056dac;\n",
       "  color: #f1f1f1;\n",
       "}\n",
       "#T_43745_row10_col12 {\n",
       "  background-color: #fef6fa;\n",
       "  color: #000000;\n",
       "}\n",
       "</style>\n",
       "<table id=\"T_43745\">\n",
       "  <thead>\n",
       "    <tr>\n",
       "      <th class=\"blank level0\" >&nbsp;</th>\n",
       "      <th id=\"T_43745_level0_col0\" class=\"col_heading level0 col0\" >styczen</th>\n",
       "      <th id=\"T_43745_level0_col1\" class=\"col_heading level0 col1\" >luty</th>\n",
       "      <th id=\"T_43745_level0_col2\" class=\"col_heading level0 col2\" >marzec</th>\n",
       "      <th id=\"T_43745_level0_col3\" class=\"col_heading level0 col3\" >kwiecien</th>\n",
       "      <th id=\"T_43745_level0_col4\" class=\"col_heading level0 col4\" >maj</th>\n",
       "      <th id=\"T_43745_level0_col5\" class=\"col_heading level0 col5\" >czerwiec</th>\n",
       "      <th id=\"T_43745_level0_col6\" class=\"col_heading level0 col6\" >lipiec</th>\n",
       "      <th id=\"T_43745_level0_col7\" class=\"col_heading level0 col7\" >sierpien</th>\n",
       "      <th id=\"T_43745_level0_col8\" class=\"col_heading level0 col8\" >wrzesien</th>\n",
       "      <th id=\"T_43745_level0_col9\" class=\"col_heading level0 col9\" >pazdziernik</th>\n",
       "      <th id=\"T_43745_level0_col10\" class=\"col_heading level0 col10\" >listopad</th>\n",
       "      <th id=\"T_43745_level0_col11\" class=\"col_heading level0 col11\" >grudzien</th>\n",
       "      <th id=\"T_43745_level0_col12\" class=\"col_heading level0 col12\" >stazpracy</th>\n",
       "    </tr>\n",
       "  </thead>\n",
       "  <tbody>\n",
       "    <tr>\n",
       "      <th id=\"T_43745_level0_row0\" class=\"row_heading level0 row0\" >styczen</th>\n",
       "      <td id=\"T_43745_row0_col0\" class=\"data row0 col0\" >1.000000</td>\n",
       "      <td id=\"T_43745_row0_col1\" class=\"data row0 col1\" >0.813237</td>\n",
       "      <td id=\"T_43745_row0_col2\" class=\"data row0 col2\" >0.827172</td>\n",
       "      <td id=\"T_43745_row0_col3\" class=\"data row0 col3\" >0.812888</td>\n",
       "      <td id=\"T_43745_row0_col4\" class=\"data row0 col4\" >0.822041</td>\n",
       "      <td id=\"T_43745_row0_col5\" class=\"data row0 col5\" >0.866343</td>\n",
       "      <td id=\"T_43745_row0_col6\" class=\"data row0 col6\" >0.825755</td>\n",
       "      <td id=\"T_43745_row0_col7\" class=\"data row0 col7\" >0.833102</td>\n",
       "      <td id=\"T_43745_row0_col8\" class=\"data row0 col8\" >0.848970</td>\n",
       "      <td id=\"T_43745_row0_col9\" class=\"data row0 col9\" >0.819887</td>\n",
       "      <td id=\"T_43745_row0_col10\" class=\"data row0 col10\" >0.820806</td>\n",
       "      <td id=\"T_43745_row0_col11\" class=\"data row0 col11\" >0.874980</td>\n",
       "      <td id=\"T_43745_row0_col12\" class=\"data row0 col12\" >0.103806</td>\n",
       "    </tr>\n",
       "    <tr>\n",
       "      <th id=\"T_43745_level0_row1\" class=\"row_heading level0 row1\" >luty</th>\n",
       "      <td id=\"T_43745_row1_col0\" class=\"data row1 col0\" >0.813237</td>\n",
       "      <td id=\"T_43745_row1_col1\" class=\"data row1 col1\" >1.000000</td>\n",
       "      <td id=\"T_43745_row1_col2\" class=\"data row1 col2\" >0.837439</td>\n",
       "      <td id=\"T_43745_row1_col3\" class=\"data row1 col3\" >0.818968</td>\n",
       "      <td id=\"T_43745_row1_col4\" class=\"data row1 col4\" >0.825865</td>\n",
       "      <td id=\"T_43745_row1_col5\" class=\"data row1 col5\" >0.822396</td>\n",
       "      <td id=\"T_43745_row1_col6\" class=\"data row1 col6\" >0.800327</td>\n",
       "      <td id=\"T_43745_row1_col7\" class=\"data row1 col7\" >0.800052</td>\n",
       "      <td id=\"T_43745_row1_col8\" class=\"data row1 col8\" >0.818555</td>\n",
       "      <td id=\"T_43745_row1_col9\" class=\"data row1 col9\" >0.802918</td>\n",
       "      <td id=\"T_43745_row1_col10\" class=\"data row1 col10\" >0.801090</td>\n",
       "      <td id=\"T_43745_row1_col11\" class=\"data row1 col11\" >0.811710</td>\n",
       "      <td id=\"T_43745_row1_col12\" class=\"data row1 col12\" >0.127991</td>\n",
       "    </tr>\n",
       "    <tr>\n",
       "      <th id=\"T_43745_level0_row2\" class=\"row_heading level0 row2\" >marzec</th>\n",
       "      <td id=\"T_43745_row2_col0\" class=\"data row2 col0\" >0.827172</td>\n",
       "      <td id=\"T_43745_row2_col1\" class=\"data row2 col1\" >0.837439</td>\n",
       "      <td id=\"T_43745_row2_col2\" class=\"data row2 col2\" >1.000000</td>\n",
       "      <td id=\"T_43745_row2_col3\" class=\"data row2 col3\" >0.819590</td>\n",
       "      <td id=\"T_43745_row2_col4\" class=\"data row2 col4\" >0.830551</td>\n",
       "      <td id=\"T_43745_row2_col5\" class=\"data row2 col5\" >0.807237</td>\n",
       "      <td id=\"T_43745_row2_col6\" class=\"data row2 col6\" >0.818496</td>\n",
       "      <td id=\"T_43745_row2_col7\" class=\"data row2 col7\" >0.830216</td>\n",
       "      <td id=\"T_43745_row2_col8\" class=\"data row2 col8\" >0.830356</td>\n",
       "      <td id=\"T_43745_row2_col9\" class=\"data row2 col9\" >0.827805</td>\n",
       "      <td id=\"T_43745_row2_col10\" class=\"data row2 col10\" >0.837775</td>\n",
       "      <td id=\"T_43745_row2_col11\" class=\"data row2 col11\" >0.813963</td>\n",
       "      <td id=\"T_43745_row2_col12\" class=\"data row2 col12\" >0.085401</td>\n",
       "    </tr>\n",
       "    <tr>\n",
       "      <th id=\"T_43745_level0_row3\" class=\"row_heading level0 row3\" >kwiecien</th>\n",
       "      <td id=\"T_43745_row3_col0\" class=\"data row3 col0\" >0.812888</td>\n",
       "      <td id=\"T_43745_row3_col1\" class=\"data row3 col1\" >0.818968</td>\n",
       "      <td id=\"T_43745_row3_col2\" class=\"data row3 col2\" >0.819590</td>\n",
       "      <td id=\"T_43745_row3_col3\" class=\"data row3 col3\" >1.000000</td>\n",
       "      <td id=\"T_43745_row3_col4\" class=\"data row3 col4\" >0.818129</td>\n",
       "      <td id=\"T_43745_row3_col5\" class=\"data row3 col5\" >0.823569</td>\n",
       "      <td id=\"T_43745_row3_col6\" class=\"data row3 col6\" >0.835740</td>\n",
       "      <td id=\"T_43745_row3_col7\" class=\"data row3 col7\" >0.821835</td>\n",
       "      <td id=\"T_43745_row3_col8\" class=\"data row3 col8\" >0.814959</td>\n",
       "      <td id=\"T_43745_row3_col9\" class=\"data row3 col9\" >0.811359</td>\n",
       "      <td id=\"T_43745_row3_col10\" class=\"data row3 col10\" >0.814393</td>\n",
       "      <td id=\"T_43745_row3_col11\" class=\"data row3 col11\" >0.800969</td>\n",
       "      <td id=\"T_43745_row3_col12\" class=\"data row3 col12\" >0.134227</td>\n",
       "    </tr>\n",
       "    <tr>\n",
       "      <th id=\"T_43745_level0_row4\" class=\"row_heading level0 row4\" >maj</th>\n",
       "      <td id=\"T_43745_row4_col0\" class=\"data row4 col0\" >0.822041</td>\n",
       "      <td id=\"T_43745_row4_col1\" class=\"data row4 col1\" >0.825865</td>\n",
       "      <td id=\"T_43745_row4_col2\" class=\"data row4 col2\" >0.830551</td>\n",
       "      <td id=\"T_43745_row4_col3\" class=\"data row4 col3\" >0.818129</td>\n",
       "      <td id=\"T_43745_row4_col4\" class=\"data row4 col4\" >1.000000</td>\n",
       "      <td id=\"T_43745_row4_col5\" class=\"data row4 col5\" >0.814903</td>\n",
       "      <td id=\"T_43745_row4_col6\" class=\"data row4 col6\" >0.825700</td>\n",
       "      <td id=\"T_43745_row4_col7\" class=\"data row4 col7\" >0.814209</td>\n",
       "      <td id=\"T_43745_row4_col8\" class=\"data row4 col8\" >0.811918</td>\n",
       "      <td id=\"T_43745_row4_col9\" class=\"data row4 col9\" >0.811588</td>\n",
       "      <td id=\"T_43745_row4_col10\" class=\"data row4 col10\" >0.796527</td>\n",
       "      <td id=\"T_43745_row4_col11\" class=\"data row4 col11\" >0.821723</td>\n",
       "      <td id=\"T_43745_row4_col12\" class=\"data row4 col12\" >0.132731</td>\n",
       "    </tr>\n",
       "    <tr>\n",
       "      <th id=\"T_43745_level0_row5\" class=\"row_heading level0 row5\" >czerwiec</th>\n",
       "      <td id=\"T_43745_row5_col0\" class=\"data row5 col0\" >0.866343</td>\n",
       "      <td id=\"T_43745_row5_col1\" class=\"data row5 col1\" >0.822396</td>\n",
       "      <td id=\"T_43745_row5_col2\" class=\"data row5 col2\" >0.807237</td>\n",
       "      <td id=\"T_43745_row5_col3\" class=\"data row5 col3\" >0.823569</td>\n",
       "      <td id=\"T_43745_row5_col4\" class=\"data row5 col4\" >0.814903</td>\n",
       "      <td id=\"T_43745_row5_col5\" class=\"data row5 col5\" >1.000000</td>\n",
       "      <td id=\"T_43745_row5_col6\" class=\"data row5 col6\" >0.825061</td>\n",
       "      <td id=\"T_43745_row5_col7\" class=\"data row5 col7\" >0.836316</td>\n",
       "      <td id=\"T_43745_row5_col8\" class=\"data row5 col8\" >0.838625</td>\n",
       "      <td id=\"T_43745_row5_col9\" class=\"data row5 col9\" >0.830741</td>\n",
       "      <td id=\"T_43745_row5_col10\" class=\"data row5 col10\" >0.819352</td>\n",
       "      <td id=\"T_43745_row5_col11\" class=\"data row5 col11\" >0.844426</td>\n",
       "      <td id=\"T_43745_row5_col12\" class=\"data row5 col12\" >0.098807</td>\n",
       "    </tr>\n",
       "    <tr>\n",
       "      <th id=\"T_43745_level0_row6\" class=\"row_heading level0 row6\" >lipiec</th>\n",
       "      <td id=\"T_43745_row6_col0\" class=\"data row6 col0\" >0.825755</td>\n",
       "      <td id=\"T_43745_row6_col1\" class=\"data row6 col1\" >0.800327</td>\n",
       "      <td id=\"T_43745_row6_col2\" class=\"data row6 col2\" >0.818496</td>\n",
       "      <td id=\"T_43745_row6_col3\" class=\"data row6 col3\" >0.835740</td>\n",
       "      <td id=\"T_43745_row6_col4\" class=\"data row6 col4\" >0.825700</td>\n",
       "      <td id=\"T_43745_row6_col5\" class=\"data row6 col5\" >0.825061</td>\n",
       "      <td id=\"T_43745_row6_col6\" class=\"data row6 col6\" >1.000000</td>\n",
       "      <td id=\"T_43745_row6_col7\" class=\"data row6 col7\" >0.803289</td>\n",
       "      <td id=\"T_43745_row6_col8\" class=\"data row6 col8\" >0.816884</td>\n",
       "      <td id=\"T_43745_row6_col9\" class=\"data row6 col9\" >0.835927</td>\n",
       "      <td id=\"T_43745_row6_col10\" class=\"data row6 col10\" >0.822769</td>\n",
       "      <td id=\"T_43745_row6_col11\" class=\"data row6 col11\" >0.822571</td>\n",
       "      <td id=\"T_43745_row6_col12\" class=\"data row6 col12\" >0.100309</td>\n",
       "    </tr>\n",
       "    <tr>\n",
       "      <th id=\"T_43745_level0_row7\" class=\"row_heading level0 row7\" >sierpien</th>\n",
       "      <td id=\"T_43745_row7_col0\" class=\"data row7 col0\" >0.833102</td>\n",
       "      <td id=\"T_43745_row7_col1\" class=\"data row7 col1\" >0.800052</td>\n",
       "      <td id=\"T_43745_row7_col2\" class=\"data row7 col2\" >0.830216</td>\n",
       "      <td id=\"T_43745_row7_col3\" class=\"data row7 col3\" >0.821835</td>\n",
       "      <td id=\"T_43745_row7_col4\" class=\"data row7 col4\" >0.814209</td>\n",
       "      <td id=\"T_43745_row7_col5\" class=\"data row7 col5\" >0.836316</td>\n",
       "      <td id=\"T_43745_row7_col6\" class=\"data row7 col6\" >0.803289</td>\n",
       "      <td id=\"T_43745_row7_col7\" class=\"data row7 col7\" >1.000000</td>\n",
       "      <td id=\"T_43745_row7_col8\" class=\"data row7 col8\" >0.849401</td>\n",
       "      <td id=\"T_43745_row7_col9\" class=\"data row7 col9\" >0.853853</td>\n",
       "      <td id=\"T_43745_row7_col10\" class=\"data row7 col10\" >0.818128</td>\n",
       "      <td id=\"T_43745_row7_col11\" class=\"data row7 col11\" >0.836622</td>\n",
       "      <td id=\"T_43745_row7_col12\" class=\"data row7 col12\" >0.112165</td>\n",
       "    </tr>\n",
       "    <tr>\n",
       "      <th id=\"T_43745_level0_row8\" class=\"row_heading level0 row8\" >wrzesien</th>\n",
       "      <td id=\"T_43745_row8_col0\" class=\"data row8 col0\" >0.848970</td>\n",
       "      <td id=\"T_43745_row8_col1\" class=\"data row8 col1\" >0.818555</td>\n",
       "      <td id=\"T_43745_row8_col2\" class=\"data row8 col2\" >0.830356</td>\n",
       "      <td id=\"T_43745_row8_col3\" class=\"data row8 col3\" >0.814959</td>\n",
       "      <td id=\"T_43745_row8_col4\" class=\"data row8 col4\" >0.811918</td>\n",
       "      <td id=\"T_43745_row8_col5\" class=\"data row8 col5\" >0.838625</td>\n",
       "      <td id=\"T_43745_row8_col6\" class=\"data row8 col6\" >0.816884</td>\n",
       "      <td id=\"T_43745_row8_col7\" class=\"data row8 col7\" >0.849401</td>\n",
       "      <td id=\"T_43745_row8_col8\" class=\"data row8 col8\" >1.000000</td>\n",
       "      <td id=\"T_43745_row8_col9\" class=\"data row8 col9\" >0.833829</td>\n",
       "      <td id=\"T_43745_row8_col10\" class=\"data row8 col10\" >0.814676</td>\n",
       "      <td id=\"T_43745_row8_col11\" class=\"data row8 col11\" >0.842505</td>\n",
       "      <td id=\"T_43745_row8_col12\" class=\"data row8 col12\" >0.116996</td>\n",
       "    </tr>\n",
       "    <tr>\n",
       "      <th id=\"T_43745_level0_row9\" class=\"row_heading level0 row9\" >pazdziernik</th>\n",
       "      <td id=\"T_43745_row9_col0\" class=\"data row9 col0\" >0.819887</td>\n",
       "      <td id=\"T_43745_row9_col1\" class=\"data row9 col1\" >0.802918</td>\n",
       "      <td id=\"T_43745_row9_col2\" class=\"data row9 col2\" >0.827805</td>\n",
       "      <td id=\"T_43745_row9_col3\" class=\"data row9 col3\" >0.811359</td>\n",
       "      <td id=\"T_43745_row9_col4\" class=\"data row9 col4\" >0.811588</td>\n",
       "      <td id=\"T_43745_row9_col5\" class=\"data row9 col5\" >0.830741</td>\n",
       "      <td id=\"T_43745_row9_col6\" class=\"data row9 col6\" >0.835927</td>\n",
       "      <td id=\"T_43745_row9_col7\" class=\"data row9 col7\" >0.853853</td>\n",
       "      <td id=\"T_43745_row9_col8\" class=\"data row9 col8\" >0.833829</td>\n",
       "      <td id=\"T_43745_row9_col9\" class=\"data row9 col9\" >1.000000</td>\n",
       "      <td id=\"T_43745_row9_col10\" class=\"data row9 col10\" >0.811036</td>\n",
       "      <td id=\"T_43745_row9_col11\" class=\"data row9 col11\" >0.833305</td>\n",
       "      <td id=\"T_43745_row9_col12\" class=\"data row9 col12\" >0.105119</td>\n",
       "    </tr>\n",
       "    <tr>\n",
       "      <th id=\"T_43745_level0_row10\" class=\"row_heading level0 row10\" >listopad</th>\n",
       "      <td id=\"T_43745_row10_col0\" class=\"data row10 col0\" >0.820806</td>\n",
       "      <td id=\"T_43745_row10_col1\" class=\"data row10 col1\" >0.801090</td>\n",
       "      <td id=\"T_43745_row10_col2\" class=\"data row10 col2\" >0.837775</td>\n",
       "      <td id=\"T_43745_row10_col3\" class=\"data row10 col3\" >0.814393</td>\n",
       "      <td id=\"T_43745_row10_col4\" class=\"data row10 col4\" >0.796527</td>\n",
       "      <td id=\"T_43745_row10_col5\" class=\"data row10 col5\" >0.819352</td>\n",
       "      <td id=\"T_43745_row10_col6\" class=\"data row10 col6\" >0.822769</td>\n",
       "      <td id=\"T_43745_row10_col7\" class=\"data row10 col7\" >0.818128</td>\n",
       "      <td id=\"T_43745_row10_col8\" class=\"data row10 col8\" >0.814676</td>\n",
       "      <td id=\"T_43745_row10_col9\" class=\"data row10 col9\" >0.811036</td>\n",
       "      <td id=\"T_43745_row10_col10\" class=\"data row10 col10\" >1.000000</td>\n",
       "      <td id=\"T_43745_row10_col11\" class=\"data row10 col11\" >0.836373</td>\n",
       "      <td id=\"T_43745_row10_col12\" class=\"data row10 col12\" >0.093059</td>\n",
       "    </tr>\n",
       "    <tr>\n",
       "      <th id=\"T_43745_level0_row11\" class=\"row_heading level0 row11\" >grudzien</th>\n",
       "      <td id=\"T_43745_row11_col0\" class=\"data row11 col0\" >0.874980</td>\n",
       "      <td id=\"T_43745_row11_col1\" class=\"data row11 col1\" >0.811710</td>\n",
       "      <td id=\"T_43745_row11_col2\" class=\"data row11 col2\" >0.813963</td>\n",
       "      <td id=\"T_43745_row11_col3\" class=\"data row11 col3\" >0.800969</td>\n",
       "      <td id=\"T_43745_row11_col4\" class=\"data row11 col4\" >0.821723</td>\n",
       "      <td id=\"T_43745_row11_col5\" class=\"data row11 col5\" >0.844426</td>\n",
       "      <td id=\"T_43745_row11_col6\" class=\"data row11 col6\" >0.822571</td>\n",
       "      <td id=\"T_43745_row11_col7\" class=\"data row11 col7\" >0.836622</td>\n",
       "      <td id=\"T_43745_row11_col8\" class=\"data row11 col8\" >0.842505</td>\n",
       "      <td id=\"T_43745_row11_col9\" class=\"data row11 col9\" >0.833305</td>\n",
       "      <td id=\"T_43745_row11_col10\" class=\"data row11 col10\" >0.836373</td>\n",
       "      <td id=\"T_43745_row11_col11\" class=\"data row11 col11\" >1.000000</td>\n",
       "      <td id=\"T_43745_row11_col12\" class=\"data row11 col12\" >0.102588</td>\n",
       "    </tr>\n",
       "    <tr>\n",
       "      <th id=\"T_43745_level0_row12\" class=\"row_heading level0 row12\" >stazpracy</th>\n",
       "      <td id=\"T_43745_row12_col0\" class=\"data row12 col0\" >0.103806</td>\n",
       "      <td id=\"T_43745_row12_col1\" class=\"data row12 col1\" >0.127991</td>\n",
       "      <td id=\"T_43745_row12_col2\" class=\"data row12 col2\" >0.085401</td>\n",
       "      <td id=\"T_43745_row12_col3\" class=\"data row12 col3\" >0.134227</td>\n",
       "      <td id=\"T_43745_row12_col4\" class=\"data row12 col4\" >0.132731</td>\n",
       "      <td id=\"T_43745_row12_col5\" class=\"data row12 col5\" >0.098807</td>\n",
       "      <td id=\"T_43745_row12_col6\" class=\"data row12 col6\" >0.100309</td>\n",
       "      <td id=\"T_43745_row12_col7\" class=\"data row12 col7\" >0.112165</td>\n",
       "      <td id=\"T_43745_row12_col8\" class=\"data row12 col8\" >0.116996</td>\n",
       "      <td id=\"T_43745_row12_col9\" class=\"data row12 col9\" >0.105119</td>\n",
       "      <td id=\"T_43745_row12_col10\" class=\"data row12 col10\" >0.093059</td>\n",
       "      <td id=\"T_43745_row12_col11\" class=\"data row12 col11\" >0.102588</td>\n",
       "      <td id=\"T_43745_row12_col12\" class=\"data row12 col12\" >1.000000</td>\n",
       "    </tr>\n",
       "  </tbody>\n",
       "</table>\n"
      ],
      "text/plain": [
       "<pandas.io.formats.style.Styler at 0x2d2773cc5b0>"
      ]
     },
     "metadata": {},
     "output_type": "display_data"
    },
    {
     "data": {
      "image/png": "[encoded data removed]",
      "text/plain": [
       "<Figure size 480x480 with 1 Axes>"
      ]
     },
     "metadata": {},
     "output_type": "display_data"
    }
   ],
   "source": [
    "data_months_seniority = data_workers.loc[:,\"styczen\":\"grudzien\"]\n",
    "data_months_seniority[\"stazpracy\"] = data_workers[\"stazpracy\"]\n",
    "\n",
    "corr_months_seniority = data_months_seniority.corr(method='spearman')\n",
    "display( corr_months_seniority.style.background_gradient(axis=0))\n",
    "\n",
    "plt.matshow(corr_months_seniority);"
   ]
  }
 ],
 "metadata": {
  "kernelspec": {
   "display_name": "Python 3 (ipykernel)",
   "language": "python",
   "name": "python3"
  },
  "language_info": {
   "codemirror_mode": {
    "name": "ipython",
    "version": 3
   },
   "file_extension": ".py",
   "mimetype": "text/x-python",
   "name": "python",
   "nbconvert_exporter": "python",
   "pygments_lexer": "ipython3",
   "version": "3.9.7"
  },
  "nbTranslate": {
   "displayLangs": [
    "*"
   ],
   "hotkey": "alt-t",
   "langInMainMenu": true,
   "sourceLang": "en",
   "targetLang": "fr",
   "useGoogleTranslate": true
  },
  "toc": {
   "base_numbering": 1,
   "nav_menu": {},
   "number_sections": true,
   "sideBar": true,
   "skip_h1_title": false,
   "title_cell": "Table of Contents",
   "title_sidebar": "Contents",
   "toc_cell": false,
   "toc_position": {},
   "toc_section_display": true,
   "toc_window_display": true
  },
  "varInspector": {
   "cols": {
    "lenName": 16,
    "lenType": 16,
    "lenVar": 40
   },
   "kernels_config": {
    "python": {
     "delete_cmd_postfix": "",
     "delete_cmd_prefix": "del ",
     "library": "var_list.py",
     "varRefreshCmd": "print(var_dic_list())"
    },
    "r": {
     "delete_cmd_postfix": ") ",
     "delete_cmd_prefix": "rm(",
     "library": "var_list.r",
     "varRefreshCmd": "cat(var_dic_list()) "
    }
   },
   "types_to_exclude": [
    "module",
    "function",
    "builtin_function_or_method",
    "instance",
    "_Feature"
   ],
   "window_display": false
  }
 },
 "nbformat": 4,
 "nbformat_minor": 5
}

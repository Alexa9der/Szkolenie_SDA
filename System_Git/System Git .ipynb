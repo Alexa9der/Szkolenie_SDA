{
 "cells": [
  {
   "cell_type": "markdown",
   "id": "c2106bca",
   "metadata": {},
   "source": [
    "# "
   ]
  },
  {
   "cell_type": "markdown",
   "id": "ed109c2e",
   "metadata": {},
   "source": [
    "pwd -> pokazuje gdzie jesteszmy \n",
    "ls -> pokazuje wszystkie pliki katalogu (oprócz skrytych )\n",
    "ls -a -> wszystkie pliki wraz z skrytymi\n",
    "ls - l -> pokazuje wszystkie pliki w listie w raz danymi o pliku \n",
    "ls -al \">\" lista_plikow.txt -> znaczek \">\" twozy plik z danymi ls \n",
    "history -> historia komand \n",
    "cat -> wyswetla zawartosz pliku \n",
    "ctr + c -> pszerywa działania\n",
    "\n",
    "cd -> zmiana katalogu \n",
    "touch -> twozy plik \n",
    "\n",
    "echo -> print text z \">\" twozy plik \n",
    "\n",
    "mkdir -> twozy katallog\n",
    "\n",
    "cp -> coppy files \n",
    "\n",
    "mv -> pszenieszenia pliku  \n",
    "\n",
    "rm -> usuwania pliki"
   ]
  },
  {
   "cell_type": "markdown",
   "id": "b05745e8",
   "metadata": {},
   "source": [
    "# Git "
   ]
  },
  {
   "cell_type": "markdown",
   "id": "ea70549c",
   "metadata": {},
   "source": [
    "git restore \"imie pliku\" -> pszewraca stan pliku \n",
    "git restore --staged \"imie pliku\" -> wyzuca file z git add \n",
    "\n",
    "git diff name branch1 name bramch2 -> pokazuje ruznice mendzy branch\n",
    "git diff 2906e289bd375288133898f22d5feed2c5f600e2 1a03425e14cd6e2ed10494c6b2bb2b60bfc4163f -> pokazuje ruznice mendzy commit\n",
    "\n",
    "git checkout name branch -> pszelonczamy branch \n",
    "git checkout 2906e289bd375288133898f22d5feed2c5f600e2 -> pszenoszi do 2906e289bd375288133898f22d5feed2c5f600e2 ale nie zmienia brtanch\n",
    "\n",
    "git merge \"name branch\" -> łączy branch na kturej znajdujemy sie z tom kture zaznacamy\n",
    "\n",
    "git switch - -> pszenosi s powrotem do ostatniego comita \n",
    "\n"
   ]
  },
  {
   "cell_type": "code",
   "execution_count": null,
   "id": "94492f41",
   "metadata": {},
   "outputs": [],
   "source": []
  },
  {
   "cell_type": "code",
   "execution_count": null,
   "id": "d66ebc7b",
   "metadata": {},
   "outputs": [],
   "source": []
  },
  {
   "cell_type": "code",
   "execution_count": null,
   "id": "7eb9c687",
   "metadata": {},
   "outputs": [],
   "source": []
  },
  {
   "cell_type": "code",
   "execution_count": null,
   "id": "d2809662",
   "metadata": {},
   "outputs": [],
   "source": []
  },
  {
   "cell_type": "code",
   "execution_count": null,
   "id": "7c9683f2",
   "metadata": {},
   "outputs": [],
   "source": []
  },
  {
   "cell_type": "code",
   "execution_count": null,
   "id": "7e45ba9d",
   "metadata": {},
   "outputs": [],
   "source": []
  },
  {
   "cell_type": "code",
   "execution_count": null,
   "id": "69d5ee74",
   "metadata": {},
   "outputs": [],
   "source": []
  },
  {
   "cell_type": "code",
   "execution_count": null,
   "id": "d9ddfd90",
   "metadata": {},
   "outputs": [],
   "source": []
  },
  {
   "cell_type": "code",
   "execution_count": null,
   "id": "5a5aa135",
   "metadata": {},
   "outputs": [],
   "source": []
  },
  {
   "cell_type": "code",
   "execution_count": null,
   "id": "99ec2302",
   "metadata": {},
   "outputs": [],
   "source": []
  },
  {
   "cell_type": "code",
   "execution_count": null,
   "id": "18a35fe5",
   "metadata": {},
   "outputs": [],
   "source": []
  }
 ],
 "metadata": {
  "kernelspec": {
   "display_name": "Python 3 (ipykernel)",
   "language": "python",
   "name": "python3"
  },
  "language_info": {
   "codemirror_mode": {
    "name": "ipython",
    "version": 3
   },
   "file_extension": ".py",
   "mimetype": "text/x-python",
   "name": "python",
   "nbconvert_exporter": "python",
   "pygments_lexer": "ipython3",
   "version": "3.10.4"
  },
  "nbTranslate": {
   "displayLangs": [
    "*"
   ],
   "hotkey": "alt-t",
   "langInMainMenu": true,
   "sourceLang": "en",
   "targetLang": "fr",
   "useGoogleTranslate": true
  },
  "toc": {
   "base_numbering": 1,
   "nav_menu": {},
   "number_sections": true,
   "sideBar": true,
   "skip_h1_title": false,
   "title_cell": "Table of Contents",
   "title_sidebar": "Contents",
   "toc_cell": false,
   "toc_position": {},
   "toc_section_display": true,
   "toc_window_display": true
  },
  "varInspector": {
   "cols": {
    "lenName": 16,
    "lenType": 16,
    "lenVar": 40
   },
   "kernels_config": {
    "python": {
     "delete_cmd_postfix": "",
     "delete_cmd_prefix": "del ",
     "library": "var_list.py",
     "varRefreshCmd": "print(var_dic_list())"
    },
    "r": {
     "delete_cmd_postfix": ") ",
     "delete_cmd_prefix": "rm(",
     "library": "var_list.r",
     "varRefreshCmd": "cat(var_dic_list()) "
    }
   },
   "types_to_exclude": [
    "module",
    "function",
    "builtin_function_or_method",
    "instance",
    "_Feature"
   ],
   "window_display": false
  }
 },
 "nbformat": 4,
 "nbformat_minor": 5
}

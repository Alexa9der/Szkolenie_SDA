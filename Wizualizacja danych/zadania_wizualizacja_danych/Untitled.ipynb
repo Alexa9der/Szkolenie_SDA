{
 "cells": [
  {
   "cell_type": "markdown",
   "id": "392c3661",
   "metadata": {},
   "source": [
    "Zadanie 1\n",
    "Wczytaj ze zbioru danych [ML-datasets](https://github.com/matzim95/ML-datasets) zeszyt ves-usd.csv i pokaż zależność boliwara od dolara amerykańskiego."
   ]
  },
  {
   "cell_type": "markdown",
   "id": "9612561c",
   "metadata": {},
   "source": [
    "Zadanie 2\n",
    "Skorzystaj z parametrów poznanych na slajdzie 14 i 15 i opisz wykres z poprzedniego zadania."
   ]
  },
  {
   "cell_type": "markdown",
   "id": "6c07bba4",
   "metadata": {},
   "source": [
    "Zadanie 3\n",
    "Dokonaj analizy danych zbioru medali ([olympic.csv](https://github.com/matzim95/ML-datasets) ) i wykonaj wykres słupkowy pokazujący ile medali zdobył dany kraj. Za pomocą kolorów oznacz czy medal był złoty, srebrny czy brązowy."
   ]
  },
  {
   "cell_type": "markdown",
   "id": "8492740b",
   "metadata": {},
   "source": [
    "Zadanie 4\n",
    "Korzystając ze zbioru medali, stwórz wykres punktowy pokazujący zależność wzrostu, wagi i liczby zdobytych przez zawodników medali na igrzyskach."
   ]
  },
  {
   "cell_type": "markdown",
   "id": "b94bc2c4",
   "metadata": {},
   "source": [
    "Zadanie 5\n",
    "Wczytaj zbiór co2 i wyświetl wykres punktowy wartości co2."
   ]
  },
  {
   "cell_type": "markdown",
   "id": "bf9ed215",
   "metadata": {},
   "source": [
    "Zadanie 6\n",
    "Wykonaj wykresy boxplot, violinplot oraz swarmplot dla zbioru danych olimpijczyków za pomocą biblioteki seaborn."
   ]
  },
  {
   "cell_type": "markdown",
   "id": "e7bac8f0",
   "metadata": {},
   "source": [
    "[Odpowiedzi do zadań](http://localhost:8888/files/Desktop/Data%20Science/SDA/SDA%20szkolenie/Wizualizacja%20danych/Odpowiedzi%20do%20zada%C5%84/Wizualizacja_danych__odpowiedzi.pdf)"
   ]
  }
 ],
 "metadata": {
  "kernelspec": {
   "display_name": "Python 3 (ipykernel)",
   "language": "python",
   "name": "python3"
  },
  "language_info": {
   "codemirror_mode": {
    "name": "ipython",
    "version": 3
   },
   "file_extension": ".py",
   "mimetype": "text/x-python",
   "name": "python",
   "nbconvert_exporter": "python",
   "pygments_lexer": "ipython3",
   "version": "3.10.4"
  },
  "toc": {
   "base_numbering": 1,
   "nav_menu": {},
   "number_sections": true,
   "sideBar": true,
   "skip_h1_title": false,
   "title_cell": "Table of Contents",
   "title_sidebar": "Contents",
   "toc_cell": false,
   "toc_position": {},
   "toc_section_display": true,
   "toc_window_display": true
  }
 },
 "nbformat": 4,
 "nbformat_minor": 5
}
